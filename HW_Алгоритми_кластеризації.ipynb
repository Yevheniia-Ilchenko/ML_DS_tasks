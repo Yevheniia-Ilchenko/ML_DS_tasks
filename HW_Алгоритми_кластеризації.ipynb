{
  "nbformat": 4,
  "nbformat_minor": 0,
  "metadata": {
    "colab": {
      "provenance": [],
      "include_colab_link": true
    },
    "kernelspec": {
      "name": "python3",
      "display_name": "Python 3"
    },
    "language_info": {
      "name": "python"
    }
  },
  "cells": [
    {
      "cell_type": "markdown",
      "metadata": {
        "id": "view-in-github",
        "colab_type": "text"
      },
      "source": [
        "<a href=\"https://colab.research.google.com/github/Yevheniia-Ilchenko/ML_DS_tasks/blob/main/HW_%D0%90%D0%BB%D0%B3%D0%BE%D1%80%D0%B8%D1%82%D0%BC%D0%B8_%D0%BA%D0%BB%D0%B0%D1%81%D1%82%D0%B5%D1%80%D0%B8%D0%B7%D0%B0%D1%86%D1%96%D1%97.ipynb\" target=\"_parent\"><img src=\"https://colab.research.google.com/assets/colab-badge.svg\" alt=\"Open In Colab\"/></a>"
      ]
    },
    {
      "cell_type": "markdown",
      "source": [
        "### Домашнє завдання: Кластеризація в Аналізі Персоналій Клієнтів\n",
        "\n",
        "#### Контекст\n",
        "В цьому ДЗ ми скористаємось алгоритмами кластеризації для задачі аналізу портретів клієнтів (Customer Personality Analysis).\n",
        "\n",
        "Customer Personality Analysis - це аналіз різних сегментів клієнтів компанії. Цей аналіз дозволяє бізнесу краще розуміти своїх клієнтів і полегшує процес адаптації продуктів під конкретні потреби, поведінку та інтереси різних типів клієнтів.\n",
        "\n",
        "Аналіз портретів клієнтів допомагає бізнесу змінювати свій продукт на основі цільової аудиторії, розділеної на різні сегменти. Наприклад, замість того, щоб витрачати гроші на маркетинг нового продукту для всіх клієнтів у базі даних компанії, бізнес може проаналізувати, який сегмент клієнтів найімовірніше придбає продукт, і потім зосередити маркетингові зусилля лише на цьому сегменті.\n",
        "\n",
        "#### Завдання\n",
        "На основі наданих даних в файлі `marketing_campaign.csv` потрібно виконати кластеризацію, щоб виявити сегменти клієнтів.\n",
        "\n",
        "#### Вхідні дані\n",
        "Вам надано набір даних з такими атрибутами:\n",
        "\n",
        "**Характеристики користувачів:**\n",
        "- `ID`: Унікальний ідентифікатор клієнта\n",
        "- `Year_Birth`: Рік народження клієнта\n",
        "- `Education`: Рівень освіти клієнта\n",
        "- `Marital_Status`: Сімейний стан клієнта\n",
        "- `Income`: Річний дохід домогосподарства клієнта\n",
        "- `Kidhome`: Кількість дітей у домогосподарстві клієнта\n",
        "- `Teenhome`: Кількість підлітків у домогосподарстві клієнта\n",
        "- `Dt_Customer`: Дата реєстрації клієнта у компанії\n",
        "- `Recency`: Кількість днів з моменту останньої покупки клієнта\n",
        "- `Complain`: 1, якщо клієнт скаржився за останні 2 роки, 0 - якщо ні\n",
        "\n",
        "**Продукти:**\n",
        "- `MntWines`: Сума, витрачена на вино за останні 2 роки\n",
        "- `MntFruits`: Сума, витрачена на фрукти за останні 2 роки\n",
        "- `MntMeatProducts`: Сума, витрачена на м'ясні продукти за останні 2 роки\n",
        "- `MntFishProducts`: Сума, витрачена на рибні продукти за останні 2 роки\n",
        "- `MntSweetProducts`: Сума, витрачена на солодощі за останні 2 роки\n",
        "- `MntGoldProds`: Сума, витрачена на золото за останні 2 роки\n",
        "\n",
        "**Акції:**\n",
        "- `NumDealsPurchases`: Кількість покупок, зроблених з використанням знижок\n",
        "- `AcceptedCmp1`: 1, якщо клієнт прийняв пропозицію у першій кампанії, 0 - якщо ні\n",
        "- `AcceptedCmp2`: 1, якщо клієнт прийняв пропозицію у другій кампанії, 0 - якщо ні\n",
        "- `AcceptedCmp3`: 1, якщо клієнт прийняв пропозицію у третій кампанії, 0 - якщо ні\n",
        "- `AcceptedCmp4`: 1, якщо клієнт прийняв пропозицію у четвертій кампанії, 0 - якщо ні\n",
        "- `AcceptedCmp5`: 1, якщо клієнт прийняв пропозицію у п'ятій кампанії, 0 - якщо ні\n",
        "- `Response`: 1, якщо клієнт прийняв пропозицію в останній кампанії, 0 - якщо ні\n",
        "\n",
        "**Взаємодія з компанією:**\n",
        "- `NumWebPurchases`: Кількість покупок, зроблених через вебсайт компанії\n",
        "- `NumCatalogPurchases`: Кількість покупок, зроблених за каталогом\n",
        "- `NumStorePurchases`: Кількість покупок, зроблених безпосередньо у магазинах\n",
        "- `NumWebVisitsMonth`: Кількість відвідувань вебсайту компанії за останній місяць\n"
      ],
      "metadata": {
        "id": "1VPFj5IQXeLe"
      }
    },
    {
      "cell_type": "markdown",
      "source": [
        "**Завдання 1**. Завантажте дані з `marketing_campaign.csv` в Pandas dataframe і виведіть основну інформацію про дані: скільки всього рядків і колонок, які типи даних мають колонки, скільки пропущених значень."
      ],
      "metadata": {
        "id": "rxo9AlJyYr1h"
      }
    },
    {
      "cell_type": "code",
      "source": [
        "import pandas as pd\n",
        "data = pd.read_csv(\"marketing_campaign.csv\", sep='\\t')"
      ],
      "metadata": {
        "id": "IOFEKYRhvvNR"
      },
      "execution_count": 3,
      "outputs": []
    },
    {
      "cell_type": "code",
      "source": [
        "data.head()"
      ],
      "metadata": {
        "colab": {
          "base_uri": "https://localhost:8080/",
          "height": 255
        },
        "id": "yfZCM1vUAmzc",
        "outputId": "3ab51c32-4434-41fe-c176-d1e62d85d32e"
      },
      "execution_count": 4,
      "outputs": [
        {
          "output_type": "execute_result",
          "data": {
            "text/plain": [
              "     ID  Year_Birth   Education Marital_Status   Income  Kidhome  Teenhome  \\\n",
              "0  5524        1957  Graduation         Single  58138.0        0         0   \n",
              "1  2174        1954  Graduation         Single  46344.0        1         1   \n",
              "2  4141        1965  Graduation       Together  71613.0        0         0   \n",
              "3  6182        1984  Graduation       Together  26646.0        1         0   \n",
              "4  5324        1981         PhD        Married  58293.0        1         0   \n",
              "\n",
              "  Dt_Customer  Recency  MntWines  ...  NumWebVisitsMonth  AcceptedCmp3  \\\n",
              "0  04-09-2012       58       635  ...                  7             0   \n",
              "1  08-03-2014       38        11  ...                  5             0   \n",
              "2  21-08-2013       26       426  ...                  4             0   \n",
              "3  10-02-2014       26        11  ...                  6             0   \n",
              "4  19-01-2014       94       173  ...                  5             0   \n",
              "\n",
              "   AcceptedCmp4  AcceptedCmp5  AcceptedCmp1  AcceptedCmp2  Complain  \\\n",
              "0             0             0             0             0         0   \n",
              "1             0             0             0             0         0   \n",
              "2             0             0             0             0         0   \n",
              "3             0             0             0             0         0   \n",
              "4             0             0             0             0         0   \n",
              "\n",
              "   Z_CostContact  Z_Revenue  Response  \n",
              "0              3         11         1  \n",
              "1              3         11         0  \n",
              "2              3         11         0  \n",
              "3              3         11         0  \n",
              "4              3         11         0  \n",
              "\n",
              "[5 rows x 29 columns]"
            ],
            "text/html": [
              "\n",
              "  <div id=\"df-3ac31a57-9ba7-46b3-a302-f95e15b1985a\" class=\"colab-df-container\">\n",
              "    <div>\n",
              "<style scoped>\n",
              "    .dataframe tbody tr th:only-of-type {\n",
              "        vertical-align: middle;\n",
              "    }\n",
              "\n",
              "    .dataframe tbody tr th {\n",
              "        vertical-align: top;\n",
              "    }\n",
              "\n",
              "    .dataframe thead th {\n",
              "        text-align: right;\n",
              "    }\n",
              "</style>\n",
              "<table border=\"1\" class=\"dataframe\">\n",
              "  <thead>\n",
              "    <tr style=\"text-align: right;\">\n",
              "      <th></th>\n",
              "      <th>ID</th>\n",
              "      <th>Year_Birth</th>\n",
              "      <th>Education</th>\n",
              "      <th>Marital_Status</th>\n",
              "      <th>Income</th>\n",
              "      <th>Kidhome</th>\n",
              "      <th>Teenhome</th>\n",
              "      <th>Dt_Customer</th>\n",
              "      <th>Recency</th>\n",
              "      <th>MntWines</th>\n",
              "      <th>...</th>\n",
              "      <th>NumWebVisitsMonth</th>\n",
              "      <th>AcceptedCmp3</th>\n",
              "      <th>AcceptedCmp4</th>\n",
              "      <th>AcceptedCmp5</th>\n",
              "      <th>AcceptedCmp1</th>\n",
              "      <th>AcceptedCmp2</th>\n",
              "      <th>Complain</th>\n",
              "      <th>Z_CostContact</th>\n",
              "      <th>Z_Revenue</th>\n",
              "      <th>Response</th>\n",
              "    </tr>\n",
              "  </thead>\n",
              "  <tbody>\n",
              "    <tr>\n",
              "      <th>0</th>\n",
              "      <td>5524</td>\n",
              "      <td>1957</td>\n",
              "      <td>Graduation</td>\n",
              "      <td>Single</td>\n",
              "      <td>58138.0</td>\n",
              "      <td>0</td>\n",
              "      <td>0</td>\n",
              "      <td>04-09-2012</td>\n",
              "      <td>58</td>\n",
              "      <td>635</td>\n",
              "      <td>...</td>\n",
              "      <td>7</td>\n",
              "      <td>0</td>\n",
              "      <td>0</td>\n",
              "      <td>0</td>\n",
              "      <td>0</td>\n",
              "      <td>0</td>\n",
              "      <td>0</td>\n",
              "      <td>3</td>\n",
              "      <td>11</td>\n",
              "      <td>1</td>\n",
              "    </tr>\n",
              "    <tr>\n",
              "      <th>1</th>\n",
              "      <td>2174</td>\n",
              "      <td>1954</td>\n",
              "      <td>Graduation</td>\n",
              "      <td>Single</td>\n",
              "      <td>46344.0</td>\n",
              "      <td>1</td>\n",
              "      <td>1</td>\n",
              "      <td>08-03-2014</td>\n",
              "      <td>38</td>\n",
              "      <td>11</td>\n",
              "      <td>...</td>\n",
              "      <td>5</td>\n",
              "      <td>0</td>\n",
              "      <td>0</td>\n",
              "      <td>0</td>\n",
              "      <td>0</td>\n",
              "      <td>0</td>\n",
              "      <td>0</td>\n",
              "      <td>3</td>\n",
              "      <td>11</td>\n",
              "      <td>0</td>\n",
              "    </tr>\n",
              "    <tr>\n",
              "      <th>2</th>\n",
              "      <td>4141</td>\n",
              "      <td>1965</td>\n",
              "      <td>Graduation</td>\n",
              "      <td>Together</td>\n",
              "      <td>71613.0</td>\n",
              "      <td>0</td>\n",
              "      <td>0</td>\n",
              "      <td>21-08-2013</td>\n",
              "      <td>26</td>\n",
              "      <td>426</td>\n",
              "      <td>...</td>\n",
              "      <td>4</td>\n",
              "      <td>0</td>\n",
              "      <td>0</td>\n",
              "      <td>0</td>\n",
              "      <td>0</td>\n",
              "      <td>0</td>\n",
              "      <td>0</td>\n",
              "      <td>3</td>\n",
              "      <td>11</td>\n",
              "      <td>0</td>\n",
              "    </tr>\n",
              "    <tr>\n",
              "      <th>3</th>\n",
              "      <td>6182</td>\n",
              "      <td>1984</td>\n",
              "      <td>Graduation</td>\n",
              "      <td>Together</td>\n",
              "      <td>26646.0</td>\n",
              "      <td>1</td>\n",
              "      <td>0</td>\n",
              "      <td>10-02-2014</td>\n",
              "      <td>26</td>\n",
              "      <td>11</td>\n",
              "      <td>...</td>\n",
              "      <td>6</td>\n",
              "      <td>0</td>\n",
              "      <td>0</td>\n",
              "      <td>0</td>\n",
              "      <td>0</td>\n",
              "      <td>0</td>\n",
              "      <td>0</td>\n",
              "      <td>3</td>\n",
              "      <td>11</td>\n",
              "      <td>0</td>\n",
              "    </tr>\n",
              "    <tr>\n",
              "      <th>4</th>\n",
              "      <td>5324</td>\n",
              "      <td>1981</td>\n",
              "      <td>PhD</td>\n",
              "      <td>Married</td>\n",
              "      <td>58293.0</td>\n",
              "      <td>1</td>\n",
              "      <td>0</td>\n",
              "      <td>19-01-2014</td>\n",
              "      <td>94</td>\n",
              "      <td>173</td>\n",
              "      <td>...</td>\n",
              "      <td>5</td>\n",
              "      <td>0</td>\n",
              "      <td>0</td>\n",
              "      <td>0</td>\n",
              "      <td>0</td>\n",
              "      <td>0</td>\n",
              "      <td>0</td>\n",
              "      <td>3</td>\n",
              "      <td>11</td>\n",
              "      <td>0</td>\n",
              "    </tr>\n",
              "  </tbody>\n",
              "</table>\n",
              "<p>5 rows × 29 columns</p>\n",
              "</div>\n",
              "    <div class=\"colab-df-buttons\">\n",
              "\n",
              "  <div class=\"colab-df-container\">\n",
              "    <button class=\"colab-df-convert\" onclick=\"convertToInteractive('df-3ac31a57-9ba7-46b3-a302-f95e15b1985a')\"\n",
              "            title=\"Convert this dataframe to an interactive table.\"\n",
              "            style=\"display:none;\">\n",
              "\n",
              "  <svg xmlns=\"http://www.w3.org/2000/svg\" height=\"24px\" viewBox=\"0 -960 960 960\">\n",
              "    <path d=\"M120-120v-720h720v720H120Zm60-500h600v-160H180v160Zm220 220h160v-160H400v160Zm0 220h160v-160H400v160ZM180-400h160v-160H180v160Zm440 0h160v-160H620v160ZM180-180h160v-160H180v160Zm440 0h160v-160H620v160Z\"/>\n",
              "  </svg>\n",
              "    </button>\n",
              "\n",
              "  <style>\n",
              "    .colab-df-container {\n",
              "      display:flex;\n",
              "      gap: 12px;\n",
              "    }\n",
              "\n",
              "    .colab-df-convert {\n",
              "      background-color: #E8F0FE;\n",
              "      border: none;\n",
              "      border-radius: 50%;\n",
              "      cursor: pointer;\n",
              "      display: none;\n",
              "      fill: #1967D2;\n",
              "      height: 32px;\n",
              "      padding: 0 0 0 0;\n",
              "      width: 32px;\n",
              "    }\n",
              "\n",
              "    .colab-df-convert:hover {\n",
              "      background-color: #E2EBFA;\n",
              "      box-shadow: 0px 1px 2px rgba(60, 64, 67, 0.3), 0px 1px 3px 1px rgba(60, 64, 67, 0.15);\n",
              "      fill: #174EA6;\n",
              "    }\n",
              "\n",
              "    .colab-df-buttons div {\n",
              "      margin-bottom: 4px;\n",
              "    }\n",
              "\n",
              "    [theme=dark] .colab-df-convert {\n",
              "      background-color: #3B4455;\n",
              "      fill: #D2E3FC;\n",
              "    }\n",
              "\n",
              "    [theme=dark] .colab-df-convert:hover {\n",
              "      background-color: #434B5C;\n",
              "      box-shadow: 0px 1px 3px 1px rgba(0, 0, 0, 0.15);\n",
              "      filter: drop-shadow(0px 1px 2px rgba(0, 0, 0, 0.3));\n",
              "      fill: #FFFFFF;\n",
              "    }\n",
              "  </style>\n",
              "\n",
              "    <script>\n",
              "      const buttonEl =\n",
              "        document.querySelector('#df-3ac31a57-9ba7-46b3-a302-f95e15b1985a button.colab-df-convert');\n",
              "      buttonEl.style.display =\n",
              "        google.colab.kernel.accessAllowed ? 'block' : 'none';\n",
              "\n",
              "      async function convertToInteractive(key) {\n",
              "        const element = document.querySelector('#df-3ac31a57-9ba7-46b3-a302-f95e15b1985a');\n",
              "        const dataTable =\n",
              "          await google.colab.kernel.invokeFunction('convertToInteractive',\n",
              "                                                    [key], {});\n",
              "        if (!dataTable) return;\n",
              "\n",
              "        const docLinkHtml = 'Like what you see? Visit the ' +\n",
              "          '<a target=\"_blank\" href=https://colab.research.google.com/notebooks/data_table.ipynb>data table notebook</a>'\n",
              "          + ' to learn more about interactive tables.';\n",
              "        element.innerHTML = '';\n",
              "        dataTable['output_type'] = 'display_data';\n",
              "        await google.colab.output.renderOutput(dataTable, element);\n",
              "        const docLink = document.createElement('div');\n",
              "        docLink.innerHTML = docLinkHtml;\n",
              "        element.appendChild(docLink);\n",
              "      }\n",
              "    </script>\n",
              "  </div>\n",
              "\n",
              "\n",
              "<div id=\"df-6025769c-51b8-46a2-85c2-581581d45fd1\">\n",
              "  <button class=\"colab-df-quickchart\" onclick=\"quickchart('df-6025769c-51b8-46a2-85c2-581581d45fd1')\"\n",
              "            title=\"Suggest charts\"\n",
              "            style=\"display:none;\">\n",
              "\n",
              "<svg xmlns=\"http://www.w3.org/2000/svg\" height=\"24px\"viewBox=\"0 0 24 24\"\n",
              "     width=\"24px\">\n",
              "    <g>\n",
              "        <path d=\"M19 3H5c-1.1 0-2 .9-2 2v14c0 1.1.9 2 2 2h14c1.1 0 2-.9 2-2V5c0-1.1-.9-2-2-2zM9 17H7v-7h2v7zm4 0h-2V7h2v10zm4 0h-2v-4h2v4z\"/>\n",
              "    </g>\n",
              "</svg>\n",
              "  </button>\n",
              "\n",
              "<style>\n",
              "  .colab-df-quickchart {\n",
              "      --bg-color: #E8F0FE;\n",
              "      --fill-color: #1967D2;\n",
              "      --hover-bg-color: #E2EBFA;\n",
              "      --hover-fill-color: #174EA6;\n",
              "      --disabled-fill-color: #AAA;\n",
              "      --disabled-bg-color: #DDD;\n",
              "  }\n",
              "\n",
              "  [theme=dark] .colab-df-quickchart {\n",
              "      --bg-color: #3B4455;\n",
              "      --fill-color: #D2E3FC;\n",
              "      --hover-bg-color: #434B5C;\n",
              "      --hover-fill-color: #FFFFFF;\n",
              "      --disabled-bg-color: #3B4455;\n",
              "      --disabled-fill-color: #666;\n",
              "  }\n",
              "\n",
              "  .colab-df-quickchart {\n",
              "    background-color: var(--bg-color);\n",
              "    border: none;\n",
              "    border-radius: 50%;\n",
              "    cursor: pointer;\n",
              "    display: none;\n",
              "    fill: var(--fill-color);\n",
              "    height: 32px;\n",
              "    padding: 0;\n",
              "    width: 32px;\n",
              "  }\n",
              "\n",
              "  .colab-df-quickchart:hover {\n",
              "    background-color: var(--hover-bg-color);\n",
              "    box-shadow: 0 1px 2px rgba(60, 64, 67, 0.3), 0 1px 3px 1px rgba(60, 64, 67, 0.15);\n",
              "    fill: var(--button-hover-fill-color);\n",
              "  }\n",
              "\n",
              "  .colab-df-quickchart-complete:disabled,\n",
              "  .colab-df-quickchart-complete:disabled:hover {\n",
              "    background-color: var(--disabled-bg-color);\n",
              "    fill: var(--disabled-fill-color);\n",
              "    box-shadow: none;\n",
              "  }\n",
              "\n",
              "  .colab-df-spinner {\n",
              "    border: 2px solid var(--fill-color);\n",
              "    border-color: transparent;\n",
              "    border-bottom-color: var(--fill-color);\n",
              "    animation:\n",
              "      spin 1s steps(1) infinite;\n",
              "  }\n",
              "\n",
              "  @keyframes spin {\n",
              "    0% {\n",
              "      border-color: transparent;\n",
              "      border-bottom-color: var(--fill-color);\n",
              "      border-left-color: var(--fill-color);\n",
              "    }\n",
              "    20% {\n",
              "      border-color: transparent;\n",
              "      border-left-color: var(--fill-color);\n",
              "      border-top-color: var(--fill-color);\n",
              "    }\n",
              "    30% {\n",
              "      border-color: transparent;\n",
              "      border-left-color: var(--fill-color);\n",
              "      border-top-color: var(--fill-color);\n",
              "      border-right-color: var(--fill-color);\n",
              "    }\n",
              "    40% {\n",
              "      border-color: transparent;\n",
              "      border-right-color: var(--fill-color);\n",
              "      border-top-color: var(--fill-color);\n",
              "    }\n",
              "    60% {\n",
              "      border-color: transparent;\n",
              "      border-right-color: var(--fill-color);\n",
              "    }\n",
              "    80% {\n",
              "      border-color: transparent;\n",
              "      border-right-color: var(--fill-color);\n",
              "      border-bottom-color: var(--fill-color);\n",
              "    }\n",
              "    90% {\n",
              "      border-color: transparent;\n",
              "      border-bottom-color: var(--fill-color);\n",
              "    }\n",
              "  }\n",
              "</style>\n",
              "\n",
              "  <script>\n",
              "    async function quickchart(key) {\n",
              "      const quickchartButtonEl =\n",
              "        document.querySelector('#' + key + ' button');\n",
              "      quickchartButtonEl.disabled = true;  // To prevent multiple clicks.\n",
              "      quickchartButtonEl.classList.add('colab-df-spinner');\n",
              "      try {\n",
              "        const charts = await google.colab.kernel.invokeFunction(\n",
              "            'suggestCharts', [key], {});\n",
              "      } catch (error) {\n",
              "        console.error('Error during call to suggestCharts:', error);\n",
              "      }\n",
              "      quickchartButtonEl.classList.remove('colab-df-spinner');\n",
              "      quickchartButtonEl.classList.add('colab-df-quickchart-complete');\n",
              "    }\n",
              "    (() => {\n",
              "      let quickchartButtonEl =\n",
              "        document.querySelector('#df-6025769c-51b8-46a2-85c2-581581d45fd1 button');\n",
              "      quickchartButtonEl.style.display =\n",
              "        google.colab.kernel.accessAllowed ? 'block' : 'none';\n",
              "    })();\n",
              "  </script>\n",
              "</div>\n",
              "    </div>\n",
              "  </div>\n"
            ],
            "application/vnd.google.colaboratory.intrinsic+json": {
              "type": "dataframe",
              "variable_name": "data"
            }
          },
          "metadata": {},
          "execution_count": 4
        }
      ]
    },
    {
      "cell_type": "code",
      "source": [
        "data.info()"
      ],
      "metadata": {
        "colab": {
          "base_uri": "https://localhost:8080/"
        },
        "id": "lFewfI4f_jbD",
        "outputId": "c36eeca3-7b42-4755-fa49-ab44a7cdea3b"
      },
      "execution_count": 5,
      "outputs": [
        {
          "output_type": "stream",
          "name": "stdout",
          "text": [
            "<class 'pandas.core.frame.DataFrame'>\n",
            "RangeIndex: 2240 entries, 0 to 2239\n",
            "Data columns (total 29 columns):\n",
            " #   Column               Non-Null Count  Dtype  \n",
            "---  ------               --------------  -----  \n",
            " 0   ID                   2240 non-null   int64  \n",
            " 1   Year_Birth           2240 non-null   int64  \n",
            " 2   Education            2240 non-null   object \n",
            " 3   Marital_Status       2240 non-null   object \n",
            " 4   Income               2216 non-null   float64\n",
            " 5   Kidhome              2240 non-null   int64  \n",
            " 6   Teenhome             2240 non-null   int64  \n",
            " 7   Dt_Customer          2240 non-null   object \n",
            " 8   Recency              2240 non-null   int64  \n",
            " 9   MntWines             2240 non-null   int64  \n",
            " 10  MntFruits            2240 non-null   int64  \n",
            " 11  MntMeatProducts      2240 non-null   int64  \n",
            " 12  MntFishProducts      2240 non-null   int64  \n",
            " 13  MntSweetProducts     2240 non-null   int64  \n",
            " 14  MntGoldProds         2240 non-null   int64  \n",
            " 15  NumDealsPurchases    2240 non-null   int64  \n",
            " 16  NumWebPurchases      2240 non-null   int64  \n",
            " 17  NumCatalogPurchases  2240 non-null   int64  \n",
            " 18  NumStorePurchases    2240 non-null   int64  \n",
            " 19  NumWebVisitsMonth    2240 non-null   int64  \n",
            " 20  AcceptedCmp3         2240 non-null   int64  \n",
            " 21  AcceptedCmp4         2240 non-null   int64  \n",
            " 22  AcceptedCmp5         2240 non-null   int64  \n",
            " 23  AcceptedCmp1         2240 non-null   int64  \n",
            " 24  AcceptedCmp2         2240 non-null   int64  \n",
            " 25  Complain             2240 non-null   int64  \n",
            " 26  Z_CostContact        2240 non-null   int64  \n",
            " 27  Z_Revenue            2240 non-null   int64  \n",
            " 28  Response             2240 non-null   int64  \n",
            "dtypes: float64(1), int64(25), object(3)\n",
            "memory usage: 507.6+ KB\n"
          ]
        }
      ]
    },
    {
      "cell_type": "code",
      "source": [
        "data.isnull().sum()"
      ],
      "metadata": {
        "colab": {
          "base_uri": "https://localhost:8080/",
          "height": 993
        },
        "id": "_wa_TtweBbg-",
        "outputId": "ce4999f1-753b-4ee6-9ca0-85520923db1f"
      },
      "execution_count": null,
      "outputs": [
        {
          "output_type": "execute_result",
          "data": {
            "text/plain": [
              "ID                      0\n",
              "Year_Birth              0\n",
              "Education               0\n",
              "Marital_Status          0\n",
              "Income                 24\n",
              "Kidhome                 0\n",
              "Teenhome                0\n",
              "Dt_Customer             0\n",
              "Recency                 0\n",
              "MntWines                0\n",
              "MntFruits               0\n",
              "MntMeatProducts         0\n",
              "MntFishProducts         0\n",
              "MntSweetProducts        0\n",
              "MntGoldProds            0\n",
              "NumDealsPurchases       0\n",
              "NumWebPurchases         0\n",
              "NumCatalogPurchases     0\n",
              "NumStorePurchases       0\n",
              "NumWebVisitsMonth       0\n",
              "AcceptedCmp3            0\n",
              "AcceptedCmp4            0\n",
              "AcceptedCmp5            0\n",
              "AcceptedCmp1            0\n",
              "AcceptedCmp2            0\n",
              "Complain                0\n",
              "Z_CostContact           0\n",
              "Z_Revenue               0\n",
              "Response                0\n",
              "dtype: int64"
            ],
            "text/html": [
              "<div>\n",
              "<style scoped>\n",
              "    .dataframe tbody tr th:only-of-type {\n",
              "        vertical-align: middle;\n",
              "    }\n",
              "\n",
              "    .dataframe tbody tr th {\n",
              "        vertical-align: top;\n",
              "    }\n",
              "\n",
              "    .dataframe thead th {\n",
              "        text-align: right;\n",
              "    }\n",
              "</style>\n",
              "<table border=\"1\" class=\"dataframe\">\n",
              "  <thead>\n",
              "    <tr style=\"text-align: right;\">\n",
              "      <th></th>\n",
              "      <th>0</th>\n",
              "    </tr>\n",
              "  </thead>\n",
              "  <tbody>\n",
              "    <tr>\n",
              "      <th>ID</th>\n",
              "      <td>0</td>\n",
              "    </tr>\n",
              "    <tr>\n",
              "      <th>Year_Birth</th>\n",
              "      <td>0</td>\n",
              "    </tr>\n",
              "    <tr>\n",
              "      <th>Education</th>\n",
              "      <td>0</td>\n",
              "    </tr>\n",
              "    <tr>\n",
              "      <th>Marital_Status</th>\n",
              "      <td>0</td>\n",
              "    </tr>\n",
              "    <tr>\n",
              "      <th>Income</th>\n",
              "      <td>24</td>\n",
              "    </tr>\n",
              "    <tr>\n",
              "      <th>Kidhome</th>\n",
              "      <td>0</td>\n",
              "    </tr>\n",
              "    <tr>\n",
              "      <th>Teenhome</th>\n",
              "      <td>0</td>\n",
              "    </tr>\n",
              "    <tr>\n",
              "      <th>Dt_Customer</th>\n",
              "      <td>0</td>\n",
              "    </tr>\n",
              "    <tr>\n",
              "      <th>Recency</th>\n",
              "      <td>0</td>\n",
              "    </tr>\n",
              "    <tr>\n",
              "      <th>MntWines</th>\n",
              "      <td>0</td>\n",
              "    </tr>\n",
              "    <tr>\n",
              "      <th>MntFruits</th>\n",
              "      <td>0</td>\n",
              "    </tr>\n",
              "    <tr>\n",
              "      <th>MntMeatProducts</th>\n",
              "      <td>0</td>\n",
              "    </tr>\n",
              "    <tr>\n",
              "      <th>MntFishProducts</th>\n",
              "      <td>0</td>\n",
              "    </tr>\n",
              "    <tr>\n",
              "      <th>MntSweetProducts</th>\n",
              "      <td>0</td>\n",
              "    </tr>\n",
              "    <tr>\n",
              "      <th>MntGoldProds</th>\n",
              "      <td>0</td>\n",
              "    </tr>\n",
              "    <tr>\n",
              "      <th>NumDealsPurchases</th>\n",
              "      <td>0</td>\n",
              "    </tr>\n",
              "    <tr>\n",
              "      <th>NumWebPurchases</th>\n",
              "      <td>0</td>\n",
              "    </tr>\n",
              "    <tr>\n",
              "      <th>NumCatalogPurchases</th>\n",
              "      <td>0</td>\n",
              "    </tr>\n",
              "    <tr>\n",
              "      <th>NumStorePurchases</th>\n",
              "      <td>0</td>\n",
              "    </tr>\n",
              "    <tr>\n",
              "      <th>NumWebVisitsMonth</th>\n",
              "      <td>0</td>\n",
              "    </tr>\n",
              "    <tr>\n",
              "      <th>AcceptedCmp3</th>\n",
              "      <td>0</td>\n",
              "    </tr>\n",
              "    <tr>\n",
              "      <th>AcceptedCmp4</th>\n",
              "      <td>0</td>\n",
              "    </tr>\n",
              "    <tr>\n",
              "      <th>AcceptedCmp5</th>\n",
              "      <td>0</td>\n",
              "    </tr>\n",
              "    <tr>\n",
              "      <th>AcceptedCmp1</th>\n",
              "      <td>0</td>\n",
              "    </tr>\n",
              "    <tr>\n",
              "      <th>AcceptedCmp2</th>\n",
              "      <td>0</td>\n",
              "    </tr>\n",
              "    <tr>\n",
              "      <th>Complain</th>\n",
              "      <td>0</td>\n",
              "    </tr>\n",
              "    <tr>\n",
              "      <th>Z_CostContact</th>\n",
              "      <td>0</td>\n",
              "    </tr>\n",
              "    <tr>\n",
              "      <th>Z_Revenue</th>\n",
              "      <td>0</td>\n",
              "    </tr>\n",
              "    <tr>\n",
              "      <th>Response</th>\n",
              "      <td>0</td>\n",
              "    </tr>\n",
              "  </tbody>\n",
              "</table>\n",
              "</div><br><label><b>dtype:</b> int64</label>"
            ]
          },
          "metadata": {},
          "execution_count": 20
        }
      ]
    },
    {
      "cell_type": "markdown",
      "source": [
        "**Завдання 2.** Заповніть пропущені значення з врахуванням того завдання (кластеризація), яке ми виконуємо. Поясніть свій вибір заповнення пропущених значень."
      ],
      "metadata": {
        "id": "bxikhv1PaMv6"
      }
    },
    {
      "cell_type": "code",
      "source": [
        "data[\"Income\"] = data[\"Income\"].fillna(data[\"Income\"].median())"
      ],
      "metadata": {
        "id": "PNKBBwPivwcJ"
      },
      "execution_count": 6,
      "outputs": []
    },
    {
      "cell_type": "code",
      "source": [
        "data.isnull().sum()"
      ],
      "metadata": {
        "colab": {
          "base_uri": "https://localhost:8080/",
          "height": 993
        },
        "id": "nulbwYZrB7rQ",
        "outputId": "bc3cf587-52d6-416d-83d9-73ab2aeb28c5"
      },
      "execution_count": 7,
      "outputs": [
        {
          "output_type": "execute_result",
          "data": {
            "text/plain": [
              "ID                     0\n",
              "Year_Birth             0\n",
              "Education              0\n",
              "Marital_Status         0\n",
              "Income                 0\n",
              "Kidhome                0\n",
              "Teenhome               0\n",
              "Dt_Customer            0\n",
              "Recency                0\n",
              "MntWines               0\n",
              "MntFruits              0\n",
              "MntMeatProducts        0\n",
              "MntFishProducts        0\n",
              "MntSweetProducts       0\n",
              "MntGoldProds           0\n",
              "NumDealsPurchases      0\n",
              "NumWebPurchases        0\n",
              "NumCatalogPurchases    0\n",
              "NumStorePurchases      0\n",
              "NumWebVisitsMonth      0\n",
              "AcceptedCmp3           0\n",
              "AcceptedCmp4           0\n",
              "AcceptedCmp5           0\n",
              "AcceptedCmp1           0\n",
              "AcceptedCmp2           0\n",
              "Complain               0\n",
              "Z_CostContact          0\n",
              "Z_Revenue              0\n",
              "Response               0\n",
              "dtype: int64"
            ],
            "text/html": [
              "<div>\n",
              "<style scoped>\n",
              "    .dataframe tbody tr th:only-of-type {\n",
              "        vertical-align: middle;\n",
              "    }\n",
              "\n",
              "    .dataframe tbody tr th {\n",
              "        vertical-align: top;\n",
              "    }\n",
              "\n",
              "    .dataframe thead th {\n",
              "        text-align: right;\n",
              "    }\n",
              "</style>\n",
              "<table border=\"1\" class=\"dataframe\">\n",
              "  <thead>\n",
              "    <tr style=\"text-align: right;\">\n",
              "      <th></th>\n",
              "      <th>0</th>\n",
              "    </tr>\n",
              "  </thead>\n",
              "  <tbody>\n",
              "    <tr>\n",
              "      <th>ID</th>\n",
              "      <td>0</td>\n",
              "    </tr>\n",
              "    <tr>\n",
              "      <th>Year_Birth</th>\n",
              "      <td>0</td>\n",
              "    </tr>\n",
              "    <tr>\n",
              "      <th>Education</th>\n",
              "      <td>0</td>\n",
              "    </tr>\n",
              "    <tr>\n",
              "      <th>Marital_Status</th>\n",
              "      <td>0</td>\n",
              "    </tr>\n",
              "    <tr>\n",
              "      <th>Income</th>\n",
              "      <td>0</td>\n",
              "    </tr>\n",
              "    <tr>\n",
              "      <th>Kidhome</th>\n",
              "      <td>0</td>\n",
              "    </tr>\n",
              "    <tr>\n",
              "      <th>Teenhome</th>\n",
              "      <td>0</td>\n",
              "    </tr>\n",
              "    <tr>\n",
              "      <th>Dt_Customer</th>\n",
              "      <td>0</td>\n",
              "    </tr>\n",
              "    <tr>\n",
              "      <th>Recency</th>\n",
              "      <td>0</td>\n",
              "    </tr>\n",
              "    <tr>\n",
              "      <th>MntWines</th>\n",
              "      <td>0</td>\n",
              "    </tr>\n",
              "    <tr>\n",
              "      <th>MntFruits</th>\n",
              "      <td>0</td>\n",
              "    </tr>\n",
              "    <tr>\n",
              "      <th>MntMeatProducts</th>\n",
              "      <td>0</td>\n",
              "    </tr>\n",
              "    <tr>\n",
              "      <th>MntFishProducts</th>\n",
              "      <td>0</td>\n",
              "    </tr>\n",
              "    <tr>\n",
              "      <th>MntSweetProducts</th>\n",
              "      <td>0</td>\n",
              "    </tr>\n",
              "    <tr>\n",
              "      <th>MntGoldProds</th>\n",
              "      <td>0</td>\n",
              "    </tr>\n",
              "    <tr>\n",
              "      <th>NumDealsPurchases</th>\n",
              "      <td>0</td>\n",
              "    </tr>\n",
              "    <tr>\n",
              "      <th>NumWebPurchases</th>\n",
              "      <td>0</td>\n",
              "    </tr>\n",
              "    <tr>\n",
              "      <th>NumCatalogPurchases</th>\n",
              "      <td>0</td>\n",
              "    </tr>\n",
              "    <tr>\n",
              "      <th>NumStorePurchases</th>\n",
              "      <td>0</td>\n",
              "    </tr>\n",
              "    <tr>\n",
              "      <th>NumWebVisitsMonth</th>\n",
              "      <td>0</td>\n",
              "    </tr>\n",
              "    <tr>\n",
              "      <th>AcceptedCmp3</th>\n",
              "      <td>0</td>\n",
              "    </tr>\n",
              "    <tr>\n",
              "      <th>AcceptedCmp4</th>\n",
              "      <td>0</td>\n",
              "    </tr>\n",
              "    <tr>\n",
              "      <th>AcceptedCmp5</th>\n",
              "      <td>0</td>\n",
              "    </tr>\n",
              "    <tr>\n",
              "      <th>AcceptedCmp1</th>\n",
              "      <td>0</td>\n",
              "    </tr>\n",
              "    <tr>\n",
              "      <th>AcceptedCmp2</th>\n",
              "      <td>0</td>\n",
              "    </tr>\n",
              "    <tr>\n",
              "      <th>Complain</th>\n",
              "      <td>0</td>\n",
              "    </tr>\n",
              "    <tr>\n",
              "      <th>Z_CostContact</th>\n",
              "      <td>0</td>\n",
              "    </tr>\n",
              "    <tr>\n",
              "      <th>Z_Revenue</th>\n",
              "      <td>0</td>\n",
              "    </tr>\n",
              "    <tr>\n",
              "      <th>Response</th>\n",
              "      <td>0</td>\n",
              "    </tr>\n",
              "  </tbody>\n",
              "</table>\n",
              "</div><br><label><b>dtype:</b> int64</label>"
            ]
          },
          "metadata": {},
          "execution_count": 7
        }
      ]
    },
    {
      "cell_type": "markdown",
      "source": [
        "Заповнюю **медіаною** бо не чутлива до викидів що для нас важливо бо багато алгоритмів кластеризації чутливі"
      ],
      "metadata": {
        "id": "hDN-xIgfB8RD"
      }
    },
    {
      "cell_type": "markdown",
      "source": [
        "**Завдання 3.** У нас є декілька колонок з категоріальними значеннями та одна колонка з датою. Як би ви обробили ці колонки для того, аби передати їх в алгоритм кластеризації?\n",
        "\n",
        "Реалізуйте обробку категоріальних колонок і колонки з датою та перетворіть їх на ознаки, корисні для кластеризації з вашого погляду."
      ],
      "metadata": {
        "id": "HndFo_IMZSbk"
      }
    },
    {
      "cell_type": "code",
      "source": [
        "data[\"Education\"].unique()"
      ],
      "metadata": {
        "colab": {
          "base_uri": "https://localhost:8080/"
        },
        "id": "7nox5ysJDpv6",
        "outputId": "cc66dc4d-b8f1-47b5-a739-f66a10c55a32"
      },
      "execution_count": 8,
      "outputs": [
        {
          "output_type": "execute_result",
          "data": {
            "text/plain": [
              "array(['Graduation', 'PhD', 'Master', 'Basic', '2n Cycle'], dtype=object)"
            ]
          },
          "metadata": {},
          "execution_count": 8
        }
      ]
    },
    {
      "cell_type": "code",
      "source": [
        "education_map = {\n",
        "    \"Basic\": 0,\n",
        "    \"2n Cycle\": 1,\n",
        "    \"Graduation\": 2,\n",
        "    \"Master\": 3,\n",
        "    \"PhD\": 4\n",
        "}\n",
        "data[\"Education\"] = data[\"Education\"].map(education_map)"
      ],
      "metadata": {
        "id": "ndvB8Rs8Dptq"
      },
      "execution_count": 9,
      "outputs": []
    },
    {
      "cell_type": "code",
      "source": [
        "data[\"Marital_Status\"].unique()"
      ],
      "metadata": {
        "colab": {
          "base_uri": "https://localhost:8080/"
        },
        "id": "LEA6lodKDprG",
        "outputId": "cd2fa1fe-867d-4aa8-dba4-0ae008195db7"
      },
      "execution_count": 10,
      "outputs": [
        {
          "output_type": "execute_result",
          "data": {
            "text/plain": [
              "array(['Single', 'Together', 'Married', 'Divorced', 'Widow', 'Alone',\n",
              "       'Absurd', 'YOLO'], dtype=object)"
            ]
          },
          "metadata": {},
          "execution_count": 10
        }
      ]
    },
    {
      "cell_type": "code",
      "source": [
        "data = pd.get_dummies(data, columns=[\"Marital_Status\"], drop_first=True)"
      ],
      "metadata": {
        "id": "3_38Uz88D35e"
      },
      "execution_count": 11,
      "outputs": []
    },
    {
      "cell_type": "code",
      "source": [
        "data[\"Dt_Customer\"]"
      ],
      "metadata": {
        "colab": {
          "base_uri": "https://localhost:8080/",
          "height": 458
        },
        "id": "CC_33oWoEbkw",
        "outputId": "4f30124b-61e3-4b99-fb18-5741eba487ca"
      },
      "execution_count": 12,
      "outputs": [
        {
          "output_type": "execute_result",
          "data": {
            "text/plain": [
              "0       04-09-2012\n",
              "1       08-03-2014\n",
              "2       21-08-2013\n",
              "3       10-02-2014\n",
              "4       19-01-2014\n",
              "           ...    \n",
              "2235    13-06-2013\n",
              "2236    10-06-2014\n",
              "2237    25-01-2014\n",
              "2238    24-01-2014\n",
              "2239    15-10-2012\n",
              "Name: Dt_Customer, Length: 2240, dtype: object"
            ],
            "text/html": [
              "<div>\n",
              "<style scoped>\n",
              "    .dataframe tbody tr th:only-of-type {\n",
              "        vertical-align: middle;\n",
              "    }\n",
              "\n",
              "    .dataframe tbody tr th {\n",
              "        vertical-align: top;\n",
              "    }\n",
              "\n",
              "    .dataframe thead th {\n",
              "        text-align: right;\n",
              "    }\n",
              "</style>\n",
              "<table border=\"1\" class=\"dataframe\">\n",
              "  <thead>\n",
              "    <tr style=\"text-align: right;\">\n",
              "      <th></th>\n",
              "      <th>Dt_Customer</th>\n",
              "    </tr>\n",
              "  </thead>\n",
              "  <tbody>\n",
              "    <tr>\n",
              "      <th>0</th>\n",
              "      <td>04-09-2012</td>\n",
              "    </tr>\n",
              "    <tr>\n",
              "      <th>1</th>\n",
              "      <td>08-03-2014</td>\n",
              "    </tr>\n",
              "    <tr>\n",
              "      <th>2</th>\n",
              "      <td>21-08-2013</td>\n",
              "    </tr>\n",
              "    <tr>\n",
              "      <th>3</th>\n",
              "      <td>10-02-2014</td>\n",
              "    </tr>\n",
              "    <tr>\n",
              "      <th>4</th>\n",
              "      <td>19-01-2014</td>\n",
              "    </tr>\n",
              "    <tr>\n",
              "      <th>...</th>\n",
              "      <td>...</td>\n",
              "    </tr>\n",
              "    <tr>\n",
              "      <th>2235</th>\n",
              "      <td>13-06-2013</td>\n",
              "    </tr>\n",
              "    <tr>\n",
              "      <th>2236</th>\n",
              "      <td>10-06-2014</td>\n",
              "    </tr>\n",
              "    <tr>\n",
              "      <th>2237</th>\n",
              "      <td>25-01-2014</td>\n",
              "    </tr>\n",
              "    <tr>\n",
              "      <th>2238</th>\n",
              "      <td>24-01-2014</td>\n",
              "    </tr>\n",
              "    <tr>\n",
              "      <th>2239</th>\n",
              "      <td>15-10-2012</td>\n",
              "    </tr>\n",
              "  </tbody>\n",
              "</table>\n",
              "<p>2240 rows × 1 columns</p>\n",
              "</div><br><label><b>dtype:</b> object</label>"
            ]
          },
          "metadata": {},
          "execution_count": 12
        }
      ]
    },
    {
      "cell_type": "code",
      "source": [
        "data[\"Dt_Customer\"] = pd.to_datetime(data[\"Dt_Customer\"], dayfirst=True)"
      ],
      "metadata": {
        "id": "QSfremtsD33L"
      },
      "execution_count": 13,
      "outputs": []
    },
    {
      "cell_type": "code",
      "source": [
        "data[\"Year_Customer\"] = data[\"Dt_Customer\"].dt.year"
      ],
      "metadata": {
        "id": "YU3E1WGnvyHd"
      },
      "execution_count": 14,
      "outputs": []
    },
    {
      "cell_type": "code",
      "source": [
        "data[\"Month_Customer\"] = data[\"Dt_Customer\"].dt.month"
      ],
      "metadata": {
        "id": "O-im4UQYEzxz"
      },
      "execution_count": 15,
      "outputs": []
    },
    {
      "cell_type": "code",
      "source": [
        "from datetime import datetime\n",
        "data[\"Customer_For_Days\"] = (datetime.today() - data[\"Dt_Customer\"]).dt.days"
      ],
      "metadata": {
        "id": "bU7SfnUVEzp0"
      },
      "execution_count": 16,
      "outputs": []
    },
    {
      "cell_type": "code",
      "source": [
        "data.drop(\"Dt_Customer\", axis=1, inplace=True)"
      ],
      "metadata": {
        "id": "Rk798U3dEznJ"
      },
      "execution_count": 17,
      "outputs": []
    },
    {
      "cell_type": "code",
      "source": [
        "data.info()"
      ],
      "metadata": {
        "colab": {
          "base_uri": "https://localhost:8080/"
        },
        "id": "3iRVxBWrEzkT",
        "outputId": "bee3a06f-a182-4bc1-af7f-072541c53ae4"
      },
      "execution_count": 18,
      "outputs": [
        {
          "output_type": "stream",
          "name": "stdout",
          "text": [
            "<class 'pandas.core.frame.DataFrame'>\n",
            "RangeIndex: 2240 entries, 0 to 2239\n",
            "Data columns (total 37 columns):\n",
            " #   Column                   Non-Null Count  Dtype  \n",
            "---  ------                   --------------  -----  \n",
            " 0   ID                       2240 non-null   int64  \n",
            " 1   Year_Birth               2240 non-null   int64  \n",
            " 2   Education                2240 non-null   int64  \n",
            " 3   Income                   2240 non-null   float64\n",
            " 4   Kidhome                  2240 non-null   int64  \n",
            " 5   Teenhome                 2240 non-null   int64  \n",
            " 6   Recency                  2240 non-null   int64  \n",
            " 7   MntWines                 2240 non-null   int64  \n",
            " 8   MntFruits                2240 non-null   int64  \n",
            " 9   MntMeatProducts          2240 non-null   int64  \n",
            " 10  MntFishProducts          2240 non-null   int64  \n",
            " 11  MntSweetProducts         2240 non-null   int64  \n",
            " 12  MntGoldProds             2240 non-null   int64  \n",
            " 13  NumDealsPurchases        2240 non-null   int64  \n",
            " 14  NumWebPurchases          2240 non-null   int64  \n",
            " 15  NumCatalogPurchases      2240 non-null   int64  \n",
            " 16  NumStorePurchases        2240 non-null   int64  \n",
            " 17  NumWebVisitsMonth        2240 non-null   int64  \n",
            " 18  AcceptedCmp3             2240 non-null   int64  \n",
            " 19  AcceptedCmp4             2240 non-null   int64  \n",
            " 20  AcceptedCmp5             2240 non-null   int64  \n",
            " 21  AcceptedCmp1             2240 non-null   int64  \n",
            " 22  AcceptedCmp2             2240 non-null   int64  \n",
            " 23  Complain                 2240 non-null   int64  \n",
            " 24  Z_CostContact            2240 non-null   int64  \n",
            " 25  Z_Revenue                2240 non-null   int64  \n",
            " 26  Response                 2240 non-null   int64  \n",
            " 27  Marital_Status_Alone     2240 non-null   bool   \n",
            " 28  Marital_Status_Divorced  2240 non-null   bool   \n",
            " 29  Marital_Status_Married   2240 non-null   bool   \n",
            " 30  Marital_Status_Single    2240 non-null   bool   \n",
            " 31  Marital_Status_Together  2240 non-null   bool   \n",
            " 32  Marital_Status_Widow     2240 non-null   bool   \n",
            " 33  Marital_Status_YOLO      2240 non-null   bool   \n",
            " 34  Year_Customer            2240 non-null   int32  \n",
            " 35  Month_Customer           2240 non-null   int32  \n",
            " 36  Customer_For_Days        2240 non-null   int64  \n",
            "dtypes: bool(7), float64(1), int32(2), int64(27)\n",
            "memory usage: 522.9 KB\n"
          ]
        }
      ]
    },
    {
      "cell_type": "code",
      "source": [
        "data[\"Education\"].unique()"
      ],
      "metadata": {
        "colab": {
          "base_uri": "https://localhost:8080/"
        },
        "id": "AJMvIDl8FX24",
        "outputId": "4497db74-915c-4c63-f499-c80322ab969e"
      },
      "execution_count": 19,
      "outputs": [
        {
          "output_type": "execute_result",
          "data": {
            "text/plain": [
              "array([2, 4, 3, 0, 1])"
            ]
          },
          "metadata": {},
          "execution_count": 19
        }
      ]
    },
    {
      "cell_type": "markdown",
      "source": [
        "**Education** має логічну ієрархію - Label Encoding\n",
        "\n",
        "**Marital_Status** краще one-hot-encoding, бо там немає чіткого порядку\n",
        "\n",
        "**Dt_Customer** треба її конвертувати в datetime та розділити на рік місяць кількість днів продовж клєнт з нами"
      ],
      "metadata": {
        "id": "AkZs83YLEBId"
      }
    },
    {
      "cell_type": "markdown",
      "source": [
        "**Завдання 4**.\n",
        "1. Запишіть в змінну X ті дані, які будете кластеризувати.\n",
        "2. Побудуйте кластеризацію з KMeans на 3 кластери.\n",
        "3. Обчисліть метрику силуету для цієї кластеризації."
      ],
      "metadata": {
        "id": "YYe1YDbdfreS"
      }
    },
    {
      "cell_type": "code",
      "source": [
        "features = [\n",
        "    'Year_Birth',\n",
        "    'Income',\n",
        "    'Kidhome',\n",
        "    'Teenhome',\n",
        "    'Recency',\n",
        "    'MntWines',\n",
        "    'MntFruits',\n",
        "    'MntMeatProducts',\n",
        "    'MntFishProducts',\n",
        "    'MntSweetProducts',\n",
        "    'MntGoldProds',\n",
        "    'NumDealsPurchases',\n",
        "    'NumWebPurchases',\n",
        "    'NumCatalogPurchases',\n",
        "    'NumStorePurchases',\n",
        "    'NumWebVisitsMonth',\n",
        "    'Customer_For_Days',\n",
        "    'Marital_Status_Single',\n",
        "    'Marital_Status_Married',\n",
        "    'Marital_Status_Together',\n",
        "    'Marital_Status_Divorced',\n",
        "    'Marital_Status_Widow',\n",
        "]\n",
        "\n",
        "X = data[features]"
      ],
      "metadata": {
        "id": "OE6DI9qpvzfp"
      },
      "execution_count": 20,
      "outputs": []
    },
    {
      "cell_type": "code",
      "source": [
        "X.head(5)"
      ],
      "metadata": {
        "colab": {
          "base_uri": "https://localhost:8080/",
          "height": 255
        },
        "id": "-TrLaAJIjnkW",
        "outputId": "bc13275c-f79c-42b6-f43b-1f11218b8475"
      },
      "execution_count": 43,
      "outputs": [
        {
          "output_type": "execute_result",
          "data": {
            "text/plain": [
              "   Year_Birth   Income  Kidhome  Teenhome  Recency  MntWines  MntFruits  \\\n",
              "0        1957  58138.0        0         0       58       635         88   \n",
              "1        1954  46344.0        1         1       38        11          1   \n",
              "2        1965  71613.0        0         0       26       426         49   \n",
              "3        1984  26646.0        1         0       26        11          4   \n",
              "4        1981  58293.0        1         0       94       173         43   \n",
              "\n",
              "   MntMeatProducts  MntFishProducts  MntSweetProducts  ...  NumWebPurchases  \\\n",
              "0              546              172                88  ...                8   \n",
              "1                6                2                 1  ...                1   \n",
              "2              127              111                21  ...                8   \n",
              "3               20               10                 3  ...                2   \n",
              "4              118               46                27  ...                5   \n",
              "\n",
              "   NumCatalogPurchases  NumStorePurchases  NumWebVisitsMonth  \\\n",
              "0                   10                  4                  7   \n",
              "1                    1                  2                  5   \n",
              "2                    2                 10                  4   \n",
              "3                    0                  4                  6   \n",
              "4                    3                  6                  5   \n",
              "\n",
              "   Customer_For_Days  Marital_Status_Single  Marital_Status_Married  \\\n",
              "0               4596                   True                   False   \n",
              "1               4046                   True                   False   \n",
              "2               4245                  False                   False   \n",
              "3               4072                  False                   False   \n",
              "4               4094                  False                    True   \n",
              "\n",
              "   Marital_Status_Together  Marital_Status_Divorced  Marital_Status_Widow  \n",
              "0                    False                    False                 False  \n",
              "1                    False                    False                 False  \n",
              "2                     True                    False                 False  \n",
              "3                     True                    False                 False  \n",
              "4                    False                    False                 False  \n",
              "\n",
              "[5 rows x 22 columns]"
            ],
            "text/html": [
              "\n",
              "  <div id=\"df-cd877206-bbbb-4aef-80b1-d68f0b2ba682\" class=\"colab-df-container\">\n",
              "    <div>\n",
              "<style scoped>\n",
              "    .dataframe tbody tr th:only-of-type {\n",
              "        vertical-align: middle;\n",
              "    }\n",
              "\n",
              "    .dataframe tbody tr th {\n",
              "        vertical-align: top;\n",
              "    }\n",
              "\n",
              "    .dataframe thead th {\n",
              "        text-align: right;\n",
              "    }\n",
              "</style>\n",
              "<table border=\"1\" class=\"dataframe\">\n",
              "  <thead>\n",
              "    <tr style=\"text-align: right;\">\n",
              "      <th></th>\n",
              "      <th>Year_Birth</th>\n",
              "      <th>Income</th>\n",
              "      <th>Kidhome</th>\n",
              "      <th>Teenhome</th>\n",
              "      <th>Recency</th>\n",
              "      <th>MntWines</th>\n",
              "      <th>MntFruits</th>\n",
              "      <th>MntMeatProducts</th>\n",
              "      <th>MntFishProducts</th>\n",
              "      <th>MntSweetProducts</th>\n",
              "      <th>...</th>\n",
              "      <th>NumWebPurchases</th>\n",
              "      <th>NumCatalogPurchases</th>\n",
              "      <th>NumStorePurchases</th>\n",
              "      <th>NumWebVisitsMonth</th>\n",
              "      <th>Customer_For_Days</th>\n",
              "      <th>Marital_Status_Single</th>\n",
              "      <th>Marital_Status_Married</th>\n",
              "      <th>Marital_Status_Together</th>\n",
              "      <th>Marital_Status_Divorced</th>\n",
              "      <th>Marital_Status_Widow</th>\n",
              "    </tr>\n",
              "  </thead>\n",
              "  <tbody>\n",
              "    <tr>\n",
              "      <th>0</th>\n",
              "      <td>1957</td>\n",
              "      <td>58138.0</td>\n",
              "      <td>0</td>\n",
              "      <td>0</td>\n",
              "      <td>58</td>\n",
              "      <td>635</td>\n",
              "      <td>88</td>\n",
              "      <td>546</td>\n",
              "      <td>172</td>\n",
              "      <td>88</td>\n",
              "      <td>...</td>\n",
              "      <td>8</td>\n",
              "      <td>10</td>\n",
              "      <td>4</td>\n",
              "      <td>7</td>\n",
              "      <td>4596</td>\n",
              "      <td>True</td>\n",
              "      <td>False</td>\n",
              "      <td>False</td>\n",
              "      <td>False</td>\n",
              "      <td>False</td>\n",
              "    </tr>\n",
              "    <tr>\n",
              "      <th>1</th>\n",
              "      <td>1954</td>\n",
              "      <td>46344.0</td>\n",
              "      <td>1</td>\n",
              "      <td>1</td>\n",
              "      <td>38</td>\n",
              "      <td>11</td>\n",
              "      <td>1</td>\n",
              "      <td>6</td>\n",
              "      <td>2</td>\n",
              "      <td>1</td>\n",
              "      <td>...</td>\n",
              "      <td>1</td>\n",
              "      <td>1</td>\n",
              "      <td>2</td>\n",
              "      <td>5</td>\n",
              "      <td>4046</td>\n",
              "      <td>True</td>\n",
              "      <td>False</td>\n",
              "      <td>False</td>\n",
              "      <td>False</td>\n",
              "      <td>False</td>\n",
              "    </tr>\n",
              "    <tr>\n",
              "      <th>2</th>\n",
              "      <td>1965</td>\n",
              "      <td>71613.0</td>\n",
              "      <td>0</td>\n",
              "      <td>0</td>\n",
              "      <td>26</td>\n",
              "      <td>426</td>\n",
              "      <td>49</td>\n",
              "      <td>127</td>\n",
              "      <td>111</td>\n",
              "      <td>21</td>\n",
              "      <td>...</td>\n",
              "      <td>8</td>\n",
              "      <td>2</td>\n",
              "      <td>10</td>\n",
              "      <td>4</td>\n",
              "      <td>4245</td>\n",
              "      <td>False</td>\n",
              "      <td>False</td>\n",
              "      <td>True</td>\n",
              "      <td>False</td>\n",
              "      <td>False</td>\n",
              "    </tr>\n",
              "    <tr>\n",
              "      <th>3</th>\n",
              "      <td>1984</td>\n",
              "      <td>26646.0</td>\n",
              "      <td>1</td>\n",
              "      <td>0</td>\n",
              "      <td>26</td>\n",
              "      <td>11</td>\n",
              "      <td>4</td>\n",
              "      <td>20</td>\n",
              "      <td>10</td>\n",
              "      <td>3</td>\n",
              "      <td>...</td>\n",
              "      <td>2</td>\n",
              "      <td>0</td>\n",
              "      <td>4</td>\n",
              "      <td>6</td>\n",
              "      <td>4072</td>\n",
              "      <td>False</td>\n",
              "      <td>False</td>\n",
              "      <td>True</td>\n",
              "      <td>False</td>\n",
              "      <td>False</td>\n",
              "    </tr>\n",
              "    <tr>\n",
              "      <th>4</th>\n",
              "      <td>1981</td>\n",
              "      <td>58293.0</td>\n",
              "      <td>1</td>\n",
              "      <td>0</td>\n",
              "      <td>94</td>\n",
              "      <td>173</td>\n",
              "      <td>43</td>\n",
              "      <td>118</td>\n",
              "      <td>46</td>\n",
              "      <td>27</td>\n",
              "      <td>...</td>\n",
              "      <td>5</td>\n",
              "      <td>3</td>\n",
              "      <td>6</td>\n",
              "      <td>5</td>\n",
              "      <td>4094</td>\n",
              "      <td>False</td>\n",
              "      <td>True</td>\n",
              "      <td>False</td>\n",
              "      <td>False</td>\n",
              "      <td>False</td>\n",
              "    </tr>\n",
              "  </tbody>\n",
              "</table>\n",
              "<p>5 rows × 22 columns</p>\n",
              "</div>\n",
              "    <div class=\"colab-df-buttons\">\n",
              "\n",
              "  <div class=\"colab-df-container\">\n",
              "    <button class=\"colab-df-convert\" onclick=\"convertToInteractive('df-cd877206-bbbb-4aef-80b1-d68f0b2ba682')\"\n",
              "            title=\"Convert this dataframe to an interactive table.\"\n",
              "            style=\"display:none;\">\n",
              "\n",
              "  <svg xmlns=\"http://www.w3.org/2000/svg\" height=\"24px\" viewBox=\"0 -960 960 960\">\n",
              "    <path d=\"M120-120v-720h720v720H120Zm60-500h600v-160H180v160Zm220 220h160v-160H400v160Zm0 220h160v-160H400v160ZM180-400h160v-160H180v160Zm440 0h160v-160H620v160ZM180-180h160v-160H180v160Zm440 0h160v-160H620v160Z\"/>\n",
              "  </svg>\n",
              "    </button>\n",
              "\n",
              "  <style>\n",
              "    .colab-df-container {\n",
              "      display:flex;\n",
              "      gap: 12px;\n",
              "    }\n",
              "\n",
              "    .colab-df-convert {\n",
              "      background-color: #E8F0FE;\n",
              "      border: none;\n",
              "      border-radius: 50%;\n",
              "      cursor: pointer;\n",
              "      display: none;\n",
              "      fill: #1967D2;\n",
              "      height: 32px;\n",
              "      padding: 0 0 0 0;\n",
              "      width: 32px;\n",
              "    }\n",
              "\n",
              "    .colab-df-convert:hover {\n",
              "      background-color: #E2EBFA;\n",
              "      box-shadow: 0px 1px 2px rgba(60, 64, 67, 0.3), 0px 1px 3px 1px rgba(60, 64, 67, 0.15);\n",
              "      fill: #174EA6;\n",
              "    }\n",
              "\n",
              "    .colab-df-buttons div {\n",
              "      margin-bottom: 4px;\n",
              "    }\n",
              "\n",
              "    [theme=dark] .colab-df-convert {\n",
              "      background-color: #3B4455;\n",
              "      fill: #D2E3FC;\n",
              "    }\n",
              "\n",
              "    [theme=dark] .colab-df-convert:hover {\n",
              "      background-color: #434B5C;\n",
              "      box-shadow: 0px 1px 3px 1px rgba(0, 0, 0, 0.15);\n",
              "      filter: drop-shadow(0px 1px 2px rgba(0, 0, 0, 0.3));\n",
              "      fill: #FFFFFF;\n",
              "    }\n",
              "  </style>\n",
              "\n",
              "    <script>\n",
              "      const buttonEl =\n",
              "        document.querySelector('#df-cd877206-bbbb-4aef-80b1-d68f0b2ba682 button.colab-df-convert');\n",
              "      buttonEl.style.display =\n",
              "        google.colab.kernel.accessAllowed ? 'block' : 'none';\n",
              "\n",
              "      async function convertToInteractive(key) {\n",
              "        const element = document.querySelector('#df-cd877206-bbbb-4aef-80b1-d68f0b2ba682');\n",
              "        const dataTable =\n",
              "          await google.colab.kernel.invokeFunction('convertToInteractive',\n",
              "                                                    [key], {});\n",
              "        if (!dataTable) return;\n",
              "\n",
              "        const docLinkHtml = 'Like what you see? Visit the ' +\n",
              "          '<a target=\"_blank\" href=https://colab.research.google.com/notebooks/data_table.ipynb>data table notebook</a>'\n",
              "          + ' to learn more about interactive tables.';\n",
              "        element.innerHTML = '';\n",
              "        dataTable['output_type'] = 'display_data';\n",
              "        await google.colab.output.renderOutput(dataTable, element);\n",
              "        const docLink = document.createElement('div');\n",
              "        docLink.innerHTML = docLinkHtml;\n",
              "        element.appendChild(docLink);\n",
              "      }\n",
              "    </script>\n",
              "  </div>\n",
              "\n",
              "\n",
              "<div id=\"df-da7e8900-07ea-4159-b417-8358fb50e80b\">\n",
              "  <button class=\"colab-df-quickchart\" onclick=\"quickchart('df-da7e8900-07ea-4159-b417-8358fb50e80b')\"\n",
              "            title=\"Suggest charts\"\n",
              "            style=\"display:none;\">\n",
              "\n",
              "<svg xmlns=\"http://www.w3.org/2000/svg\" height=\"24px\"viewBox=\"0 0 24 24\"\n",
              "     width=\"24px\">\n",
              "    <g>\n",
              "        <path d=\"M19 3H5c-1.1 0-2 .9-2 2v14c0 1.1.9 2 2 2h14c1.1 0 2-.9 2-2V5c0-1.1-.9-2-2-2zM9 17H7v-7h2v7zm4 0h-2V7h2v10zm4 0h-2v-4h2v4z\"/>\n",
              "    </g>\n",
              "</svg>\n",
              "  </button>\n",
              "\n",
              "<style>\n",
              "  .colab-df-quickchart {\n",
              "      --bg-color: #E8F0FE;\n",
              "      --fill-color: #1967D2;\n",
              "      --hover-bg-color: #E2EBFA;\n",
              "      --hover-fill-color: #174EA6;\n",
              "      --disabled-fill-color: #AAA;\n",
              "      --disabled-bg-color: #DDD;\n",
              "  }\n",
              "\n",
              "  [theme=dark] .colab-df-quickchart {\n",
              "      --bg-color: #3B4455;\n",
              "      --fill-color: #D2E3FC;\n",
              "      --hover-bg-color: #434B5C;\n",
              "      --hover-fill-color: #FFFFFF;\n",
              "      --disabled-bg-color: #3B4455;\n",
              "      --disabled-fill-color: #666;\n",
              "  }\n",
              "\n",
              "  .colab-df-quickchart {\n",
              "    background-color: var(--bg-color);\n",
              "    border: none;\n",
              "    border-radius: 50%;\n",
              "    cursor: pointer;\n",
              "    display: none;\n",
              "    fill: var(--fill-color);\n",
              "    height: 32px;\n",
              "    padding: 0;\n",
              "    width: 32px;\n",
              "  }\n",
              "\n",
              "  .colab-df-quickchart:hover {\n",
              "    background-color: var(--hover-bg-color);\n",
              "    box-shadow: 0 1px 2px rgba(60, 64, 67, 0.3), 0 1px 3px 1px rgba(60, 64, 67, 0.15);\n",
              "    fill: var(--button-hover-fill-color);\n",
              "  }\n",
              "\n",
              "  .colab-df-quickchart-complete:disabled,\n",
              "  .colab-df-quickchart-complete:disabled:hover {\n",
              "    background-color: var(--disabled-bg-color);\n",
              "    fill: var(--disabled-fill-color);\n",
              "    box-shadow: none;\n",
              "  }\n",
              "\n",
              "  .colab-df-spinner {\n",
              "    border: 2px solid var(--fill-color);\n",
              "    border-color: transparent;\n",
              "    border-bottom-color: var(--fill-color);\n",
              "    animation:\n",
              "      spin 1s steps(1) infinite;\n",
              "  }\n",
              "\n",
              "  @keyframes spin {\n",
              "    0% {\n",
              "      border-color: transparent;\n",
              "      border-bottom-color: var(--fill-color);\n",
              "      border-left-color: var(--fill-color);\n",
              "    }\n",
              "    20% {\n",
              "      border-color: transparent;\n",
              "      border-left-color: var(--fill-color);\n",
              "      border-top-color: var(--fill-color);\n",
              "    }\n",
              "    30% {\n",
              "      border-color: transparent;\n",
              "      border-left-color: var(--fill-color);\n",
              "      border-top-color: var(--fill-color);\n",
              "      border-right-color: var(--fill-color);\n",
              "    }\n",
              "    40% {\n",
              "      border-color: transparent;\n",
              "      border-right-color: var(--fill-color);\n",
              "      border-top-color: var(--fill-color);\n",
              "    }\n",
              "    60% {\n",
              "      border-color: transparent;\n",
              "      border-right-color: var(--fill-color);\n",
              "    }\n",
              "    80% {\n",
              "      border-color: transparent;\n",
              "      border-right-color: var(--fill-color);\n",
              "      border-bottom-color: var(--fill-color);\n",
              "    }\n",
              "    90% {\n",
              "      border-color: transparent;\n",
              "      border-bottom-color: var(--fill-color);\n",
              "    }\n",
              "  }\n",
              "</style>\n",
              "\n",
              "  <script>\n",
              "    async function quickchart(key) {\n",
              "      const quickchartButtonEl =\n",
              "        document.querySelector('#' + key + ' button');\n",
              "      quickchartButtonEl.disabled = true;  // To prevent multiple clicks.\n",
              "      quickchartButtonEl.classList.add('colab-df-spinner');\n",
              "      try {\n",
              "        const charts = await google.colab.kernel.invokeFunction(\n",
              "            'suggestCharts', [key], {});\n",
              "      } catch (error) {\n",
              "        console.error('Error during call to suggestCharts:', error);\n",
              "      }\n",
              "      quickchartButtonEl.classList.remove('colab-df-spinner');\n",
              "      quickchartButtonEl.classList.add('colab-df-quickchart-complete');\n",
              "    }\n",
              "    (() => {\n",
              "      let quickchartButtonEl =\n",
              "        document.querySelector('#df-da7e8900-07ea-4159-b417-8358fb50e80b button');\n",
              "      quickchartButtonEl.style.display =\n",
              "        google.colab.kernel.accessAllowed ? 'block' : 'none';\n",
              "    })();\n",
              "  </script>\n",
              "</div>\n",
              "    </div>\n",
              "  </div>\n"
            ],
            "application/vnd.google.colaboratory.intrinsic+json": {
              "type": "dataframe",
              "variable_name": "X"
            }
          },
          "metadata": {},
          "execution_count": 43
        }
      ]
    },
    {
      "cell_type": "code",
      "source": [
        "from sklearn.cluster import KMeans\n",
        "\n",
        "kmeans = KMeans(n_clusters=3, n_init='auto')\n",
        "kmeans.fit(X)\n",
        "\n",
        "clusters = kmeans.predict(X)"
      ],
      "metadata": {
        "id": "22sVV8ZZbTmq"
      },
      "execution_count": 33,
      "outputs": []
    },
    {
      "cell_type": "code",
      "source": [
        "from sklearn import metrics\n",
        "\n",
        "centroids = kmeans.cluster_centers_\n",
        "s = metrics.silhouette_score(X, clusters, metric='euclidean')\n",
        "print(f'Silhouette Coefficient for the data Dataset Clusters: {s:.3f}')"
      ],
      "metadata": {
        "colab": {
          "base_uri": "https://localhost:8080/"
        },
        "id": "j59eO45SeXX3",
        "outputId": "6b2de1c2-79b0-4d88-fb2a-055eb225ac60"
      },
      "execution_count": 34,
      "outputs": [
        {
          "output_type": "stream",
          "name": "stdout",
          "text": [
            "Silhouette Coefficient for the data Dataset Clusters: 0.598\n"
          ]
        }
      ]
    },
    {
      "cell_type": "markdown",
      "source": [
        "Непогана оцінка:\n",
        "**0.598**"
      ],
      "metadata": {
        "id": "Nk1lExIxj3Ar"
      }
    },
    {
      "cell_type": "markdown",
      "source": [
        "**Завдання 5.** Візуалізуйте знайдені кластери разом з наявними даними та проаналізуйте кластери. У нас ознак більше, ніж 2 або 3, тож, тут треба подумати, які саме ознаки варто використати для візуалізації аби вони були інформативними. Рекомендую точно звернути увагу на харакетиристики про дохід користувачів і те, як вони взаємодять з магазинок (кількість покупок і тд).\n",
        "\n",
        "Для візуалізації зручно може бути використати `plotly.express.scatter_3d` для 3D графіку розсіювання, але тут можна скористатись будь-яким зрозумілим і зручним для вас методом візуалізації. Опишіть свої спостереження, чи кластери мають сенс?"
      ],
      "metadata": {
        "id": "tQdwr_c-fa4j"
      }
    },
    {
      "cell_type": "code",
      "source": [
        "data['Cluster'] = clusters"
      ],
      "metadata": {
        "id": "tnhT89faiMbO"
      },
      "execution_count": 37,
      "outputs": []
    },
    {
      "cell_type": "code",
      "source": [
        "data['Cluster'].value_counts()"
      ],
      "metadata": {
        "colab": {
          "base_uri": "https://localhost:8080/",
          "height": 209
        },
        "id": "7zfR7aqviWJQ",
        "outputId": "12c01f42-cbae-4670-b86f-aebb030e7107"
      },
      "execution_count": 39,
      "outputs": [
        {
          "output_type": "execute_result",
          "data": {
            "text/plain": [
              "Cluster\n",
              "0    1167\n",
              "1    1072\n",
              "2       1\n",
              "Name: count, dtype: int64"
            ],
            "text/html": [
              "<div>\n",
              "<style scoped>\n",
              "    .dataframe tbody tr th:only-of-type {\n",
              "        vertical-align: middle;\n",
              "    }\n",
              "\n",
              "    .dataframe tbody tr th {\n",
              "        vertical-align: top;\n",
              "    }\n",
              "\n",
              "    .dataframe thead th {\n",
              "        text-align: right;\n",
              "    }\n",
              "</style>\n",
              "<table border=\"1\" class=\"dataframe\">\n",
              "  <thead>\n",
              "    <tr style=\"text-align: right;\">\n",
              "      <th></th>\n",
              "      <th>count</th>\n",
              "    </tr>\n",
              "    <tr>\n",
              "      <th>Cluster</th>\n",
              "      <th></th>\n",
              "    </tr>\n",
              "  </thead>\n",
              "  <tbody>\n",
              "    <tr>\n",
              "      <th>0</th>\n",
              "      <td>1167</td>\n",
              "    </tr>\n",
              "    <tr>\n",
              "      <th>1</th>\n",
              "      <td>1072</td>\n",
              "    </tr>\n",
              "    <tr>\n",
              "      <th>2</th>\n",
              "      <td>1</td>\n",
              "    </tr>\n",
              "  </tbody>\n",
              "</table>\n",
              "</div><br><label><b>dtype:</b> int64</label>"
            ]
          },
          "metadata": {},
          "execution_count": 39
        }
      ]
    },
    {
      "cell_type": "code",
      "source": [
        "data['TotalSpent'] = data[[\n",
        "    'MntWines', 'MntFruits', 'MntMeatProducts',\n",
        "    'MntFishProducts', 'MntSweetProducts', 'MntGoldProds'\n",
        "]].sum(axis=1)"
      ],
      "metadata": {
        "id": "8GYUSAgGihEz"
      },
      "execution_count": 40,
      "outputs": []
    },
    {
      "cell_type": "code",
      "source": [
        "import plotly.express as px\n",
        "\n",
        "fig = px.scatter_3d(\n",
        "    data,\n",
        "    x='Income',\n",
        "    y='TotalSpent',\n",
        "    z='NumStorePurchases',\n",
        "    color='Cluster',\n",
        "    title='Agglomerative Clustering Income-TotalSpent-NumStorePurchases',\n",
        "    labels={'Income': 'Income', 'TotalSpent': 'TotalSpent', 'NumStorePurchases': 'NumStorePurchases'},\n",
        "    opacity=0.7\n",
        ")\n",
        "fig.show()"
      ],
      "metadata": {
        "id": "0P38ZcYrv1vt",
        "colab": {
          "base_uri": "https://localhost:8080/",
          "height": 542
        },
        "outputId": "376d8bc0-db12-4140-eb27-8c9a6c35416f"
      },
      "execution_count": 41,
      "outputs": [
        {
          "output_type": "display_data",
          "data": {
            "text/html": [
              "<html>\n",
              "<head><meta charset=\"utf-8\" /></head>\n",
              "<body>\n",
              "    <div>            <script src=\"https://cdnjs.cloudflare.com/ajax/libs/mathjax/2.7.5/MathJax.js?config=TeX-AMS-MML_SVG\"></script><script type=\"text/javascript\">if (window.MathJax && window.MathJax.Hub && window.MathJax.Hub.Config) {window.MathJax.Hub.Config({SVG: {font: \"STIX-Web\"}});}</script>                <script type=\"text/javascript\">window.PlotlyConfig = {MathJaxConfig: 'local'};</script>\n",
              "        <script charset=\"utf-8\" src=\"https://cdn.plot.ly/plotly-2.35.2.min.js\"></script>                <div id=\"42fe8725-0305-4f41-b928-ff14e48f4012\" class=\"plotly-graph-div\" style=\"height:525px; width:100%;\"></div>            <script type=\"text/javascript\">                                    window.PLOTLYENV=window.PLOTLYENV || {};                                    if (document.getElementById(\"42fe8725-0305-4f41-b928-ff14e48f4012\")) {                    Plotly.newPlot(                        \"42fe8725-0305-4f41-b928-ff14e48f4012\",                        [{\"hovertemplate\":\"Дохід=%{x}\\u003cbr\\u003eВсього витрат=%{y}\\u003cbr\\u003eПокупки в магазині=%{z}\\u003cbr\\u003eCluster=%{marker.color}\\u003cextra\\u003e\\u003c\\u002fextra\\u003e\",\"legendgroup\":\"\",\"marker\":{\"color\":[1,0,1,0,1,1,1,0,0,0,0,0,1,1,0,1,0,0,1,0,0,0,1,1,0,0,1,0,0,1,0,0,0,0,1,0,1,0,0,0,1,0,0,0,0,1,0,0,0,1,1,1,0,1,1,1,1,0,0,1,1,1,1,1,1,0,0,1,1,1,1,0,1,1,0,0,1,1,0,1,0,0,0,0,1,0,0,0,1,1,0,0,0,0,0,0,0,0,1,0,0,0,1,1,1,0,0,0,0,1,1,1,1,1,0,0,1,0,0,0,1,0,0,0,1,1,1,1,0,1,1,1,1,0,0,1,0,0,0,0,1,1,1,1,0,1,0,0,0,0,1,1,0,0,1,1,0,1,1,1,0,1,0,1,1,0,1,0,1,0,0,0,0,1,0,1,1,0,0,1,0,0,1,0,0,0,0,1,1,0,0,1,0,0,0,0,1,1,1,0,1,1,1,1,0,0,0,0,0,1,0,1,0,0,1,0,0,1,0,1,0,1,1,0,1,0,0,0,1,0,0,1,0,0,1,0,0,1,0,1,1,1,0,1,1,0,1,1,1,1,0,0,1,0,1,0,1,0,0,0,0,1,0,0,0,0,1,0,1,0,1,0,1,0,0,1,1,1,1,1,0,0,0,1,0,0,1,0,1,0,0,0,1,0,0,1,0,0,1,1,0,1,0,0,0,1,0,1,1,0,0,0,0,1,1,0,0,1,0,0,1,0,0,1,0,1,0,0,1,0,0,0,1,0,0,1,1,0,1,1,1,0,1,1,0,1,0,1,0,0,1,1,1,1,1,0,0,1,1,0,1,1,0,0,0,1,1,0,1,0,0,0,0,1,0,0,0,0,1,0,0,0,0,0,0,0,0,1,0,1,1,1,1,0,1,1,0,0,0,0,0,1,0,0,1,0,0,1,0,0,0,1,1,0,1,1,0,1,1,0,0,0,0,1,1,0,1,1,0,1,1,0,1,1,0,0,1,0,0,0,0,1,0,0,0,0,0,1,0,1,1,1,0,1,1,0,1,0,0,1,1,1,0,1,0,1,1,0,1,0,1,0,1,0,0,1,0,1,1,0,0,0,0,0,1,1,1,1,0,0,1,0,1,1,1,1,1,1,1,1,0,0,0,1,0,1,1,1,0,1,0,1,0,1,0,1,0,0,1,1,0,1,0,1,0,0,1,0,1,0,0,1,1,1,0,0,0,1,1,0,0,0,0,1,1,0,1,0,0,0,0,0,1,0,1,0,1,1,0,1,0,1,1,1,0,0,1,0,0,0,0,0,0,1,0,1,0,0,0,1,0,0,0,0,0,0,1,1,1,0,0,1,1,0,1,0,0,0,0,0,0,1,1,1,0,0,0,0,0,1,0,0,0,0,0,0,0,1,1,0,1,0,1,0,1,0,1,1,0,0,1,1,1,0,1,0,1,1,1,1,1,1,1,0,1,0,1,1,1,1,1,0,1,0,0,1,1,0,1,0,1,0,1,0,0,0,0,0,0,1,1,1,1,1,0,0,1,1,0,1,1,1,0,0,1,1,1,1,1,1,0,1,0,0,0,1,0,0,0,1,1,1,1,1,0,1,0,0,1,0,0,1,0,1,0,1,1,0,1,0,1,1,0,1,0,0,1,1,1,1,0,1,1,0,1,1,1,1,0,1,1,0,0,0,1,1,0,1,0,1,1,0,1,1,1,1,1,1,0,0,0,1,1,0,1,0,1,1,0,1,1,1,0,0,0,0,0,1,0,1,1,0,0,0,0,0,0,0,0,0,1,1,0,0,0,0,1,1,1,0,1,0,0,1,0,0,1,1,1,1,0,0,1,1,1,1,0,0,1,0,1,0,1,0,1,1,1,0,1,0,1,0,1,0,0,1,0,1,0,1,0,0,0,0,1,1,1,1,0,0,0,1,1,0,0,1,0,1,0,1,0,0,0,0,0,1,0,0,1,0,1,1,0,0,1,1,0,0,1,0,0,0,0,0,1,1,0,0,0,1,0,0,1,0,0,1,1,1,0,0,1,1,1,1,1,1,1,0,0,0,1,1,0,0,1,1,1,1,0,1,0,1,0,0,1,0,1,1,1,1,1,0,1,0,1,0,1,1,1,1,1,1,1,1,0,0,1,1,0,1,0,0,0,0,0,0,1,1,1,1,1,0,0,0,0,1,1,0,0,0,1,0,0,1,1,1,1,1,0,1,0,0,0,1,1,1,1,1,1,0,1,0,0,1,1,0,1,0,1,0,1,1,1,0,0,0,1,1,0,0,1,0,0,0,0,1,1,1,0,0,0,0,1,0,0,1,0,0,0,1,1,1,1,0,1,0,0,0,0,0,1,0,0,1,0,0,0,1,0,0,1,0,1,0,0,1,0,1,1,1,1,1,0,0,1,0,1,1,0,1,0,1,1,0,0,1,1,0,0,0,1,0,1,0,1,1,0,1,0,1,1,0,1,0,1,1,1,1,0,1,1,1,0,1,0,1,0,0,1,1,1,1,1,1,0,1,0,0,0,0,1,0,0,0,0,0,1,0,0,1,1,0,0,1,1,0,0,1,0,0,1,0,0,0,1,0,0,1,1,0,1,1,0,1,1,0,0,1,1,1,0,1,1,1,0,1,0,0,1,1,0,0,1,1,0,0,0,1,0,1,0,0,1,0,0,0,0,1,0,0,1,1,1,1,0,1,0,1,1,1,1,1,0,0,1,0,1,0,0,0,0,1,1,1,1,0,1,0,1,0,0,0,1,0,0,1,1,0,1,0,0,0,0,0,0,1,1,1,0,0,0,1,1,1,0,0,0,0,0,1,1,1,1,1,1,1,1,1,0,1,0,1,1,0,0,1,1,0,0,1,1,1,0,1,0,1,0,0,1,0,1,0,0,0,0,0,1,0,1,0,0,0,0,0,0,1,0,1,1,0,1,1,0,0,1,1,0,1,1,1,1,1,0,1,1,0,0,0,0,0,1,0,1,0,0,1,0,0,0,1,0,0,1,1,1,0,1,0,0,0,0,0,1,0,0,0,0,0,1,1,1,1,0,1,1,1,0,1,1,0,1,0,1,0,1,1,0,0,0,1,1,0,0,0,1,0,1,0,1,0,0,1,0,0,0,1,0,0,0,1,1,0,0,0,0,1,0,0,1,0,1,1,0,0,0,0,0,1,1,0,1,1,0,1,0,1,0,0,0,0,0,1,1,1,0,0,0,0,0,0,0,0,1,0,1,0,1,0,0,0,0,0,0,1,1,0,1,1,1,1,0,1,1,0,0,1,0,0,1,0,1,1,0,0,0,0,0,1,0,1,0,0,0,1,1,0,1,1,0,1,1,1,0,0,1,1,1,1,1,0,1,0,1,1,0,1,0,1,1,1,1,0,0,1,0,1,1,0,1,1,1,0,1,1,0,0,1,0,0,0,1,1,0,0,0,1,1,0,1,0,1,1,1,0,0,0,0,1,1,1,0,1,1,0,0,0,0,0,1,0,1,1,1,1,1,0,0,0,0,1,0,0,0,1,0,0,1,1,1,1,1,0,1,0,0,0,0,1,0,1,0,1,1,0,1,0,0,1,0,1,0,1,0,0,0,0,0,0,1,0,1,1,1,0,0,1,1,0,1,1,1,0,1,0,0,1,0,1,1,1,0,0,1,0,1,1,0,0,0,0,1,0,1,0,0,1,0,1,0,0,0,1,1,0,1,0,1,1,1,1,0,1,0,1,0,0,0,1,0,1,0,0,1,0,0,0,1,0,1,1,0,1,1,1,1,0,0,0,0,0,1,0,0,0,0,0,1,1,1,1,0,1,0,0,0,1,0,1,0,1,1,0,0,1,0,0,1,0,1,1,1,1,0,1,0,0,1,0,0,1,0,1,1,1,0,0,0,0,1,1,0,0,0,1,1,1,1,1,1,0,1,0,0,1,1,1,0,1,1,1,1,0,0,0,0,0,0,0,0,1,1,0,1,1,0,1,0,1,0,0,0,0,1,1,0,0,0,0,0,1,0,0,1,1,0,0,0,0,1,1,0,0,1,0,0,0,1,0,1,1,1,1,1,0,0,1,0,0,1,1,0,0,1,1,1,0,1,1,0,0,1,0,0,1,0,0,1,1,1,0,0,0,1,0,1,0,1,0,1,1,0,1,0,1,1,1,0,0,1,0,1,0,1,1,1,1,1,0,1,1,1,0,1,1,1,1,0,0,0,1,0,1,0,1,0,0,0,1,1,1,1,0,0,1,0,0,0,1,1,0,1,1,0,1,1,0,0,1,1,1,0,0,1,0,0,1,1,0,0,0,1,1,1,1,0,1,0,0,0,0,0,1,1,1,1,0,1,1,1,1,1,1,0,0,1,0,1,1,0,0,1,0,0,1,0,1,1,1,0,0,0,1,1,1,1,1,0,0,1,1,1,1,0,0,0,1,1,1,1,1,1,0,0,0,1,0,0,0,0,0,0,0,1,1,1,0,1,0,0,1,1,0,1,1,0,1,1,1,0,1,0,0,0,0,0,0,1,0,1,1,1,0,1,0,1,0,0,0,0,0,0,0,0,1,1,0,0,0,0,0,1,1,0,1,0,1,1,1,0,1,0,1,0,0,0,0,1,1,1,1,0,1,1,0,0,0,1,1,1,0,0,0,1,0,1,1,0,1,0,0,1,1,0,0,1,1,0,0,0,0,0,0,0,1,0,1,1,1,0,0,1,0,1,1,0,0,1,1,1,1,1,1,0,1,0,0,1,1,0,1,1,0,0,0,0,1,0,1,1,0,0,0,0,1,0,1,1,1,1,0,0,1,1,0,1,1,0,0,1,0,0,0,0,0,1,1,0,0,1,0,0,1,0,0,0,0,0,0,1,1,1,1,0,1,0,0,1,1,1,0,1,1,1,1,1,1,1,0,1,0,0,0,0,0,1,1,1,1,1,0,1,0,0,1,1,0,0,1,0,0,0,1,0,1,0,0,1,0,0,0,0,1,0,1,0,0,0,1,0,0,1,1,0,0,1,1,1,1,0,0,0,0,0,2,0,1,1,1,1,1],\"coloraxis\":\"coloraxis\",\"opacity\":0.7,\"symbol\":\"circle\"},\"mode\":\"markers\",\"name\":\"\",\"scene\":\"scene\",\"showlegend\":false,\"x\":[58138.0,46344.0,71613.0,26646.0,58293.0,62513.0,55635.0,33454.0,30351.0,5648.0,51381.5,7500.0,63033.0,59354.0,17323.0,82800.0,41850.0,37760.0,76995.0,33812.0,37040.0,2447.0,58607.0,65324.0,40689.0,18589.0,53359.0,51381.5,38360.0,84618.0,10979.0,38620.0,40548.0,46610.0,68657.0,49389.0,67353.0,23718.0,42429.0,48948.0,80011.0,20559.0,21994.0,51381.5,7500.0,79941.0,7500.0,41728.0,51381.5,72550.0,65486.0,79143.0,35790.0,82582.0,66373.0,82384.0,70287.0,27938.0,51381.5,55954.0,75777.0,66653.0,61823.0,67680.0,70666.0,25721.0,32474.0,88194.0,69096.0,74854.0,66991.0,51381.5,65031.0,60631.0,28332.0,40246.0,75251.0,75825.0,26326.0,56046.0,29760.0,26304.0,23559.0,38620.0,81361.0,29440.0,36138.0,50388.0,79593.0,54178.0,51381.5,51381.5,51381.5,42394.0,23626.0,30096.0,47916.0,51813.0,78497.0,50150.0,47823.0,34554.0,85693.0,65846.0,87195.0,24594.0,49096.0,52413.0,38557.0,89058.0,77298.0,68126.0,57288.0,86037.0,43974.0,50785.0,90765.0,36550.0,30753.0,21918.0,56129.0,32557.0,19510.0,30992.0,101970.0,71488.0,79607.0,54348.0,51381.5,77376.0,62998.0,61331.0,73448.0,51381.5,41551.0,62981.0,9548.0,33762.0,35860.0,36921.0,92859.0,65104.0,86111.0,68352.0,41883.0,59809.0,23957.0,38547.0,35688.0,49605.0,59354.0,65747.0,46344.0,34176.0,61010.0,69372.0,49967.0,60199.0,55375.0,80317.0,30523.0,70356.0,23228.0,74165.0,157243.0,43482.0,62551.0,52332.0,66951.0,26091.0,33456.0,28718.0,50447.0,53537.0,52074.0,80427.0,83837.0,38853.0,38285.0,78497.0,51650.0,16248.0,66835.0,30477.0,28249.0,25271.0,32303.0,61286.0,74068.0,45759.0,24882.0,66973.0,36640.0,38872.0,51148.0,31353.0,69661.0,80067.0,86718.0,46854.0,69142.0,75922.0,63693.0,102160.0,40637.0,18890.0,29604.0,48721.0,44794.0,64497.0,46097.0,77972.0,44377.0,46014.0,70951.0,41443.0,52195.0,83790.0,44551.0,69508.0,45204.0,72460.0,77622.0,30732.0,63887.0,42011.0,51369.0,51537.0,79930.0,34320.0,37070.0,81975.0,38590.0,15033.0,62745.0,22212.0,23661.0,79761.0,7500.0,60182.0,73455.0,64961.0,22804.0,73687.0,61074.0,31686.0,80134.0,75027.0,67546.0,65176.0,31160.0,29938.0,102692.0,26490.0,75702.0,30899.0,63342.0,45989.0,18701.0,40737.0,15287.0,69674.0,44159.0,37717.0,43776.0,38179.0,80124.0,38097.0,72940.0,22070.0,69267.0,31788.0,61905.0,29315.0,33378.0,66313.0,60714.0,77882.0,69867.0,63841.0,24480.0,51369.0,37760.0,65640.0,44319.0,30631.0,75278.0,50898.0,79946.0,35416.0,32414.0,38361.0,82497.0,16626.0,29672.0,55951.0,35388.0,42386.0,68627.0,57912.0,35246.0,58821.0,46377.0,39747.0,23976.0,80950.0,27038.0,77457.0,64100.0,42670.0,12571.0,22574.0,51381.5,70893.0,54198.0,28839.0,40321.0,66503.0,30833.0,51381.5,64795.0,34421.0,47025.0,64325.0,40464.0,62187.0,14849.0,27255.0,54432.0,29999.0,24072.0,33996.0,66334.0,35178.0,22010.0,62204.0,75693.0,30675.0,83003.0,83532.0,68655.0,41411.0,55212.0,59292.0,27190.0,82623.0,44300.0,84835.0,30372.0,33181.0,71113.0,71952.0,69759.0,72099.0,60000.0,38643.0,50737.0,68462.0,65073.0,46681.0,78618.0,62187.0,28442.0,37717.0,51479.0,54803.0,79530.0,31615.0,72025.0,52614.0,35684.0,48178.0,29548.0,63810.0,38578.0,46098.0,22585.0,30279.0,66426.0,30822.0,33581.0,19986.0,27421.0,35688.0,36143.0,10245.0,43795.0,63381.0,38823.0,83664.0,90300.0,62499.0,74293.0,51012.0,70777.0,68682.0,43824.0,15345.0,23442.0,14515.0,31395.0,75276.0,42373.0,30507.0,55521.0,48006.0,27213.0,65808.0,30351.0,50437.0,23616.0,53858.0,66465.0,46923.0,75072.0,75865.0,19789.0,80134.0,91065.0,49505.0,37401.0,30096.0,18492.0,82584.0,93027.0,48686.0,92910.0,75433.0,10404.0,61314.0,84865.0,42387.0,67309.0,75236.0,30015.0,50943.0,67272.0,51529.0,32011.0,7500.0,28691.0,56223.0,18100.0,30279.0,20130.0,23295.0,42618.0,81246.0,24027.0,55707.0,57959.0,56796.0,36230.0,70829.0,65991.0,38988.0,89572.0,42207.0,50300.0,66664.0,60597.0,70165.0,50520.0,80124.0,33183.0,66582.0,75261.0,31880.0,53790.0,49269.0,61456.0,37406.0,56937.0,38415.0,20518.0,62503.0,41644.0,55842.0,62010.0,41124.0,38961.0,37760.0,32233.0,43057.0,83151.0,78825.0,65104.0,60093.0,14045.0,28457.0,78952.0,46310.0,76005.0,58308.0,55614.0,59432.0,55563.0,78642.0,67911.0,65275.0,27203.0,48330.0,24279.0,64355.0,50943.0,53653.0,65665.0,81217.0,34935.0,61250.0,39665.0,60152.0,48920.0,89120.0,44124.0,81169.0,36443.0,26095.0,71367.0,80184.0,30630.0,73454.0,42691.0,70503.0,25545.0,32880.0,77863.0,50353.0,61839.0,49154.0,47682.0,72679.0,57954.0,65316.0,28567.0,47352.0,44931.0,76982.0,57247.0,22944.0,25315.0,43638.0,42710.0,84169.0,54058.0,24683.0,85620.0,47850.0,19514.0,27159.0,39548.0,21474.0,60504.0,22419.0,81698.0,43462.0,54880.0,79908.0,15315.0,87771.0,33039.0,81741.0,71499.0,62466.0,48799.0,52157.0,66565.0,29298.0,47691.0,38200.0,44989.0,38443.0,38593.0,64413.0,36959.0,61996.0,51287.0,13260.0,47472.0,54603.0,45207.0,40689.0,47821.0,27450.0,39453.0,26850.0,79800.0,61794.0,53863.0,24221.0,39684.0,92163.0,69882.0,33178.0,59973.0,17459.0,23910.0,42169.0,26224.0,31089.0,30081.0,62807.0,72906.0,61467.0,49618.0,21888.0,42429.0,26150.0,30801.0,81168.0,26877.0,45006.0,18978.0,22574.0,48240.0,45837.0,35791.0,162397.0,54162.0,30522.0,54456.0,31632.0,72298.0,36975.0,72635.0,13624.0,84196.0,70971.0,34487.0,28769.0,69084.0,65488.0,62466.0,32218.0,83917.0,46102.0,84574.0,56181.0,63120.0,73691.0,63381.0,76140.0,62859.0,45906.0,77632.0,46463.0,105471.0,55282.0,78710.0,66886.0,98777.0,29103.0,67445.0,50616.0,49431.0,153924.0,61278.0,26490.0,73059.0,46734.0,56253.0,19986.0,58330.0,25965.0,14661.0,18690.0,45068.0,21063.0,29187.0,54690.0,59304.0,59247.0,66731.0,77353.0,52614.0,26751.0,81300.0,70337.0,36145.0,65295.0,68118.0,68743.0,41039.0,38946.0,65777.0,66476.0,86857.0,160803.0,77845.0,69476.0,50611.0,61209.0,42315.0,13084.0,47570.0,61923.0,34824.0,26518.0,45938.0,78468.0,78901.0,71427.0,71022.0,90247.0,41335.0,71952.0,35682.0,43185.0,66375.0,35178.0,25252.0,55250.0,33249.0,58398.0,50272.0,76618.0,87305.0,25851.0,58710.0,45160.0,74806.0,59111.0,18988.0,72190.0,7500.0,44794.0,80395.0,75012.0,56962.0,89891.0,35946.0,53593.0,66373.0,45072.0,89694.0,72025.0,67432.0,70545.0,17487.0,62882.0,64108.0,34941.0,48767.0,38702.0,82224.0,83844.0,17003.0,71163.0,33697.0,63564.0,83443.0,51518.0,58330.0,80952.0,75507.0,63855.0,62220.0,58512.0,40662.0,38829.0,35523.0,79146.0,78285.0,31626.0,75127.0,48726.0,74985.0,67430.0,46891.0,62058.0,72063.0,78939.0,42720.0,33622.0,6835.0,41452.0,40760.0,74250.0,51124.0,72258.0,71466.0,36283.0,20587.0,30467.0,31590.0,20425.0,17144.0,42564.0,43783.0,40780.0,62847.0,82017.0,16813.0,51267.0,46524.0,45183.0,70421.0,60161.0,73926.0,19329.0,61872.0,46984.0,34838.0,82716.0,48192.0,49681.0,56850.0,55267.0,59666.0,72504.0,26872.0,21359.0,73170.0,52750.0,91820.0,65968.0,30772.0,22507.0,65685.0,25804.0,76412.0,22063.0,57091.0,22419.0,87771.0,78353.0,93404.0,37859.0,80995.0,16529.0,55412.0,48789.0,56575.0,25130.0,35441.0,71391.0,49494.0,81702.0,45889.0,56628.0,34026.0,40049.0,34176.0,19419.0,82504.0,81205.0,61618.0,55284.0,49980.0,15072.0,49166.0,65324.0,82347.0,30843.0,46374.0,60474.0,38576.0,55357.0,37758.0,85710.0,23228.0,44602.0,7500.0,38683.0,49514.0,57906.0,43456.0,19485.0,53172.0,30545.0,70123.0,62450.0,21675.0,42395.0,61346.0,80812.0,42835.0,39922.0,86424.0,17117.0,24762.0,35797.0,36627.0,51111.0,86857.0,82072.0,46231.0,42243.0,51195.0,68092.0,31814.0,51390.0,76630.0,26868.0,48948.0,55260.0,64090.0,78331.0,37087.0,21846.0,81320.0,54137.0,66825.0,57100.0,58917.0,85072.0,86429.0,45684.0,47889.0,45921.0,78420.0,75114.0,52278.0,35641.0,95529.0,62820.0,73113.0,84169.0,42607.0,74637.0,46015.0,72354.0,39858.0,34469.0,83033.0,24401.0,77583.0,74116.0,74293.0,68397.0,79632.0,46107.0,64950.0,25443.0,75127.0,32892.0,71796.0,67536.0,55239.0,60554.0,64831.0,56067.0,82025.0,94384.0,14906.0,51563.0,57937.0,68274.0,39771.0,67893.0,27922.0,52190.0,44051.0,42767.0,46106.0,16927.0,59754.0,53700.0,59041.0,54237.0,70647.0,52597.0,41021.0,40233.0,50183.0,54753.0,92955.0,33471.0,34596.0,44010.0,84219.0,40706.0,15716.0,59052.0,80573.0,83715.0,82576.0,56962.0,35704.0,53103.0,46779.0,4861.0,33462.0,63693.0,80763.0,65352.0,82170.0,75759.0,79689.0,35340.0,85683.0,24884.0,42021.0,64449.0,64587.0,34824.0,75437.0,26091.0,52845.0,46086.0,78028.0,95169.0,56337.0,22434.0,36930.0,36130.0,65569.0,83844.0,19514.0,36736.0,77568.0,49187.0,30168.0,34053.0,38196.0,59412.0,70924.0,54165.0,32300.0,20180.0,34961.0,28440.0,64504.0,33564.0,17345.0,56320.0,28647.0,15038.0,32173.0,68316.0,74538.0,91700.0,68695.0,31056.0,79593.0,28071.0,37334.0,46423.0,37126.0,47703.0,61180.0,38998.0,8028.0,76081.0,34728.0,33168.0,33585.0,77037.0,35196.0,44529.0,70924.0,28764.0,69098.0,25959.0,27100.0,70596.0,42557.0,53312.0,72228.0,67605.0,62845.0,65196.0,42000.0,35860.0,65526.0,16860.0,83528.0,64176.0,22304.0,67023.0,32892.0,70713.0,59925.0,39722.0,46610.0,88347.0,87171.0,26907.0,50014.0,41014.0,66294.0,36715.0,79456.0,40479.0,75345.0,54233.0,24163.0,84460.0,43776.0,71691.0,85844.0,39190.0,71367.0,38578.0,57236.0,61825.0,79803.0,80910.0,27590.0,56775.0,83829.0,54210.0,38508.0,53187.0,30023.0,76045.0,50870.0,15315.0,65463.0,66480.0,76773.0,81698.0,54466.0,98777.0,16269.0,71819.0,33569.0,36262.0,22634.0,47025.0,70566.0,31605.0,52034.0,48526.0,46734.0,39552.0,86358.0,46931.0,16581.0,63998.0,67381.0,25930.0,42693.0,85606.0,72903.0,49669.0,36778.0,85696.0,10979.0,49678.0,56129.0,37155.0,21282.0,33419.0,63285.0,21255.0,42162.0,54450.0,57744.0,26576.0,57513.0,68142.0,7500.0,83145.0,54197.0,23091.0,46049.0,56715.0,79410.0,57304.0,44375.0,54450.0,59594.0,80685.0,40344.0,62710.0,48985.0,35322.0,77142.0,81657.0,14421.0,20130.0,74214.0,66726.0,23724.0,47353.0,33444.0,54386.0,28510.0,90638.0,48070.0,43140.0,54959.0,15056.0,26954.0,22327.0,44393.0,62000.0,31497.0,45894.0,78579.0,67369.0,58401.0,62307.0,43641.0,63841.0,46891.0,70091.0,78075.0,59184.0,54809.0,58113.0,51412.0,15287.0,66636.0,50965.0,84618.0,18351.0,40451.0,36317.0,42213.0,65748.0,77044.0,74918.0,56721.0,42160.0,61559.0,33629.0,68682.0,34377.0,8940.0,26228.0,77297.0,40211.0,33438.0,75032.0,61284.0,22518.0,54730.0,38452.0,44421.0,38197.0,41986.0,28427.0,37395.0,64722.0,55249.0,84906.0,28691.0,44213.0,25707.0,59062.0,76624.0,66000.0,27683.0,1730.0,7500.0,40521.0,20427.0,65106.0,69969.0,67433.0,77766.0,74716.0,68118.0,55158.0,62972.0,74190.0,39356.0,76653.0,35860.0,90687.0,73450.0,31454.0,47139.0,83829.0,53378.0,19656.0,45579.0,85485.0,55956.0,64191.0,38808.0,57183.0,23748.0,66303.0,37368.0,40800.0,71847.0,46149.0,78687.0,49118.0,37633.0,39767.0,26997.0,33986.0,57091.0,46831.0,83151.0,52531.0,15759.0,22804.0,43050.0,42997.0,48918.0,60033.0,34043.0,57811.0,78569.0,7500.0,157733.0,94384.0,23148.0,44267.0,71626.0,60894.0,50200.0,81051.0,65169.0,59868.0,65695.0,64857.0,45143.0,74805.0,59060.0,27238.0,47009.0,46094.0,40321.0,37235.0,81843.0,46692.0,77382.0,37774.0,18393.0,72828.0,24711.0,45503.0,6560.0,71604.0,27244.0,48752.0,71434.0,90842.0,88097.0,51948.0,71853.0,35876.0,40049.0,39660.0,50127.0,43263.0,62845.0,18929.0,24367.0,33249.0,26887.0,50150.0,62061.0,85696.0,76542.0,70515.0,18227.0,69139.0,69109.0,69627.0,38136.0,62159.0,80695.0,33316.0,58554.0,17256.0,53034.0,52203.0,59601.0,75154.0,47025.0,37971.0,41335.0,67267.0,57338.0,50523.0,35791.0,50611.0,56242.0,48904.0,56243.0,21355.0,57420.0,51381.5,46390.0,54342.0,51381.5,51381.5,20895.0,92344.0,51381.5,26907.0,44964.0,75507.0,53761.0,22682.0,38887.0,41658.0,29791.0,63915.0,39996.0,26759.0,63841.0,51039.0,60544.0,65685.0,37716.0,36864.0,44511.0,36947.0,47352.0,67087.0,57045.0,36957.0,69389.0,80134.0,43142.0,80589.0,34412.0,57537.0,22634.0,51315.0,36026.0,24639.0,34578.0,65704.0,63810.0,54132.0,18690.0,28164.0,34596.0,43269.0,38741.0,31907.0,27100.0,31163.0,92533.0,34853.0,70844.0,31086.0,60544.0,20491.0,42523.0,39922.0,33402.0,36408.0,21645.0,78427.0,82657.0,51876.0,78041.0,52852.0,70038.0,69401.0,46053.0,77343.0,73892.0,40304.0,32727.0,68695.0,43300.0,26290.0,93790.0,38410.0,64866.0,57957.0,46015.0,16531.0,28072.0,49476.0,50725.0,83844.0,41145.0,67419.0,23162.0,34380.0,34704.0,94871.0,65148.0,39898.0,64857.0,59892.0,41020.0,57072.0,60474.0,62807.0,19414.0,19107.0,75484.0,70379.0,79419.0,64014.0,76998.0,49854.0,60585.0,42873.0,87679.0,57867.0,35765.0,65492.0,32952.0,53374.0,71706.0,68487.0,53253.0,31163.0,42014.0,54108.0,49667.0,63206.0,57136.0,46772.0,78931.0,53977.0,84219.0,46098.0,73538.0,79529.0,20981.0,51766.0,55759.0,33039.0,37787.0,27242.0,87188.0,69930.0,37697.0,37401.0,3502.0,58597.0,82032.0,28087.0,74004.0,19740.0,57036.0,53083.0,69283.0,46098.0,23331.0,23331.0,9255.0,67786.0,71969.0,59235.0,31928.0,74881.0,65819.0,51411.0,51983.0,42386.0,30390.0,30983.0,66033.0,37284.0,57530.0,76800.0,63943.0,76081.0,67445.0,37054.0,47175.0,31859.0,27215.0,70179.0,39922.0,49681.0,24645.0,79865.0,44322.0,47958.0,63972.0,75315.0,55517.0,75283.0,82800.0,38998.0,90638.0,27161.0,42014.0,38201.0,45203.0,81574.0,34935.0,60482.0,34633.0,78093.0,82460.0,45903.0,81361.0,35860.0,40442.0,61482.0,34968.0,75794.0,31497.0,74268.0,13724.0,45143.0,52569.0,48432.0,17144.0,36108.0,76445.0,36663.0,53843.0,90226.0,70638.0,44512.0,27116.0,54072.0,71855.0,51250.0,60432.0,65526.0,68655.0,12393.0,64509.0,33955.0,31353.0,55434.0,28359.0,57100.0,69139.0,52973.0,51717.0,18793.0,66664.0,50664.0,54414.0,54549.0,47111.0,41003.0,19444.0,36301.0,73059.0,42731.0,52854.0,22775.0,46681.0,59821.0,50002.0,69755.0,44078.0,30560.0,35924.0,64140.0,56386.0,24594.0,75774.0,39228.0,58494.0,58684.0,57136.0,56551.0,22448.0,82014.0,34213.0,157146.0,25358.0,35544.0,36634.0,62670.0,50334.0,72066.0,50729.0,34916.0,64892.0,43602.0,33996.0,41473.0,63246.0,36732.0,69084.0,77766.0,37929.0,86610.0,80141.0,72635.0,69016.0,20193.0,27573.0,15862.0,49544.0,33228.0,70440.0,38232.0,22554.0,23536.0,49413.0,42231.0,78789.0,56534.0,58350.0,81217.0,49090.0,61787.0,18169.0,24336.0,18222.0,62335.0,42033.0,86580.0,41437.0,73705.0,61064.0,38452.0,18358.0,55012.0,9722.0,38175.0,58656.0,52117.0,64813.0,54222.0,83512.0,77520.0,41154.0,80398.0,18746.0,35196.0,60230.0,22108.0,44392.0,55424.0,17688.0,92491.0,90273.0,82571.0,38513.0,16653.0,42586.0,23529.0,74881.0,71107.0,46910.0,18690.0,37244.0,82427.0,75342.0,70044.0,79146.0,77437.0,54984.0,42403.0,55761.0,37292.0,45576.0,70321.0,58086.0,81795.0,28389.0,66835.0,69901.0,80360.0,63342.0,44989.0,31859.0,51569.0,30372.0,16014.0,41120.0,39763.0,38725.0,77981.0,62905.0,13533.0,59481.0,72117.0,21955.0,67131.0,36802.0,71853.0,28249.0,47808.0,25509.0,51012.0,70596.0,85431.0,42664.0,42586.0,29760.0,28973.0,39435.0,65370.0,20194.0,42473.0,64590.0,71232.0,34600.0,46904.0,49094.0,36075.0,60839.0,77298.0,34026.0,48918.0,82122.0,37697.0,34074.0,28520.0,62535.0,36273.0,63404.0,75774.0,78416.0,75702.0,59385.0,37070.0,44689.0,53977.0,7144.0,18701.0,90369.0,63159.0,37758.0,46757.0,79734.0,63207.0,72071.0,21840.0,58582.0,72282.0,50387.0,32583.0,62568.0,44635.0,33316.0,63967.0,52513.0,25293.0,54111.0,78394.0,80739.0,22669.0,29236.0,44911.0,54693.0,48186.0,54809.0,41580.0,80336.0,47743.0,62972.0,57333.0,32313.0,84953.0,27071.0,68148.0,65735.0,86836.0,4023.0,30093.0,57705.0,25008.0,83257.0,22280.0,72159.0,64260.0,82733.0,74290.0,58217.0,21024.0,70116.0,54006.0,69063.0,11448.0,61825.0,70886.0,69109.0,60208.0,32889.0,34738.0,30538.0,82326.0,26642.0,69932.0,44503.0,60200.0,49638.0,23830.0,33051.0,72905.0,69702.0,70300.0,70643.0,30396.0,50616.0,62772.0,30298.0,52413.0,44155.0,86979.0,76532.0,42081.0,67546.0,88420.0,31158.0,61671.0,69719.0,49160.0,24882.0,90933.0,113734.0,59292.0,45759.0,22148.0,73395.0,29819.0,45688.0,62820.0,60491.0,33235.0,35701.0,31535.0,92556.0,67384.0,80573.0,77870.0,52278.0,57107.0,18929.0,36038.0,20180.0,34230.0,31878.0,70932.0,91249.0,77598.0,80982.0,22701.0,55212.0,70617.0,64849.0,62694.0,61917.0,67472.0,21059.0,29543.0,75903.0,34984.0,54998.0,54356.0,34242.0,25410.0,73356.0,28320.0,23763.0,72570.0,34529.0,70792.0,63211.0,83891.0,36065.0,39898.0,51141.0,56939.0,80872.0,72335.0,61798.0,76842.0,29478.0,46998.0,96843.0,56551.0,70053.0,71670.0,44359.0,40887.0,48877.0,74485.0,64474.0,77226.0,72643.0,85738.0,55686.0,39062.0,34600.0,40794.0,54690.0,4428.0,32632.0,38236.0,36781.0,31385.0,24570.0,25509.0,94642.0,58646.0,53201.0,21994.0,57113.0,51373.0,23477.0,58116.0,72968.0,39791.0,91712.0,94472.0,13672.0,96547.0,79205.0,56559.0,32644.0,67506.0,24206.0,28420.0,22979.0,33279.0,46423.0,30368.0,63684.0,41638.0,68805.0,65814.0,71964.0,39146.0,96876.0,34445.0,68281.0,37284.0,36790.0,27943.0,22263.0,30261.0,28587.0,43815.0,48195.0,77027.0,71322.0,32765.0,29672.0,23272.0,49912.0,7500.0,68117.0,67225.0,17649.0,55914.0,40059.0,60905.0,75330.0,60689.0,38680.0,61416.0,49767.0,83273.0,29009.0,45057.0,37150.0,43020.0,53154.0,65308.0,76467.0,81044.0,32871.0,55801.0,76320.0,36927.0,48794.0,23478.0,71128.0,70179.0,59462.0,51381.5,38361.0,51381.5,70038.0,42554.0,67445.0,67046.0,42192.0,77610.0,31761.0,34350.0,54591.0,71866.0,25293.0,42000.0,69520.0,64713.0,27889.0,22123.0,51381.5,51381.5,27803.0,51381.5,51651.0,68487.0,51381.5,56796.0,87000.0,79823.0,30828.0,34109.0,53367.0,22390.0,71322.0,79244.0,49912.0,48699.0,80144.0,54252.0,81929.0,76068.0,53204.0,67911.0,14796.0,78128.0,14188.0,20425.0,58646.0,72967.0,48150.0,82332.0,58275.0,44953.0,34587.0,43018.0,45736.0,66476.0,27733.0,69805.0,72217.0,25818.0,37509.0,25176.0,43586.0,53230.0,50116.0,84906.0,61286.0,82333.0,65220.0,33590.0,30992.0,72309.0,156924.0,16005.0,65487.0,58692.0,40590.0,20587.0,62637.0,29435.0,19346.0,35788.0,36997.0,23539.0,65333.0,78499.0,29732.0,41275.0,63516.0,42769.0,49572.0,69209.0,17148.0,40590.0,30560.0,32146.0,41713.0,34176.0,58482.0,59686.0,60896.0,62994.0,47320.0,74859.0,15253.0,31560.0,72071.0,91172.0,90000.0,41967.0,69263.0,65706.0,60934.0,71965.0,65210.0,79174.0,81380.0,48432.0,52914.0,38946.0,26067.0,44325.0,42523.0,26487.0,53233.0,67716.0,76234.0,84117.0,65487.0,25224.0,89616.0,40851.0,27469.0,82347.0,73803.0,8820.0,43322.0,55593.0,50501.0,37085.0,16185.0,57731.0,48432.0,73807.0,18929.0,35893.0,61014.0,32144.0,14918.0,45146.0,41769.0,88325.0,38054.0,80617.0,5305.0,36807.0,28427.0,82032.0,22775.0,40101.0,58025.0,75777.0,7500.0,33562.0,57642.0,58554.0,63777.0,57967.0,51381.5,24434.0,11012.0,44802.0,26816.0,666666.0,34421.0,61223.0,64014.0,56981.0,69245.0,52869.0],\"y\":[1617,27,776,53,422,716,590,169,46,49,19,61,1102,310,46,1315,96,317,1782,133,316,1730,972,544,444,75,257,637,131,1672,30,318,120,302,1196,65,913,81,67,902,1395,53,22,186,31,984,122,55,124,1319,507,1693,72,1617,606,1957,1093,29,46,518,1438,612,884,606,1076,34,11,1274,653,1562,1253,109,863,661,65,13,1890,2209,18,692,165,16,79,318,778,56,151,372,1366,194,603,18,985,32,43,45,606,63,978,410,72,55,1169,1120,1097,29,187,910,145,850,969,1820,608,730,551,114,1724,577,81,33,660,80,30,43,1135,559,1923,90,404,661,463,632,725,725,279,1482,29,106,49,38,2077,1053,1385,871,312,877,68,22,211,127,459,460,429,89,1021,1381,306,18,162,1231,13,1706,121,1293,1608,88,421,259,1117,89,36,57,148,93,119,1835,1318,45,10,978,191,57,1033,66,43,50,39,608,1581,68,80,1282,65,91,315,31,834,1600,1270,263,535,1295,1150,1240,38,35,53,293,65,1804,241,1101,264,541,1198,482,17,1615,285,1135,114,1047,714,185,1245,189,576,1103,1753,17,433,1588,22,19,1117,69,23,605,57,22,2088,1009,26,1627,1102,17,1690,1390,2126,1531,64,26,1112,210,1148,33,1101,322,44,17,31,845,275,25,275,90,1495,184,981,67,1635,60,231,48,99,770,957,818,925,908,102,576,317,461,37,70,930,859,1478,390,52,137,1919,68,25,1374,32,100,825,916,62,728,90,273,66,1213,107,1157,546,241,53,37,1611,1508,235,32,102,401,28,1052,680,30,20,1307,630,1283,65,37,38,160,23,71,1161,59,33,946,1442,62,1674,1853,1538,139,1182,507,18,940,42,1190,44,16,835,1443,1029,1188,1277,49,99,1670,900,425,2153,636,57,25,494,693,1348,51,1932,990,30,254,29,1371,73,120,81,37,1377,51,17,22,324,211,19,41,492,1005,114,1173,1738,222,1127,209,787,1598,186,47,27,96,64,1040,163,343,446,41,70,272,46,490,79,915,1485,369,1073,1242,78,1378,1474,751,48,45,10,1435,2119,20,1795,1188,43,1008,1688,684,1082,1068,57,46,733,467,122,36,34,156,14,37,34,20,192,1379,48,428,868,1001,59,431,971,348,2059,265,270,1289,893,926,135,1495,120,1288,1743,15,542,890,1388,17,906,44,25,973,31,518,530,506,70,54,296,266,747,895,1053,735,20,205,2092,309,1722,900,682,663,43,1816,976,746,64,32,263,1445,46,1210,945,1157,137,730,216,943,347,1924,397,2089,138,42,777,1902,52,1651,358,1727,210,42,1291,442,1895,411,521,1168,493,260,46,319,96,1062,232,76,54,201,406,1919,662,41,1600,134,69,21,54,91,526,162,1008,240,795,1772,64,1957,78,1572,795,889,331,265,1065,11,21,17,369,38,177,279,62,1230,182,49,75,227,215,444,47,143,55,63,1867,611,473,55,81,2086,1478,49,382,69,67,30,63,79,42,819,1151,594,129,213,67,28,45,1193,268,266,37,37,882,373,35,107,42,326,404,95,939,33,981,36,1237,1825,103,191,1586,963,889,93,1587,16,1375,393,1477,1179,1005,1348,1307,486,2252,235,1724,235,1092,599,2008,48,1174,67,365,6,165,210,1095,223,597,22,1064,74,26,60,20,59,34,198,1048,574,1029,670,990,11,1241,576,172,664,928,2074,467,257,1146,689,2114,1717,1346,1044,493,957,270,29,121,126,23,57,636,1004,734,614,1453,1621,187,1443,57,637,948,59,18,903,112,596,233,1511,1152,48,1185,21,965,869,16,1947,71,65,1380,1027,411,836,11,480,606,284,1472,1677,1335,334,18,1338,1099,97,63,109,902,1574,38,960,28,1215,1497,449,1064,1757,1440,1006,1226,1171,92,99,66,564,1427,86,833,242,1869,1364,183,450,758,1507,654,81,137,16,93,1158,43,1525,1230,29,25,24,38,57,47,813,629,377,1612,729,50,270,177,315,767,1071,1580,60,573,41,170,1167,1526,458,63,405,1027,1478,72,48,726,860,1497,495,20,570,769,55,1808,55,577,162,1957,1576,1616,36,1482,22,63,680,542,50,39,1043,385,1633,46,761,76,290,89,70,1066,2009,1345,764,195,53,368,544,1853,35,446,1180,41,727,40,1062,40,292,15,341,369,401,393,10,486,69,1727,995,45,182,989,1677,595,156,1226,128,86,68,16,55,2114,2018,263,55,564,1281,83,353,1003,14,902,1139,797,1638,401,84,928,203,858,409,282,1423,1449,28,67,199,1453,1253,1198,178,1990,976,1001,1919,350,1650,46,1228,95,62,1761,467,1149,2052,1127,1416,1113,125,966,32,833,46,960,1829,779,811,1120,725,1187,2302,66,1250,683,305,50,995,41,77,171,131,54,53,475,694,96,361,1079,578,64,149,231,728,1778,93,23,662,1198,81,92,491,1564,926,1910,411,94,1085,23,6,54,1150,1415,405,1908,2486,1315,45,1789,19,573,805,108,23,1493,89,936,343,528,1901,724,58,297,488,859,1574,69,17,2194,116,279,103,44,406,1363,236,39,137,79,63,1314,71,58,702,94,80,22,1211,1461,1968,1091,55,1366,313,62,92,72,655,704,54,178,1033,36,122,122,1123,497,691,1363,12,2440,56,37,968,270,278,1250,938,1178,1155,653,49,506,38,1650,1826,18,906,46,1477,766,47,467,2116,1298,22,396,20,967,357,1401,15,2087,981,17,523,23,1192,1958,133,777,73,121,424,868,756,12,937,1862,367,443,267,61,1323,63,64,562,312,1156,1104,16,2008,44,1574,63,426,96,635,757,125,332,135,330,384,1722,78,24,1168,957,15,57,1956,2013,326,77,1313,30,315,660,74,46,86,1103,61,145,684,411,27,1060,1459,18,1833,237,48,515,1020,1370,1026,301,684,499,1004,218,606,75,106,990,1097,16,34,1711,438,75,225,18,470,91,2525,504,235,1232,88,17,24,60,1020,155,51,1812,1461,96,160,139,908,183,1161,988,1072,174,758,195,31,1084,685,1672,43,49,133,363,545,1065,2047,296,140,530,152,1598,114,101,25,789,87,90,1215,811,61,405,72,189,40,63,52,39,805,130,1631,34,152,21,71,899,711,351,8,119,21,10,973,1536,992,1529,860,928,418,587,641,23,2279,49,1779,1804,48,83,1862,793,84,183,1383,999,825,246,610,76,1286,30,99,1192,362,2130,1229,38,485,434,44,496,78,2346,794,17,26,76,15,62,198,49,802,1736,57,59,2302,37,310,1305,832,401,1501,1189,1194,656,1540,311,820,274,57,448,44,102,61,1643,397,1121,473,50,1678,58,170,373,1196,101,316,1400,1424,844,311,1149,129,32,299,320,441,1178,85,24,112,30,410,800,1313,1483,1258,28,227,1555,861,103,634,1918,131,586,62,447,939,797,1143,415,30,187,251,237,91,35,493,971,371,396,68,322,317,222,177,45,21,45,1899,42,22,41,1440,325,95,42,72,20,789,15,59,908,417,289,769,188,354,727,146,319,794,454,152,797,1690,20,1428,209,545,96,222,61,44,8,817,1371,42,60,78,23,19,61,449,37,38,1131,34,294,48,289,30,125,156,70,22,65,1930,2283,310,1319,879,1244,690,209,1134,1507,57,529,1091,180,77,2349,534,556,637,46,44,47,795,586,1574,13,1471,65,175,40,1078,1115,134,1540,87,217,1034,1180,819,32,46,1159,860,1631,444,1910,380,736,269,2524,612,75,1045,55,1064,1443,1366,436,38,436,747,1396,928,642,1048,943,907,1198,120,1658,1638,73,275,854,78,106,106,1923,1662,84,48,5,733,1234,112,1658,55,1513,271,904,120,103,269,22,1156,1086,1128,72,964,1383,18,793,100,80,167,677,23,92,641,1106,1033,1174,25,240,20,102,1034,156,458,17,792,92,407,1269,841,633,1019,1315,54,2525,52,436,268,147,1798,137,507,15,1105,974,66,778,49,169,299,221,1682,155,892,58,311,95,424,47,339,1410,35,562,2352,1334,32,41,39,1141,710,401,506,1538,57,1722,270,31,882,16,311,227,1152,122,77,1289,561,211,233,1092,601,54,78,1095,244,116,15,425,734,638,894,41,31,34,1750,612,29,823,20,396,813,1179,138,55,1511,117,1730,32,67,335,825,694,1792,496,231,902,68,71,76,772,47,1586,1529,265,1603,2091,981,1533,82,244,36,404,71,1572,122,41,10,304,37,1754,815,1001,1157,688,1319,21,31,67,708,25,746,32,1695,1080,72,57,660,103,153,1220,279,745,264,2157,1526,69,1597,64,497,1067,31,211,877,11,2034,1991,1686,324,69,252,54,964,1327,68,60,55,1456,563,1504,564,1125,358,42,184,460,145,1376,792,1382,28,1033,882,2231,1101,369,48,467,44,38,81,167,45,664,622,48,461,1073,55,976,20,1149,43,224,101,209,968,1165,24,252,165,269,102,461,47,144,1338,917,318,253,502,119,1250,969,76,62,1382,84,255,43,398,76,902,823,1179,1921,185,433,34,907,416,44,1588,1797,40,1143,914,1502,1338,27,763,1331,525,9,953,68,131,882,1149,37,388,1428,1633,173,99,215,929,219,174,92,1052,275,587,1662,159,1024,35,1042,395,557,9,69,486,34,1365,13,1401,1574,1323,1217,103,84,1536,581,928,14,424,960,1555,656,55,20,367,2257,42,1049,48,685,39,43,835,1515,1039,1596,1828,34,149,946,28,450,46,1702,820,382,2126,2069,72,732,801,236,80,1685,277,507,68,49,397,39,306,976,1028,70,46,51,1263,1490,1564,1815,1198,416,85,47,137,21,70,909,1676,1735,1191,24,1182,1280,1336,749,91,414,44,63,901,38,455,775,15,38,1512,43,42,1089,162,1272,1173,816,74,134,157,561,1336,2092,463,1130,20,377,1544,138,1012,1766,45,161,144,1734,823,1138,1429,1371,982,44,318,434,198,359,576,88,63,27,193,101,2211,140,415,22,263,393,147,443,1958,174,2217,1691,25,809,895,484,413,331,25,13,115,16,92,52,1464,441,283,747,1870,165,1941,839,1655,23,66,37,21,22,78,79,265,1175,1305,46,25,46,874,100,930,868,45,1260,414,392,1109,639,79,1665,692,1392,44,50,467,223,158,1211,1575,1208,43,527,932,71,54,129,1615,1034,1088,721,137,47,1244,41,1174,993,100,1680,98,48,519,715,37,653,1455,602,26,102,97,207,176,450,433,1366,1564,1001,961,1518,56,22,400,26,350,1216,874,40,1367,264,2053,1376,45,976,51,1264,75,57,140,497,266,2006,615,1021,22,133,437,1013,57,1038,1573,28,123,13,132,732,66,1631,608,1822,1282,8,43,1931,8,103,1169,395,258,25,185,180,22,44,94,81,798,1334,38,61,300,88,54,1782,68,258,31,66,174,28,731,274,1701,312,414,1565,29,94,1338,1092,1479,54,568,1199,873,1213,731,2043,1893,424,575,257,56,542,125,69,40,1016,907,1566,1169,46,1644,59,17,1853,1528,35,141,546,500,61,106,704,424,849,85,199,1147,54,43,53,521,1623,45,1435,32,16,52,1234,15,415,470,1438,53,51,679,586,653,468,1679,50,84,1049,22,62,30,1341,444,1241,843,172],\"z\":[4,2,10,4,6,10,7,4,2,0,2,3,8,5,3,12,3,6,9,3,5,0,9,9,5,3,4,0,4,10,3,3,4,6,9,3,12,2,3,5,5,3,3,4,3,9,3,2,4,12,10,13,3,7,10,13,10,4,3,6,11,12,10,8,4,2,2,10,10,5,6,3,13,8,4,2,5,9,3,8,4,2,3,3,13,4,4,6,7,5,8,2,8,3,3,3,6,3,12,7,3,3,11,6,5,3,4,12,3,4,11,5,8,11,6,3,5,5,3,3,10,3,3,3,13,7,6,4,7,10,5,6,9,7,5,13,3,2,2,3,12,7,10,9,3,6,3,2,4,4,7,6,5,4,11,6,5,3,6,10,2,9,4,10,0,4,4,6,7,3,3,3,3,3,2,8,5,3,3,12,4,3,13,3,3,2,4,8,9,3,2,12,2,3,6,2,12,6,5,3,7,9,9,10,3,2,3,5,3,9,6,9,5,8,9,5,2,6,5,11,4,7,11,4,12,4,4,11,8,2,8,4,2,3,11,4,3,11,3,2,10,4,2,9,8,3,6,6,5,6,3,3,13,5,11,3,5,7,4,2,2,10,6,2,4,3,8,2,6,2,5,4,4,4,4,12,10,5,8,9,4,4,6,8,3,2,13,12,5,5,3,3,9,3,3,11,3,3,6,12,3,9,3,4,3,9,3,10,6,4,3,3,12,10,6,3,3,6,3,10,12,2,2,5,8,5,4,3,3,4,2,3,5,2,3,12,6,3,8,4,11,4,11,8,2,4,3,6,3,2,9,8,5,10,5,3,4,8,5,4,10,10,4,2,6,9,11,3,8,8,3,4,2,12,3,2,2,3,10,3,2,3,6,4,2,2,4,13,3,12,8,6,6,4,12,10,4,2,3,3,3,9,5,4,6,3,4,5,2,8,3,6,12,7,8,10,3,11,9,8,3,3,2,8,5,2,13,10,4,12,9,7,9,13,4,3,12,5,4,3,3,5,3,3,3,2,4,7,3,9,11,7,4,8,10,6,9,5,8,6,8,11,3,8,3,9,5,2,8,12,13,2,9,3,2,11,3,8,7,4,2,3,2,5,4,13,7,10,3,4,12,5,13,3,6,11,3,4,11,13,2,3,3,12,3,12,8,11,4,12,3,12,5,7,5,9,3,3,7,10,3,6,6,9,3,3,10,6,4,8,8,5,6,5,3,5,3,4,7,3,3,4,3,6,8,4,4,4,2,3,3,2,8,2,13,5,11,7,4,4,4,7,13,12,7,5,9,2,2,2,5,3,3,5,3,8,3,3,4,4,6,5,3,3,3,4,5,10,7,3,2,5,9,3,7,2,3,3,3,4,3,12,9,10,3,2,3,3,3,7,6,7,3,3,13,5,3,1,3,9,7,2,6,3,6,3,7,5,3,4,13,6,12,3,7,2,11,7,9,8,13,6,6,4,6,6,13,6,12,7,9,3,12,4,5,0,4,5,13,3,9,3,13,3,3,2,2,3,3,5,10,9,6,8,8,2,5,12,3,13,4,13,5,6,6,11,10,1,12,4,7,4,4,3,2,4,2,3,6,10,5,8,11,7,4,8,3,6,5,2,2,10,3,8,5,5,8,3,9,2,5,8,3,4,2,3,12,11,5,8,3,6,10,4,4,13,4,7,2,6,11,3,3,4,5,11,4,12,2,7,5,10,13,11,6,13,5,8,3,2,3,8,10,2,5,4,7,12,4,7,12,6,7,4,1,2,3,4,3,5,10,3,2,2,3,3,4,4,8,5,4,7,3,5,5,7,7,8,12,3,9,3,4,13,12,7,3,6,8,6,2,3,6,9,12,7,2,4,9,3,8,3,7,2,4,11,7,3,4,3,3,7,7,3,3,12,5,12,3,5,3,6,4,3,7,7,8,8,5,3,3,9,10,2,7,12,3,11,3,10,3,4,3,6,4,8,8,2,8,3,4,4,3,4,10,5,4,4,12,3,2,3,3,3,10,13,4,3,5,10,3,5,11,2,5,5,4,7,8,3,10,4,6,6,6,10,7,2,3,6,8,5,10,4,7,6,7,6,7,9,3,6,4,4,10,6,9,10,6,5,9,4,10,3,5,3,4,11,11,9,5,7,6,5,3,10,9,5,3,9,3,3,4,2,2,4,6,8,4,5,13,8,3,5,6,11,9,4,2,6,10,4,4,7,13,13,12,5,4,7,2,0,3,9,6,8,7,9,13,3,10,3,6,12,4,2,10,3,6,8,9,4,4,3,4,4,10,11,2,2,8,5,4,3,4,8,7,7,3,4,3,3,4,3,2,9,2,2,3,10,5,5,7,3,7,5,4,4,2,8,6,3,0,4,2,4,4,12,5,11,7,2,9,2,3,12,4,5,8,6,10,11,11,2,8,3,8,8,2,13,3,8,9,3,6,9,11,3,8,2,5,4,4,3,6,5,3,4,2,5,7,4,7,3,4,8,5,8,2,10,6,7,5,6,3,11,3,4,9,7,11,5,2,9,3,5,2,3,2,6,9,4,5,4,5,5,6,3,3,11,9,2,3,9,8,6,3,9,3,4,10,4,2,4,13,4,3,8,4,2,13,7,2,11,6,3,9,4,5,10,6,8,7,10,5,12,3,4,8,8,2,3,5,4,3,6,2,10,4,10,6,5,4,3,2,3,4,13,4,3,4,10,2,4,4,9,4,10,5,12,5,8,4,2,9,5,10,3,2,4,7,10,11,6,5,4,10,4,10,2,3,2,9,2,4,9,8,2,8,3,4,3,4,3,3,11,4,12,3,5,3,3,7,5,4,0,2,2,2,13,6,13,11,5,4,5,3,11,2,11,2,8,11,3,2,6,6,3,4,6,4,13,4,7,3,11,2,3,9,7,8,10,3,7,5,3,5,2,10,10,2,2,4,2,4,5,2,11,4,3,1,5,3,4,8,8,5,12,13,12,10,10,5,10,7,3,8,3,3,2,12,5,12,3,3,13,3,4,1,5,2,5,7,13,8,4,6,3,3,3,6,6,10,4,2,3,3,7,7,9,10,4,2,5,7,11,2,10,5,4,6,2,7,11,7,6,5,3,4,5,5,4,3,7,11,4,8,2,6,6,3,4,3,2,3,5,3,3,3,6,3,4,3,2,3,12,2,3,9,4,5,9,3,4,8,4,5,8,9,2,12,6,2,5,3,8,2,5,3,4,2,10,12,3,2,4,2,2,3,6,3,3,11,3,5,2,5,2,4,4,3,2,3,10,10,8,9,5,8,5,4,9,8,3,5,7,4,4,12,9,7,8,3,3,3,5,8,11,3,8,3,3,3,4,7,4,10,3,4,13,12,12,3,3,6,13,4,5,8,5,9,4,10,9,4,13,3,9,7,13,5,3,6,9,5,6,10,5,13,12,10,2,9,9,2,4,8,4,3,3,6,12,3,3,0,9,7,2,4,3,13,5,13,2,3,5,2,6,9,12,4,12,10,3,10,3,3,3,7,3,4,7,6,4,12,3,4,2,4,13,4,7,2,5,3,5,10,12,6,5,12,3,10,3,6,5,3,8,4,7,2,5,6,3,13,2,4,6,5,12,4,5,2,5,4,6,4,4,13,3,3,12,10,3,3,2,11,4,5,8,11,3,9,5,2,13,2,7,5,9,4,4,6,6,5,4,10,8,2,3,13,5,4,2,4,7,7,12,3,3,3,6,7,3,8,3,6,12,7,4,3,12,2,0,3,3,5,13,6,6,7,3,12,2,3,3,12,4,13,11,5,6,10,6,13,4,4,3,8,3,7,3,4,3,5,3,5,7,12,11,9,6,2,2,3,13,2,5,3,8,11,3,4,9,3,4,13,4,10,5,10,7,4,12,3,5,6,3,4,9,2,12,7,13,5,3,6,2,12,13,3,2,2,12,10,5,8,13,6,3,3,5,3,13,7,7,2,13,10,5,5,5,3,7,3,4,3,2,4,7,8,3,8,9,3,12,3,6,3,3,3,4,12,7,3,6,4,5,2,13,3,4,10,10,5,4,6,4,12,11,3,4,13,3,3,2,8,3,4,8,10,13,4,8,2,12,1,4,6,8,3,7,6,6,8,3,9,9,8,2,5,3,4,12,9,2,6,5,9,2,3,4,13,4,5,3,13,6,3,9,4,4,3,6,6,6,0,3,6,3,12,2,10,4,7,10,4,4,12,7,5,2,8,4,7,7,3,3,4,6,3,11,3,11,3,3,8,9,10,13,4,2,4,11,3,7,2,5,7,4,5,8,3,6,5,6,2,4,0,8,3,3,6,3,8,6,7,3,3,2,13,5,13,5,10,8,4,3,4,2,4,12,6,13,11,3,11,7,6,7,4,7,3,2,9,3,9,8,3,4,5,3,3,12,3,10,7,10,3,4,4,10,10,8,9,7,3,5,10,4,10,6,4,3,4,12,10,12,7,11,5,3,5,5,5,0,8,4,2,2,4,3,9,4,5,3,5,3,4,8,8,4,11,5,3,8,4,8,6,6,3,2,2,3,4,3,8,3,7,10,5,4,9,8,13,3,2,3,3,3,4,3,5,6,13,4,3,3,7,3,4,11,3,8,3,7,12,10,3,10,8,9,3,3,6,4,4,12,5,10,3,6,4,3,3,3,12,13,12,4,3,3,8,3,12,4,3,4,4,3,8,10,2,11,5,7,2,3,3,4,4,5,5,13,11,7,7,7,4,3,8,2,7,7,7,3,8,5,10,4,3,11,3,6,4,3,4,8,4,12,7,13,3,2,6,10,3,11,8,2,4,2,4,12,4,12,8,10,7,2,3,8,0,2,6,4,3,2,5,2,3,3,4,4,8,4,2,3,7,4,3,6,3,3,3,4,4,3,9,6,4,4,8,11,3,3,8,7,5,3,7,12,11,5,8,7,10,6,3,6,3,7,4,3,3,13,11,6,6,3,12,2,3,10,6,3,4,3,4,3,2,6,6,11,4,5,4,3,3,2,7,9,3,8,0,2,3,7,2,6,10,11,2,4,6,6,6,8,1,2,2,12,3,3,2,4,5,13,10,4],\"type\":\"scatter3d\"}],                        {\"template\":{\"data\":{\"histogram2dcontour\":[{\"type\":\"histogram2dcontour\",\"colorbar\":{\"outlinewidth\":0,\"ticks\":\"\"},\"colorscale\":[[0.0,\"#0d0887\"],[0.1111111111111111,\"#46039f\"],[0.2222222222222222,\"#7201a8\"],[0.3333333333333333,\"#9c179e\"],[0.4444444444444444,\"#bd3786\"],[0.5555555555555556,\"#d8576b\"],[0.6666666666666666,\"#ed7953\"],[0.7777777777777778,\"#fb9f3a\"],[0.8888888888888888,\"#fdca26\"],[1.0,\"#f0f921\"]]}],\"choropleth\":[{\"type\":\"choropleth\",\"colorbar\":{\"outlinewidth\":0,\"ticks\":\"\"}}],\"histogram2d\":[{\"type\":\"histogram2d\",\"colorbar\":{\"outlinewidth\":0,\"ticks\":\"\"},\"colorscale\":[[0.0,\"#0d0887\"],[0.1111111111111111,\"#46039f\"],[0.2222222222222222,\"#7201a8\"],[0.3333333333333333,\"#9c179e\"],[0.4444444444444444,\"#bd3786\"],[0.5555555555555556,\"#d8576b\"],[0.6666666666666666,\"#ed7953\"],[0.7777777777777778,\"#fb9f3a\"],[0.8888888888888888,\"#fdca26\"],[1.0,\"#f0f921\"]]}],\"heatmap\":[{\"type\":\"heatmap\",\"colorbar\":{\"outlinewidth\":0,\"ticks\":\"\"},\"colorscale\":[[0.0,\"#0d0887\"],[0.1111111111111111,\"#46039f\"],[0.2222222222222222,\"#7201a8\"],[0.3333333333333333,\"#9c179e\"],[0.4444444444444444,\"#bd3786\"],[0.5555555555555556,\"#d8576b\"],[0.6666666666666666,\"#ed7953\"],[0.7777777777777778,\"#fb9f3a\"],[0.8888888888888888,\"#fdca26\"],[1.0,\"#f0f921\"]]}],\"heatmapgl\":[{\"type\":\"heatmapgl\",\"colorbar\":{\"outlinewidth\":0,\"ticks\":\"\"},\"colorscale\":[[0.0,\"#0d0887\"],[0.1111111111111111,\"#46039f\"],[0.2222222222222222,\"#7201a8\"],[0.3333333333333333,\"#9c179e\"],[0.4444444444444444,\"#bd3786\"],[0.5555555555555556,\"#d8576b\"],[0.6666666666666666,\"#ed7953\"],[0.7777777777777778,\"#fb9f3a\"],[0.8888888888888888,\"#fdca26\"],[1.0,\"#f0f921\"]]}],\"contourcarpet\":[{\"type\":\"contourcarpet\",\"colorbar\":{\"outlinewidth\":0,\"ticks\":\"\"}}],\"contour\":[{\"type\":\"contour\",\"colorbar\":{\"outlinewidth\":0,\"ticks\":\"\"},\"colorscale\":[[0.0,\"#0d0887\"],[0.1111111111111111,\"#46039f\"],[0.2222222222222222,\"#7201a8\"],[0.3333333333333333,\"#9c179e\"],[0.4444444444444444,\"#bd3786\"],[0.5555555555555556,\"#d8576b\"],[0.6666666666666666,\"#ed7953\"],[0.7777777777777778,\"#fb9f3a\"],[0.8888888888888888,\"#fdca26\"],[1.0,\"#f0f921\"]]}],\"surface\":[{\"type\":\"surface\",\"colorbar\":{\"outlinewidth\":0,\"ticks\":\"\"},\"colorscale\":[[0.0,\"#0d0887\"],[0.1111111111111111,\"#46039f\"],[0.2222222222222222,\"#7201a8\"],[0.3333333333333333,\"#9c179e\"],[0.4444444444444444,\"#bd3786\"],[0.5555555555555556,\"#d8576b\"],[0.6666666666666666,\"#ed7953\"],[0.7777777777777778,\"#fb9f3a\"],[0.8888888888888888,\"#fdca26\"],[1.0,\"#f0f921\"]]}],\"mesh3d\":[{\"type\":\"mesh3d\",\"colorbar\":{\"outlinewidth\":0,\"ticks\":\"\"}}],\"scatter\":[{\"fillpattern\":{\"fillmode\":\"overlay\",\"size\":10,\"solidity\":0.2},\"type\":\"scatter\"}],\"parcoords\":[{\"type\":\"parcoords\",\"line\":{\"colorbar\":{\"outlinewidth\":0,\"ticks\":\"\"}}}],\"scatterpolargl\":[{\"type\":\"scatterpolargl\",\"marker\":{\"colorbar\":{\"outlinewidth\":0,\"ticks\":\"\"}}}],\"bar\":[{\"error_x\":{\"color\":\"#2a3f5f\"},\"error_y\":{\"color\":\"#2a3f5f\"},\"marker\":{\"line\":{\"color\":\"#E5ECF6\",\"width\":0.5},\"pattern\":{\"fillmode\":\"overlay\",\"size\":10,\"solidity\":0.2}},\"type\":\"bar\"}],\"scattergeo\":[{\"type\":\"scattergeo\",\"marker\":{\"colorbar\":{\"outlinewidth\":0,\"ticks\":\"\"}}}],\"scatterpolar\":[{\"type\":\"scatterpolar\",\"marker\":{\"colorbar\":{\"outlinewidth\":0,\"ticks\":\"\"}}}],\"histogram\":[{\"marker\":{\"pattern\":{\"fillmode\":\"overlay\",\"size\":10,\"solidity\":0.2}},\"type\":\"histogram\"}],\"scattergl\":[{\"type\":\"scattergl\",\"marker\":{\"colorbar\":{\"outlinewidth\":0,\"ticks\":\"\"}}}],\"scatter3d\":[{\"type\":\"scatter3d\",\"line\":{\"colorbar\":{\"outlinewidth\":0,\"ticks\":\"\"}},\"marker\":{\"colorbar\":{\"outlinewidth\":0,\"ticks\":\"\"}}}],\"scattermapbox\":[{\"type\":\"scattermapbox\",\"marker\":{\"colorbar\":{\"outlinewidth\":0,\"ticks\":\"\"}}}],\"scatterternary\":[{\"type\":\"scatterternary\",\"marker\":{\"colorbar\":{\"outlinewidth\":0,\"ticks\":\"\"}}}],\"scattercarpet\":[{\"type\":\"scattercarpet\",\"marker\":{\"colorbar\":{\"outlinewidth\":0,\"ticks\":\"\"}}}],\"carpet\":[{\"aaxis\":{\"endlinecolor\":\"#2a3f5f\",\"gridcolor\":\"white\",\"linecolor\":\"white\",\"minorgridcolor\":\"white\",\"startlinecolor\":\"#2a3f5f\"},\"baxis\":{\"endlinecolor\":\"#2a3f5f\",\"gridcolor\":\"white\",\"linecolor\":\"white\",\"minorgridcolor\":\"white\",\"startlinecolor\":\"#2a3f5f\"},\"type\":\"carpet\"}],\"table\":[{\"cells\":{\"fill\":{\"color\":\"#EBF0F8\"},\"line\":{\"color\":\"white\"}},\"header\":{\"fill\":{\"color\":\"#C8D4E3\"},\"line\":{\"color\":\"white\"}},\"type\":\"table\"}],\"barpolar\":[{\"marker\":{\"line\":{\"color\":\"#E5ECF6\",\"width\":0.5},\"pattern\":{\"fillmode\":\"overlay\",\"size\":10,\"solidity\":0.2}},\"type\":\"barpolar\"}],\"pie\":[{\"automargin\":true,\"type\":\"pie\"}]},\"layout\":{\"autotypenumbers\":\"strict\",\"colorway\":[\"#636efa\",\"#EF553B\",\"#00cc96\",\"#ab63fa\",\"#FFA15A\",\"#19d3f3\",\"#FF6692\",\"#B6E880\",\"#FF97FF\",\"#FECB52\"],\"font\":{\"color\":\"#2a3f5f\"},\"hovermode\":\"closest\",\"hoverlabel\":{\"align\":\"left\"},\"paper_bgcolor\":\"white\",\"plot_bgcolor\":\"#E5ECF6\",\"polar\":{\"bgcolor\":\"#E5ECF6\",\"angularaxis\":{\"gridcolor\":\"white\",\"linecolor\":\"white\",\"ticks\":\"\"},\"radialaxis\":{\"gridcolor\":\"white\",\"linecolor\":\"white\",\"ticks\":\"\"}},\"ternary\":{\"bgcolor\":\"#E5ECF6\",\"aaxis\":{\"gridcolor\":\"white\",\"linecolor\":\"white\",\"ticks\":\"\"},\"baxis\":{\"gridcolor\":\"white\",\"linecolor\":\"white\",\"ticks\":\"\"},\"caxis\":{\"gridcolor\":\"white\",\"linecolor\":\"white\",\"ticks\":\"\"}},\"coloraxis\":{\"colorbar\":{\"outlinewidth\":0,\"ticks\":\"\"}},\"colorscale\":{\"sequential\":[[0.0,\"#0d0887\"],[0.1111111111111111,\"#46039f\"],[0.2222222222222222,\"#7201a8\"],[0.3333333333333333,\"#9c179e\"],[0.4444444444444444,\"#bd3786\"],[0.5555555555555556,\"#d8576b\"],[0.6666666666666666,\"#ed7953\"],[0.7777777777777778,\"#fb9f3a\"],[0.8888888888888888,\"#fdca26\"],[1.0,\"#f0f921\"]],\"sequentialminus\":[[0.0,\"#0d0887\"],[0.1111111111111111,\"#46039f\"],[0.2222222222222222,\"#7201a8\"],[0.3333333333333333,\"#9c179e\"],[0.4444444444444444,\"#bd3786\"],[0.5555555555555556,\"#d8576b\"],[0.6666666666666666,\"#ed7953\"],[0.7777777777777778,\"#fb9f3a\"],[0.8888888888888888,\"#fdca26\"],[1.0,\"#f0f921\"]],\"diverging\":[[0,\"#8e0152\"],[0.1,\"#c51b7d\"],[0.2,\"#de77ae\"],[0.3,\"#f1b6da\"],[0.4,\"#fde0ef\"],[0.5,\"#f7f7f7\"],[0.6,\"#e6f5d0\"],[0.7,\"#b8e186\"],[0.8,\"#7fbc41\"],[0.9,\"#4d9221\"],[1,\"#276419\"]]},\"xaxis\":{\"gridcolor\":\"white\",\"linecolor\":\"white\",\"ticks\":\"\",\"title\":{\"standoff\":15},\"zerolinecolor\":\"white\",\"automargin\":true,\"zerolinewidth\":2},\"yaxis\":{\"gridcolor\":\"white\",\"linecolor\":\"white\",\"ticks\":\"\",\"title\":{\"standoff\":15},\"zerolinecolor\":\"white\",\"automargin\":true,\"zerolinewidth\":2},\"scene\":{\"xaxis\":{\"backgroundcolor\":\"#E5ECF6\",\"gridcolor\":\"white\",\"linecolor\":\"white\",\"showbackground\":true,\"ticks\":\"\",\"zerolinecolor\":\"white\",\"gridwidth\":2},\"yaxis\":{\"backgroundcolor\":\"#E5ECF6\",\"gridcolor\":\"white\",\"linecolor\":\"white\",\"showbackground\":true,\"ticks\":\"\",\"zerolinecolor\":\"white\",\"gridwidth\":2},\"zaxis\":{\"backgroundcolor\":\"#E5ECF6\",\"gridcolor\":\"white\",\"linecolor\":\"white\",\"showbackground\":true,\"ticks\":\"\",\"zerolinecolor\":\"white\",\"gridwidth\":2}},\"shapedefaults\":{\"line\":{\"color\":\"#2a3f5f\"}},\"annotationdefaults\":{\"arrowcolor\":\"#2a3f5f\",\"arrowhead\":0,\"arrowwidth\":1},\"geo\":{\"bgcolor\":\"white\",\"landcolor\":\"#E5ECF6\",\"subunitcolor\":\"white\",\"showland\":true,\"showlakes\":true,\"lakecolor\":\"white\"},\"title\":{\"x\":0.05},\"mapbox\":{\"style\":\"light\"}}},\"scene\":{\"domain\":{\"x\":[0.0,1.0],\"y\":[0.0,1.0]},\"xaxis\":{\"title\":{\"text\":\"Дохід\"}},\"yaxis\":{\"title\":{\"text\":\"Всього витрат\"}},\"zaxis\":{\"title\":{\"text\":\"Покупки в магазині\"}}},\"coloraxis\":{\"colorbar\":{\"title\":{\"text\":\"Cluster\"}},\"colorscale\":[[0.0,\"#0d0887\"],[0.1111111111111111,\"#46039f\"],[0.2222222222222222,\"#7201a8\"],[0.3333333333333333,\"#9c179e\"],[0.4444444444444444,\"#bd3786\"],[0.5555555555555556,\"#d8576b\"],[0.6666666666666666,\"#ed7953\"],[0.7777777777777778,\"#fb9f3a\"],[0.8888888888888888,\"#fdca26\"],[1.0,\"#f0f921\"]]},\"legend\":{\"tracegroupgap\":0},\"title\":{\"text\":\"Кластери клієнтів у просторі Income-TotalSpent-NumStorePurchases\"}},                        {\"responsive\": true}                    ).then(function(){\n",
              "                            \n",
              "var gd = document.getElementById('42fe8725-0305-4f41-b928-ff14e48f4012');\n",
              "var x = new MutationObserver(function (mutations, observer) {{\n",
              "        var display = window.getComputedStyle(gd).display;\n",
              "        if (!display || display === 'none') {{\n",
              "            console.log([gd, 'removed!']);\n",
              "            Plotly.purge(gd);\n",
              "            observer.disconnect();\n",
              "        }}\n",
              "}});\n",
              "\n",
              "// Listen for the removal of the full notebook cells\n",
              "var notebookContainer = gd.closest('#notebook-container');\n",
              "if (notebookContainer) {{\n",
              "    x.observe(notebookContainer, {childList: true});\n",
              "}}\n",
              "\n",
              "// Listen for the clearing of the current output cell\n",
              "var outputEl = gd.closest('.output');\n",
              "if (outputEl) {{\n",
              "    x.observe(outputEl, {childList: true});\n",
              "}}\n",
              "\n",
              "                        })                };                            </script>        </div>\n",
              "</body>\n",
              "</html>"
            ]
          },
          "metadata": {}
        }
      ]
    },
    {
      "cell_type": "markdown",
      "source": [
        "Кластери 0 і 1 — так, виглядають логічно: один з них — більш витратні клієнти з високим доходом, інший — скромніші.\n",
        "\n",
        "Кластер 2 — не має сенсу, вмглядає як викид."
      ],
      "metadata": {
        "id": "HxKV11P1jIYZ"
      }
    },
    {
      "cell_type": "markdown",
      "source": [
        "**Завдання 6**. Масштабуйте дані і побудуйте знову кластеризацію KMeans на 3 кластери і обчисліть метрику силуету. Опишіть порівняння з експериментом без масштабування значень."
      ],
      "metadata": {
        "id": "Jcbmkz1Yrnas"
      }
    },
    {
      "cell_type": "code",
      "source": [
        "from sklearn.preprocessing import StandardScaler\n",
        "\n",
        "scaler = StandardScaler()\n",
        "X_scaled = scaler.fit_transform(X)"
      ],
      "metadata": {
        "id": "p5IluADbdfI2"
      },
      "execution_count": 44,
      "outputs": []
    },
    {
      "cell_type": "code",
      "source": [
        "from sklearn.cluster import KMeans\n",
        "\n",
        "kmeans_s = KMeans(n_clusters=3, n_init='auto')\n",
        "kmeans_s.fit(X_scaled)\n",
        "\n",
        "clusters_s = kmeans_s.predict(X_scaled)"
      ],
      "metadata": {
        "id": "2XQPdRdufCut"
      },
      "execution_count": 45,
      "outputs": []
    },
    {
      "cell_type": "code",
      "source": [
        "from sklearn.metrics import silhouette_score\n",
        "\n",
        "silhouette = silhouette_score(X_scaled, clusters_s)\n",
        "print(f\"Silhouette Score: {silhouette:.3f}\")"
      ],
      "metadata": {
        "colab": {
          "base_uri": "https://localhost:8080/"
        },
        "id": "ivUvvLGDbTk4",
        "outputId": "97fd59d9-d541-47f5-cd5c-018ff2ee5a09"
      },
      "execution_count": 46,
      "outputs": [
        {
          "output_type": "stream",
          "name": "stdout",
          "text": [
            "Silhouette Score: 0.162\n"
          ]
        }
      ]
    },
    {
      "cell_type": "markdown",
      "source": [
        "Провела масштабування (StandardScaler) і після цього  силуетний коефіцієнт впав з **~0.598 до 0.162.**\n",
        "\n",
        "Але можливо це дасть точніший результат, якщо підбирати необхідну кількість кластерів"
      ],
      "metadata": {
        "id": "_-NncWugkMI3"
      }
    },
    {
      "cell_type": "markdown",
      "source": [
        "**Завдання 7.** З візуалізацій на попередньому кроці ви могли побачити якісь викиди в даних. Опрацюйте викиди (можна видалити ці рядки або придумати інший спосіб)."
      ],
      "metadata": {
        "id": "_DvQ5DGphigM"
      }
    },
    {
      "cell_type": "code",
      "source": [
        "data.loc[data['Cluster'] == 2]"
      ],
      "metadata": {
        "colab": {
          "base_uri": "https://localhost:8080/",
          "height": 130
        },
        "id": "LZGT_nGelHfP",
        "outputId": "807b0bbb-54e3-44db-9fb2-909995f3a68b"
      },
      "execution_count": 47,
      "outputs": [
        {
          "output_type": "execute_result",
          "data": {
            "text/plain": [
              "        ID  Year_Birth  Education    Income  Kidhome  Teenhome  Recency  \\\n",
              "2233  9432        1977          2  666666.0        1         0       23   \n",
              "\n",
              "      MntWines  MntFruits  MntMeatProducts  ...  Marital_Status_Married  \\\n",
              "2233         9         14               18  ...                   False   \n",
              "\n",
              "      Marital_Status_Single  Marital_Status_Together  Marital_Status_Widow  \\\n",
              "2233                  False                     True                 False   \n",
              "\n",
              "      Marital_Status_YOLO  Year_Customer  Month_Customer  Customer_For_Days  \\\n",
              "2233                False           2013               6               4325   \n",
              "\n",
              "      Cluster  TotalSpent  \n",
              "2233        2          62  \n",
              "\n",
              "[1 rows x 39 columns]"
            ],
            "text/html": [
              "\n",
              "  <div id=\"df-a9492c0c-afed-482a-8922-1b2f901b1b7f\" class=\"colab-df-container\">\n",
              "    <div>\n",
              "<style scoped>\n",
              "    .dataframe tbody tr th:only-of-type {\n",
              "        vertical-align: middle;\n",
              "    }\n",
              "\n",
              "    .dataframe tbody tr th {\n",
              "        vertical-align: top;\n",
              "    }\n",
              "\n",
              "    .dataframe thead th {\n",
              "        text-align: right;\n",
              "    }\n",
              "</style>\n",
              "<table border=\"1\" class=\"dataframe\">\n",
              "  <thead>\n",
              "    <tr style=\"text-align: right;\">\n",
              "      <th></th>\n",
              "      <th>ID</th>\n",
              "      <th>Year_Birth</th>\n",
              "      <th>Education</th>\n",
              "      <th>Income</th>\n",
              "      <th>Kidhome</th>\n",
              "      <th>Teenhome</th>\n",
              "      <th>Recency</th>\n",
              "      <th>MntWines</th>\n",
              "      <th>MntFruits</th>\n",
              "      <th>MntMeatProducts</th>\n",
              "      <th>...</th>\n",
              "      <th>Marital_Status_Married</th>\n",
              "      <th>Marital_Status_Single</th>\n",
              "      <th>Marital_Status_Together</th>\n",
              "      <th>Marital_Status_Widow</th>\n",
              "      <th>Marital_Status_YOLO</th>\n",
              "      <th>Year_Customer</th>\n",
              "      <th>Month_Customer</th>\n",
              "      <th>Customer_For_Days</th>\n",
              "      <th>Cluster</th>\n",
              "      <th>TotalSpent</th>\n",
              "    </tr>\n",
              "  </thead>\n",
              "  <tbody>\n",
              "    <tr>\n",
              "      <th>2233</th>\n",
              "      <td>9432</td>\n",
              "      <td>1977</td>\n",
              "      <td>2</td>\n",
              "      <td>666666.0</td>\n",
              "      <td>1</td>\n",
              "      <td>0</td>\n",
              "      <td>23</td>\n",
              "      <td>9</td>\n",
              "      <td>14</td>\n",
              "      <td>18</td>\n",
              "      <td>...</td>\n",
              "      <td>False</td>\n",
              "      <td>False</td>\n",
              "      <td>True</td>\n",
              "      <td>False</td>\n",
              "      <td>False</td>\n",
              "      <td>2013</td>\n",
              "      <td>6</td>\n",
              "      <td>4325</td>\n",
              "      <td>2</td>\n",
              "      <td>62</td>\n",
              "    </tr>\n",
              "  </tbody>\n",
              "</table>\n",
              "<p>1 rows × 39 columns</p>\n",
              "</div>\n",
              "    <div class=\"colab-df-buttons\">\n",
              "\n",
              "  <div class=\"colab-df-container\">\n",
              "    <button class=\"colab-df-convert\" onclick=\"convertToInteractive('df-a9492c0c-afed-482a-8922-1b2f901b1b7f')\"\n",
              "            title=\"Convert this dataframe to an interactive table.\"\n",
              "            style=\"display:none;\">\n",
              "\n",
              "  <svg xmlns=\"http://www.w3.org/2000/svg\" height=\"24px\" viewBox=\"0 -960 960 960\">\n",
              "    <path d=\"M120-120v-720h720v720H120Zm60-500h600v-160H180v160Zm220 220h160v-160H400v160Zm0 220h160v-160H400v160ZM180-400h160v-160H180v160Zm440 0h160v-160H620v160ZM180-180h160v-160H180v160Zm440 0h160v-160H620v160Z\"/>\n",
              "  </svg>\n",
              "    </button>\n",
              "\n",
              "  <style>\n",
              "    .colab-df-container {\n",
              "      display:flex;\n",
              "      gap: 12px;\n",
              "    }\n",
              "\n",
              "    .colab-df-convert {\n",
              "      background-color: #E8F0FE;\n",
              "      border: none;\n",
              "      border-radius: 50%;\n",
              "      cursor: pointer;\n",
              "      display: none;\n",
              "      fill: #1967D2;\n",
              "      height: 32px;\n",
              "      padding: 0 0 0 0;\n",
              "      width: 32px;\n",
              "    }\n",
              "\n",
              "    .colab-df-convert:hover {\n",
              "      background-color: #E2EBFA;\n",
              "      box-shadow: 0px 1px 2px rgba(60, 64, 67, 0.3), 0px 1px 3px 1px rgba(60, 64, 67, 0.15);\n",
              "      fill: #174EA6;\n",
              "    }\n",
              "\n",
              "    .colab-df-buttons div {\n",
              "      margin-bottom: 4px;\n",
              "    }\n",
              "\n",
              "    [theme=dark] .colab-df-convert {\n",
              "      background-color: #3B4455;\n",
              "      fill: #D2E3FC;\n",
              "    }\n",
              "\n",
              "    [theme=dark] .colab-df-convert:hover {\n",
              "      background-color: #434B5C;\n",
              "      box-shadow: 0px 1px 3px 1px rgba(0, 0, 0, 0.15);\n",
              "      filter: drop-shadow(0px 1px 2px rgba(0, 0, 0, 0.3));\n",
              "      fill: #FFFFFF;\n",
              "    }\n",
              "  </style>\n",
              "\n",
              "    <script>\n",
              "      const buttonEl =\n",
              "        document.querySelector('#df-a9492c0c-afed-482a-8922-1b2f901b1b7f button.colab-df-convert');\n",
              "      buttonEl.style.display =\n",
              "        google.colab.kernel.accessAllowed ? 'block' : 'none';\n",
              "\n",
              "      async function convertToInteractive(key) {\n",
              "        const element = document.querySelector('#df-a9492c0c-afed-482a-8922-1b2f901b1b7f');\n",
              "        const dataTable =\n",
              "          await google.colab.kernel.invokeFunction('convertToInteractive',\n",
              "                                                    [key], {});\n",
              "        if (!dataTable) return;\n",
              "\n",
              "        const docLinkHtml = 'Like what you see? Visit the ' +\n",
              "          '<a target=\"_blank\" href=https://colab.research.google.com/notebooks/data_table.ipynb>data table notebook</a>'\n",
              "          + ' to learn more about interactive tables.';\n",
              "        element.innerHTML = '';\n",
              "        dataTable['output_type'] = 'display_data';\n",
              "        await google.colab.output.renderOutput(dataTable, element);\n",
              "        const docLink = document.createElement('div');\n",
              "        docLink.innerHTML = docLinkHtml;\n",
              "        element.appendChild(docLink);\n",
              "      }\n",
              "    </script>\n",
              "  </div>\n",
              "\n",
              "    </div>\n",
              "  </div>\n"
            ],
            "application/vnd.google.colaboratory.intrinsic+json": {
              "type": "dataframe"
            }
          },
          "metadata": {},
          "execution_count": 47
        }
      ]
    },
    {
      "cell_type": "code",
      "source": [
        "X.loc[X['Customer_For_Days'] == 4325]"
      ],
      "metadata": {
        "colab": {
          "base_uri": "https://localhost:8080/",
          "height": 161
        },
        "id": "HFw7ykdYm6mx",
        "outputId": "c41774bc-f9b2-4b7a-eeae-3cb12a36f34b"
      },
      "execution_count": 59,
      "outputs": [
        {
          "output_type": "execute_result",
          "data": {
            "text/plain": [
              "      Year_Birth    Income  Kidhome  Teenhome  Recency  MntWines  MntFruits  \\\n",
              "2110        1955   58275.0        1         1       48       189         10   \n",
              "2233        1977  666666.0        1         0       23         9         14   \n",
              "\n",
              "      MntMeatProducts  MntFishProducts  MntSweetProducts  ...  \\\n",
              "2110              253               56                43  ...   \n",
              "2233               18                8                 1  ...   \n",
              "\n",
              "      NumWebPurchases  NumCatalogPurchases  NumStorePurchases  \\\n",
              "2110                8                    2                  7   \n",
              "2233                3                    1                  3   \n",
              "\n",
              "      NumWebVisitsMonth  Customer_For_Days  Marital_Status_Single  \\\n",
              "2110                  7               4325                  False   \n",
              "2233                  6               4325                  False   \n",
              "\n",
              "      Marital_Status_Married  Marital_Status_Together  \\\n",
              "2110                   False                    False   \n",
              "2233                   False                     True   \n",
              "\n",
              "      Marital_Status_Divorced  Marital_Status_Widow  \n",
              "2110                    False                  True  \n",
              "2233                    False                 False  \n",
              "\n",
              "[2 rows x 22 columns]"
            ],
            "text/html": [
              "\n",
              "  <div id=\"df-da39815a-c3d5-4761-afa5-4a82d4c3c25e\" class=\"colab-df-container\">\n",
              "    <div>\n",
              "<style scoped>\n",
              "    .dataframe tbody tr th:only-of-type {\n",
              "        vertical-align: middle;\n",
              "    }\n",
              "\n",
              "    .dataframe tbody tr th {\n",
              "        vertical-align: top;\n",
              "    }\n",
              "\n",
              "    .dataframe thead th {\n",
              "        text-align: right;\n",
              "    }\n",
              "</style>\n",
              "<table border=\"1\" class=\"dataframe\">\n",
              "  <thead>\n",
              "    <tr style=\"text-align: right;\">\n",
              "      <th></th>\n",
              "      <th>Year_Birth</th>\n",
              "      <th>Income</th>\n",
              "      <th>Kidhome</th>\n",
              "      <th>Teenhome</th>\n",
              "      <th>Recency</th>\n",
              "      <th>MntWines</th>\n",
              "      <th>MntFruits</th>\n",
              "      <th>MntMeatProducts</th>\n",
              "      <th>MntFishProducts</th>\n",
              "      <th>MntSweetProducts</th>\n",
              "      <th>...</th>\n",
              "      <th>NumWebPurchases</th>\n",
              "      <th>NumCatalogPurchases</th>\n",
              "      <th>NumStorePurchases</th>\n",
              "      <th>NumWebVisitsMonth</th>\n",
              "      <th>Customer_For_Days</th>\n",
              "      <th>Marital_Status_Single</th>\n",
              "      <th>Marital_Status_Married</th>\n",
              "      <th>Marital_Status_Together</th>\n",
              "      <th>Marital_Status_Divorced</th>\n",
              "      <th>Marital_Status_Widow</th>\n",
              "    </tr>\n",
              "  </thead>\n",
              "  <tbody>\n",
              "    <tr>\n",
              "      <th>2110</th>\n",
              "      <td>1955</td>\n",
              "      <td>58275.0</td>\n",
              "      <td>1</td>\n",
              "      <td>1</td>\n",
              "      <td>48</td>\n",
              "      <td>189</td>\n",
              "      <td>10</td>\n",
              "      <td>253</td>\n",
              "      <td>56</td>\n",
              "      <td>43</td>\n",
              "      <td>...</td>\n",
              "      <td>8</td>\n",
              "      <td>2</td>\n",
              "      <td>7</td>\n",
              "      <td>7</td>\n",
              "      <td>4325</td>\n",
              "      <td>False</td>\n",
              "      <td>False</td>\n",
              "      <td>False</td>\n",
              "      <td>False</td>\n",
              "      <td>True</td>\n",
              "    </tr>\n",
              "    <tr>\n",
              "      <th>2233</th>\n",
              "      <td>1977</td>\n",
              "      <td>666666.0</td>\n",
              "      <td>1</td>\n",
              "      <td>0</td>\n",
              "      <td>23</td>\n",
              "      <td>9</td>\n",
              "      <td>14</td>\n",
              "      <td>18</td>\n",
              "      <td>8</td>\n",
              "      <td>1</td>\n",
              "      <td>...</td>\n",
              "      <td>3</td>\n",
              "      <td>1</td>\n",
              "      <td>3</td>\n",
              "      <td>6</td>\n",
              "      <td>4325</td>\n",
              "      <td>False</td>\n",
              "      <td>False</td>\n",
              "      <td>True</td>\n",
              "      <td>False</td>\n",
              "      <td>False</td>\n",
              "    </tr>\n",
              "  </tbody>\n",
              "</table>\n",
              "<p>2 rows × 22 columns</p>\n",
              "</div>\n",
              "    <div class=\"colab-df-buttons\">\n",
              "\n",
              "  <div class=\"colab-df-container\">\n",
              "    <button class=\"colab-df-convert\" onclick=\"convertToInteractive('df-da39815a-c3d5-4761-afa5-4a82d4c3c25e')\"\n",
              "            title=\"Convert this dataframe to an interactive table.\"\n",
              "            style=\"display:none;\">\n",
              "\n",
              "  <svg xmlns=\"http://www.w3.org/2000/svg\" height=\"24px\" viewBox=\"0 -960 960 960\">\n",
              "    <path d=\"M120-120v-720h720v720H120Zm60-500h600v-160H180v160Zm220 220h160v-160H400v160Zm0 220h160v-160H400v160ZM180-400h160v-160H180v160Zm440 0h160v-160H620v160ZM180-180h160v-160H180v160Zm440 0h160v-160H620v160Z\"/>\n",
              "  </svg>\n",
              "    </button>\n",
              "\n",
              "  <style>\n",
              "    .colab-df-container {\n",
              "      display:flex;\n",
              "      gap: 12px;\n",
              "    }\n",
              "\n",
              "    .colab-df-convert {\n",
              "      background-color: #E8F0FE;\n",
              "      border: none;\n",
              "      border-radius: 50%;\n",
              "      cursor: pointer;\n",
              "      display: none;\n",
              "      fill: #1967D2;\n",
              "      height: 32px;\n",
              "      padding: 0 0 0 0;\n",
              "      width: 32px;\n",
              "    }\n",
              "\n",
              "    .colab-df-convert:hover {\n",
              "      background-color: #E2EBFA;\n",
              "      box-shadow: 0px 1px 2px rgba(60, 64, 67, 0.3), 0px 1px 3px 1px rgba(60, 64, 67, 0.15);\n",
              "      fill: #174EA6;\n",
              "    }\n",
              "\n",
              "    .colab-df-buttons div {\n",
              "      margin-bottom: 4px;\n",
              "    }\n",
              "\n",
              "    [theme=dark] .colab-df-convert {\n",
              "      background-color: #3B4455;\n",
              "      fill: #D2E3FC;\n",
              "    }\n",
              "\n",
              "    [theme=dark] .colab-df-convert:hover {\n",
              "      background-color: #434B5C;\n",
              "      box-shadow: 0px 1px 3px 1px rgba(0, 0, 0, 0.15);\n",
              "      filter: drop-shadow(0px 1px 2px rgba(0, 0, 0, 0.3));\n",
              "      fill: #FFFFFF;\n",
              "    }\n",
              "  </style>\n",
              "\n",
              "    <script>\n",
              "      const buttonEl =\n",
              "        document.querySelector('#df-da39815a-c3d5-4761-afa5-4a82d4c3c25e button.colab-df-convert');\n",
              "      buttonEl.style.display =\n",
              "        google.colab.kernel.accessAllowed ? 'block' : 'none';\n",
              "\n",
              "      async function convertToInteractive(key) {\n",
              "        const element = document.querySelector('#df-da39815a-c3d5-4761-afa5-4a82d4c3c25e');\n",
              "        const dataTable =\n",
              "          await google.colab.kernel.invokeFunction('convertToInteractive',\n",
              "                                                    [key], {});\n",
              "        if (!dataTable) return;\n",
              "\n",
              "        const docLinkHtml = 'Like what you see? Visit the ' +\n",
              "          '<a target=\"_blank\" href=https://colab.research.google.com/notebooks/data_table.ipynb>data table notebook</a>'\n",
              "          + ' to learn more about interactive tables.';\n",
              "        element.innerHTML = '';\n",
              "        dataTable['output_type'] = 'display_data';\n",
              "        await google.colab.output.renderOutput(dataTable, element);\n",
              "        const docLink = document.createElement('div');\n",
              "        docLink.innerHTML = docLinkHtml;\n",
              "        element.appendChild(docLink);\n",
              "      }\n",
              "    </script>\n",
              "  </div>\n",
              "\n",
              "\n",
              "<div id=\"df-b98d9602-cba3-4439-a66f-6d8c1a38b6e5\">\n",
              "  <button class=\"colab-df-quickchart\" onclick=\"quickchart('df-b98d9602-cba3-4439-a66f-6d8c1a38b6e5')\"\n",
              "            title=\"Suggest charts\"\n",
              "            style=\"display:none;\">\n",
              "\n",
              "<svg xmlns=\"http://www.w3.org/2000/svg\" height=\"24px\"viewBox=\"0 0 24 24\"\n",
              "     width=\"24px\">\n",
              "    <g>\n",
              "        <path d=\"M19 3H5c-1.1 0-2 .9-2 2v14c0 1.1.9 2 2 2h14c1.1 0 2-.9 2-2V5c0-1.1-.9-2-2-2zM9 17H7v-7h2v7zm4 0h-2V7h2v10zm4 0h-2v-4h2v4z\"/>\n",
              "    </g>\n",
              "</svg>\n",
              "  </button>\n",
              "\n",
              "<style>\n",
              "  .colab-df-quickchart {\n",
              "      --bg-color: #E8F0FE;\n",
              "      --fill-color: #1967D2;\n",
              "      --hover-bg-color: #E2EBFA;\n",
              "      --hover-fill-color: #174EA6;\n",
              "      --disabled-fill-color: #AAA;\n",
              "      --disabled-bg-color: #DDD;\n",
              "  }\n",
              "\n",
              "  [theme=dark] .colab-df-quickchart {\n",
              "      --bg-color: #3B4455;\n",
              "      --fill-color: #D2E3FC;\n",
              "      --hover-bg-color: #434B5C;\n",
              "      --hover-fill-color: #FFFFFF;\n",
              "      --disabled-bg-color: #3B4455;\n",
              "      --disabled-fill-color: #666;\n",
              "  }\n",
              "\n",
              "  .colab-df-quickchart {\n",
              "    background-color: var(--bg-color);\n",
              "    border: none;\n",
              "    border-radius: 50%;\n",
              "    cursor: pointer;\n",
              "    display: none;\n",
              "    fill: var(--fill-color);\n",
              "    height: 32px;\n",
              "    padding: 0;\n",
              "    width: 32px;\n",
              "  }\n",
              "\n",
              "  .colab-df-quickchart:hover {\n",
              "    background-color: var(--hover-bg-color);\n",
              "    box-shadow: 0 1px 2px rgba(60, 64, 67, 0.3), 0 1px 3px 1px rgba(60, 64, 67, 0.15);\n",
              "    fill: var(--button-hover-fill-color);\n",
              "  }\n",
              "\n",
              "  .colab-df-quickchart-complete:disabled,\n",
              "  .colab-df-quickchart-complete:disabled:hover {\n",
              "    background-color: var(--disabled-bg-color);\n",
              "    fill: var(--disabled-fill-color);\n",
              "    box-shadow: none;\n",
              "  }\n",
              "\n",
              "  .colab-df-spinner {\n",
              "    border: 2px solid var(--fill-color);\n",
              "    border-color: transparent;\n",
              "    border-bottom-color: var(--fill-color);\n",
              "    animation:\n",
              "      spin 1s steps(1) infinite;\n",
              "  }\n",
              "\n",
              "  @keyframes spin {\n",
              "    0% {\n",
              "      border-color: transparent;\n",
              "      border-bottom-color: var(--fill-color);\n",
              "      border-left-color: var(--fill-color);\n",
              "    }\n",
              "    20% {\n",
              "      border-color: transparent;\n",
              "      border-left-color: var(--fill-color);\n",
              "      border-top-color: var(--fill-color);\n",
              "    }\n",
              "    30% {\n",
              "      border-color: transparent;\n",
              "      border-left-color: var(--fill-color);\n",
              "      border-top-color: var(--fill-color);\n",
              "      border-right-color: var(--fill-color);\n",
              "    }\n",
              "    40% {\n",
              "      border-color: transparent;\n",
              "      border-right-color: var(--fill-color);\n",
              "      border-top-color: var(--fill-color);\n",
              "    }\n",
              "    60% {\n",
              "      border-color: transparent;\n",
              "      border-right-color: var(--fill-color);\n",
              "    }\n",
              "    80% {\n",
              "      border-color: transparent;\n",
              "      border-right-color: var(--fill-color);\n",
              "      border-bottom-color: var(--fill-color);\n",
              "    }\n",
              "    90% {\n",
              "      border-color: transparent;\n",
              "      border-bottom-color: var(--fill-color);\n",
              "    }\n",
              "  }\n",
              "</style>\n",
              "\n",
              "  <script>\n",
              "    async function quickchart(key) {\n",
              "      const quickchartButtonEl =\n",
              "        document.querySelector('#' + key + ' button');\n",
              "      quickchartButtonEl.disabled = true;  // To prevent multiple clicks.\n",
              "      quickchartButtonEl.classList.add('colab-df-spinner');\n",
              "      try {\n",
              "        const charts = await google.colab.kernel.invokeFunction(\n",
              "            'suggestCharts', [key], {});\n",
              "      } catch (error) {\n",
              "        console.error('Error during call to suggestCharts:', error);\n",
              "      }\n",
              "      quickchartButtonEl.classList.remove('colab-df-spinner');\n",
              "      quickchartButtonEl.classList.add('colab-df-quickchart-complete');\n",
              "    }\n",
              "    (() => {\n",
              "      let quickchartButtonEl =\n",
              "        document.querySelector('#df-b98d9602-cba3-4439-a66f-6d8c1a38b6e5 button');\n",
              "      quickchartButtonEl.style.display =\n",
              "        google.colab.kernel.accessAllowed ? 'block' : 'none';\n",
              "    })();\n",
              "  </script>\n",
              "</div>\n",
              "    </div>\n",
              "  </div>\n"
            ],
            "application/vnd.google.colaboratory.intrinsic+json": {
              "type": "dataframe"
            }
          },
          "metadata": {},
          "execution_count": 59
        }
      ]
    },
    {
      "cell_type": "code",
      "source": [
        "data = data[data['Cluster'] != 2]"
      ],
      "metadata": {
        "id": "b-XIFVtzlghU"
      },
      "execution_count": 48,
      "outputs": []
    },
    {
      "cell_type": "code",
      "source": [
        "data[\"Cluster\"].value_counts()"
      ],
      "metadata": {
        "colab": {
          "base_uri": "https://localhost:8080/",
          "height": 178
        },
        "id": "VT3M2ZTflHdG",
        "outputId": "eeec2c15-4e86-422d-9a99-c2e3c4aaab3b"
      },
      "execution_count": 51,
      "outputs": [
        {
          "output_type": "execute_result",
          "data": {
            "text/plain": [
              "Cluster\n",
              "0    1167\n",
              "1    1072\n",
              "Name: count, dtype: int64"
            ],
            "text/html": [
              "<div>\n",
              "<style scoped>\n",
              "    .dataframe tbody tr th:only-of-type {\n",
              "        vertical-align: middle;\n",
              "    }\n",
              "\n",
              "    .dataframe tbody tr th {\n",
              "        vertical-align: top;\n",
              "    }\n",
              "\n",
              "    .dataframe thead th {\n",
              "        text-align: right;\n",
              "    }\n",
              "</style>\n",
              "<table border=\"1\" class=\"dataframe\">\n",
              "  <thead>\n",
              "    <tr style=\"text-align: right;\">\n",
              "      <th></th>\n",
              "      <th>count</th>\n",
              "    </tr>\n",
              "    <tr>\n",
              "      <th>Cluster</th>\n",
              "      <th></th>\n",
              "    </tr>\n",
              "  </thead>\n",
              "  <tbody>\n",
              "    <tr>\n",
              "      <th>0</th>\n",
              "      <td>1167</td>\n",
              "    </tr>\n",
              "    <tr>\n",
              "      <th>1</th>\n",
              "      <td>1072</td>\n",
              "    </tr>\n",
              "  </tbody>\n",
              "</table>\n",
              "</div><br><label><b>dtype:</b> int64</label>"
            ]
          },
          "metadata": {},
          "execution_count": 51
        }
      ]
    },
    {
      "cell_type": "code",
      "source": [
        "features = [\n",
        "    'Year_Birth',\n",
        "    'Income',\n",
        "    'Kidhome',\n",
        "    'Teenhome',\n",
        "    'Recency',\n",
        "    'MntWines',\n",
        "    'MntFruits',\n",
        "    'MntMeatProducts',\n",
        "    'MntFishProducts',\n",
        "    'MntSweetProducts',\n",
        "    'MntGoldProds',\n",
        "    'NumDealsPurchases',\n",
        "    'NumWebPurchases',\n",
        "    'NumCatalogPurchases',\n",
        "    'NumStorePurchases',\n",
        "    'NumWebVisitsMonth',\n",
        "    'Customer_For_Days',\n",
        "    'Marital_Status_Single',\n",
        "    'Marital_Status_Married',\n",
        "    'Marital_Status_Together',\n",
        "    'Marital_Status_Divorced',\n",
        "    'Marital_Status_Widow',\n",
        "]\n",
        "\n",
        "X = data[features]"
      ],
      "metadata": {
        "id": "3IxUofoWnYt5"
      },
      "execution_count": 60,
      "outputs": []
    },
    {
      "cell_type": "code",
      "source": [
        "X.loc[X['Customer_For_Days'] == 4325]"
      ],
      "metadata": {
        "colab": {
          "base_uri": "https://localhost:8080/",
          "height": 130
        },
        "id": "v56uz9VMnkEG",
        "outputId": "b79f5b9a-0e1d-41fd-f491-266dbf1a0e89"
      },
      "execution_count": 61,
      "outputs": [
        {
          "output_type": "execute_result",
          "data": {
            "text/plain": [
              "      Year_Birth   Income  Kidhome  Teenhome  Recency  MntWines  MntFruits  \\\n",
              "2110        1955  58275.0        1         1       48       189         10   \n",
              "\n",
              "      MntMeatProducts  MntFishProducts  MntSweetProducts  ...  \\\n",
              "2110              253               56                43  ...   \n",
              "\n",
              "      NumWebPurchases  NumCatalogPurchases  NumStorePurchases  \\\n",
              "2110                8                    2                  7   \n",
              "\n",
              "      NumWebVisitsMonth  Customer_For_Days  Marital_Status_Single  \\\n",
              "2110                  7               4325                  False   \n",
              "\n",
              "      Marital_Status_Married  Marital_Status_Together  \\\n",
              "2110                   False                    False   \n",
              "\n",
              "      Marital_Status_Divorced  Marital_Status_Widow  \n",
              "2110                    False                  True  \n",
              "\n",
              "[1 rows x 22 columns]"
            ],
            "text/html": [
              "\n",
              "  <div id=\"df-8af6f69e-8e9e-4a99-b748-2b9a2d748b8d\" class=\"colab-df-container\">\n",
              "    <div>\n",
              "<style scoped>\n",
              "    .dataframe tbody tr th:only-of-type {\n",
              "        vertical-align: middle;\n",
              "    }\n",
              "\n",
              "    .dataframe tbody tr th {\n",
              "        vertical-align: top;\n",
              "    }\n",
              "\n",
              "    .dataframe thead th {\n",
              "        text-align: right;\n",
              "    }\n",
              "</style>\n",
              "<table border=\"1\" class=\"dataframe\">\n",
              "  <thead>\n",
              "    <tr style=\"text-align: right;\">\n",
              "      <th></th>\n",
              "      <th>Year_Birth</th>\n",
              "      <th>Income</th>\n",
              "      <th>Kidhome</th>\n",
              "      <th>Teenhome</th>\n",
              "      <th>Recency</th>\n",
              "      <th>MntWines</th>\n",
              "      <th>MntFruits</th>\n",
              "      <th>MntMeatProducts</th>\n",
              "      <th>MntFishProducts</th>\n",
              "      <th>MntSweetProducts</th>\n",
              "      <th>...</th>\n",
              "      <th>NumWebPurchases</th>\n",
              "      <th>NumCatalogPurchases</th>\n",
              "      <th>NumStorePurchases</th>\n",
              "      <th>NumWebVisitsMonth</th>\n",
              "      <th>Customer_For_Days</th>\n",
              "      <th>Marital_Status_Single</th>\n",
              "      <th>Marital_Status_Married</th>\n",
              "      <th>Marital_Status_Together</th>\n",
              "      <th>Marital_Status_Divorced</th>\n",
              "      <th>Marital_Status_Widow</th>\n",
              "    </tr>\n",
              "  </thead>\n",
              "  <tbody>\n",
              "    <tr>\n",
              "      <th>2110</th>\n",
              "      <td>1955</td>\n",
              "      <td>58275.0</td>\n",
              "      <td>1</td>\n",
              "      <td>1</td>\n",
              "      <td>48</td>\n",
              "      <td>189</td>\n",
              "      <td>10</td>\n",
              "      <td>253</td>\n",
              "      <td>56</td>\n",
              "      <td>43</td>\n",
              "      <td>...</td>\n",
              "      <td>8</td>\n",
              "      <td>2</td>\n",
              "      <td>7</td>\n",
              "      <td>7</td>\n",
              "      <td>4325</td>\n",
              "      <td>False</td>\n",
              "      <td>False</td>\n",
              "      <td>False</td>\n",
              "      <td>False</td>\n",
              "      <td>True</td>\n",
              "    </tr>\n",
              "  </tbody>\n",
              "</table>\n",
              "<p>1 rows × 22 columns</p>\n",
              "</div>\n",
              "    <div class=\"colab-df-buttons\">\n",
              "\n",
              "  <div class=\"colab-df-container\">\n",
              "    <button class=\"colab-df-convert\" onclick=\"convertToInteractive('df-8af6f69e-8e9e-4a99-b748-2b9a2d748b8d')\"\n",
              "            title=\"Convert this dataframe to an interactive table.\"\n",
              "            style=\"display:none;\">\n",
              "\n",
              "  <svg xmlns=\"http://www.w3.org/2000/svg\" height=\"24px\" viewBox=\"0 -960 960 960\">\n",
              "    <path d=\"M120-120v-720h720v720H120Zm60-500h600v-160H180v160Zm220 220h160v-160H400v160Zm0 220h160v-160H400v160ZM180-400h160v-160H180v160Zm440 0h160v-160H620v160ZM180-180h160v-160H180v160Zm440 0h160v-160H620v160Z\"/>\n",
              "  </svg>\n",
              "    </button>\n",
              "\n",
              "  <style>\n",
              "    .colab-df-container {\n",
              "      display:flex;\n",
              "      gap: 12px;\n",
              "    }\n",
              "\n",
              "    .colab-df-convert {\n",
              "      background-color: #E8F0FE;\n",
              "      border: none;\n",
              "      border-radius: 50%;\n",
              "      cursor: pointer;\n",
              "      display: none;\n",
              "      fill: #1967D2;\n",
              "      height: 32px;\n",
              "      padding: 0 0 0 0;\n",
              "      width: 32px;\n",
              "    }\n",
              "\n",
              "    .colab-df-convert:hover {\n",
              "      background-color: #E2EBFA;\n",
              "      box-shadow: 0px 1px 2px rgba(60, 64, 67, 0.3), 0px 1px 3px 1px rgba(60, 64, 67, 0.15);\n",
              "      fill: #174EA6;\n",
              "    }\n",
              "\n",
              "    .colab-df-buttons div {\n",
              "      margin-bottom: 4px;\n",
              "    }\n",
              "\n",
              "    [theme=dark] .colab-df-convert {\n",
              "      background-color: #3B4455;\n",
              "      fill: #D2E3FC;\n",
              "    }\n",
              "\n",
              "    [theme=dark] .colab-df-convert:hover {\n",
              "      background-color: #434B5C;\n",
              "      box-shadow: 0px 1px 3px 1px rgba(0, 0, 0, 0.15);\n",
              "      filter: drop-shadow(0px 1px 2px rgba(0, 0, 0, 0.3));\n",
              "      fill: #FFFFFF;\n",
              "    }\n",
              "  </style>\n",
              "\n",
              "    <script>\n",
              "      const buttonEl =\n",
              "        document.querySelector('#df-8af6f69e-8e9e-4a99-b748-2b9a2d748b8d button.colab-df-convert');\n",
              "      buttonEl.style.display =\n",
              "        google.colab.kernel.accessAllowed ? 'block' : 'none';\n",
              "\n",
              "      async function convertToInteractive(key) {\n",
              "        const element = document.querySelector('#df-8af6f69e-8e9e-4a99-b748-2b9a2d748b8d');\n",
              "        const dataTable =\n",
              "          await google.colab.kernel.invokeFunction('convertToInteractive',\n",
              "                                                    [key], {});\n",
              "        if (!dataTable) return;\n",
              "\n",
              "        const docLinkHtml = 'Like what you see? Visit the ' +\n",
              "          '<a target=\"_blank\" href=https://colab.research.google.com/notebooks/data_table.ipynb>data table notebook</a>'\n",
              "          + ' to learn more about interactive tables.';\n",
              "        element.innerHTML = '';\n",
              "        dataTable['output_type'] = 'display_data';\n",
              "        await google.colab.output.renderOutput(dataTable, element);\n",
              "        const docLink = document.createElement('div');\n",
              "        docLink.innerHTML = docLinkHtml;\n",
              "        element.appendChild(docLink);\n",
              "      }\n",
              "    </script>\n",
              "  </div>\n",
              "\n",
              "    </div>\n",
              "  </div>\n"
            ],
            "application/vnd.google.colaboratory.intrinsic+json": {
              "type": "dataframe"
            }
          },
          "metadata": {},
          "execution_count": 61
        }
      ]
    },
    {
      "cell_type": "markdown",
      "source": [
        "Видаляю викид і в **X** щоб не потрапляв до моделі"
      ],
      "metadata": {
        "id": "iOG5rVyRofqI"
      }
    },
    {
      "cell_type": "markdown",
      "source": [
        "**Завдання 8.** Виконайте Elbow method для пошуку оптимальної кількості кластерів та натренуйте KMeans з тою кількістю кластерів, яку Elbow method показав як оптимальну. Обчисліть метрику силуету. Візуалізуйте кластери. З яким набором даних (масштабованим чи ні) тут працювати - ваш вибір, можна зробити експеримент з обома."
      ],
      "metadata": {
        "id": "KKwONE0bg6Ms"
      }
    },
    {
      "cell_type": "code",
      "source": [
        "import matplotlib.pyplot as plt\n",
        "\n",
        "K = range(1,10)\n",
        "sum_of_squared_distances = []\n",
        "\n",
        "for k in K:\n",
        "    model = KMeans(n_clusters=k, n_init='auto').fit(X)\n",
        "    sum_of_squared_distances.append(model.inertia_)\n",
        "\n",
        "plt.plot(K, sum_of_squared_distances, 'bx-')\n",
        "plt.xlabel('K values')\n",
        "plt.ylabel('Sum of Squared Distances')\n",
        "plt.title('Elbow Method')\n",
        "plt.show()"
      ],
      "metadata": {
        "id": "6spgXhWnv7w4",
        "colab": {
          "base_uri": "https://localhost:8080/",
          "height": 472
        },
        "outputId": "21397008-eca0-4905-a8b2-a73922b73138"
      },
      "execution_count": 62,
      "outputs": [
        {
          "output_type": "display_data",
          "data": {
            "text/plain": [
              "<Figure size 640x480 with 1 Axes>"
            ],
            "image/png": "[encoded data removed]"
          },
          "metadata": {}
        }
      ]
    },
    {
      "cell_type": "code",
      "source": [
        "from sklearn.cluster import KMeans\n",
        "\n",
        "kmeans = KMeans(n_clusters=2, n_init='auto')\n",
        "kmeans.fit(X)\n",
        "\n",
        "clusters = kmeans.predict(X)"
      ],
      "metadata": {
        "id": "2Ht2GIJgmtXG"
      },
      "execution_count": 70,
      "outputs": []
    },
    {
      "cell_type": "code",
      "source": [
        "from sklearn import metrics\n",
        "\n",
        "centroids = kmeans.cluster_centers_\n",
        "s = metrics.silhouette_score(X, clusters, metric='euclidean')\n",
        "print(f'Silhouette Coefficient for the data Dataset Clusters: {s:.3f}')"
      ],
      "metadata": {
        "colab": {
          "base_uri": "https://localhost:8080/"
        },
        "id": "5zM_yIOhmtNg",
        "outputId": "0c77c425-4d2d-42fd-cfc1-35b557dc4854"
      },
      "execution_count": 71,
      "outputs": [
        {
          "output_type": "stream",
          "name": "stdout",
          "text": [
            "Silhouette Coefficient for the data Dataset Clusters: 0.598\n"
          ]
        }
      ]
    },
    {
      "cell_type": "markdown",
      "source": [
        "Після видалення викиду чітко розділяється на **2 кластери** з оцінкою **0.598**\n",
        "\n",
        "методом ліктя видно що різке падіння зупиняється на **2**"
      ],
      "metadata": {
        "id": "hxCUorF_oObG"
      }
    },
    {
      "cell_type": "code",
      "source": [
        "import matplotlib.pyplot as plt\n",
        "\n",
        "K = range(1,10)\n",
        "sum_of_squared_distances = []\n",
        "\n",
        "for k in K:\n",
        "    model_s = KMeans(n_clusters=k, n_init='auto').fit(X_scaled)\n",
        "    sum_of_squared_distances.append(model_s.inertia_)\n",
        "\n",
        "plt.plot(K, sum_of_squared_distances, 'bx-')\n",
        "plt.xlabel('K values')\n",
        "plt.ylabel('Sum of Squared Distances')\n",
        "plt.title('Elbow Method')\n",
        "plt.show()"
      ],
      "metadata": {
        "colab": {
          "base_uri": "https://localhost:8080/",
          "height": 472
        },
        "id": "ZUUXhuO-mGYU",
        "outputId": "1f1113d5-f6be-4f33-f869-df3148aa5524"
      },
      "execution_count": 63,
      "outputs": [
        {
          "output_type": "display_data",
          "data": {
            "text/plain": [
              "<Figure size 640x480 with 1 Axes>"
            ],
            "image/png": "[encoded data removed]"
          },
          "metadata": {}
        }
      ]
    },
    {
      "cell_type": "code",
      "source": [
        "from sklearn.preprocessing import StandardScaler\n",
        "\n",
        "scaler = StandardScaler()\n",
        "X_scaled = scaler.fit_transform(X)"
      ],
      "metadata": {
        "id": "mroazTNloM6u"
      },
      "execution_count": 72,
      "outputs": []
    },
    {
      "cell_type": "code",
      "source": [
        "from sklearn.cluster import KMeans\n",
        "\n",
        "kmeans_s = KMeans(n_clusters=2, n_init='auto')\n",
        "kmeans_s.fit(X_scaled)\n",
        "\n",
        "clusters_s = kmeans_s.predict(X_scaled)"
      ],
      "metadata": {
        "id": "Q3VC82JZmGVz"
      },
      "execution_count": 79,
      "outputs": []
    },
    {
      "cell_type": "code",
      "source": [
        "from sklearn.metrics import silhouette_score\n",
        "\n",
        "silhouette = silhouette_score(X_scaled, clusters_s)\n",
        "print(f\"Silhouette Score: {silhouette:.3f}\")"
      ],
      "metadata": {
        "colab": {
          "base_uri": "https://localhost:8080/"
        },
        "id": "ShyXPNLfoS7X",
        "outputId": "0a520b31-2f7c-480c-e0a0-0b6c899e8540"
      },
      "execution_count": 80,
      "outputs": [
        {
          "output_type": "stream",
          "name": "stdout",
          "text": [
            "Silhouette Score: 0.227\n"
          ]
        }
      ]
    },
    {
      "cell_type": "markdown",
      "source": [
        "З маштабованими даними оцінка нижча - **0.227**, але більше показує реальну картину\n",
        "\n",
        "також видно що після 2 різко перестає падати рівень лінії\n",
        "\n"
      ],
      "metadata": {
        "id": "oPRcGhGgo8_a"
      }
    },
    {
      "cell_type": "markdown",
      "source": [
        "**Завдання 9.** Використовуючи методи `scipy` `dendrogram, linkage, fcluster`\n",
        "1. Побудуйте ієрархічну агломеративну кластеризацію з `single linkage` на даних невідмасштабованих, але з прибраним викидом.\n",
        "2. Візуалізуйте дендрограму. При візуалізації обовʼязково задайте параметр `truncate_mode='lastp'` - це обріже дендрограму, без цього вона буде завелика, бо у нас тут даних суттєво більше, ніж в лекції.\n",
        "3. Проаналізуйте дендрограму та побудуйте варіанти плоских кластеризацій з `fcluster` на 2 і 3 кластери. Візуалізуйте результати кожної з цих кластеризацій та зробіть висновок. Чи вважаєте ви якусь з цих кластеризацій вдалою? Що спостерігаєте з цих кластеризацій?\n",
        "4. Порахуйте мерику силуету для цього методу кластеризації."
      ],
      "metadata": {
        "id": "IAkub9oLilZ1"
      }
    },
    {
      "cell_type": "code",
      "source": [
        "from scipy.cluster.hierarchy import dendrogram, linkage, fcluster"
      ],
      "metadata": {
        "id": "Tdk_lgGjv-IL"
      },
      "execution_count": 81,
      "outputs": []
    },
    {
      "cell_type": "code",
      "source": [
        "dist_sin = linkage(X, method=\"single\")\n",
        "plt.figure(figsize=(18,6))\n",
        "dendrogram( dist_sin, truncate_mode='lastp', leaf_rotation=90)\n",
        "plt.xlabel('Index')\n",
        "plt.ylabel('Distance')\n",
        "plt.suptitle(\"DENDROGRAM SINGLE METHOD\",fontsize=18)\n",
        "plt.show()"
      ],
      "metadata": {
        "colab": {
          "base_uri": "https://localhost:8080/",
          "height": 654
        },
        "id": "LkEPQ5RkpSne",
        "outputId": "48619a5a-ef31-4125-c0da-e5218eb6b031"
      },
      "execution_count": 82,
      "outputs": [
        {
          "output_type": "display_data",
          "data": {
            "text/plain": [
              "<Figure size 1800x600 with 1 Axes>"
            ],
            "image/png": "[encoded data removed]"
          },
          "metadata": {}
        }
      ]
    },
    {
      "cell_type": "markdown",
      "source": [
        "Видно, що чітко виділяються два кластери."
      ],
      "metadata": {
        "id": "JawFFkAdtiYd"
      }
    },
    {
      "cell_type": "code",
      "source": [
        "from scipy.cluster.hierarchy import fcluster\n",
        "\n",
        "\n",
        "clusters_2 = fcluster(dist_sin, t=2, criterion='maxclust')\n",
        "clusters_3 = fcluster(dist_sin, t=3, criterion='maxclust')"
      ],
      "metadata": {
        "id": "o8Jk_Q-bpSld"
      },
      "execution_count": 88,
      "outputs": []
    },
    {
      "cell_type": "code",
      "source": [
        "import plotly.express as px\n",
        "\n",
        "\n",
        "fig = px.scatter_3d(\n",
        "    data,\n",
        "    x='Income',\n",
        "    y='TotalSpent',\n",
        "    z='NumStorePurchases',\n",
        "    color=clusters_2.astype(str),\n",
        "    title=\"Agglomerative Clustering (Single Linkage) - 2 Clusters\"\n",
        ")\n",
        "fig.show()\n",
        "\n",
        "fig = px.scatter_3d(\n",
        "    data,\n",
        "    x='Income',\n",
        "    y='TotalSpent',\n",
        "    z='NumStorePurchases',\n",
        "    color=clusters_3.astype(str),\n",
        "    title=\"Agglomerative Clustering (Single Linkage) - 3 Clusters\"\n",
        ")\n",
        "fig.show()"
      ],
      "metadata": {
        "colab": {
          "base_uri": "https://localhost:8080/",
          "height": 1000
        },
        "id": "CNiSUPnvpSi9",
        "outputId": "10530d8a-1143-459b-84e2-f7d673249a71"
      },
      "execution_count": 89,
      "outputs": [
        {
          "output_type": "display_data",
          "data": {
            "text/html": [
              "<html>\n",
              "<head><meta charset=\"utf-8\" /></head>\n",
              "<body>\n",
              "    <div>            <script src=\"https://cdnjs.cloudflare.com/ajax/libs/mathjax/2.7.5/MathJax.js?config=TeX-AMS-MML_SVG\"></script><script type=\"text/javascript\">if (window.MathJax && window.MathJax.Hub && window.MathJax.Hub.Config) {window.MathJax.Hub.Config({SVG: {font: \"STIX-Web\"}});}</script>                <script type=\"text/javascript\">window.PlotlyConfig = {MathJaxConfig: 'local'};</script>\n",
              "        <script charset=\"utf-8\" src=\"https://cdn.plot.ly/plotly-2.35.2.min.js\"></script>                <div id=\"56428390-6ac7-4de4-95e7-ca05087c30ec\" class=\"plotly-graph-div\" style=\"height:525px; width:100%;\"></div>            <script type=\"text/javascript\">                                    window.PLOTLYENV=window.PLOTLYENV || {};                                    if (document.getElementById(\"56428390-6ac7-4de4-95e7-ca05087c30ec\")) {                    Plotly.newPlot(                        \"56428390-6ac7-4de4-95e7-ca05087c30ec\",                        [{\"hovertemplate\":\"color=2\\u003cbr\\u003eIncome=%{x}\\u003cbr\\u003eTotalSpent=%{y}\\u003cbr\\u003eNumStorePurchases=%{z}\\u003cextra\\u003e\\u003c\\u002fextra\\u003e\",\"legendgroup\":\"2\",\"marker\":{\"color\":\"#636efa\",\"symbol\":\"circle\"},\"mode\":\"markers\",\"name\":\"2\",\"scene\":\"scene\",\"showlegend\":true,\"x\":[58138.0,46344.0,71613.0,26646.0,58293.0,62513.0,55635.0,33454.0,30351.0,5648.0,51381.5,7500.0,63033.0,59354.0,17323.0,82800.0,41850.0,37760.0,76995.0,33812.0,37040.0,2447.0,58607.0,65324.0,40689.0,18589.0,53359.0,51381.5,38360.0,84618.0,10979.0,38620.0,40548.0,46610.0,68657.0,49389.0,67353.0,23718.0,42429.0,48948.0,80011.0,20559.0,21994.0,51381.5,7500.0,79941.0,7500.0,41728.0,51381.5,72550.0,65486.0,79143.0,35790.0,82582.0,66373.0,82384.0,70287.0,27938.0,51381.5,55954.0,75777.0,66653.0,61823.0,67680.0,70666.0,25721.0,32474.0,88194.0,69096.0,74854.0,66991.0,51381.5,65031.0,60631.0,28332.0,40246.0,75251.0,75825.0,26326.0,56046.0,29760.0,26304.0,23559.0,38620.0,81361.0,29440.0,36138.0,50388.0,79593.0,54178.0,51381.5,51381.5,51381.5,42394.0,23626.0,30096.0,47916.0,51813.0,78497.0,50150.0,47823.0,34554.0,85693.0,65846.0,87195.0,24594.0,49096.0,52413.0,38557.0,89058.0,77298.0,68126.0,57288.0,86037.0,43974.0,50785.0,90765.0,36550.0,30753.0,21918.0,56129.0,32557.0,19510.0,30992.0,101970.0,71488.0,79607.0,54348.0,51381.5,77376.0,62998.0,61331.0,73448.0,51381.5,41551.0,62981.0,9548.0,33762.0,35860.0,36921.0,92859.0,65104.0,86111.0,68352.0,41883.0,59809.0,23957.0,38547.0,35688.0,49605.0,59354.0,65747.0,46344.0,34176.0,61010.0,69372.0,49967.0,60199.0,55375.0,80317.0,30523.0,70356.0,23228.0,74165.0,43482.0,62551.0,52332.0,66951.0,26091.0,33456.0,28718.0,50447.0,53537.0,52074.0,80427.0,83837.0,38853.0,38285.0,78497.0,51650.0,16248.0,66835.0,30477.0,28249.0,25271.0,32303.0,61286.0,74068.0,45759.0,24882.0,66973.0,36640.0,38872.0,51148.0,31353.0,69661.0,80067.0,86718.0,46854.0,69142.0,75922.0,63693.0,102160.0,40637.0,18890.0,29604.0,48721.0,44794.0,64497.0,46097.0,77972.0,44377.0,46014.0,70951.0,41443.0,52195.0,83790.0,44551.0,69508.0,45204.0,72460.0,77622.0,30732.0,63887.0,42011.0,51369.0,51537.0,79930.0,34320.0,37070.0,81975.0,38590.0,15033.0,62745.0,22212.0,23661.0,79761.0,7500.0,60182.0,73455.0,64961.0,22804.0,73687.0,61074.0,31686.0,80134.0,75027.0,67546.0,65176.0,31160.0,29938.0,102692.0,26490.0,75702.0,30899.0,63342.0,45989.0,18701.0,40737.0,15287.0,69674.0,44159.0,37717.0,43776.0,38179.0,80124.0,38097.0,72940.0,22070.0,69267.0,31788.0,61905.0,29315.0,33378.0,66313.0,60714.0,77882.0,69867.0,63841.0,24480.0,51369.0,37760.0,65640.0,44319.0,30631.0,75278.0,50898.0,79946.0,35416.0,32414.0,38361.0,82497.0,16626.0,29672.0,55951.0,35388.0,42386.0,68627.0,57912.0,35246.0,58821.0,46377.0,39747.0,23976.0,80950.0,27038.0,77457.0,64100.0,42670.0,12571.0,22574.0,51381.5,70893.0,54198.0,28839.0,40321.0,66503.0,30833.0,51381.5,64795.0,34421.0,47025.0,64325.0,40464.0,62187.0,14849.0,27255.0,54432.0,29999.0,24072.0,33996.0,66334.0,35178.0,22010.0,62204.0,75693.0,30675.0,83003.0,83532.0,68655.0,41411.0,55212.0,59292.0,27190.0,82623.0,44300.0,84835.0,30372.0,33181.0,71113.0,71952.0,69759.0,72099.0,60000.0,38643.0,50737.0,68462.0,65073.0,46681.0,78618.0,62187.0,28442.0,37717.0,51479.0,54803.0,79530.0,31615.0,72025.0,52614.0,35684.0,48178.0,29548.0,63810.0,38578.0,46098.0,22585.0,30279.0,66426.0,30822.0,33581.0,19986.0,27421.0,35688.0,36143.0,10245.0,43795.0,63381.0,38823.0,83664.0,90300.0,62499.0,74293.0,51012.0,70777.0,68682.0,43824.0,15345.0,23442.0,14515.0,31395.0,75276.0,42373.0,30507.0,55521.0,48006.0,27213.0,65808.0,30351.0,50437.0,23616.0,53858.0,66465.0,46923.0,75072.0,75865.0,19789.0,80134.0,91065.0,49505.0,37401.0,30096.0,18492.0,82584.0,93027.0,48686.0,92910.0,75433.0,10404.0,61314.0,84865.0,42387.0,67309.0,75236.0,30015.0,50943.0,67272.0,51529.0,32011.0,7500.0,28691.0,56223.0,18100.0,30279.0,20130.0,23295.0,42618.0,81246.0,24027.0,55707.0,57959.0,56796.0,36230.0,70829.0,65991.0,38988.0,89572.0,42207.0,50300.0,66664.0,60597.0,70165.0,50520.0,80124.0,33183.0,66582.0,75261.0,31880.0,53790.0,49269.0,61456.0,37406.0,56937.0,38415.0,20518.0,62503.0,41644.0,55842.0,62010.0,41124.0,38961.0,37760.0,32233.0,43057.0,83151.0,78825.0,65104.0,60093.0,14045.0,28457.0,78952.0,46310.0,76005.0,58308.0,55614.0,59432.0,55563.0,78642.0,67911.0,65275.0,27203.0,48330.0,24279.0,64355.0,50943.0,53653.0,65665.0,81217.0,34935.0,61250.0,39665.0,60152.0,48920.0,89120.0,44124.0,81169.0,36443.0,26095.0,71367.0,80184.0,30630.0,73454.0,42691.0,70503.0,25545.0,32880.0,77863.0,50353.0,61839.0,49154.0,47682.0,72679.0,57954.0,65316.0,28567.0,47352.0,44931.0,76982.0,57247.0,22944.0,25315.0,43638.0,42710.0,84169.0,54058.0,24683.0,85620.0,47850.0,19514.0,27159.0,39548.0,21474.0,60504.0,22419.0,81698.0,43462.0,54880.0,79908.0,15315.0,87771.0,33039.0,81741.0,71499.0,62466.0,48799.0,52157.0,66565.0,29298.0,47691.0,38200.0,44989.0,38443.0,38593.0,64413.0,36959.0,61996.0,51287.0,13260.0,47472.0,54603.0,45207.0,40689.0,47821.0,27450.0,39453.0,26850.0,79800.0,61794.0,53863.0,24221.0,39684.0,92163.0,69882.0,33178.0,59973.0,17459.0,23910.0,42169.0,26224.0,31089.0,30081.0,62807.0,72906.0,61467.0,49618.0,21888.0,42429.0,26150.0,30801.0,81168.0,26877.0,45006.0,18978.0,22574.0,48240.0,45837.0,35791.0,54162.0,30522.0,54456.0,31632.0,72298.0,36975.0,72635.0,13624.0,84196.0,70971.0,34487.0,28769.0,69084.0,65488.0,62466.0,32218.0,83917.0,46102.0,84574.0,56181.0,63120.0,73691.0,63381.0,76140.0,62859.0,45906.0,77632.0,46463.0,105471.0,55282.0,78710.0,66886.0,98777.0,29103.0,67445.0,50616.0,49431.0,61278.0,26490.0,73059.0,46734.0,56253.0,19986.0,58330.0,25965.0,14661.0,18690.0,45068.0,21063.0,29187.0,54690.0,59304.0,59247.0,66731.0,77353.0,52614.0,26751.0,81300.0,70337.0,36145.0,65295.0,68118.0,68743.0,41039.0,38946.0,65777.0,66476.0,86857.0,77845.0,69476.0,50611.0,61209.0,42315.0,13084.0,47570.0,61923.0,34824.0,26518.0,45938.0,78468.0,78901.0,71427.0,71022.0,90247.0,41335.0,71952.0,35682.0,43185.0,66375.0,35178.0,25252.0,55250.0,33249.0,58398.0,50272.0,76618.0,87305.0,25851.0,58710.0,45160.0,74806.0,59111.0,18988.0,72190.0,7500.0,44794.0,80395.0,75012.0,56962.0,89891.0,35946.0,53593.0,66373.0,45072.0,89694.0,72025.0,67432.0,70545.0,17487.0,62882.0,64108.0,34941.0,48767.0,38702.0,82224.0,83844.0,17003.0,71163.0,33697.0,63564.0,83443.0,51518.0,58330.0,80952.0,75507.0,63855.0,62220.0,58512.0,40662.0,38829.0,35523.0,79146.0,78285.0,31626.0,75127.0,48726.0,74985.0,67430.0,46891.0,62058.0,72063.0,78939.0,42720.0,33622.0,6835.0,41452.0,40760.0,74250.0,51124.0,72258.0,71466.0,36283.0,20587.0,30467.0,31590.0,20425.0,17144.0,42564.0,43783.0,40780.0,62847.0,82017.0,16813.0,51267.0,46524.0,45183.0,70421.0,60161.0,73926.0,19329.0,61872.0,46984.0,34838.0,82716.0,48192.0,49681.0,56850.0,55267.0,59666.0,72504.0,26872.0,21359.0,73170.0,52750.0,91820.0,65968.0,30772.0,22507.0,65685.0,25804.0,76412.0,22063.0,57091.0,22419.0,87771.0,78353.0,93404.0,37859.0,80995.0,16529.0,55412.0,48789.0,56575.0,25130.0,35441.0,71391.0,49494.0,81702.0,45889.0,56628.0,34026.0,40049.0,34176.0,19419.0,82504.0,81205.0,61618.0,55284.0,49980.0,15072.0,49166.0,65324.0,82347.0,30843.0,46374.0,60474.0,38576.0,55357.0,37758.0,85710.0,23228.0,44602.0,7500.0,38683.0,49514.0,57906.0,43456.0,19485.0,53172.0,30545.0,70123.0,62450.0,21675.0,42395.0,61346.0,80812.0,42835.0,39922.0,86424.0,17117.0,24762.0,35797.0,36627.0,51111.0,86857.0,82072.0,46231.0,42243.0,51195.0,68092.0,31814.0,51390.0,76630.0,26868.0,48948.0,55260.0,64090.0,78331.0,37087.0,21846.0,81320.0,54137.0,66825.0,57100.0,58917.0,85072.0,86429.0,45684.0,47889.0,45921.0,78420.0,75114.0,52278.0,35641.0,95529.0,62820.0,73113.0,84169.0,42607.0,74637.0,46015.0,72354.0,39858.0,34469.0,83033.0,24401.0,77583.0,74116.0,74293.0,68397.0,79632.0,46107.0,64950.0,25443.0,75127.0,32892.0,71796.0,67536.0,55239.0,60554.0,64831.0,56067.0,82025.0,94384.0,14906.0,51563.0,57937.0,68274.0,39771.0,67893.0,27922.0,52190.0,44051.0,42767.0,46106.0,16927.0,59754.0,53700.0,59041.0,54237.0,70647.0,52597.0,41021.0,40233.0,50183.0,54753.0,92955.0,33471.0,34596.0,44010.0,84219.0,40706.0,15716.0,59052.0,80573.0,83715.0,82576.0,56962.0,35704.0,53103.0,46779.0,4861.0,33462.0,63693.0,80763.0,65352.0,82170.0,75759.0,79689.0,35340.0,85683.0,24884.0,42021.0,64449.0,64587.0,34824.0,75437.0,26091.0,52845.0,46086.0,78028.0,95169.0,56337.0,22434.0,36930.0,36130.0,65569.0,83844.0,19514.0,36736.0,77568.0,49187.0,30168.0,34053.0,38196.0,59412.0,70924.0,54165.0,32300.0,20180.0,34961.0,28440.0,64504.0,33564.0,17345.0,56320.0,28647.0,15038.0,32173.0,68316.0,74538.0,91700.0,68695.0,31056.0,79593.0,28071.0,37334.0,46423.0,37126.0,47703.0,61180.0,38998.0,8028.0,76081.0,34728.0,33168.0,33585.0,77037.0,35196.0,44529.0,70924.0,28764.0,69098.0,25959.0,27100.0,70596.0,42557.0,53312.0,72228.0,67605.0,62845.0,65196.0,42000.0,35860.0,65526.0,16860.0,83528.0,64176.0,22304.0,67023.0,32892.0,70713.0,59925.0,39722.0,46610.0,88347.0,87171.0,26907.0,50014.0,41014.0,66294.0,36715.0,79456.0,40479.0,75345.0,54233.0,24163.0,84460.0,43776.0,71691.0,85844.0,39190.0,71367.0,38578.0,57236.0,61825.0,79803.0,80910.0,27590.0,56775.0,83829.0,54210.0,38508.0,53187.0,30023.0,76045.0,50870.0,15315.0,65463.0,66480.0,76773.0,81698.0,54466.0,98777.0,16269.0,71819.0,33569.0,36262.0,22634.0,47025.0,70566.0,31605.0,52034.0,48526.0,46734.0,39552.0,86358.0,46931.0,16581.0,63998.0,67381.0,25930.0,42693.0,85606.0,72903.0,49669.0,36778.0,85696.0,10979.0,49678.0,56129.0,37155.0,21282.0,33419.0,63285.0,21255.0,42162.0,54450.0,57744.0,26576.0,57513.0,68142.0,7500.0,83145.0,54197.0,23091.0,46049.0,56715.0,79410.0,57304.0,44375.0,54450.0,59594.0,80685.0,40344.0,62710.0,48985.0,35322.0,77142.0,81657.0,14421.0,20130.0,74214.0,66726.0,23724.0,47353.0,33444.0,54386.0,28510.0,90638.0,48070.0,43140.0,54959.0,15056.0,26954.0,22327.0,44393.0,62000.0,31497.0,45894.0,78579.0,67369.0,58401.0,62307.0,43641.0,63841.0,46891.0,70091.0,78075.0,59184.0,54809.0,58113.0,51412.0,15287.0,66636.0,50965.0,84618.0,18351.0,40451.0,36317.0,42213.0,65748.0,77044.0,74918.0,56721.0,42160.0,61559.0,33629.0,68682.0,34377.0,8940.0,26228.0,77297.0,40211.0,33438.0,75032.0,61284.0,22518.0,54730.0,38452.0,44421.0,38197.0,41986.0,28427.0,37395.0,64722.0,55249.0,84906.0,28691.0,44213.0,25707.0,59062.0,76624.0,66000.0,27683.0,1730.0,7500.0,40521.0,20427.0,65106.0,69969.0,67433.0,77766.0,74716.0,68118.0,55158.0,62972.0,74190.0,39356.0,76653.0,35860.0,90687.0,73450.0,31454.0,47139.0,83829.0,53378.0,19656.0,45579.0,85485.0,55956.0,64191.0,38808.0,57183.0,23748.0,66303.0,37368.0,40800.0,71847.0,46149.0,78687.0,49118.0,37633.0,39767.0,26997.0,33986.0,57091.0,46831.0,83151.0,52531.0,15759.0,22804.0,43050.0,42997.0,48918.0,60033.0,34043.0,57811.0,78569.0,7500.0,94384.0,23148.0,44267.0,71626.0,60894.0,50200.0,81051.0,65169.0,59868.0,65695.0,64857.0,45143.0,74805.0,59060.0,27238.0,47009.0,46094.0,40321.0,37235.0,81843.0,46692.0,77382.0,37774.0,18393.0,72828.0,24711.0,45503.0,6560.0,71604.0,27244.0,48752.0,71434.0,90842.0,88097.0,51948.0,71853.0,35876.0,40049.0,39660.0,50127.0,43263.0,62845.0,18929.0,24367.0,33249.0,26887.0,50150.0,62061.0,85696.0,76542.0,70515.0,18227.0,69139.0,69109.0,69627.0,38136.0,62159.0,80695.0,33316.0,58554.0,17256.0,53034.0,52203.0,59601.0,75154.0,47025.0,37971.0,41335.0,67267.0,57338.0,50523.0,35791.0,50611.0,56242.0,48904.0,56243.0,21355.0,57420.0,51381.5,46390.0,54342.0,51381.5,51381.5,20895.0,92344.0,51381.5,26907.0,44964.0,75507.0,53761.0,22682.0,38887.0,41658.0,29791.0,63915.0,39996.0,26759.0,63841.0,51039.0,60544.0,65685.0,37716.0,36864.0,44511.0,36947.0,47352.0,67087.0,57045.0,36957.0,69389.0,80134.0,43142.0,80589.0,34412.0,57537.0,22634.0,51315.0,36026.0,24639.0,34578.0,65704.0,63810.0,54132.0,18690.0,28164.0,34596.0,43269.0,38741.0,31907.0,27100.0,31163.0,92533.0,34853.0,70844.0,31086.0,60544.0,20491.0,42523.0,39922.0,33402.0,36408.0,21645.0,78427.0,82657.0,51876.0,78041.0,52852.0,70038.0,69401.0,46053.0,77343.0,73892.0,40304.0,32727.0,68695.0,43300.0,26290.0,93790.0,38410.0,64866.0,57957.0,46015.0,16531.0,28072.0,49476.0,50725.0,83844.0,41145.0,67419.0,23162.0,34380.0,34704.0,94871.0,65148.0,39898.0,64857.0,59892.0,41020.0,57072.0,60474.0,62807.0,19414.0,19107.0,75484.0,70379.0,79419.0,64014.0,76998.0,49854.0,60585.0,42873.0,87679.0,57867.0,35765.0,65492.0,32952.0,53374.0,71706.0,68487.0,53253.0,31163.0,42014.0,54108.0,49667.0,63206.0,57136.0,46772.0,78931.0,53977.0,84219.0,46098.0,73538.0,79529.0,20981.0,51766.0,55759.0,33039.0,37787.0,27242.0,87188.0,69930.0,37697.0,37401.0,3502.0,58597.0,82032.0,28087.0,74004.0,19740.0,57036.0,53083.0,69283.0,46098.0,23331.0,23331.0,9255.0,67786.0,71969.0,59235.0,31928.0,74881.0,65819.0,51411.0,51983.0,42386.0,30390.0,30983.0,66033.0,37284.0,57530.0,76800.0,63943.0,76081.0,67445.0,37054.0,47175.0,31859.0,27215.0,70179.0,39922.0,49681.0,24645.0,79865.0,44322.0,47958.0,63972.0,75315.0,55517.0,75283.0,82800.0,38998.0,90638.0,27161.0,42014.0,38201.0,45203.0,81574.0,34935.0,60482.0,34633.0,78093.0,82460.0,45903.0,81361.0,35860.0,40442.0,61482.0,34968.0,75794.0,31497.0,74268.0,13724.0,45143.0,52569.0,48432.0,17144.0,36108.0,76445.0,36663.0,53843.0,90226.0,70638.0,44512.0,27116.0,54072.0,71855.0,51250.0,60432.0,65526.0,68655.0,12393.0,64509.0,33955.0,31353.0,55434.0,28359.0,57100.0,69139.0,52973.0,51717.0,18793.0,66664.0,50664.0,54414.0,54549.0,47111.0,41003.0,19444.0,36301.0,73059.0,42731.0,52854.0,22775.0,46681.0,59821.0,50002.0,69755.0,44078.0,30560.0,35924.0,64140.0,56386.0,24594.0,75774.0,39228.0,58494.0,58684.0,57136.0,56551.0,22448.0,82014.0,34213.0,25358.0,35544.0,36634.0,62670.0,50334.0,72066.0,50729.0,34916.0,64892.0,43602.0,33996.0,41473.0,63246.0,36732.0,69084.0,77766.0,37929.0,86610.0,80141.0,72635.0,69016.0,20193.0,27573.0,15862.0,49544.0,33228.0,70440.0,38232.0,22554.0,23536.0,49413.0,42231.0,78789.0,56534.0,58350.0,81217.0,49090.0,61787.0,18169.0,24336.0,18222.0,62335.0,42033.0,86580.0,41437.0,73705.0,61064.0,38452.0,18358.0,55012.0,9722.0,38175.0,58656.0,52117.0,64813.0,54222.0,83512.0,77520.0,41154.0,80398.0,18746.0,35196.0,60230.0,22108.0,44392.0,55424.0,17688.0,92491.0,90273.0,82571.0,38513.0,16653.0,42586.0,23529.0,74881.0,71107.0,46910.0,18690.0,37244.0,82427.0,75342.0,70044.0,79146.0,77437.0,54984.0,42403.0,55761.0,37292.0,45576.0,70321.0,58086.0,81795.0,28389.0,66835.0,69901.0,80360.0,63342.0,44989.0,31859.0,51569.0,30372.0,16014.0,41120.0,39763.0,38725.0,77981.0,62905.0,13533.0,59481.0,72117.0,21955.0,67131.0,36802.0,71853.0,28249.0,47808.0,25509.0,51012.0,70596.0,85431.0,42664.0,42586.0,29760.0,28973.0,39435.0,65370.0,20194.0,42473.0,64590.0,71232.0,34600.0,46904.0,49094.0,36075.0,60839.0,77298.0,34026.0,48918.0,82122.0,37697.0,34074.0,28520.0,62535.0,36273.0,63404.0,75774.0,78416.0,75702.0,59385.0,37070.0,44689.0,53977.0,7144.0,18701.0,90369.0,63159.0,37758.0,46757.0,79734.0,63207.0,72071.0,21840.0,58582.0,72282.0,50387.0,32583.0,62568.0,44635.0,33316.0,63967.0,52513.0,25293.0,54111.0,78394.0,80739.0,22669.0,29236.0,44911.0,54693.0,48186.0,54809.0,41580.0,80336.0,47743.0,62972.0,57333.0,32313.0,84953.0,27071.0,68148.0,65735.0,86836.0,4023.0,30093.0,57705.0,25008.0,83257.0,22280.0,72159.0,64260.0,82733.0,74290.0,58217.0,21024.0,70116.0,54006.0,69063.0,11448.0,61825.0,70886.0,69109.0,60208.0,32889.0,34738.0,30538.0,82326.0,26642.0,69932.0,44503.0,60200.0,49638.0,23830.0,33051.0,72905.0,69702.0,70300.0,70643.0,30396.0,50616.0,62772.0,30298.0,52413.0,44155.0,86979.0,76532.0,42081.0,67546.0,88420.0,31158.0,61671.0,69719.0,49160.0,24882.0,90933.0,113734.0,59292.0,45759.0,22148.0,73395.0,29819.0,45688.0,62820.0,60491.0,33235.0,35701.0,31535.0,92556.0,67384.0,80573.0,77870.0,52278.0,57107.0,18929.0,36038.0,20180.0,34230.0,31878.0,70932.0,91249.0,77598.0,80982.0,22701.0,55212.0,70617.0,64849.0,62694.0,61917.0,67472.0,21059.0,29543.0,75903.0,34984.0,54998.0,54356.0,34242.0,25410.0,73356.0,28320.0,23763.0,72570.0,34529.0,70792.0,63211.0,83891.0,36065.0,39898.0,51141.0,56939.0,80872.0,72335.0,61798.0,76842.0,29478.0,46998.0,96843.0,56551.0,70053.0,71670.0,44359.0,40887.0,48877.0,74485.0,64474.0,77226.0,72643.0,85738.0,55686.0,39062.0,34600.0,40794.0,54690.0,4428.0,32632.0,38236.0,36781.0,31385.0,24570.0,25509.0,94642.0,58646.0,53201.0,21994.0,57113.0,51373.0,23477.0,58116.0,72968.0,39791.0,91712.0,94472.0,13672.0,96547.0,79205.0,56559.0,32644.0,67506.0,24206.0,28420.0,22979.0,33279.0,46423.0,30368.0,63684.0,41638.0,68805.0,65814.0,71964.0,39146.0,96876.0,34445.0,68281.0,37284.0,36790.0,27943.0,22263.0,30261.0,28587.0,43815.0,48195.0,77027.0,71322.0,32765.0,29672.0,23272.0,49912.0,7500.0,68117.0,67225.0,17649.0,55914.0,40059.0,60905.0,75330.0,60689.0,38680.0,61416.0,49767.0,83273.0,29009.0,45057.0,37150.0,43020.0,53154.0,65308.0,76467.0,81044.0,32871.0,55801.0,76320.0,36927.0,48794.0,23478.0,71128.0,70179.0,59462.0,51381.5,38361.0,51381.5,70038.0,42554.0,67445.0,67046.0,42192.0,77610.0,31761.0,34350.0,54591.0,71866.0,25293.0,42000.0,69520.0,64713.0,27889.0,22123.0,51381.5,51381.5,27803.0,51381.5,51651.0,68487.0,51381.5,56796.0,87000.0,79823.0,30828.0,34109.0,53367.0,22390.0,71322.0,79244.0,49912.0,48699.0,80144.0,54252.0,81929.0,76068.0,53204.0,67911.0,14796.0,78128.0,14188.0,20425.0,58646.0,72967.0,48150.0,82332.0,58275.0,44953.0,34587.0,43018.0,45736.0,66476.0,27733.0,69805.0,72217.0,25818.0,37509.0,25176.0,43586.0,53230.0,50116.0,84906.0,61286.0,82333.0,65220.0,33590.0,30992.0,72309.0,16005.0,65487.0,58692.0,40590.0,20587.0,62637.0,29435.0,19346.0,35788.0,36997.0,23539.0,65333.0,78499.0,29732.0,41275.0,63516.0,42769.0,49572.0,69209.0,17148.0,40590.0,30560.0,32146.0,41713.0,34176.0,58482.0,59686.0,60896.0,62994.0,47320.0,74859.0,15253.0,31560.0,72071.0,91172.0,90000.0,41967.0,69263.0,65706.0,60934.0,71965.0,65210.0,79174.0,81380.0,48432.0,52914.0,38946.0,26067.0,44325.0,42523.0,26487.0,53233.0,67716.0,76234.0,84117.0,65487.0,25224.0,89616.0,40851.0,27469.0,82347.0,73803.0,8820.0,43322.0,55593.0,50501.0,37085.0,16185.0,57731.0,48432.0,73807.0,18929.0,35893.0,61014.0,32144.0,14918.0,45146.0,41769.0,88325.0,38054.0,80617.0,5305.0,36807.0,28427.0,82032.0,22775.0,40101.0,58025.0,75777.0,7500.0,33562.0,57642.0,58554.0,63777.0,57967.0,51381.5,24434.0,11012.0,44802.0,26816.0,34421.0,61223.0,64014.0,56981.0,69245.0,52869.0],\"y\":[1617,27,776,53,422,716,590,169,46,49,19,61,1102,310,46,1315,96,317,1782,133,316,1730,972,544,444,75,257,637,131,1672,30,318,120,302,1196,65,913,81,67,902,1395,53,22,186,31,984,122,55,124,1319,507,1693,72,1617,606,1957,1093,29,46,518,1438,612,884,606,1076,34,11,1274,653,1562,1253,109,863,661,65,13,1890,2209,18,692,165,16,79,318,778,56,151,372,1366,194,603,18,985,32,43,45,606,63,978,410,72,55,1169,1120,1097,29,187,910,145,850,969,1820,608,730,551,114,1724,577,81,33,660,80,30,43,1135,559,1923,90,404,661,463,632,725,725,279,1482,29,106,49,38,2077,1053,1385,871,312,877,68,22,211,127,459,460,429,89,1021,1381,306,18,162,1231,13,1706,121,1293,88,421,259,1117,89,36,57,148,93,119,1835,1318,45,10,978,191,57,1033,66,43,50,39,608,1581,68,80,1282,65,91,315,31,834,1600,1270,263,535,1295,1150,1240,38,35,53,293,65,1804,241,1101,264,541,1198,482,17,1615,285,1135,114,1047,714,185,1245,189,576,1103,1753,17,433,1588,22,19,1117,69,23,605,57,22,2088,1009,26,1627,1102,17,1690,1390,2126,1531,64,26,1112,210,1148,33,1101,322,44,17,31,845,275,25,275,90,1495,184,981,67,1635,60,231,48,99,770,957,818,925,908,102,576,317,461,37,70,930,859,1478,390,52,137,1919,68,25,1374,32,100,825,916,62,728,90,273,66,1213,107,1157,546,241,53,37,1611,1508,235,32,102,401,28,1052,680,30,20,1307,630,1283,65,37,38,160,23,71,1161,59,33,946,1442,62,1674,1853,1538,139,1182,507,18,940,42,1190,44,16,835,1443,1029,1188,1277,49,99,1670,900,425,2153,636,57,25,494,693,1348,51,1932,990,30,254,29,1371,73,120,81,37,1377,51,17,22,324,211,19,41,492,1005,114,1173,1738,222,1127,209,787,1598,186,47,27,96,64,1040,163,343,446,41,70,272,46,490,79,915,1485,369,1073,1242,78,1378,1474,751,48,45,10,1435,2119,20,1795,1188,43,1008,1688,684,1082,1068,57,46,733,467,122,36,34,156,14,37,34,20,192,1379,48,428,868,1001,59,431,971,348,2059,265,270,1289,893,926,135,1495,120,1288,1743,15,542,890,1388,17,906,44,25,973,31,518,530,506,70,54,296,266,747,895,1053,735,20,205,2092,309,1722,900,682,663,43,1816,976,746,64,32,263,1445,46,1210,945,1157,137,730,216,943,347,1924,397,2089,138,42,777,1902,52,1651,358,1727,210,42,1291,442,1895,411,521,1168,493,260,46,319,96,1062,232,76,54,201,406,1919,662,41,1600,134,69,21,54,91,526,162,1008,240,795,1772,64,1957,78,1572,795,889,331,265,1065,11,21,17,369,38,177,279,62,1230,182,49,75,227,215,444,47,143,55,63,1867,611,473,55,81,2086,1478,49,382,69,67,30,63,79,42,819,1151,594,129,213,67,28,45,1193,268,266,37,37,882,373,35,42,326,404,95,939,33,981,36,1237,1825,103,191,1586,963,889,93,1587,16,1375,393,1477,1179,1005,1348,1307,486,2252,235,1724,235,1092,599,2008,48,1174,67,365,165,210,1095,223,597,22,1064,74,26,60,20,59,34,198,1048,574,1029,670,990,11,1241,576,172,664,928,2074,467,257,1146,689,2114,1346,1044,493,957,270,29,121,126,23,57,636,1004,734,614,1453,1621,187,1443,57,637,948,59,18,903,112,596,233,1511,1152,48,1185,21,965,869,16,1947,71,65,1380,1027,411,836,11,480,606,284,1472,1677,1335,334,18,1338,1099,97,63,109,902,1574,38,960,28,1215,1497,449,1064,1757,1440,1006,1226,1171,92,99,66,564,1427,86,833,242,1869,1364,183,450,758,1507,654,81,137,16,93,1158,43,1525,1230,29,25,24,38,57,47,813,629,377,1612,729,50,270,177,315,767,1071,1580,60,573,41,170,1167,1526,458,63,405,1027,1478,72,48,726,860,1497,495,20,570,769,55,1808,55,577,162,1957,1576,1616,36,1482,22,63,680,542,50,39,1043,385,1633,46,761,76,290,89,70,1066,2009,1345,764,195,53,368,544,1853,35,446,1180,41,727,40,1062,40,292,15,341,369,401,393,10,486,69,1727,995,45,182,989,1677,595,156,1226,128,86,68,16,55,2114,2018,263,55,564,1281,83,353,1003,14,902,1139,797,1638,401,84,928,203,858,409,282,1423,1449,28,67,199,1453,1253,1198,178,1990,976,1001,1919,350,1650,46,1228,95,62,1761,467,1149,2052,1127,1416,1113,125,966,32,833,46,960,1829,779,811,1120,725,1187,2302,66,1250,683,305,50,995,41,77,171,131,54,53,475,694,96,361,1079,578,64,149,231,728,1778,93,23,662,1198,81,92,491,1564,926,1910,411,94,1085,23,6,54,1150,1415,405,1908,2486,1315,45,1789,19,573,805,108,23,1493,89,936,343,528,1901,724,58,297,488,859,1574,69,17,2194,116,279,103,44,406,1363,236,39,137,79,63,1314,71,58,702,94,80,22,1211,1461,1968,1091,55,1366,313,62,92,72,655,704,54,178,1033,36,122,122,1123,497,691,1363,12,2440,56,37,968,270,278,1250,938,1178,1155,653,49,506,38,1650,1826,18,906,46,1477,766,47,467,2116,1298,22,396,20,967,357,1401,15,2087,981,17,523,23,1192,1958,133,777,73,121,424,868,756,12,937,1862,367,443,267,61,1323,63,64,562,312,1156,1104,16,2008,44,1574,63,426,96,635,757,125,332,135,330,384,1722,78,24,1168,957,15,57,1956,2013,326,77,1313,30,315,660,74,46,86,1103,61,145,684,411,27,1060,1459,18,1833,237,48,515,1020,1370,1026,301,684,499,1004,218,606,75,106,990,1097,16,34,1711,438,75,225,18,470,91,2525,504,235,1232,88,17,24,60,1020,155,51,1812,1461,96,160,139,908,183,1161,988,1072,174,758,195,31,1084,685,1672,43,49,133,363,545,1065,2047,296,140,530,152,1598,114,101,25,789,87,90,1215,811,61,405,72,189,40,63,52,39,805,130,1631,34,152,21,71,899,711,351,8,119,21,10,973,1536,992,1529,860,928,418,587,641,23,2279,49,1779,1804,48,83,1862,793,84,183,1383,999,825,246,610,76,1286,30,99,1192,362,2130,1229,38,485,434,44,496,78,2346,794,17,26,76,15,62,198,49,802,1736,57,2302,37,310,1305,832,401,1501,1189,1194,656,1540,311,820,274,57,448,44,102,61,1643,397,1121,473,50,1678,58,170,373,1196,101,316,1400,1424,844,311,1149,129,32,299,320,441,1178,85,24,112,30,410,800,1313,1483,1258,28,227,1555,861,103,634,1918,131,586,62,447,939,797,1143,415,30,187,251,237,91,35,493,971,371,396,68,322,317,222,177,45,21,45,1899,42,22,41,1440,325,95,42,72,20,789,15,59,908,417,289,769,188,354,727,146,319,794,454,152,797,1690,20,1428,209,545,96,222,61,44,8,817,1371,42,60,78,23,19,61,449,37,38,1131,34,294,48,289,30,125,156,70,22,65,1930,2283,310,1319,879,1244,690,209,1134,1507,57,529,1091,180,77,2349,534,556,637,46,44,47,795,586,1574,13,1471,65,175,40,1078,1115,134,1540,87,217,1034,1180,819,32,46,1159,860,1631,444,1910,380,736,269,2524,612,75,1045,55,1064,1443,1366,436,38,436,747,1396,928,642,1048,943,907,1198,120,1658,1638,73,275,854,78,106,106,1923,1662,84,48,5,733,1234,112,1658,55,1513,271,904,120,103,269,22,1156,1086,1128,72,964,1383,18,793,100,80,167,677,23,92,641,1106,1033,1174,25,240,20,102,1034,156,458,17,792,92,407,1269,841,633,1019,1315,54,2525,52,436,268,147,1798,137,507,15,1105,974,66,778,49,169,299,221,1682,155,892,58,311,95,424,47,339,1410,35,562,2352,1334,32,41,39,1141,710,401,506,1538,57,1722,270,31,882,16,311,227,1152,122,77,1289,561,211,233,1092,601,54,78,1095,244,116,15,425,734,638,894,41,31,34,1750,612,29,823,20,396,813,1179,138,55,1511,117,32,67,335,825,694,1792,496,231,902,68,71,76,772,47,1586,1529,265,1603,2091,981,1533,82,244,36,404,71,1572,122,41,10,304,37,1754,815,1001,1157,688,1319,21,31,67,708,25,746,32,1695,1080,72,57,660,103,153,1220,279,745,264,2157,1526,69,1597,64,497,1067,31,211,877,11,2034,1991,1686,324,69,252,54,964,1327,68,60,55,1456,563,1504,564,1125,358,42,184,460,145,1376,792,1382,28,1033,882,2231,1101,369,48,467,44,38,81,167,45,664,622,48,461,1073,55,976,20,1149,43,224,101,209,968,1165,24,252,165,269,102,461,47,144,1338,917,318,253,502,119,1250,969,76,62,1382,84,255,43,398,76,902,823,1179,1921,185,433,34,907,416,44,1588,1797,40,1143,914,1502,1338,27,763,1331,525,9,953,68,131,882,1149,37,388,1428,1633,173,99,215,929,219,174,92,1052,275,587,1662,159,1024,35,1042,395,557,9,69,486,34,1365,13,1401,1574,1323,1217,103,84,1536,581,928,14,424,960,1555,656,55,20,367,2257,42,1049,48,685,39,43,835,1515,1039,1596,1828,34,149,946,28,450,46,1702,820,382,2126,2069,72,732,801,236,80,1685,277,507,68,49,397,39,306,976,1028,70,46,51,1263,1490,1564,1815,1198,416,85,47,137,21,70,909,1676,1735,1191,24,1182,1280,1336,749,91,414,44,63,901,38,455,775,15,38,1512,43,42,1089,162,1272,1173,816,74,134,157,561,1336,2092,463,1130,20,377,1544,138,1012,1766,45,161,144,1734,823,1138,1429,1371,982,44,318,434,198,359,576,88,63,27,193,101,2211,140,415,22,263,393,147,443,1958,174,2217,1691,25,809,895,484,413,331,25,13,115,16,92,52,1464,441,283,747,1870,165,1941,839,1655,23,66,37,21,22,78,79,265,1175,1305,46,25,46,874,100,930,868,45,1260,414,392,1109,639,79,1665,692,1392,44,50,467,223,158,1211,1575,1208,43,527,932,71,54,129,1615,1034,1088,721,137,47,1244,41,1174,993,100,1680,98,48,519,715,37,653,1455,602,26,102,97,207,176,450,433,1366,1564,1001,961,1518,56,22,400,26,350,1216,874,40,1367,264,2053,1376,45,976,51,1264,75,57,140,497,266,2006,615,1021,22,133,437,1013,57,1038,1573,28,123,13,132,732,66,1631,608,1822,1282,8,43,1931,103,1169,395,258,25,185,180,22,44,94,81,798,1334,38,61,300,88,54,1782,68,258,31,66,174,28,731,274,1701,312,414,1565,29,94,1338,1092,1479,54,568,1199,873,1213,731,2043,1893,424,575,257,56,542,125,69,40,1016,907,1566,1169,46,1644,59,17,1853,1528,35,141,546,500,61,106,704,424,849,85,199,1147,54,43,53,521,1623,45,1435,32,16,52,1234,15,415,470,1438,53,51,679,586,653,468,1679,50,84,1049,22,30,1341,444,1241,843,172],\"z\":[4,2,10,4,6,10,7,4,2,0,2,3,8,5,3,12,3,6,9,3,5,0,9,9,5,3,4,0,4,10,3,3,4,6,9,3,12,2,3,5,5,3,3,4,3,9,3,2,4,12,10,13,3,7,10,13,10,4,3,6,11,12,10,8,4,2,2,10,10,5,6,3,13,8,4,2,5,9,3,8,4,2,3,3,13,4,4,6,7,5,8,2,8,3,3,3,6,3,12,7,3,3,11,6,5,3,4,12,3,4,11,5,8,11,6,3,5,5,3,3,10,3,3,3,13,7,6,4,7,10,5,6,9,7,5,13,3,2,2,3,12,7,10,9,3,6,3,2,4,4,7,6,5,4,11,6,5,3,6,10,2,9,4,10,4,4,6,7,3,3,3,3,3,2,8,5,3,3,12,4,3,13,3,3,2,4,8,9,3,2,12,2,3,6,2,12,6,5,3,7,9,9,10,3,2,3,5,3,9,6,9,5,8,9,5,2,6,5,11,4,7,11,4,12,4,4,11,8,2,8,4,2,3,11,4,3,11,3,2,10,4,2,9,8,3,6,6,5,6,3,3,13,5,11,3,5,7,4,2,2,10,6,2,4,3,8,2,6,2,5,4,4,4,4,12,10,5,8,9,4,4,6,8,3,2,13,12,5,5,3,3,9,3,3,11,3,3,6,12,3,9,3,4,3,9,3,10,6,4,3,3,12,10,6,3,3,6,3,10,12,2,2,5,8,5,4,3,3,4,2,3,5,2,3,12,6,3,8,4,11,4,11,8,2,4,3,6,3,2,9,8,5,10,5,3,4,8,5,4,10,10,4,2,6,9,11,3,8,8,3,4,2,12,3,2,2,3,10,3,2,3,6,4,2,2,4,13,3,12,8,6,6,4,12,10,4,2,3,3,3,9,5,4,6,3,4,5,2,8,3,6,12,7,8,10,3,11,9,8,3,3,2,8,5,2,13,10,4,12,9,7,9,13,4,3,12,5,4,3,3,5,3,3,3,2,4,7,3,9,11,7,4,8,10,6,9,5,8,6,8,11,3,8,3,9,5,2,8,12,13,2,9,3,2,11,3,8,7,4,2,3,2,5,4,13,7,10,3,4,12,5,13,3,6,11,3,4,11,13,2,3,3,12,3,12,8,11,4,12,3,12,5,7,5,9,3,3,7,10,3,6,6,9,3,3,10,6,4,8,8,5,6,5,3,5,3,4,7,3,3,4,3,6,8,4,4,4,2,3,3,2,8,2,13,5,11,7,4,4,4,7,13,12,7,5,9,2,2,2,5,3,3,5,3,8,3,3,4,4,6,5,3,3,3,4,5,10,7,3,2,5,9,3,7,2,3,3,3,4,3,12,9,10,3,2,3,3,3,7,6,7,3,3,13,5,3,3,9,7,2,6,3,6,3,7,5,3,4,13,6,12,3,7,2,11,7,9,8,13,6,6,4,6,6,13,6,12,7,9,3,12,4,5,4,5,13,3,9,3,13,3,3,2,2,3,3,5,10,9,6,8,8,2,5,12,3,13,4,13,5,6,6,11,10,12,4,7,4,4,3,2,4,2,3,6,10,5,8,11,7,4,8,3,6,5,2,2,10,3,8,5,5,8,3,9,2,5,8,3,4,2,3,12,11,5,8,3,6,10,4,4,13,4,7,2,6,11,3,3,4,5,11,4,12,2,7,5,10,13,11,6,13,5,8,3,2,3,8,10,2,5,4,7,12,4,7,12,6,7,4,1,2,3,4,3,5,10,3,2,2,3,3,4,4,8,5,4,7,3,5,5,7,7,8,12,3,9,3,4,13,12,7,3,6,8,6,2,3,6,9,12,7,2,4,9,3,8,3,7,2,4,11,7,3,4,3,3,7,7,3,3,12,5,12,3,5,3,6,4,3,7,7,8,8,5,3,3,9,10,2,7,12,3,11,3,10,3,4,3,6,4,8,8,2,8,3,4,4,3,4,10,5,4,4,12,3,2,3,3,3,10,13,4,3,5,10,3,5,11,2,5,5,4,7,8,3,10,4,6,6,6,10,7,2,3,6,8,5,10,4,7,6,7,6,7,9,3,6,4,4,10,6,9,10,6,5,9,4,10,3,5,3,4,11,11,9,5,7,6,5,3,10,9,5,3,9,3,3,4,2,2,4,6,8,4,5,13,8,3,5,6,11,9,4,2,6,10,4,4,7,13,13,12,5,4,7,2,0,3,9,6,8,7,9,13,3,10,3,6,12,4,2,10,3,6,8,9,4,4,3,4,4,10,11,2,2,8,5,4,3,4,8,7,7,3,4,3,3,4,3,2,9,2,2,3,10,5,5,7,3,7,5,4,4,2,8,6,3,0,4,2,4,4,12,5,11,7,2,9,2,3,12,4,5,8,6,10,11,11,2,8,3,8,8,2,13,3,8,9,3,6,9,11,3,8,2,5,4,4,3,6,5,3,4,2,5,7,4,7,3,4,8,5,8,2,10,6,7,5,6,3,11,3,4,9,7,11,5,2,9,3,5,2,3,2,6,9,4,5,4,5,5,6,3,3,11,9,2,3,9,8,6,3,9,3,4,10,4,2,4,13,4,3,8,4,2,13,7,2,11,6,3,9,4,5,10,6,8,7,10,5,12,3,4,8,8,2,3,5,4,3,6,2,10,4,10,6,5,4,3,2,3,4,13,4,3,4,10,2,4,4,9,4,10,5,12,5,8,4,2,9,5,10,3,2,4,7,10,11,6,5,4,10,4,10,2,3,2,9,2,4,9,8,2,8,3,4,3,4,3,3,11,4,12,3,5,3,3,7,5,4,0,2,2,2,13,6,13,11,5,4,5,3,11,2,11,2,8,11,3,2,6,6,3,4,6,4,13,4,7,3,11,2,3,9,7,8,10,3,7,5,3,5,2,10,10,2,2,4,2,4,5,2,11,4,3,5,3,4,8,8,5,12,13,12,10,10,5,10,7,3,8,3,3,2,12,5,12,3,3,13,3,4,1,5,2,5,7,13,8,4,6,3,3,3,6,6,10,4,2,3,3,7,7,9,10,4,2,5,7,11,2,10,5,4,6,2,7,11,7,6,5,3,4,5,5,4,3,7,11,4,8,2,6,6,3,4,3,2,3,5,3,3,3,6,3,4,3,2,3,12,2,3,9,4,5,9,3,4,8,4,5,8,9,2,12,6,2,5,3,8,2,5,3,4,2,10,12,3,2,4,2,2,3,6,3,3,11,3,5,2,5,2,4,4,3,2,3,10,10,8,9,5,8,5,4,9,8,3,5,7,4,4,12,9,7,8,3,3,3,5,8,11,3,8,3,3,3,4,7,4,10,3,4,13,12,12,3,3,6,13,4,5,8,5,9,4,10,9,4,13,3,9,7,13,5,3,6,9,5,6,10,5,13,12,10,2,9,9,2,4,8,4,3,3,6,12,3,3,0,9,7,2,4,3,13,5,13,2,3,5,2,6,9,12,4,12,10,3,10,3,3,3,7,3,4,7,6,4,12,3,4,2,4,13,4,7,2,5,3,5,10,12,6,5,12,3,10,3,6,5,3,8,4,7,2,5,6,3,13,2,4,6,5,12,4,5,2,5,4,6,4,4,13,3,3,12,10,3,3,2,11,4,5,8,11,3,9,5,2,13,2,7,5,9,4,4,6,6,5,4,10,8,2,3,13,5,4,2,4,7,7,12,3,3,3,6,7,3,8,3,6,12,7,4,3,12,2,3,3,5,13,6,6,7,3,12,2,3,3,12,4,13,11,5,6,10,6,13,4,4,3,8,3,7,3,4,3,5,3,5,7,12,11,9,6,2,2,3,13,2,5,3,8,11,3,4,9,3,4,13,4,10,5,10,7,4,12,3,5,6,3,4,9,2,12,7,13,5,3,6,2,12,13,3,2,2,12,10,5,8,13,6,3,3,5,3,13,7,7,2,13,10,5,5,5,3,7,3,4,3,2,4,7,8,3,8,9,3,12,3,6,3,3,3,4,12,7,3,6,4,5,2,13,3,4,10,10,5,4,6,4,12,11,3,4,13,3,3,2,8,3,4,8,10,13,4,8,2,12,1,4,6,8,3,7,6,6,8,3,9,9,8,2,5,3,4,12,9,2,6,5,9,2,3,4,13,4,5,3,13,6,3,9,4,4,3,6,6,6,0,3,6,3,12,2,10,4,7,10,4,4,12,7,5,2,8,4,7,7,3,3,4,6,3,11,3,11,3,3,8,9,10,13,4,2,4,11,3,7,2,5,7,4,5,8,3,6,5,6,2,4,0,8,3,3,6,3,8,6,7,3,3,2,13,5,13,5,10,8,4,3,4,2,4,12,6,13,11,3,11,7,6,7,4,7,3,2,9,3,9,8,3,4,5,3,3,12,3,10,7,10,3,4,4,10,10,8,9,7,3,5,10,4,10,6,4,3,4,12,10,12,7,11,5,3,5,5,5,0,8,4,2,2,4,3,9,4,5,3,5,3,4,8,8,4,11,5,3,8,4,8,6,6,3,2,2,3,4,3,8,3,7,10,5,4,9,8,13,3,2,3,3,3,4,3,5,6,13,4,3,3,7,3,4,11,3,8,3,7,12,10,3,10,8,9,3,3,6,4,4,12,5,10,3,6,4,3,3,3,12,13,12,4,3,3,8,3,12,4,3,4,4,3,8,10,2,11,5,7,2,3,3,4,4,5,5,13,11,7,7,7,4,3,8,2,7,7,7,3,8,5,10,4,3,11,3,6,4,3,4,8,4,12,7,13,3,2,6,10,3,11,8,2,4,2,4,12,4,12,8,10,7,2,3,8,2,6,4,3,2,5,2,3,3,4,4,8,4,2,3,7,4,3,6,3,3,3,4,4,3,9,6,4,4,8,11,3,3,8,7,5,3,7,12,11,5,8,7,10,6,3,6,3,7,4,3,3,13,11,6,6,3,12,2,3,10,6,3,4,3,4,3,2,6,6,11,4,5,4,3,3,2,7,9,3,8,0,2,3,7,2,6,10,11,2,4,6,6,6,8,1,2,2,12,3,2,4,5,13,10,4],\"type\":\"scatter3d\"},{\"hovertemplate\":\"color=1\\u003cbr\\u003eIncome=%{x}\\u003cbr\\u003eTotalSpent=%{y}\\u003cbr\\u003eNumStorePurchases=%{z}\\u003cextra\\u003e\\u003c\\u002fextra\\u003e\",\"legendgroup\":\"1\",\"marker\":{\"color\":\"#EF553B\",\"symbol\":\"circle\"},\"mode\":\"markers\",\"name\":\"1\",\"scene\":\"scene\",\"showlegend\":true,\"x\":[157243.0,162397.0,153924.0,160803.0,157733.0,157146.0,156924.0],\"y\":[1608,107,6,1717,59,1730,8],\"z\":[0,1,0,1,1,0,0],\"type\":\"scatter3d\"}],                        {\"template\":{\"data\":{\"histogram2dcontour\":[{\"type\":\"histogram2dcontour\",\"colorbar\":{\"outlinewidth\":0,\"ticks\":\"\"},\"colorscale\":[[0.0,\"#0d0887\"],[0.1111111111111111,\"#46039f\"],[0.2222222222222222,\"#7201a8\"],[0.3333333333333333,\"#9c179e\"],[0.4444444444444444,\"#bd3786\"],[0.5555555555555556,\"#d8576b\"],[0.6666666666666666,\"#ed7953\"],[0.7777777777777778,\"#fb9f3a\"],[0.8888888888888888,\"#fdca26\"],[1.0,\"#f0f921\"]]}],\"choropleth\":[{\"type\":\"choropleth\",\"colorbar\":{\"outlinewidth\":0,\"ticks\":\"\"}}],\"histogram2d\":[{\"type\":\"histogram2d\",\"colorbar\":{\"outlinewidth\":0,\"ticks\":\"\"},\"colorscale\":[[0.0,\"#0d0887\"],[0.1111111111111111,\"#46039f\"],[0.2222222222222222,\"#7201a8\"],[0.3333333333333333,\"#9c179e\"],[0.4444444444444444,\"#bd3786\"],[0.5555555555555556,\"#d8576b\"],[0.6666666666666666,\"#ed7953\"],[0.7777777777777778,\"#fb9f3a\"],[0.8888888888888888,\"#fdca26\"],[1.0,\"#f0f921\"]]}],\"heatmap\":[{\"type\":\"heatmap\",\"colorbar\":{\"outlinewidth\":0,\"ticks\":\"\"},\"colorscale\":[[0.0,\"#0d0887\"],[0.1111111111111111,\"#46039f\"],[0.2222222222222222,\"#7201a8\"],[0.3333333333333333,\"#9c179e\"],[0.4444444444444444,\"#bd3786\"],[0.5555555555555556,\"#d8576b\"],[0.6666666666666666,\"#ed7953\"],[0.7777777777777778,\"#fb9f3a\"],[0.8888888888888888,\"#fdca26\"],[1.0,\"#f0f921\"]]}],\"heatmapgl\":[{\"type\":\"heatmapgl\",\"colorbar\":{\"outlinewidth\":0,\"ticks\":\"\"},\"colorscale\":[[0.0,\"#0d0887\"],[0.1111111111111111,\"#46039f\"],[0.2222222222222222,\"#7201a8\"],[0.3333333333333333,\"#9c179e\"],[0.4444444444444444,\"#bd3786\"],[0.5555555555555556,\"#d8576b\"],[0.6666666666666666,\"#ed7953\"],[0.7777777777777778,\"#fb9f3a\"],[0.8888888888888888,\"#fdca26\"],[1.0,\"#f0f921\"]]}],\"contourcarpet\":[{\"type\":\"contourcarpet\",\"colorbar\":{\"outlinewidth\":0,\"ticks\":\"\"}}],\"contour\":[{\"type\":\"contour\",\"colorbar\":{\"outlinewidth\":0,\"ticks\":\"\"},\"colorscale\":[[0.0,\"#0d0887\"],[0.1111111111111111,\"#46039f\"],[0.2222222222222222,\"#7201a8\"],[0.3333333333333333,\"#9c179e\"],[0.4444444444444444,\"#bd3786\"],[0.5555555555555556,\"#d8576b\"],[0.6666666666666666,\"#ed7953\"],[0.7777777777777778,\"#fb9f3a\"],[0.8888888888888888,\"#fdca26\"],[1.0,\"#f0f921\"]]}],\"surface\":[{\"type\":\"surface\",\"colorbar\":{\"outlinewidth\":0,\"ticks\":\"\"},\"colorscale\":[[0.0,\"#0d0887\"],[0.1111111111111111,\"#46039f\"],[0.2222222222222222,\"#7201a8\"],[0.3333333333333333,\"#9c179e\"],[0.4444444444444444,\"#bd3786\"],[0.5555555555555556,\"#d8576b\"],[0.6666666666666666,\"#ed7953\"],[0.7777777777777778,\"#fb9f3a\"],[0.8888888888888888,\"#fdca26\"],[1.0,\"#f0f921\"]]}],\"mesh3d\":[{\"type\":\"mesh3d\",\"colorbar\":{\"outlinewidth\":0,\"ticks\":\"\"}}],\"scatter\":[{\"fillpattern\":{\"fillmode\":\"overlay\",\"size\":10,\"solidity\":0.2},\"type\":\"scatter\"}],\"parcoords\":[{\"type\":\"parcoords\",\"line\":{\"colorbar\":{\"outlinewidth\":0,\"ticks\":\"\"}}}],\"scatterpolargl\":[{\"type\":\"scatterpolargl\",\"marker\":{\"colorbar\":{\"outlinewidth\":0,\"ticks\":\"\"}}}],\"bar\":[{\"error_x\":{\"color\":\"#2a3f5f\"},\"error_y\":{\"color\":\"#2a3f5f\"},\"marker\":{\"line\":{\"color\":\"#E5ECF6\",\"width\":0.5},\"pattern\":{\"fillmode\":\"overlay\",\"size\":10,\"solidity\":0.2}},\"type\":\"bar\"}],\"scattergeo\":[{\"type\":\"scattergeo\",\"marker\":{\"colorbar\":{\"outlinewidth\":0,\"ticks\":\"\"}}}],\"scatterpolar\":[{\"type\":\"scatterpolar\",\"marker\":{\"colorbar\":{\"outlinewidth\":0,\"ticks\":\"\"}}}],\"histogram\":[{\"marker\":{\"pattern\":{\"fillmode\":\"overlay\",\"size\":10,\"solidity\":0.2}},\"type\":\"histogram\"}],\"scattergl\":[{\"type\":\"scattergl\",\"marker\":{\"colorbar\":{\"outlinewidth\":0,\"ticks\":\"\"}}}],\"scatter3d\":[{\"type\":\"scatter3d\",\"line\":{\"colorbar\":{\"outlinewidth\":0,\"ticks\":\"\"}},\"marker\":{\"colorbar\":{\"outlinewidth\":0,\"ticks\":\"\"}}}],\"scattermapbox\":[{\"type\":\"scattermapbox\",\"marker\":{\"colorbar\":{\"outlinewidth\":0,\"ticks\":\"\"}}}],\"scatterternary\":[{\"type\":\"scatterternary\",\"marker\":{\"colorbar\":{\"outlinewidth\":0,\"ticks\":\"\"}}}],\"scattercarpet\":[{\"type\":\"scattercarpet\",\"marker\":{\"colorbar\":{\"outlinewidth\":0,\"ticks\":\"\"}}}],\"carpet\":[{\"aaxis\":{\"endlinecolor\":\"#2a3f5f\",\"gridcolor\":\"white\",\"linecolor\":\"white\",\"minorgridcolor\":\"white\",\"startlinecolor\":\"#2a3f5f\"},\"baxis\":{\"endlinecolor\":\"#2a3f5f\",\"gridcolor\":\"white\",\"linecolor\":\"white\",\"minorgridcolor\":\"white\",\"startlinecolor\":\"#2a3f5f\"},\"type\":\"carpet\"}],\"table\":[{\"cells\":{\"fill\":{\"color\":\"#EBF0F8\"},\"line\":{\"color\":\"white\"}},\"header\":{\"fill\":{\"color\":\"#C8D4E3\"},\"line\":{\"color\":\"white\"}},\"type\":\"table\"}],\"barpolar\":[{\"marker\":{\"line\":{\"color\":\"#E5ECF6\",\"width\":0.5},\"pattern\":{\"fillmode\":\"overlay\",\"size\":10,\"solidity\":0.2}},\"type\":\"barpolar\"}],\"pie\":[{\"automargin\":true,\"type\":\"pie\"}]},\"layout\":{\"autotypenumbers\":\"strict\",\"colorway\":[\"#636efa\",\"#EF553B\",\"#00cc96\",\"#ab63fa\",\"#FFA15A\",\"#19d3f3\",\"#FF6692\",\"#B6E880\",\"#FF97FF\",\"#FECB52\"],\"font\":{\"color\":\"#2a3f5f\"},\"hovermode\":\"closest\",\"hoverlabel\":{\"align\":\"left\"},\"paper_bgcolor\":\"white\",\"plot_bgcolor\":\"#E5ECF6\",\"polar\":{\"bgcolor\":\"#E5ECF6\",\"angularaxis\":{\"gridcolor\":\"white\",\"linecolor\":\"white\",\"ticks\":\"\"},\"radialaxis\":{\"gridcolor\":\"white\",\"linecolor\":\"white\",\"ticks\":\"\"}},\"ternary\":{\"bgcolor\":\"#E5ECF6\",\"aaxis\":{\"gridcolor\":\"white\",\"linecolor\":\"white\",\"ticks\":\"\"},\"baxis\":{\"gridcolor\":\"white\",\"linecolor\":\"white\",\"ticks\":\"\"},\"caxis\":{\"gridcolor\":\"white\",\"linecolor\":\"white\",\"ticks\":\"\"}},\"coloraxis\":{\"colorbar\":{\"outlinewidth\":0,\"ticks\":\"\"}},\"colorscale\":{\"sequential\":[[0.0,\"#0d0887\"],[0.1111111111111111,\"#46039f\"],[0.2222222222222222,\"#7201a8\"],[0.3333333333333333,\"#9c179e\"],[0.4444444444444444,\"#bd3786\"],[0.5555555555555556,\"#d8576b\"],[0.6666666666666666,\"#ed7953\"],[0.7777777777777778,\"#fb9f3a\"],[0.8888888888888888,\"#fdca26\"],[1.0,\"#f0f921\"]],\"sequentialminus\":[[0.0,\"#0d0887\"],[0.1111111111111111,\"#46039f\"],[0.2222222222222222,\"#7201a8\"],[0.3333333333333333,\"#9c179e\"],[0.4444444444444444,\"#bd3786\"],[0.5555555555555556,\"#d8576b\"],[0.6666666666666666,\"#ed7953\"],[0.7777777777777778,\"#fb9f3a\"],[0.8888888888888888,\"#fdca26\"],[1.0,\"#f0f921\"]],\"diverging\":[[0,\"#8e0152\"],[0.1,\"#c51b7d\"],[0.2,\"#de77ae\"],[0.3,\"#f1b6da\"],[0.4,\"#fde0ef\"],[0.5,\"#f7f7f7\"],[0.6,\"#e6f5d0\"],[0.7,\"#b8e186\"],[0.8,\"#7fbc41\"],[0.9,\"#4d9221\"],[1,\"#276419\"]]},\"xaxis\":{\"gridcolor\":\"white\",\"linecolor\":\"white\",\"ticks\":\"\",\"title\":{\"standoff\":15},\"zerolinecolor\":\"white\",\"automargin\":true,\"zerolinewidth\":2},\"yaxis\":{\"gridcolor\":\"white\",\"linecolor\":\"white\",\"ticks\":\"\",\"title\":{\"standoff\":15},\"zerolinecolor\":\"white\",\"automargin\":true,\"zerolinewidth\":2},\"scene\":{\"xaxis\":{\"backgroundcolor\":\"#E5ECF6\",\"gridcolor\":\"white\",\"linecolor\":\"white\",\"showbackground\":true,\"ticks\":\"\",\"zerolinecolor\":\"white\",\"gridwidth\":2},\"yaxis\":{\"backgroundcolor\":\"#E5ECF6\",\"gridcolor\":\"white\",\"linecolor\":\"white\",\"showbackground\":true,\"ticks\":\"\",\"zerolinecolor\":\"white\",\"gridwidth\":2},\"zaxis\":{\"backgroundcolor\":\"#E5ECF6\",\"gridcolor\":\"white\",\"linecolor\":\"white\",\"showbackground\":true,\"ticks\":\"\",\"zerolinecolor\":\"white\",\"gridwidth\":2}},\"shapedefaults\":{\"line\":{\"color\":\"#2a3f5f\"}},\"annotationdefaults\":{\"arrowcolor\":\"#2a3f5f\",\"arrowhead\":0,\"arrowwidth\":1},\"geo\":{\"bgcolor\":\"white\",\"landcolor\":\"#E5ECF6\",\"subunitcolor\":\"white\",\"showland\":true,\"showlakes\":true,\"lakecolor\":\"white\"},\"title\":{\"x\":0.05},\"mapbox\":{\"style\":\"light\"}}},\"scene\":{\"domain\":{\"x\":[0.0,1.0],\"y\":[0.0,1.0]},\"xaxis\":{\"title\":{\"text\":\"Income\"}},\"yaxis\":{\"title\":{\"text\":\"TotalSpent\"}},\"zaxis\":{\"title\":{\"text\":\"NumStorePurchases\"}}},\"legend\":{\"title\":{\"text\":\"color\"},\"tracegroupgap\":0},\"title\":{\"text\":\"Agglomerative Clustering (Single Linkage) - 2 Clusters\"}},                        {\"responsive\": true}                    ).then(function(){\n",
              "                            \n",
              "var gd = document.getElementById('56428390-6ac7-4de4-95e7-ca05087c30ec');\n",
              "var x = new MutationObserver(function (mutations, observer) {{\n",
              "        var display = window.getComputedStyle(gd).display;\n",
              "        if (!display || display === 'none') {{\n",
              "            console.log([gd, 'removed!']);\n",
              "            Plotly.purge(gd);\n",
              "            observer.disconnect();\n",
              "        }}\n",
              "}});\n",
              "\n",
              "// Listen for the removal of the full notebook cells\n",
              "var notebookContainer = gd.closest('#notebook-container');\n",
              "if (notebookContainer) {{\n",
              "    x.observe(notebookContainer, {childList: true});\n",
              "}}\n",
              "\n",
              "// Listen for the clearing of the current output cell\n",
              "var outputEl = gd.closest('.output');\n",
              "if (outputEl) {{\n",
              "    x.observe(outputEl, {childList: true});\n",
              "}}\n",
              "\n",
              "                        })                };                            </script>        </div>\n",
              "</body>\n",
              "</html>"
            ]
          },
          "metadata": {}
        },
        {
          "output_type": "display_data",
          "data": {
            "text/html": [
              "<html>\n",
              "<head><meta charset=\"utf-8\" /></head>\n",
              "<body>\n",
              "    <div>            <script src=\"https://cdnjs.cloudflare.com/ajax/libs/mathjax/2.7.5/MathJax.js?config=TeX-AMS-MML_SVG\"></script><script type=\"text/javascript\">if (window.MathJax && window.MathJax.Hub && window.MathJax.Hub.Config) {window.MathJax.Hub.Config({SVG: {font: \"STIX-Web\"}});}</script>                <script type=\"text/javascript\">window.PlotlyConfig = {MathJaxConfig: 'local'};</script>\n",
              "        <script charset=\"utf-8\" src=\"https://cdn.plot.ly/plotly-2.35.2.min.js\"></script>                <div id=\"cc399f9a-9c7d-4769-b67f-1c8586892d73\" class=\"plotly-graph-div\" style=\"height:525px; width:100%;\"></div>            <script type=\"text/javascript\">                                    window.PLOTLYENV=window.PLOTLYENV || {};                                    if (document.getElementById(\"cc399f9a-9c7d-4769-b67f-1c8586892d73\")) {                    Plotly.newPlot(                        \"cc399f9a-9c7d-4769-b67f-1c8586892d73\",                        [{\"hovertemplate\":\"color=2\\u003cbr\\u003eIncome=%{x}\\u003cbr\\u003eTotalSpent=%{y}\\u003cbr\\u003eNumStorePurchases=%{z}\\u003cextra\\u003e\\u003c\\u002fextra\\u003e\",\"legendgroup\":\"2\",\"marker\":{\"color\":\"#636efa\",\"symbol\":\"circle\"},\"mode\":\"markers\",\"name\":\"2\",\"scene\":\"scene\",\"showlegend\":true,\"x\":[58138.0,46344.0,71613.0,26646.0,58293.0,62513.0,55635.0,33454.0,30351.0,5648.0,51381.5,7500.0,63033.0,59354.0,17323.0,82800.0,41850.0,37760.0,76995.0,33812.0,37040.0,2447.0,58607.0,65324.0,40689.0,18589.0,53359.0,51381.5,38360.0,84618.0,10979.0,38620.0,40548.0,46610.0,68657.0,49389.0,67353.0,23718.0,42429.0,48948.0,80011.0,20559.0,21994.0,51381.5,7500.0,79941.0,7500.0,41728.0,51381.5,72550.0,65486.0,79143.0,35790.0,82582.0,66373.0,82384.0,70287.0,27938.0,51381.5,55954.0,75777.0,66653.0,61823.0,67680.0,70666.0,25721.0,32474.0,88194.0,69096.0,74854.0,66991.0,51381.5,65031.0,60631.0,28332.0,40246.0,75251.0,75825.0,26326.0,56046.0,29760.0,26304.0,23559.0,38620.0,81361.0,29440.0,36138.0,50388.0,79593.0,54178.0,51381.5,51381.5,51381.5,42394.0,23626.0,30096.0,47916.0,51813.0,78497.0,50150.0,47823.0,34554.0,85693.0,65846.0,87195.0,24594.0,49096.0,52413.0,38557.0,89058.0,77298.0,68126.0,57288.0,86037.0,43974.0,50785.0,90765.0,36550.0,30753.0,21918.0,56129.0,32557.0,19510.0,30992.0,101970.0,71488.0,79607.0,54348.0,51381.5,77376.0,62998.0,61331.0,73448.0,51381.5,41551.0,62981.0,9548.0,33762.0,35860.0,36921.0,92859.0,65104.0,86111.0,68352.0,41883.0,59809.0,23957.0,38547.0,35688.0,49605.0,59354.0,65747.0,46344.0,34176.0,61010.0,69372.0,49967.0,60199.0,55375.0,80317.0,30523.0,70356.0,23228.0,74165.0,43482.0,62551.0,52332.0,66951.0,26091.0,33456.0,28718.0,50447.0,53537.0,52074.0,80427.0,83837.0,38853.0,38285.0,78497.0,51650.0,16248.0,66835.0,30477.0,28249.0,25271.0,32303.0,61286.0,74068.0,45759.0,24882.0,66973.0,36640.0,38872.0,51148.0,31353.0,69661.0,80067.0,86718.0,46854.0,69142.0,75922.0,63693.0,102160.0,40637.0,18890.0,29604.0,48721.0,44794.0,64497.0,46097.0,77972.0,44377.0,46014.0,70951.0,41443.0,52195.0,83790.0,44551.0,69508.0,45204.0,72460.0,77622.0,30732.0,63887.0,42011.0,51369.0,51537.0,79930.0,34320.0,37070.0,81975.0,38590.0,15033.0,62745.0,22212.0,23661.0,79761.0,7500.0,60182.0,73455.0,64961.0,22804.0,73687.0,61074.0,31686.0,80134.0,75027.0,67546.0,65176.0,31160.0,29938.0,102692.0,26490.0,75702.0,30899.0,63342.0,45989.0,18701.0,40737.0,15287.0,69674.0,44159.0,37717.0,43776.0,38179.0,80124.0,38097.0,72940.0,22070.0,69267.0,31788.0,61905.0,29315.0,33378.0,66313.0,60714.0,77882.0,69867.0,63841.0,24480.0,51369.0,37760.0,65640.0,44319.0,30631.0,75278.0,50898.0,79946.0,35416.0,32414.0,38361.0,82497.0,16626.0,29672.0,55951.0,35388.0,42386.0,68627.0,57912.0,35246.0,58821.0,46377.0,39747.0,23976.0,80950.0,27038.0,77457.0,64100.0,42670.0,12571.0,22574.0,51381.5,70893.0,54198.0,28839.0,40321.0,66503.0,30833.0,51381.5,64795.0,34421.0,47025.0,64325.0,40464.0,62187.0,14849.0,27255.0,54432.0,29999.0,24072.0,33996.0,66334.0,35178.0,22010.0,62204.0,75693.0,30675.0,83003.0,83532.0,68655.0,41411.0,55212.0,59292.0,27190.0,82623.0,44300.0,84835.0,30372.0,33181.0,71113.0,71952.0,69759.0,72099.0,60000.0,38643.0,50737.0,68462.0,65073.0,46681.0,78618.0,62187.0,28442.0,37717.0,51479.0,54803.0,79530.0,31615.0,72025.0,52614.0,35684.0,48178.0,29548.0,63810.0,38578.0,46098.0,22585.0,30279.0,66426.0,30822.0,33581.0,19986.0,27421.0,35688.0,36143.0,10245.0,43795.0,63381.0,38823.0,83664.0,90300.0,62499.0,74293.0,51012.0,70777.0,68682.0,43824.0,15345.0,23442.0,14515.0,31395.0,75276.0,42373.0,30507.0,55521.0,48006.0,27213.0,65808.0,30351.0,50437.0,23616.0,53858.0,66465.0,46923.0,75072.0,75865.0,19789.0,80134.0,91065.0,49505.0,37401.0,30096.0,18492.0,82584.0,93027.0,48686.0,92910.0,75433.0,10404.0,61314.0,84865.0,42387.0,67309.0,75236.0,30015.0,50943.0,67272.0,51529.0,32011.0,7500.0,28691.0,56223.0,18100.0,30279.0,20130.0,23295.0,42618.0,81246.0,24027.0,55707.0,57959.0,56796.0,36230.0,70829.0,65991.0,38988.0,89572.0,42207.0,50300.0,66664.0,60597.0,70165.0,50520.0,80124.0,33183.0,66582.0,75261.0,31880.0,53790.0,49269.0,61456.0,37406.0,56937.0,38415.0,20518.0,62503.0,41644.0,55842.0,62010.0,41124.0,38961.0,37760.0,32233.0,43057.0,83151.0,78825.0,65104.0,60093.0,14045.0,28457.0,78952.0,46310.0,76005.0,58308.0,55614.0,59432.0,55563.0,78642.0,67911.0,65275.0,27203.0,48330.0,24279.0,64355.0,50943.0,53653.0,65665.0,81217.0,34935.0,61250.0,39665.0,60152.0,48920.0,89120.0,44124.0,81169.0,36443.0,26095.0,71367.0,80184.0,30630.0,73454.0,42691.0,70503.0,25545.0,32880.0,77863.0,50353.0,61839.0,49154.0,47682.0,72679.0,57954.0,65316.0,28567.0,47352.0,44931.0,76982.0,57247.0,22944.0,25315.0,43638.0,42710.0,84169.0,54058.0,24683.0,85620.0,47850.0,19514.0,27159.0,39548.0,21474.0,60504.0,22419.0,81698.0,43462.0,54880.0,79908.0,15315.0,87771.0,33039.0,81741.0,71499.0,62466.0,48799.0,52157.0,66565.0,29298.0,47691.0,38200.0,44989.0,38443.0,38593.0,64413.0,36959.0,61996.0,51287.0,13260.0,47472.0,54603.0,45207.0,40689.0,47821.0,27450.0,39453.0,26850.0,79800.0,61794.0,53863.0,24221.0,39684.0,92163.0,69882.0,33178.0,59973.0,17459.0,23910.0,42169.0,26224.0,31089.0,30081.0,62807.0,72906.0,61467.0,49618.0,21888.0,42429.0,26150.0,30801.0,81168.0,26877.0,45006.0,18978.0,22574.0,48240.0,45837.0,35791.0,54162.0,30522.0,54456.0,31632.0,72298.0,36975.0,72635.0,13624.0,84196.0,70971.0,34487.0,28769.0,69084.0,65488.0,62466.0,32218.0,83917.0,46102.0,84574.0,56181.0,63120.0,73691.0,63381.0,76140.0,62859.0,45906.0,77632.0,46463.0,105471.0,55282.0,78710.0,66886.0,98777.0,29103.0,67445.0,50616.0,49431.0,61278.0,26490.0,73059.0,46734.0,56253.0,19986.0,58330.0,25965.0,14661.0,18690.0,45068.0,21063.0,29187.0,54690.0,59304.0,59247.0,66731.0,77353.0,52614.0,26751.0,81300.0,70337.0,36145.0,65295.0,68118.0,68743.0,41039.0,38946.0,65777.0,66476.0,86857.0,77845.0,69476.0,50611.0,61209.0,42315.0,13084.0,47570.0,61923.0,34824.0,26518.0,45938.0,78468.0,78901.0,71427.0,71022.0,90247.0,41335.0,71952.0,35682.0,43185.0,66375.0,35178.0,25252.0,55250.0,33249.0,58398.0,50272.0,76618.0,87305.0,25851.0,58710.0,45160.0,74806.0,59111.0,18988.0,72190.0,7500.0,44794.0,80395.0,75012.0,56962.0,89891.0,35946.0,53593.0,66373.0,45072.0,89694.0,72025.0,67432.0,70545.0,17487.0,62882.0,64108.0,34941.0,48767.0,38702.0,82224.0,83844.0,17003.0,71163.0,33697.0,63564.0,83443.0,51518.0,58330.0,80952.0,75507.0,63855.0,62220.0,58512.0,40662.0,38829.0,35523.0,79146.0,78285.0,31626.0,75127.0,48726.0,74985.0,67430.0,46891.0,62058.0,72063.0,78939.0,42720.0,33622.0,6835.0,41452.0,40760.0,74250.0,51124.0,72258.0,71466.0,36283.0,20587.0,30467.0,31590.0,20425.0,17144.0,42564.0,43783.0,40780.0,62847.0,82017.0,16813.0,51267.0,46524.0,45183.0,70421.0,60161.0,73926.0,19329.0,61872.0,46984.0,34838.0,82716.0,48192.0,49681.0,56850.0,55267.0,59666.0,72504.0,26872.0,21359.0,73170.0,52750.0,91820.0,65968.0,30772.0,22507.0,65685.0,25804.0,76412.0,22063.0,57091.0,22419.0,87771.0,78353.0,93404.0,37859.0,80995.0,16529.0,55412.0,48789.0,56575.0,25130.0,35441.0,71391.0,49494.0,81702.0,45889.0,56628.0,34026.0,40049.0,34176.0,19419.0,82504.0,81205.0,61618.0,55284.0,49980.0,15072.0,49166.0,65324.0,82347.0,30843.0,46374.0,60474.0,38576.0,55357.0,37758.0,85710.0,23228.0,44602.0,7500.0,38683.0,49514.0,57906.0,43456.0,19485.0,53172.0,30545.0,70123.0,62450.0,21675.0,42395.0,61346.0,80812.0,42835.0,39922.0,86424.0,17117.0,24762.0,35797.0,36627.0,51111.0,86857.0,82072.0,46231.0,42243.0,51195.0,68092.0,31814.0,51390.0,76630.0,26868.0,48948.0,55260.0,64090.0,78331.0,37087.0,21846.0,81320.0,54137.0,66825.0,57100.0,58917.0,85072.0,86429.0,45684.0,47889.0,45921.0,78420.0,75114.0,52278.0,35641.0,95529.0,62820.0,73113.0,84169.0,42607.0,74637.0,46015.0,72354.0,39858.0,34469.0,83033.0,24401.0,77583.0,74116.0,74293.0,68397.0,79632.0,46107.0,64950.0,25443.0,75127.0,32892.0,71796.0,67536.0,55239.0,60554.0,64831.0,56067.0,82025.0,94384.0,14906.0,51563.0,57937.0,68274.0,39771.0,67893.0,27922.0,52190.0,44051.0,42767.0,46106.0,16927.0,59754.0,53700.0,59041.0,54237.0,70647.0,52597.0,41021.0,40233.0,50183.0,54753.0,92955.0,33471.0,34596.0,44010.0,84219.0,40706.0,15716.0,59052.0,80573.0,83715.0,82576.0,56962.0,35704.0,53103.0,46779.0,4861.0,33462.0,63693.0,80763.0,65352.0,82170.0,75759.0,79689.0,35340.0,85683.0,24884.0,42021.0,64449.0,64587.0,34824.0,75437.0,26091.0,52845.0,46086.0,78028.0,95169.0,56337.0,22434.0,36930.0,36130.0,65569.0,83844.0,19514.0,36736.0,77568.0,49187.0,30168.0,34053.0,38196.0,59412.0,70924.0,54165.0,32300.0,20180.0,34961.0,28440.0,64504.0,33564.0,17345.0,56320.0,28647.0,15038.0,32173.0,68316.0,74538.0,91700.0,68695.0,31056.0,79593.0,28071.0,37334.0,46423.0,37126.0,47703.0,61180.0,38998.0,8028.0,76081.0,34728.0,33168.0,33585.0,77037.0,35196.0,44529.0,70924.0,28764.0,69098.0,25959.0,27100.0,70596.0,42557.0,53312.0,72228.0,67605.0,62845.0,65196.0,42000.0,35860.0,65526.0,16860.0,83528.0,64176.0,22304.0,67023.0,32892.0,70713.0,59925.0,39722.0,46610.0,88347.0,87171.0,26907.0,50014.0,41014.0,66294.0,36715.0,79456.0,40479.0,75345.0,54233.0,24163.0,84460.0,43776.0,71691.0,85844.0,39190.0,71367.0,38578.0,57236.0,61825.0,79803.0,80910.0,27590.0,56775.0,83829.0,54210.0,38508.0,53187.0,30023.0,76045.0,50870.0,15315.0,65463.0,66480.0,76773.0,81698.0,54466.0,98777.0,16269.0,71819.0,33569.0,36262.0,22634.0,47025.0,70566.0,31605.0,52034.0,48526.0,46734.0,39552.0,86358.0,46931.0,16581.0,63998.0,67381.0,25930.0,42693.0,85606.0,72903.0,49669.0,36778.0,85696.0,10979.0,49678.0,56129.0,37155.0,21282.0,33419.0,63285.0,21255.0,42162.0,54450.0,57744.0,26576.0,57513.0,68142.0,7500.0,83145.0,54197.0,23091.0,46049.0,56715.0,79410.0,57304.0,44375.0,54450.0,59594.0,80685.0,40344.0,62710.0,48985.0,35322.0,77142.0,81657.0,14421.0,20130.0,74214.0,66726.0,23724.0,47353.0,33444.0,54386.0,28510.0,90638.0,48070.0,43140.0,54959.0,15056.0,26954.0,22327.0,44393.0,62000.0,31497.0,45894.0,78579.0,67369.0,58401.0,62307.0,43641.0,63841.0,46891.0,70091.0,78075.0,59184.0,54809.0,58113.0,51412.0,15287.0,66636.0,50965.0,84618.0,18351.0,40451.0,36317.0,42213.0,65748.0,77044.0,74918.0,56721.0,42160.0,61559.0,33629.0,68682.0,34377.0,8940.0,26228.0,77297.0,40211.0,33438.0,75032.0,61284.0,22518.0,54730.0,38452.0,44421.0,38197.0,41986.0,28427.0,37395.0,64722.0,55249.0,84906.0,28691.0,44213.0,25707.0,59062.0,76624.0,66000.0,27683.0,1730.0,7500.0,40521.0,20427.0,65106.0,69969.0,67433.0,77766.0,74716.0,68118.0,55158.0,62972.0,74190.0,39356.0,76653.0,35860.0,90687.0,73450.0,31454.0,47139.0,83829.0,53378.0,19656.0,45579.0,85485.0,55956.0,64191.0,38808.0,57183.0,23748.0,66303.0,37368.0,40800.0,71847.0,46149.0,78687.0,49118.0,37633.0,39767.0,26997.0,33986.0,57091.0,46831.0,83151.0,52531.0,15759.0,22804.0,43050.0,42997.0,48918.0,60033.0,34043.0,57811.0,78569.0,7500.0,94384.0,23148.0,44267.0,71626.0,60894.0,50200.0,81051.0,65169.0,59868.0,65695.0,64857.0,45143.0,74805.0,59060.0,27238.0,47009.0,46094.0,40321.0,37235.0,81843.0,46692.0,77382.0,37774.0,18393.0,72828.0,24711.0,45503.0,6560.0,71604.0,27244.0,48752.0,71434.0,90842.0,88097.0,51948.0,71853.0,35876.0,40049.0,39660.0,50127.0,43263.0,62845.0,18929.0,24367.0,33249.0,26887.0,50150.0,62061.0,85696.0,76542.0,70515.0,18227.0,69139.0,69109.0,69627.0,38136.0,62159.0,80695.0,33316.0,58554.0,17256.0,53034.0,52203.0,59601.0,75154.0,47025.0,37971.0,41335.0,67267.0,57338.0,50523.0,35791.0,50611.0,56242.0,48904.0,56243.0,21355.0,57420.0,51381.5,46390.0,54342.0,51381.5,51381.5,20895.0,92344.0,51381.5,26907.0,44964.0,75507.0,53761.0,22682.0,38887.0,41658.0,29791.0,63915.0,39996.0,26759.0,63841.0,51039.0,60544.0,65685.0,37716.0,36864.0,44511.0,36947.0,47352.0,67087.0,57045.0,36957.0,69389.0,80134.0,43142.0,80589.0,34412.0,57537.0,22634.0,51315.0,36026.0,24639.0,34578.0,65704.0,63810.0,54132.0,18690.0,28164.0,34596.0,43269.0,38741.0,31907.0,27100.0,31163.0,92533.0,34853.0,70844.0,31086.0,60544.0,20491.0,42523.0,39922.0,33402.0,36408.0,21645.0,78427.0,82657.0,51876.0,78041.0,52852.0,70038.0,69401.0,46053.0,77343.0,73892.0,40304.0,32727.0,68695.0,43300.0,26290.0,93790.0,38410.0,64866.0,57957.0,46015.0,16531.0,28072.0,49476.0,50725.0,83844.0,41145.0,67419.0,23162.0,34380.0,34704.0,94871.0,65148.0,39898.0,64857.0,59892.0,41020.0,57072.0,60474.0,62807.0,19414.0,19107.0,75484.0,70379.0,79419.0,64014.0,76998.0,49854.0,60585.0,42873.0,87679.0,57867.0,35765.0,65492.0,32952.0,53374.0,71706.0,68487.0,53253.0,31163.0,42014.0,54108.0,49667.0,63206.0,57136.0,46772.0,78931.0,53977.0,84219.0,46098.0,73538.0,79529.0,20981.0,51766.0,55759.0,33039.0,37787.0,27242.0,87188.0,69930.0,37697.0,37401.0,3502.0,58597.0,82032.0,28087.0,74004.0,19740.0,57036.0,53083.0,69283.0,46098.0,23331.0,23331.0,9255.0,67786.0,71969.0,59235.0,31928.0,74881.0,65819.0,51411.0,51983.0,42386.0,30390.0,30983.0,66033.0,37284.0,57530.0,76800.0,63943.0,76081.0,67445.0,37054.0,47175.0,31859.0,27215.0,70179.0,39922.0,49681.0,24645.0,79865.0,44322.0,47958.0,63972.0,75315.0,55517.0,75283.0,82800.0,38998.0,90638.0,27161.0,42014.0,38201.0,45203.0,81574.0,34935.0,60482.0,34633.0,78093.0,82460.0,45903.0,81361.0,35860.0,40442.0,61482.0,34968.0,75794.0,31497.0,74268.0,13724.0,45143.0,52569.0,48432.0,17144.0,36108.0,76445.0,36663.0,53843.0,90226.0,70638.0,44512.0,27116.0,54072.0,71855.0,51250.0,60432.0,65526.0,68655.0,12393.0,64509.0,33955.0,31353.0,55434.0,28359.0,57100.0,69139.0,52973.0,51717.0,18793.0,66664.0,50664.0,54414.0,54549.0,47111.0,41003.0,19444.0,36301.0,73059.0,42731.0,52854.0,22775.0,46681.0,59821.0,50002.0,69755.0,44078.0,30560.0,35924.0,64140.0,56386.0,24594.0,75774.0,39228.0,58494.0,58684.0,57136.0,56551.0,22448.0,82014.0,34213.0,25358.0,35544.0,36634.0,62670.0,50334.0,72066.0,50729.0,34916.0,64892.0,43602.0,33996.0,41473.0,63246.0,36732.0,69084.0,77766.0,37929.0,86610.0,80141.0,72635.0,69016.0,20193.0,27573.0,15862.0,49544.0,33228.0,70440.0,38232.0,22554.0,23536.0,49413.0,42231.0,78789.0,56534.0,58350.0,81217.0,49090.0,61787.0,18169.0,24336.0,18222.0,62335.0,42033.0,86580.0,41437.0,73705.0,61064.0,38452.0,18358.0,55012.0,9722.0,38175.0,58656.0,52117.0,64813.0,54222.0,83512.0,77520.0,41154.0,80398.0,18746.0,35196.0,60230.0,22108.0,44392.0,55424.0,17688.0,92491.0,90273.0,82571.0,38513.0,16653.0,42586.0,23529.0,74881.0,71107.0,46910.0,18690.0,37244.0,82427.0,75342.0,70044.0,79146.0,77437.0,54984.0,42403.0,55761.0,37292.0,45576.0,70321.0,58086.0,81795.0,28389.0,66835.0,69901.0,80360.0,63342.0,44989.0,31859.0,51569.0,30372.0,16014.0,41120.0,39763.0,38725.0,77981.0,62905.0,13533.0,59481.0,72117.0,21955.0,67131.0,36802.0,71853.0,28249.0,47808.0,25509.0,51012.0,70596.0,85431.0,42664.0,42586.0,29760.0,28973.0,39435.0,65370.0,20194.0,42473.0,64590.0,71232.0,34600.0,46904.0,49094.0,36075.0,60839.0,77298.0,34026.0,48918.0,82122.0,37697.0,34074.0,28520.0,62535.0,36273.0,63404.0,75774.0,78416.0,75702.0,59385.0,37070.0,44689.0,53977.0,7144.0,18701.0,90369.0,63159.0,37758.0,46757.0,79734.0,63207.0,72071.0,21840.0,58582.0,72282.0,50387.0,32583.0,62568.0,44635.0,33316.0,63967.0,52513.0,25293.0,54111.0,78394.0,80739.0,22669.0,29236.0,44911.0,54693.0,48186.0,54809.0,41580.0,80336.0,47743.0,62972.0,57333.0,32313.0,84953.0,27071.0,68148.0,65735.0,86836.0,4023.0,30093.0,57705.0,25008.0,83257.0,22280.0,72159.0,64260.0,82733.0,74290.0,58217.0,21024.0,70116.0,54006.0,69063.0,11448.0,61825.0,70886.0,69109.0,60208.0,32889.0,34738.0,30538.0,82326.0,26642.0,69932.0,44503.0,60200.0,49638.0,23830.0,33051.0,72905.0,69702.0,70300.0,70643.0,30396.0,50616.0,62772.0,30298.0,52413.0,44155.0,86979.0,76532.0,42081.0,67546.0,88420.0,31158.0,61671.0,69719.0,49160.0,24882.0,90933.0,59292.0,45759.0,22148.0,73395.0,29819.0,45688.0,62820.0,60491.0,33235.0,35701.0,31535.0,92556.0,67384.0,80573.0,77870.0,52278.0,57107.0,18929.0,36038.0,20180.0,34230.0,31878.0,70932.0,91249.0,77598.0,80982.0,22701.0,55212.0,70617.0,64849.0,62694.0,61917.0,67472.0,21059.0,29543.0,75903.0,34984.0,54998.0,54356.0,34242.0,25410.0,73356.0,28320.0,23763.0,72570.0,34529.0,70792.0,63211.0,83891.0,36065.0,39898.0,51141.0,56939.0,80872.0,72335.0,61798.0,76842.0,29478.0,46998.0,96843.0,56551.0,70053.0,71670.0,44359.0,40887.0,48877.0,74485.0,64474.0,77226.0,72643.0,85738.0,55686.0,39062.0,34600.0,40794.0,54690.0,4428.0,32632.0,38236.0,36781.0,31385.0,24570.0,25509.0,94642.0,58646.0,53201.0,21994.0,57113.0,51373.0,23477.0,58116.0,72968.0,39791.0,91712.0,94472.0,13672.0,96547.0,79205.0,56559.0,32644.0,67506.0,24206.0,28420.0,22979.0,33279.0,46423.0,30368.0,63684.0,41638.0,68805.0,65814.0,71964.0,39146.0,96876.0,34445.0,68281.0,37284.0,36790.0,27943.0,22263.0,30261.0,28587.0,43815.0,48195.0,77027.0,71322.0,32765.0,29672.0,23272.0,49912.0,7500.0,68117.0,67225.0,17649.0,55914.0,40059.0,60905.0,75330.0,60689.0,38680.0,61416.0,49767.0,83273.0,29009.0,45057.0,37150.0,43020.0,53154.0,65308.0,76467.0,81044.0,32871.0,55801.0,76320.0,36927.0,48794.0,23478.0,71128.0,70179.0,59462.0,51381.5,38361.0,51381.5,70038.0,42554.0,67445.0,67046.0,42192.0,77610.0,31761.0,34350.0,54591.0,71866.0,25293.0,42000.0,69520.0,64713.0,27889.0,22123.0,51381.5,51381.5,27803.0,51381.5,51651.0,68487.0,51381.5,56796.0,87000.0,79823.0,30828.0,34109.0,53367.0,22390.0,71322.0,79244.0,49912.0,48699.0,80144.0,54252.0,81929.0,76068.0,53204.0,67911.0,14796.0,78128.0,14188.0,20425.0,58646.0,72967.0,48150.0,82332.0,58275.0,44953.0,34587.0,43018.0,45736.0,66476.0,27733.0,69805.0,72217.0,25818.0,37509.0,25176.0,43586.0,53230.0,50116.0,84906.0,61286.0,82333.0,65220.0,33590.0,30992.0,72309.0,16005.0,65487.0,58692.0,40590.0,20587.0,62637.0,29435.0,19346.0,35788.0,36997.0,23539.0,65333.0,78499.0,29732.0,41275.0,63516.0,42769.0,49572.0,69209.0,17148.0,40590.0,30560.0,32146.0,41713.0,34176.0,58482.0,59686.0,60896.0,62994.0,47320.0,74859.0,15253.0,31560.0,72071.0,91172.0,90000.0,41967.0,69263.0,65706.0,60934.0,71965.0,65210.0,79174.0,81380.0,48432.0,52914.0,38946.0,26067.0,44325.0,42523.0,26487.0,53233.0,67716.0,76234.0,84117.0,65487.0,25224.0,89616.0,40851.0,27469.0,82347.0,73803.0,8820.0,43322.0,55593.0,50501.0,37085.0,16185.0,57731.0,48432.0,73807.0,18929.0,35893.0,61014.0,32144.0,14918.0,45146.0,41769.0,88325.0,38054.0,80617.0,5305.0,36807.0,28427.0,82032.0,22775.0,40101.0,58025.0,75777.0,7500.0,33562.0,57642.0,58554.0,63777.0,57967.0,51381.5,24434.0,11012.0,44802.0,26816.0,34421.0,61223.0,64014.0,56981.0,69245.0,52869.0],\"y\":[1617,27,776,53,422,716,590,169,46,49,19,61,1102,310,46,1315,96,317,1782,133,316,1730,972,544,444,75,257,637,131,1672,30,318,120,302,1196,65,913,81,67,902,1395,53,22,186,31,984,122,55,124,1319,507,1693,72,1617,606,1957,1093,29,46,518,1438,612,884,606,1076,34,11,1274,653,1562,1253,109,863,661,65,13,1890,2209,18,692,165,16,79,318,778,56,151,372,1366,194,603,18,985,32,43,45,606,63,978,410,72,55,1169,1120,1097,29,187,910,145,850,969,1820,608,730,551,114,1724,577,81,33,660,80,30,43,1135,559,1923,90,404,661,463,632,725,725,279,1482,29,106,49,38,2077,1053,1385,871,312,877,68,22,211,127,459,460,429,89,1021,1381,306,18,162,1231,13,1706,121,1293,88,421,259,1117,89,36,57,148,93,119,1835,1318,45,10,978,191,57,1033,66,43,50,39,608,1581,68,80,1282,65,91,315,31,834,1600,1270,263,535,1295,1150,1240,38,35,53,293,65,1804,241,1101,264,541,1198,482,17,1615,285,1135,114,1047,714,185,1245,189,576,1103,1753,17,433,1588,22,19,1117,69,23,605,57,22,2088,1009,26,1627,1102,17,1690,1390,2126,1531,64,26,1112,210,1148,33,1101,322,44,17,31,845,275,25,275,90,1495,184,981,67,1635,60,231,48,99,770,957,818,925,908,102,576,317,461,37,70,930,859,1478,390,52,137,1919,68,25,1374,32,100,825,916,62,728,90,273,66,1213,107,1157,546,241,53,37,1611,1508,235,32,102,401,28,1052,680,30,20,1307,630,1283,65,37,38,160,23,71,1161,59,33,946,1442,62,1674,1853,1538,139,1182,507,18,940,42,1190,44,16,835,1443,1029,1188,1277,49,99,1670,900,425,2153,636,57,25,494,693,1348,51,1932,990,30,254,29,1371,73,120,81,37,1377,51,17,22,324,211,19,41,492,1005,114,1173,1738,222,1127,209,787,1598,186,47,27,96,64,1040,163,343,446,41,70,272,46,490,79,915,1485,369,1073,1242,78,1378,1474,751,48,45,10,1435,2119,20,1795,1188,43,1008,1688,684,1082,1068,57,46,733,467,122,36,34,156,14,37,34,20,192,1379,48,428,868,1001,59,431,971,348,2059,265,270,1289,893,926,135,1495,120,1288,1743,15,542,890,1388,17,906,44,25,973,31,518,530,506,70,54,296,266,747,895,1053,735,20,205,2092,309,1722,900,682,663,43,1816,976,746,64,32,263,1445,46,1210,945,1157,137,730,216,943,347,1924,397,2089,138,42,777,1902,52,1651,358,1727,210,42,1291,442,1895,411,521,1168,493,260,46,319,96,1062,232,76,54,201,406,1919,662,41,1600,134,69,21,54,91,526,162,1008,240,795,1772,64,1957,78,1572,795,889,331,265,1065,11,21,17,369,38,177,279,62,1230,182,49,75,227,215,444,47,143,55,63,1867,611,473,55,81,2086,1478,49,382,69,67,30,63,79,42,819,1151,594,129,213,67,28,45,1193,268,266,37,37,882,373,35,42,326,404,95,939,33,981,36,1237,1825,103,191,1586,963,889,93,1587,16,1375,393,1477,1179,1005,1348,1307,486,2252,235,1724,235,1092,599,2008,48,1174,67,365,165,210,1095,223,597,22,1064,74,26,60,20,59,34,198,1048,574,1029,670,990,11,1241,576,172,664,928,2074,467,257,1146,689,2114,1346,1044,493,957,270,29,121,126,23,57,636,1004,734,614,1453,1621,187,1443,57,637,948,59,18,903,112,596,233,1511,1152,48,1185,21,965,869,16,1947,71,65,1380,1027,411,836,11,480,606,284,1472,1677,1335,334,18,1338,1099,97,63,109,902,1574,38,960,28,1215,1497,449,1064,1757,1440,1006,1226,1171,92,99,66,564,1427,86,833,242,1869,1364,183,450,758,1507,654,81,137,16,93,1158,43,1525,1230,29,25,24,38,57,47,813,629,377,1612,729,50,270,177,315,767,1071,1580,60,573,41,170,1167,1526,458,63,405,1027,1478,72,48,726,860,1497,495,20,570,769,55,1808,55,577,162,1957,1576,1616,36,1482,22,63,680,542,50,39,1043,385,1633,46,761,76,290,89,70,1066,2009,1345,764,195,53,368,544,1853,35,446,1180,41,727,40,1062,40,292,15,341,369,401,393,10,486,69,1727,995,45,182,989,1677,595,156,1226,128,86,68,16,55,2114,2018,263,55,564,1281,83,353,1003,14,902,1139,797,1638,401,84,928,203,858,409,282,1423,1449,28,67,199,1453,1253,1198,178,1990,976,1001,1919,350,1650,46,1228,95,62,1761,467,1149,2052,1127,1416,1113,125,966,32,833,46,960,1829,779,811,1120,725,1187,2302,66,1250,683,305,50,995,41,77,171,131,54,53,475,694,96,361,1079,578,64,149,231,728,1778,93,23,662,1198,81,92,491,1564,926,1910,411,94,1085,23,6,54,1150,1415,405,1908,2486,1315,45,1789,19,573,805,108,23,1493,89,936,343,528,1901,724,58,297,488,859,1574,69,17,2194,116,279,103,44,406,1363,236,39,137,79,63,1314,71,58,702,94,80,22,1211,1461,1968,1091,55,1366,313,62,92,72,655,704,54,178,1033,36,122,122,1123,497,691,1363,12,2440,56,37,968,270,278,1250,938,1178,1155,653,49,506,38,1650,1826,18,906,46,1477,766,47,467,2116,1298,22,396,20,967,357,1401,15,2087,981,17,523,23,1192,1958,133,777,73,121,424,868,756,12,937,1862,367,443,267,61,1323,63,64,562,312,1156,1104,16,2008,44,1574,63,426,96,635,757,125,332,135,330,384,1722,78,24,1168,957,15,57,1956,2013,326,77,1313,30,315,660,74,46,86,1103,61,145,684,411,27,1060,1459,18,1833,237,48,515,1020,1370,1026,301,684,499,1004,218,606,75,106,990,1097,16,34,1711,438,75,225,18,470,91,2525,504,235,1232,88,17,24,60,1020,155,51,1812,1461,96,160,139,908,183,1161,988,1072,174,758,195,31,1084,685,1672,43,49,133,363,545,1065,2047,296,140,530,152,1598,114,101,25,789,87,90,1215,811,61,405,72,189,40,63,52,39,805,130,1631,34,152,21,71,899,711,351,8,119,21,10,973,1536,992,1529,860,928,418,587,641,23,2279,49,1779,1804,48,83,1862,793,84,183,1383,999,825,246,610,76,1286,30,99,1192,362,2130,1229,38,485,434,44,496,78,2346,794,17,26,76,15,62,198,49,802,1736,57,2302,37,310,1305,832,401,1501,1189,1194,656,1540,311,820,274,57,448,44,102,61,1643,397,1121,473,50,1678,58,170,373,1196,101,316,1400,1424,844,311,1149,129,32,299,320,441,1178,85,24,112,30,410,800,1313,1483,1258,28,227,1555,861,103,634,1918,131,586,62,447,939,797,1143,415,30,187,251,237,91,35,493,971,371,396,68,322,317,222,177,45,21,45,1899,42,22,41,1440,325,95,42,72,20,789,15,59,908,417,289,769,188,354,727,146,319,794,454,152,797,1690,20,1428,209,545,96,222,61,44,8,817,1371,42,60,78,23,19,61,449,37,38,1131,34,294,48,289,30,125,156,70,22,65,1930,2283,310,1319,879,1244,690,209,1134,1507,57,529,1091,180,77,2349,534,556,637,46,44,47,795,586,1574,13,1471,65,175,40,1078,1115,134,1540,87,217,1034,1180,819,32,46,1159,860,1631,444,1910,380,736,269,2524,612,75,1045,55,1064,1443,1366,436,38,436,747,1396,928,642,1048,943,907,1198,120,1658,1638,73,275,854,78,106,106,1923,1662,84,48,5,733,1234,112,1658,55,1513,271,904,120,103,269,22,1156,1086,1128,72,964,1383,18,793,100,80,167,677,23,92,641,1106,1033,1174,25,240,20,102,1034,156,458,17,792,92,407,1269,841,633,1019,1315,54,2525,52,436,268,147,1798,137,507,15,1105,974,66,778,49,169,299,221,1682,155,892,58,311,95,424,47,339,1410,35,562,2352,1334,32,41,39,1141,710,401,506,1538,57,1722,270,31,882,16,311,227,1152,122,77,1289,561,211,233,1092,601,54,78,1095,244,116,15,425,734,638,894,41,31,34,1750,612,29,823,20,396,813,1179,138,55,1511,117,32,67,335,825,694,1792,496,231,902,68,71,76,772,47,1586,1529,265,1603,2091,981,1533,82,244,36,404,71,1572,122,41,10,304,37,1754,815,1001,1157,688,1319,21,31,67,708,25,746,32,1695,1080,72,57,660,103,153,1220,279,745,264,2157,1526,69,1597,64,497,1067,31,211,877,11,2034,1991,1686,324,69,252,54,964,1327,68,60,55,1456,563,1504,564,1125,358,42,184,460,145,1376,792,1382,28,1033,882,2231,1101,369,48,467,44,38,81,167,45,664,622,48,461,1073,55,976,20,1149,43,224,101,209,968,1165,24,252,165,269,102,461,47,144,1338,917,318,253,502,119,1250,969,76,62,1382,84,255,43,398,76,902,823,1179,1921,185,433,34,907,416,44,1588,1797,40,1143,914,1502,1338,27,763,1331,525,9,953,68,131,882,1149,37,388,1428,1633,173,99,215,929,219,174,92,1052,275,587,1662,159,1024,35,1042,395,557,9,69,486,34,1365,13,1401,1574,1323,1217,103,84,1536,581,928,14,424,960,1555,656,55,20,367,2257,42,1049,48,685,39,43,835,1515,1039,1596,1828,34,149,946,28,450,46,1702,820,382,2126,2069,72,732,801,236,80,1685,507,68,49,397,39,306,976,1028,70,46,51,1263,1490,1564,1815,1198,416,85,47,137,21,70,909,1676,1735,1191,24,1182,1280,1336,749,91,414,44,63,901,38,455,775,15,38,1512,43,42,1089,162,1272,1173,816,74,134,157,561,1336,2092,463,1130,20,377,1544,138,1012,1766,45,161,144,1734,823,1138,1429,1371,982,44,318,434,198,359,576,88,63,27,193,101,2211,140,415,22,263,393,147,443,1958,174,2217,1691,25,809,895,484,413,331,25,13,115,16,92,52,1464,441,283,747,1870,165,1941,839,1655,23,66,37,21,22,78,79,265,1175,1305,46,25,46,874,100,930,868,45,1260,414,392,1109,639,79,1665,692,1392,44,50,467,223,158,1211,1575,1208,43,527,932,71,54,129,1615,1034,1088,721,137,47,1244,41,1174,993,100,1680,98,48,519,715,37,653,1455,602,26,102,97,207,176,450,433,1366,1564,1001,961,1518,56,22,400,26,350,1216,874,40,1367,264,2053,1376,45,976,51,1264,75,57,140,497,266,2006,615,1021,22,133,437,1013,57,1038,1573,28,123,13,132,732,66,1631,608,1822,1282,8,43,1931,103,1169,395,258,25,185,180,22,44,94,81,798,1334,38,61,300,88,54,1782,68,258,31,66,174,28,731,274,1701,312,414,1565,29,94,1338,1092,1479,54,568,1199,873,1213,731,2043,1893,424,575,257,56,542,125,69,40,1016,907,1566,1169,46,1644,59,17,1853,1528,35,141,546,500,61,106,704,424,849,85,199,1147,54,43,53,521,1623,45,1435,32,16,52,1234,15,415,470,1438,53,51,679,586,653,468,1679,50,84,1049,22,30,1341,444,1241,843,172],\"z\":[4,2,10,4,6,10,7,4,2,0,2,3,8,5,3,12,3,6,9,3,5,0,9,9,5,3,4,0,4,10,3,3,4,6,9,3,12,2,3,5,5,3,3,4,3,9,3,2,4,12,10,13,3,7,10,13,10,4,3,6,11,12,10,8,4,2,2,10,10,5,6,3,13,8,4,2,5,9,3,8,4,2,3,3,13,4,4,6,7,5,8,2,8,3,3,3,6,3,12,7,3,3,11,6,5,3,4,12,3,4,11,5,8,11,6,3,5,5,3,3,10,3,3,3,13,7,6,4,7,10,5,6,9,7,5,13,3,2,2,3,12,7,10,9,3,6,3,2,4,4,7,6,5,4,11,6,5,3,6,10,2,9,4,10,4,4,6,7,3,3,3,3,3,2,8,5,3,3,12,4,3,13,3,3,2,4,8,9,3,2,12,2,3,6,2,12,6,5,3,7,9,9,10,3,2,3,5,3,9,6,9,5,8,9,5,2,6,5,11,4,7,11,4,12,4,4,11,8,2,8,4,2,3,11,4,3,11,3,2,10,4,2,9,8,3,6,6,5,6,3,3,13,5,11,3,5,7,4,2,2,10,6,2,4,3,8,2,6,2,5,4,4,4,4,12,10,5,8,9,4,4,6,8,3,2,13,12,5,5,3,3,9,3,3,11,3,3,6,12,3,9,3,4,3,9,3,10,6,4,3,3,12,10,6,3,3,6,3,10,12,2,2,5,8,5,4,3,3,4,2,3,5,2,3,12,6,3,8,4,11,4,11,8,2,4,3,6,3,2,9,8,5,10,5,3,4,8,5,4,10,10,4,2,6,9,11,3,8,8,3,4,2,12,3,2,2,3,10,3,2,3,6,4,2,2,4,13,3,12,8,6,6,4,12,10,4,2,3,3,3,9,5,4,6,3,4,5,2,8,3,6,12,7,8,10,3,11,9,8,3,3,2,8,5,2,13,10,4,12,9,7,9,13,4,3,12,5,4,3,3,5,3,3,3,2,4,7,3,9,11,7,4,8,10,6,9,5,8,6,8,11,3,8,3,9,5,2,8,12,13,2,9,3,2,11,3,8,7,4,2,3,2,5,4,13,7,10,3,4,12,5,13,3,6,11,3,4,11,13,2,3,3,12,3,12,8,11,4,12,3,12,5,7,5,9,3,3,7,10,3,6,6,9,3,3,10,6,4,8,8,5,6,5,3,5,3,4,7,3,3,4,3,6,8,4,4,4,2,3,3,2,8,2,13,5,11,7,4,4,4,7,13,12,7,5,9,2,2,2,5,3,3,5,3,8,3,3,4,4,6,5,3,3,3,4,5,10,7,3,2,5,9,3,7,2,3,3,3,4,3,12,9,10,3,2,3,3,3,7,6,7,3,3,13,5,3,3,9,7,2,6,3,6,3,7,5,3,4,13,6,12,3,7,2,11,7,9,8,13,6,6,4,6,6,13,6,12,7,9,3,12,4,5,4,5,13,3,9,3,13,3,3,2,2,3,3,5,10,9,6,8,8,2,5,12,3,13,4,13,5,6,6,11,10,12,4,7,4,4,3,2,4,2,3,6,10,5,8,11,7,4,8,3,6,5,2,2,10,3,8,5,5,8,3,9,2,5,8,3,4,2,3,12,11,5,8,3,6,10,4,4,13,4,7,2,6,11,3,3,4,5,11,4,12,2,7,5,10,13,11,6,13,5,8,3,2,3,8,10,2,5,4,7,12,4,7,12,6,7,4,1,2,3,4,3,5,10,3,2,2,3,3,4,4,8,5,4,7,3,5,5,7,7,8,12,3,9,3,4,13,12,7,3,6,8,6,2,3,6,9,12,7,2,4,9,3,8,3,7,2,4,11,7,3,4,3,3,7,7,3,3,12,5,12,3,5,3,6,4,3,7,7,8,8,5,3,3,9,10,2,7,12,3,11,3,10,3,4,3,6,4,8,8,2,8,3,4,4,3,4,10,5,4,4,12,3,2,3,3,3,10,13,4,3,5,10,3,5,11,2,5,5,4,7,8,3,10,4,6,6,6,10,7,2,3,6,8,5,10,4,7,6,7,6,7,9,3,6,4,4,10,6,9,10,6,5,9,4,10,3,5,3,4,11,11,9,5,7,6,5,3,10,9,5,3,9,3,3,4,2,2,4,6,8,4,5,13,8,3,5,6,11,9,4,2,6,10,4,4,7,13,13,12,5,4,7,2,0,3,9,6,8,7,9,13,3,10,3,6,12,4,2,10,3,6,8,9,4,4,3,4,4,10,11,2,2,8,5,4,3,4,8,7,7,3,4,3,3,4,3,2,9,2,2,3,10,5,5,7,3,7,5,4,4,2,8,6,3,0,4,2,4,4,12,5,11,7,2,9,2,3,12,4,5,8,6,10,11,11,2,8,3,8,8,2,13,3,8,9,3,6,9,11,3,8,2,5,4,4,3,6,5,3,4,2,5,7,4,7,3,4,8,5,8,2,10,6,7,5,6,3,11,3,4,9,7,11,5,2,9,3,5,2,3,2,6,9,4,5,4,5,5,6,3,3,11,9,2,3,9,8,6,3,9,3,4,10,4,2,4,13,4,3,8,4,2,13,7,2,11,6,3,9,4,5,10,6,8,7,10,5,12,3,4,8,8,2,3,5,4,3,6,2,10,4,10,6,5,4,3,2,3,4,13,4,3,4,10,2,4,4,9,4,10,5,12,5,8,4,2,9,5,10,3,2,4,7,10,11,6,5,4,10,4,10,2,3,2,9,2,4,9,8,2,8,3,4,3,4,3,3,11,4,12,3,5,3,3,7,5,4,0,2,2,2,13,6,13,11,5,4,5,3,11,2,11,2,8,11,3,2,6,6,3,4,6,4,13,4,7,3,11,2,3,9,7,8,10,3,7,5,3,5,2,10,10,2,2,4,2,4,5,2,11,4,3,5,3,4,8,8,5,12,13,12,10,10,5,10,7,3,8,3,3,2,12,5,12,3,3,13,3,4,1,5,2,5,7,13,8,4,6,3,3,3,6,6,10,4,2,3,3,7,7,9,10,4,2,5,7,11,2,10,5,4,6,2,7,11,7,6,5,3,4,5,5,4,3,7,11,4,8,2,6,6,3,4,3,2,3,5,3,3,3,6,3,4,3,2,3,12,2,3,9,4,5,9,3,4,8,4,5,8,9,2,12,6,2,5,3,8,2,5,3,4,2,10,12,3,2,4,2,2,3,6,3,3,11,3,5,2,5,2,4,4,3,2,3,10,10,8,9,5,8,5,4,9,8,3,5,7,4,4,12,9,7,8,3,3,3,5,8,11,3,8,3,3,3,4,7,4,10,3,4,13,12,12,3,3,6,13,4,5,8,5,9,4,10,9,4,13,3,9,7,13,5,3,6,9,5,6,10,5,13,12,10,2,9,9,2,4,8,4,3,3,6,12,3,3,0,9,7,2,4,3,13,5,13,2,3,5,2,6,9,12,4,12,10,3,10,3,3,3,7,3,4,7,6,4,12,3,4,2,4,13,4,7,2,5,3,5,10,12,6,5,12,3,10,3,6,5,3,8,4,7,2,5,6,3,13,2,4,6,5,12,4,5,2,5,4,6,4,4,13,3,3,12,10,3,3,2,11,4,5,8,11,3,9,5,2,13,2,7,5,9,4,4,6,6,5,4,10,8,2,3,13,5,4,2,4,7,7,12,3,3,3,6,7,3,8,3,6,12,7,4,3,12,2,3,3,5,13,6,6,7,3,12,2,3,3,12,4,13,11,5,6,10,6,13,4,4,3,8,3,7,3,4,3,5,3,5,7,12,11,9,6,2,2,3,13,2,5,3,8,11,3,4,9,3,4,13,4,10,5,10,7,4,12,3,5,6,3,4,9,2,12,7,13,5,3,6,2,12,13,3,2,2,12,10,5,8,13,6,3,3,5,3,13,7,7,2,13,10,5,5,5,3,7,3,4,3,2,4,7,8,3,8,9,3,12,3,6,3,3,3,4,12,7,3,6,4,5,2,13,3,4,10,10,5,4,6,4,12,11,3,4,13,3,3,2,8,3,4,8,10,13,4,8,2,12,1,4,6,8,3,7,6,6,8,3,9,9,8,2,5,3,4,12,9,2,6,5,9,2,3,4,13,4,5,3,13,6,3,9,4,4,3,6,6,6,0,3,6,3,12,2,10,4,7,10,4,4,12,7,5,2,8,4,7,7,3,3,4,6,3,11,3,11,3,3,8,9,10,13,4,2,4,11,3,7,2,5,7,4,5,8,3,6,5,6,2,4,8,3,3,6,3,8,6,7,3,3,2,13,5,13,5,10,8,4,3,4,2,4,12,6,13,11,3,11,7,6,7,4,7,3,2,9,3,9,8,3,4,5,3,3,12,3,10,7,10,3,4,4,10,10,8,9,7,3,5,10,4,10,6,4,3,4,12,10,12,7,11,5,3,5,5,5,0,8,4,2,2,4,3,9,4,5,3,5,3,4,8,8,4,11,5,3,8,4,8,6,6,3,2,2,3,4,3,8,3,7,10,5,4,9,8,13,3,2,3,3,3,4,3,5,6,13,4,3,3,7,3,4,11,3,8,3,7,12,10,3,10,8,9,3,3,6,4,4,12,5,10,3,6,4,3,3,3,12,13,12,4,3,3,8,3,12,4,3,4,4,3,8,10,2,11,5,7,2,3,3,4,4,5,5,13,11,7,7,7,4,3,8,2,7,7,7,3,8,5,10,4,3,11,3,6,4,3,4,8,4,12,7,13,3,2,6,10,3,11,8,2,4,2,4,12,4,12,8,10,7,2,3,8,2,6,4,3,2,5,2,3,3,4,4,8,4,2,3,7,4,3,6,3,3,3,4,4,3,9,6,4,4,8,11,3,3,8,7,5,3,7,12,11,5,8,7,10,6,3,6,3,7,4,3,3,13,11,6,6,3,12,2,3,10,6,3,4,3,4,3,2,6,6,11,4,5,4,3,3,2,7,9,3,8,0,2,3,7,2,6,10,11,2,4,6,6,6,8,1,2,2,12,3,2,4,5,13,10,4],\"type\":\"scatter3d\"},{\"hovertemplate\":\"color=1\\u003cbr\\u003eIncome=%{x}\\u003cbr\\u003eTotalSpent=%{y}\\u003cbr\\u003eNumStorePurchases=%{z}\\u003cextra\\u003e\\u003c\\u002fextra\\u003e\",\"legendgroup\":\"1\",\"marker\":{\"color\":\"#EF553B\",\"symbol\":\"circle\"},\"mode\":\"markers\",\"name\":\"1\",\"scene\":\"scene\",\"showlegend\":true,\"x\":[157243.0,162397.0,153924.0,160803.0,157733.0,157146.0,156924.0],\"y\":[1608,107,6,1717,59,1730,8],\"z\":[0,1,0,1,1,0,0],\"type\":\"scatter3d\"},{\"hovertemplate\":\"color=3\\u003cbr\\u003eIncome=%{x}\\u003cbr\\u003eTotalSpent=%{y}\\u003cbr\\u003eNumStorePurchases=%{z}\\u003cextra\\u003e\\u003c\\u002fextra\\u003e\",\"legendgroup\":\"3\",\"marker\":{\"color\":\"#00cc96\",\"symbol\":\"circle\"},\"mode\":\"markers\",\"name\":\"3\",\"scene\":\"scene\",\"showlegend\":true,\"x\":[113734.0],\"y\":[277],\"z\":[0],\"type\":\"scatter3d\"}],                        {\"template\":{\"data\":{\"histogram2dcontour\":[{\"type\":\"histogram2dcontour\",\"colorbar\":{\"outlinewidth\":0,\"ticks\":\"\"},\"colorscale\":[[0.0,\"#0d0887\"],[0.1111111111111111,\"#46039f\"],[0.2222222222222222,\"#7201a8\"],[0.3333333333333333,\"#9c179e\"],[0.4444444444444444,\"#bd3786\"],[0.5555555555555556,\"#d8576b\"],[0.6666666666666666,\"#ed7953\"],[0.7777777777777778,\"#fb9f3a\"],[0.8888888888888888,\"#fdca26\"],[1.0,\"#f0f921\"]]}],\"choropleth\":[{\"type\":\"choropleth\",\"colorbar\":{\"outlinewidth\":0,\"ticks\":\"\"}}],\"histogram2d\":[{\"type\":\"histogram2d\",\"colorbar\":{\"outlinewidth\":0,\"ticks\":\"\"},\"colorscale\":[[0.0,\"#0d0887\"],[0.1111111111111111,\"#46039f\"],[0.2222222222222222,\"#7201a8\"],[0.3333333333333333,\"#9c179e\"],[0.4444444444444444,\"#bd3786\"],[0.5555555555555556,\"#d8576b\"],[0.6666666666666666,\"#ed7953\"],[0.7777777777777778,\"#fb9f3a\"],[0.8888888888888888,\"#fdca26\"],[1.0,\"#f0f921\"]]}],\"heatmap\":[{\"type\":\"heatmap\",\"colorbar\":{\"outlinewidth\":0,\"ticks\":\"\"},\"colorscale\":[[0.0,\"#0d0887\"],[0.1111111111111111,\"#46039f\"],[0.2222222222222222,\"#7201a8\"],[0.3333333333333333,\"#9c179e\"],[0.4444444444444444,\"#bd3786\"],[0.5555555555555556,\"#d8576b\"],[0.6666666666666666,\"#ed7953\"],[0.7777777777777778,\"#fb9f3a\"],[0.8888888888888888,\"#fdca26\"],[1.0,\"#f0f921\"]]}],\"heatmapgl\":[{\"type\":\"heatmapgl\",\"colorbar\":{\"outlinewidth\":0,\"ticks\":\"\"},\"colorscale\":[[0.0,\"#0d0887\"],[0.1111111111111111,\"#46039f\"],[0.2222222222222222,\"#7201a8\"],[0.3333333333333333,\"#9c179e\"],[0.4444444444444444,\"#bd3786\"],[0.5555555555555556,\"#d8576b\"],[0.6666666666666666,\"#ed7953\"],[0.7777777777777778,\"#fb9f3a\"],[0.8888888888888888,\"#fdca26\"],[1.0,\"#f0f921\"]]}],\"contourcarpet\":[{\"type\":\"contourcarpet\",\"colorbar\":{\"outlinewidth\":0,\"ticks\":\"\"}}],\"contour\":[{\"type\":\"contour\",\"colorbar\":{\"outlinewidth\":0,\"ticks\":\"\"},\"colorscale\":[[0.0,\"#0d0887\"],[0.1111111111111111,\"#46039f\"],[0.2222222222222222,\"#7201a8\"],[0.3333333333333333,\"#9c179e\"],[0.4444444444444444,\"#bd3786\"],[0.5555555555555556,\"#d8576b\"],[0.6666666666666666,\"#ed7953\"],[0.7777777777777778,\"#fb9f3a\"],[0.8888888888888888,\"#fdca26\"],[1.0,\"#f0f921\"]]}],\"surface\":[{\"type\":\"surface\",\"colorbar\":{\"outlinewidth\":0,\"ticks\":\"\"},\"colorscale\":[[0.0,\"#0d0887\"],[0.1111111111111111,\"#46039f\"],[0.2222222222222222,\"#7201a8\"],[0.3333333333333333,\"#9c179e\"],[0.4444444444444444,\"#bd3786\"],[0.5555555555555556,\"#d8576b\"],[0.6666666666666666,\"#ed7953\"],[0.7777777777777778,\"#fb9f3a\"],[0.8888888888888888,\"#fdca26\"],[1.0,\"#f0f921\"]]}],\"mesh3d\":[{\"type\":\"mesh3d\",\"colorbar\":{\"outlinewidth\":0,\"ticks\":\"\"}}],\"scatter\":[{\"fillpattern\":{\"fillmode\":\"overlay\",\"size\":10,\"solidity\":0.2},\"type\":\"scatter\"}],\"parcoords\":[{\"type\":\"parcoords\",\"line\":{\"colorbar\":{\"outlinewidth\":0,\"ticks\":\"\"}}}],\"scatterpolargl\":[{\"type\":\"scatterpolargl\",\"marker\":{\"colorbar\":{\"outlinewidth\":0,\"ticks\":\"\"}}}],\"bar\":[{\"error_x\":{\"color\":\"#2a3f5f\"},\"error_y\":{\"color\":\"#2a3f5f\"},\"marker\":{\"line\":{\"color\":\"#E5ECF6\",\"width\":0.5},\"pattern\":{\"fillmode\":\"overlay\",\"size\":10,\"solidity\":0.2}},\"type\":\"bar\"}],\"scattergeo\":[{\"type\":\"scattergeo\",\"marker\":{\"colorbar\":{\"outlinewidth\":0,\"ticks\":\"\"}}}],\"scatterpolar\":[{\"type\":\"scatterpolar\",\"marker\":{\"colorbar\":{\"outlinewidth\":0,\"ticks\":\"\"}}}],\"histogram\":[{\"marker\":{\"pattern\":{\"fillmode\":\"overlay\",\"size\":10,\"solidity\":0.2}},\"type\":\"histogram\"}],\"scattergl\":[{\"type\":\"scattergl\",\"marker\":{\"colorbar\":{\"outlinewidth\":0,\"ticks\":\"\"}}}],\"scatter3d\":[{\"type\":\"scatter3d\",\"line\":{\"colorbar\":{\"outlinewidth\":0,\"ticks\":\"\"}},\"marker\":{\"colorbar\":{\"outlinewidth\":0,\"ticks\":\"\"}}}],\"scattermapbox\":[{\"type\":\"scattermapbox\",\"marker\":{\"colorbar\":{\"outlinewidth\":0,\"ticks\":\"\"}}}],\"scatterternary\":[{\"type\":\"scatterternary\",\"marker\":{\"colorbar\":{\"outlinewidth\":0,\"ticks\":\"\"}}}],\"scattercarpet\":[{\"type\":\"scattercarpet\",\"marker\":{\"colorbar\":{\"outlinewidth\":0,\"ticks\":\"\"}}}],\"carpet\":[{\"aaxis\":{\"endlinecolor\":\"#2a3f5f\",\"gridcolor\":\"white\",\"linecolor\":\"white\",\"minorgridcolor\":\"white\",\"startlinecolor\":\"#2a3f5f\"},\"baxis\":{\"endlinecolor\":\"#2a3f5f\",\"gridcolor\":\"white\",\"linecolor\":\"white\",\"minorgridcolor\":\"white\",\"startlinecolor\":\"#2a3f5f\"},\"type\":\"carpet\"}],\"table\":[{\"cells\":{\"fill\":{\"color\":\"#EBF0F8\"},\"line\":{\"color\":\"white\"}},\"header\":{\"fill\":{\"color\":\"#C8D4E3\"},\"line\":{\"color\":\"white\"}},\"type\":\"table\"}],\"barpolar\":[{\"marker\":{\"line\":{\"color\":\"#E5ECF6\",\"width\":0.5},\"pattern\":{\"fillmode\":\"overlay\",\"size\":10,\"solidity\":0.2}},\"type\":\"barpolar\"}],\"pie\":[{\"automargin\":true,\"type\":\"pie\"}]},\"layout\":{\"autotypenumbers\":\"strict\",\"colorway\":[\"#636efa\",\"#EF553B\",\"#00cc96\",\"#ab63fa\",\"#FFA15A\",\"#19d3f3\",\"#FF6692\",\"#B6E880\",\"#FF97FF\",\"#FECB52\"],\"font\":{\"color\":\"#2a3f5f\"},\"hovermode\":\"closest\",\"hoverlabel\":{\"align\":\"left\"},\"paper_bgcolor\":\"white\",\"plot_bgcolor\":\"#E5ECF6\",\"polar\":{\"bgcolor\":\"#E5ECF6\",\"angularaxis\":{\"gridcolor\":\"white\",\"linecolor\":\"white\",\"ticks\":\"\"},\"radialaxis\":{\"gridcolor\":\"white\",\"linecolor\":\"white\",\"ticks\":\"\"}},\"ternary\":{\"bgcolor\":\"#E5ECF6\",\"aaxis\":{\"gridcolor\":\"white\",\"linecolor\":\"white\",\"ticks\":\"\"},\"baxis\":{\"gridcolor\":\"white\",\"linecolor\":\"white\",\"ticks\":\"\"},\"caxis\":{\"gridcolor\":\"white\",\"linecolor\":\"white\",\"ticks\":\"\"}},\"coloraxis\":{\"colorbar\":{\"outlinewidth\":0,\"ticks\":\"\"}},\"colorscale\":{\"sequential\":[[0.0,\"#0d0887\"],[0.1111111111111111,\"#46039f\"],[0.2222222222222222,\"#7201a8\"],[0.3333333333333333,\"#9c179e\"],[0.4444444444444444,\"#bd3786\"],[0.5555555555555556,\"#d8576b\"],[0.6666666666666666,\"#ed7953\"],[0.7777777777777778,\"#fb9f3a\"],[0.8888888888888888,\"#fdca26\"],[1.0,\"#f0f921\"]],\"sequentialminus\":[[0.0,\"#0d0887\"],[0.1111111111111111,\"#46039f\"],[0.2222222222222222,\"#7201a8\"],[0.3333333333333333,\"#9c179e\"],[0.4444444444444444,\"#bd3786\"],[0.5555555555555556,\"#d8576b\"],[0.6666666666666666,\"#ed7953\"],[0.7777777777777778,\"#fb9f3a\"],[0.8888888888888888,\"#fdca26\"],[1.0,\"#f0f921\"]],\"diverging\":[[0,\"#8e0152\"],[0.1,\"#c51b7d\"],[0.2,\"#de77ae\"],[0.3,\"#f1b6da\"],[0.4,\"#fde0ef\"],[0.5,\"#f7f7f7\"],[0.6,\"#e6f5d0\"],[0.7,\"#b8e186\"],[0.8,\"#7fbc41\"],[0.9,\"#4d9221\"],[1,\"#276419\"]]},\"xaxis\":{\"gridcolor\":\"white\",\"linecolor\":\"white\",\"ticks\":\"\",\"title\":{\"standoff\":15},\"zerolinecolor\":\"white\",\"automargin\":true,\"zerolinewidth\":2},\"yaxis\":{\"gridcolor\":\"white\",\"linecolor\":\"white\",\"ticks\":\"\",\"title\":{\"standoff\":15},\"zerolinecolor\":\"white\",\"automargin\":true,\"zerolinewidth\":2},\"scene\":{\"xaxis\":{\"backgroundcolor\":\"#E5ECF6\",\"gridcolor\":\"white\",\"linecolor\":\"white\",\"showbackground\":true,\"ticks\":\"\",\"zerolinecolor\":\"white\",\"gridwidth\":2},\"yaxis\":{\"backgroundcolor\":\"#E5ECF6\",\"gridcolor\":\"white\",\"linecolor\":\"white\",\"showbackground\":true,\"ticks\":\"\",\"zerolinecolor\":\"white\",\"gridwidth\":2},\"zaxis\":{\"backgroundcolor\":\"#E5ECF6\",\"gridcolor\":\"white\",\"linecolor\":\"white\",\"showbackground\":true,\"ticks\":\"\",\"zerolinecolor\":\"white\",\"gridwidth\":2}},\"shapedefaults\":{\"line\":{\"color\":\"#2a3f5f\"}},\"annotationdefaults\":{\"arrowcolor\":\"#2a3f5f\",\"arrowhead\":0,\"arrowwidth\":1},\"geo\":{\"bgcolor\":\"white\",\"landcolor\":\"#E5ECF6\",\"subunitcolor\":\"white\",\"showland\":true,\"showlakes\":true,\"lakecolor\":\"white\"},\"title\":{\"x\":0.05},\"mapbox\":{\"style\":\"light\"}}},\"scene\":{\"domain\":{\"x\":[0.0,1.0],\"y\":[0.0,1.0]},\"xaxis\":{\"title\":{\"text\":\"Income\"}},\"yaxis\":{\"title\":{\"text\":\"TotalSpent\"}},\"zaxis\":{\"title\":{\"text\":\"NumStorePurchases\"}}},\"legend\":{\"title\":{\"text\":\"color\"},\"tracegroupgap\":0},\"title\":{\"text\":\"Agglomerative Clustering (Single Linkage) - 3 Clusters\"}},                        {\"responsive\": true}                    ).then(function(){\n",
              "                            \n",
              "var gd = document.getElementById('cc399f9a-9c7d-4769-b67f-1c8586892d73');\n",
              "var x = new MutationObserver(function (mutations, observer) {{\n",
              "        var display = window.getComputedStyle(gd).display;\n",
              "        if (!display || display === 'none') {{\n",
              "            console.log([gd, 'removed!']);\n",
              "            Plotly.purge(gd);\n",
              "            observer.disconnect();\n",
              "        }}\n",
              "}});\n",
              "\n",
              "// Listen for the removal of the full notebook cells\n",
              "var notebookContainer = gd.closest('#notebook-container');\n",
              "if (notebookContainer) {{\n",
              "    x.observe(notebookContainer, {childList: true});\n",
              "}}\n",
              "\n",
              "// Listen for the clearing of the current output cell\n",
              "var outputEl = gd.closest('.output');\n",
              "if (outputEl) {{\n",
              "    x.observe(outputEl, {childList: true});\n",
              "}}\n",
              "\n",
              "                        })                };                            </script>        </div>\n",
              "</body>\n",
              "</html>"
            ]
          },
          "metadata": {}
        }
      ]
    },
    {
      "cell_type": "code",
      "source": [
        "from sklearn.metrics import silhouette_score\n",
        "\n",
        "score_2 = silhouette_score(X, clusters_2)\n",
        "print(f\"Silhouette Score (2 clusters): {score_2:.3f}\")\n",
        "\n",
        "score_3 = silhouette_score(X, clusters_3)\n",
        "print(f\"Silhouette Score (3 clusters): {score_3:.3f}\")"
      ],
      "metadata": {
        "colab": {
          "base_uri": "https://localhost:8080/"
        },
        "id": "B45X0_MvsDLs",
        "outputId": "a74c4ef7-fadd-4bc0-b4f4-7960b638393d"
      },
      "execution_count": 90,
      "outputs": [
        {
          "output_type": "stream",
          "name": "stdout",
          "text": [
            "Silhouette Score (2 clusters): 0.766\n",
            "Silhouette Score (3 clusters): 0.558\n"
          ]
        }
      ]
    },
    {
      "cell_type": "markdown",
      "source": [
        "Загалом ситуація не змінюється: основна маса — один синій кластер, решта — викиди в окремих групах.\n",
        "\n",
        "Хоча оцінка не низька:\n",
        "\n",
        "Silhouette Score (2 clusters): 0.766\n",
        "\n",
        "Silhouette Score (3 clusters): 0.558\n"
      ],
      "metadata": {
        "id": "54l306STt3BT"
      }
    },
    {
      "cell_type": "markdown",
      "source": [
        "**Завдання 10.**\n",
        "1. Використайте метод кластеризації, який ми не використовували в попередніх завданнях цього ДЗ (може бути ієрархічна кластеризація з іншим способом звʼязності або інші методи sklearn).\n",
        "2. Порахуйте мер=трику силуету і візуалізуйте результат кластеризації. Зробіть висновок про те, чи могла б ця кластеризація бути корисною?"
      ],
      "metadata": {
        "id": "0mG3X-_2upiL"
      }
    },
    {
      "cell_type": "code",
      "source": [
        "dist_ward = linkage(X, method=\"ward\")"
      ],
      "metadata": {
        "id": "pPZ1nyt0uWir"
      },
      "execution_count": 91,
      "outputs": []
    },
    {
      "cell_type": "code",
      "source": [
        "dist_com = linkage(X, method=\"complete\")"
      ],
      "metadata": {
        "id": "y53HhZmTuuHb"
      },
      "execution_count": 96,
      "outputs": []
    },
    {
      "cell_type": "code",
      "source": [
        "plt.figure(figsize=(18, 6))\n",
        "dendrogram(dist_ward, truncate_mode='lastp', p=30, leaf_rotation=90)\n",
        "plt.xlabel('Index')\n",
        "plt.ylabel('Distance')\n",
        "plt.title('DENDROGRAM - WARD LINKAGE', fontsize=18)\n",
        "plt.show()\n",
        "\n",
        "plt.figure(figsize=(18, 6))\n",
        "dendrogram(dist_com, truncate_mode='lastp', p=30, leaf_rotation=90)\n",
        "plt.xlabel('Index')\n",
        "plt.ylabel('Distance')\n",
        "plt.title('DENDROGRAM - COMPLETE LINKAGE', fontsize=18)\n",
        "plt.show()"
      ],
      "metadata": {
        "id": "uXRdSNeYv_5e",
        "colab": {
          "base_uri": "https://localhost:8080/",
          "height": 875
        },
        "outputId": "50f05ef2-c1dd-4cd9-f0ea-2ecc6e18ceec"
      },
      "execution_count": 98,
      "outputs": [
        {
          "output_type": "display_data",
          "data": {
            "text/plain": [
              "<Figure size 1800x600 with 1 Axes>"
            ],
            "image/png": "[encoded data removed]"
          },
          "metadata": {}
        },
        {
          "output_type": "display_data",
          "data": {
            "text/plain": [
              "<Figure size 1800x600 with 1 Axes>"
            ],
            "image/png": "[encoded data removed]"
          },
          "metadata": {}
        }
      ]
    },
    {
      "cell_type": "code",
      "source": [
        "\n",
        "clusters_ward_3 = fcluster(dist_ward, t=3, criterion='maxclust')\n",
        "clusters_ward_2 = fcluster(dist_ward, t=2, criterion='maxclust')\n",
        "\n",
        "\n",
        "clusters_com_3 = fcluster(dist_com, t=3, criterion='maxclust')\n",
        "clusters_com_2 = fcluster(dist_com, t=2, criterion='maxclust')"
      ],
      "metadata": {
        "id": "74Ib2GQtuT-c"
      },
      "execution_count": 100,
      "outputs": []
    },
    {
      "cell_type": "code",
      "source": [
        "score_ward_3 = silhouette_score(X, clusters_ward_3)\n",
        "score_ward_2 = silhouette_score(X, clusters_ward_2)\n",
        "\n",
        "print(f\"Silhouette Score (WARD, 2 clusters): {score_ward_2:.3f}\")\n",
        "print(f\"Silhouette Score (WARD, 3 clusters): {score_ward_3:.3f}\")"
      ],
      "metadata": {
        "colab": {
          "base_uri": "https://localhost:8080/"
        },
        "id": "f3Y_VwtWuT7l",
        "outputId": "7a0c90f3-61e2-40c9-829e-d950f9728c25"
      },
      "execution_count": 94,
      "outputs": [
        {
          "output_type": "stream",
          "name": "stdout",
          "text": [
            "Silhouette Score (WARD, 2 clusters): 0.581\n",
            "Silhouette Score (WARD, 3 clusters): 0.486\n"
          ]
        }
      ]
    },
    {
      "cell_type": "code",
      "source": [
        "score_com_3 = silhouette_score(X, clusters_com_3)\n",
        "score_com_2 = silhouette_score(X, clusters_com_2)\n",
        "\n",
        "print(f\"Silhouette Score (complete, 2 clusters): {score_ward_2:.3f}\")\n",
        "print(f\"Silhouette Score (complete, 3 clusters): {score_ward_3:.3f}\")"
      ],
      "metadata": {
        "colab": {
          "base_uri": "https://localhost:8080/"
        },
        "id": "bgHYFrKSvAsx",
        "outputId": "5e7f051c-94d6-463d-db84-ffec9045fccf"
      },
      "execution_count": 101,
      "outputs": [
        {
          "output_type": "stream",
          "name": "stdout",
          "text": [
            "Silhouette Score (complete, 2 clusters): 0.581\n",
            "Silhouette Score (complete, 3 clusters): 0.486\n"
          ]
        }
      ]
    },
    {
      "cell_type": "code",
      "source": [
        "import plotly.express as px\n",
        "\n",
        "\n",
        "data['ward_2'] = clusters_ward_2\n",
        "\n",
        "fig = px.scatter_3d(\n",
        "    data,\n",
        "    x='Income',\n",
        "    y='TotalSpent',\n",
        "    z='NumStorePurchases',\n",
        "    color='ward_2',\n",
        "    title=\"Agglomerative Clustering (WARD) - 2 Clusters\"\n",
        ")\n",
        "fig.show()\n",
        "\n",
        "data['ward_3'] = clusters_ward_3\n",
        "\n",
        "fig = px.scatter_3d(\n",
        "    data,\n",
        "    x='Income',\n",
        "    y='TotalSpent',\n",
        "    z='NumStorePurchases',\n",
        "    color='ward_3',\n",
        "    title=\"Agglomerative Clustering (WARD) - 3 Clusters\"\n",
        ")\n",
        "fig.show()"
      ],
      "metadata": {
        "colab": {
          "base_uri": "https://localhost:8080/",
          "height": 1000
        },
        "id": "eGY2CDJwuT5M",
        "outputId": "6a657b39-a257-4a02-c64f-cefd4e383f9e"
      },
      "execution_count": 103,
      "outputs": [
        {
          "output_type": "display_data",
          "data": {
            "text/html": [
              "<html>\n",
              "<head><meta charset=\"utf-8\" /></head>\n",
              "<body>\n",
              "    <div>            <script src=\"https://cdnjs.cloudflare.com/ajax/libs/mathjax/2.7.5/MathJax.js?config=TeX-AMS-MML_SVG\"></script><script type=\"text/javascript\">if (window.MathJax && window.MathJax.Hub && window.MathJax.Hub.Config) {window.MathJax.Hub.Config({SVG: {font: \"STIX-Web\"}});}</script>                <script type=\"text/javascript\">window.PlotlyConfig = {MathJaxConfig: 'local'};</script>\n",
              "        <script charset=\"utf-8\" src=\"https://cdn.plot.ly/plotly-2.35.2.min.js\"></script>                <div id=\"51099cab-7290-4dcf-a5cd-8c71d1cc7f74\" class=\"plotly-graph-div\" style=\"height:525px; width:100%;\"></div>            <script type=\"text/javascript\">                                    window.PLOTLYENV=window.PLOTLYENV || {};                                    if (document.getElementById(\"51099cab-7290-4dcf-a5cd-8c71d1cc7f74\")) {                    Plotly.newPlot(                        \"51099cab-7290-4dcf-a5cd-8c71d1cc7f74\",                        [{\"hovertemplate\":\"Income=%{x}\\u003cbr\\u003eTotalSpent=%{y}\\u003cbr\\u003eNumStorePurchases=%{z}\\u003cbr\\u003eward_2=%{marker.color}\\u003cextra\\u003e\\u003c\\u002fextra\\u003e\",\"legendgroup\":\"\",\"marker\":{\"color\":[2,2,1,2,2,1,2,2,2,2,2,2,1,1,2,1,2,2,1,2,2,2,2,1,2,2,2,2,2,1,2,2,2,2,1,2,1,2,2,2,1,2,2,2,2,1,2,2,2,1,1,1,2,1,1,1,1,2,2,2,1,1,1,1,1,2,2,1,1,1,1,2,1,1,2,2,1,1,2,2,2,2,2,2,1,2,2,2,1,2,2,2,2,2,2,2,2,2,1,2,2,2,1,1,1,2,2,2,2,1,1,1,2,1,2,2,1,2,2,2,2,2,2,2,1,1,1,2,2,1,1,1,1,2,2,1,2,2,2,2,1,1,1,1,2,1,2,2,2,2,1,1,2,2,1,1,2,1,2,1,2,1,2,1,1,2,1,2,1,2,2,2,2,2,2,1,1,2,2,1,2,2,1,2,2,2,2,1,1,2,2,1,2,2,2,2,1,1,1,2,1,1,1,1,2,2,2,2,2,1,2,1,2,2,1,2,2,1,2,1,2,1,1,2,1,2,2,2,1,2,2,1,2,2,1,2,2,1,2,1,1,1,2,1,1,2,1,1,1,1,2,2,1,2,1,2,1,2,2,2,2,1,2,2,2,2,1,2,1,2,1,2,1,2,2,1,1,1,1,1,2,2,2,1,2,2,1,2,1,2,2,2,1,2,2,2,2,2,1,2,2,2,2,2,2,1,2,1,1,2,2,2,2,1,2,2,2,1,2,2,1,2,2,1,2,1,2,2,2,2,2,2,1,2,2,1,1,2,1,1,1,2,2,1,2,1,2,1,2,2,1,1,1,1,1,2,2,1,1,2,1,1,2,2,2,2,1,2,1,2,2,2,2,1,2,2,2,2,1,2,2,2,2,2,2,2,2,1,2,1,1,1,1,2,1,1,2,2,2,2,2,1,2,2,2,2,2,1,2,2,2,2,1,2,1,1,2,1,1,2,2,2,2,1,1,2,1,1,2,1,1,2,1,1,2,2,1,2,2,2,2,2,2,2,2,2,2,1,2,2,2,2,2,1,1,2,1,2,2,1,1,1,2,1,2,1,1,2,2,2,1,2,2,2,2,1,2,2,1,2,2,2,2,2,1,1,1,1,2,2,1,2,1,2,2,1,2,1,1,1,2,2,2,1,2,2,1,1,2,1,2,1,2,1,2,1,2,2,1,1,2,1,2,1,2,2,1,2,1,2,2,1,2,1,2,2,2,1,2,2,2,2,2,1,2,2,1,2,2,2,2,2,1,2,1,2,2,1,2,1,2,1,1,1,2,2,1,2,2,2,2,2,2,1,2,1,2,2,2,2,2,2,2,2,2,2,1,1,2,2,2,1,1,2,1,2,2,2,2,2,2,1,1,1,2,2,2,2,2,1,2,2,2,2,2,2,2,1,2,2,2,2,1,2,1,2,1,1,2,2,1,1,1,2,1,2,1,2,1,1,1,1,1,2,1,2,1,2,1,1,1,2,1,2,2,1,1,2,1,2,2,2,2,2,2,2,2,2,2,2,1,1,1,1,2,2,1,1,2,1,1,1,2,2,1,1,1,1,1,1,2,1,2,2,2,1,2,2,2,1,1,1,1,1,2,1,2,2,1,2,2,2,2,2,2,1,1,2,2,2,1,1,2,1,2,2,1,1,2,1,2,2,1,2,1,1,1,1,2,1,1,2,2,2,1,1,2,1,2,1,1,2,2,1,1,1,1,2,2,2,2,1,1,2,1,2,1,1,2,1,1,1,2,2,2,2,2,1,2,1,1,2,2,2,2,2,2,2,2,2,1,1,2,2,2,2,1,1,1,2,1,2,2,1,2,2,2,2,1,1,2,2,1,2,1,1,2,2,1,2,1,2,2,2,1,1,1,2,1,2,2,2,2,2,2,1,2,1,2,2,2,2,2,2,1,1,1,2,2,2,2,1,1,2,2,1,2,2,2,1,2,2,2,2,2,2,2,2,2,2,1,1,2,2,1,1,2,2,1,2,2,2,2,2,1,1,2,2,2,1,2,2,1,2,2,2,1,1,2,2,1,2,1,2,2,1,1,2,2,2,1,1,2,2,1,1,1,1,2,1,2,1,2,2,1,2,1,1,1,1,1,2,1,2,1,2,1,1,2,1,1,2,1,1,2,2,2,1,2,1,2,2,2,2,2,2,1,2,2,2,1,2,2,2,2,2,1,2,2,2,1,2,2,2,1,1,1,2,2,2,2,2,2,1,1,1,1,1,1,2,1,2,2,1,1,2,1,2,2,2,1,1,2,2,2,2,1,1,2,2,1,2,2,2,2,1,1,2,2,2,2,2,1,2,2,2,2,2,2,1,1,1,1,2,1,2,2,2,2,2,1,2,2,1,2,2,2,1,2,2,1,2,1,2,2,1,2,2,1,1,1,1,2,2,1,2,1,1,2,1,2,1,1,2,2,1,1,2,2,2,1,2,1,2,1,2,2,1,2,1,1,2,1,2,2,1,1,1,2,2,1,2,2,2,2,1,2,2,1,1,1,1,2,1,2,1,2,2,2,2,1,2,2,2,2,2,1,2,2,1,1,2,2,1,1,2,2,1,2,2,2,2,2,2,1,2,2,2,2,2,2,1,2,1,2,2,2,2,1,2,2,2,1,1,2,1,2,2,1,1,2,2,1,1,2,2,2,2,2,1,2,2,2,2,2,2,2,1,2,2,1,1,2,1,2,1,2,1,1,1,2,2,2,2,1,2,1,2,2,2,2,1,1,1,2,2,1,2,1,2,2,2,1,2,2,1,1,2,2,2,2,2,2,2,2,1,2,1,2,2,2,2,1,1,2,2,2,2,2,1,1,1,1,1,1,2,1,1,2,1,2,1,1,2,2,1,2,2,2,1,2,1,2,2,2,1,2,2,1,2,1,2,2,2,2,2,2,2,1,2,2,2,2,2,2,1,2,2,1,2,1,1,2,2,1,1,2,1,1,1,1,1,2,1,2,2,2,2,2,2,1,2,1,2,2,1,2,2,2,1,2,2,1,1,1,2,1,2,2,2,2,2,1,2,2,2,2,2,1,1,1,1,2,1,1,1,2,1,1,2,2,2,2,2,1,1,2,2,2,1,2,2,2,2,2,2,2,2,2,2,2,2,2,2,2,1,2,2,2,1,2,2,2,2,2,1,2,2,1,2,1,1,2,2,2,2,2,1,2,2,1,1,2,1,2,2,2,2,2,2,2,1,1,2,2,2,2,2,2,2,2,2,1,2,1,2,1,2,2,2,2,2,2,1,1,2,1,2,1,1,2,1,1,2,2,1,2,2,1,2,1,2,2,2,2,2,2,1,2,1,2,2,2,1,1,2,1,1,2,2,1,1,2,2,1,1,1,1,1,2,1,2,1,2,2,1,2,2,1,1,2,2,2,2,2,1,2,2,1,2,1,2,1,1,2,2,2,2,2,2,1,1,2,2,2,2,1,2,1,2,2,2,1,2,2,2,2,1,1,1,2,1,1,2,2,2,2,2,1,2,2,1,1,1,1,2,2,2,2,1,2,2,2,1,2,2,1,1,2,1,1,2,1,2,2,2,2,1,2,1,2,1,1,2,1,2,2,1,2,1,2,1,2,2,2,2,2,2,1,2,2,1,1,2,2,2,1,2,1,1,1,2,1,2,2,2,2,2,1,2,2,2,1,2,2,2,2,2,2,2,1,2,2,2,2,1,2,1,2,2,2,1,2,2,1,2,2,2,2,2,2,1,2,1,2,2,2,1,2,1,2,2,1,2,2,2,1,2,1,1,2,1,1,1,1,2,2,2,2,2,1,2,2,2,2,2,1,2,2,1,2,1,2,2,2,1,2,1,2,1,1,2,2,2,2,2,2,2,1,2,1,1,2,1,2,2,1,2,2,2,2,1,1,1,2,2,2,2,1,1,2,2,2,1,1,1,1,1,2,2,2,2,2,1,2,1,2,1,1,1,1,2,2,2,2,2,2,2,2,1,1,2,1,1,2,1,2,1,2,2,2,2,1,1,2,2,2,2,2,1,2,2,1,1,2,2,2,2,1,1,2,2,1,2,2,2,1,2,1,1,1,1,1,2,2,2,2,2,1,1,2,2,1,1,1,2,2,1,2,2,1,2,2,1,2,2,2,1,1,2,2,2,2,2,2,2,1,2,1,2,2,1,2,1,1,1,2,2,2,2,1,2,1,1,1,1,2,2,1,2,1,2,1,1,1,1,2,2,2,1,2,1,2,1,2,2,2,1,1,1,1,2,2,1,2,2,2,1,1,2,1,1,2,1,1,2,2,1,1,1,2,2,1,2,2,1,1,2,2,2,1,1,1,1,2,2,2,2,2,2,2,1,1,1,1,2,2,1,1,1,1,1,2,2,1,2,2,2,2,2,1,2,2,1,2,1,1,1,2,2,2,2,1,1,1,1,2,2,1,2,1,1,2,2,2,1,1,1,1,1,2,2,2,2,2,2,2,2,2,2,2,2,1,2,2,2,2,2,2,2,1,2,1,1,2,1,1,2,2,1,2,2,2,2,2,2,1,2,1,1,1,2,1,2,1,2,2,2,2,2,2,2,2,1,1,2,2,2,2,2,1,1,2,2,2,1,1,1,2,1,2,1,2,2,2,2,2,1,1,1,2,2,1,2,2,2,1,1,1,2,2,2,1,2,1,1,2,1,2,2,2,1,2,2,1,1,2,2,2,2,2,2,2,1,2,2,1,1,2,2,2,2,1,1,2,2,1,2,1,1,2,1,2,1,2,2,2,1,2,1,2,2,2,2,2,1,2,1,1,2,2,2,2,2,2,1,1,1,1,2,2,1,1,2,1,2,2,2,1,2,2,2,2,2,1,1,2,2,1,2,2,1,2,2,2,2,2,2,2,1,1,1,2,1,2,2,1,1,1,2,1,1,1,1,1,1,1,2,2,2,2,2,2,2,2,1,1,1,1,2,1,2,2,1,1,2,2,2,2,2,2,2,2,1,2,2,1,2,2,2,2,1,2,1,2,2,2,1,2,2,2,1,2,2,2,2,1,2,2,2,2,2,2,2,1,1,2,1,2],\"coloraxis\":\"coloraxis\",\"symbol\":\"circle\"},\"mode\":\"markers\",\"name\":\"\",\"scene\":\"scene\",\"showlegend\":false,\"x\":[58138.0,46344.0,71613.0,26646.0,58293.0,62513.0,55635.0,33454.0,30351.0,5648.0,51381.5,7500.0,63033.0,59354.0,17323.0,82800.0,41850.0,37760.0,76995.0,33812.0,37040.0,2447.0,58607.0,65324.0,40689.0,18589.0,53359.0,51381.5,38360.0,84618.0,10979.0,38620.0,40548.0,46610.0,68657.0,49389.0,67353.0,23718.0,42429.0,48948.0,80011.0,20559.0,21994.0,51381.5,7500.0,79941.0,7500.0,41728.0,51381.5,72550.0,65486.0,79143.0,35790.0,82582.0,66373.0,82384.0,70287.0,27938.0,51381.5,55954.0,75777.0,66653.0,61823.0,67680.0,70666.0,25721.0,32474.0,88194.0,69096.0,74854.0,66991.0,51381.5,65031.0,60631.0,28332.0,40246.0,75251.0,75825.0,26326.0,56046.0,29760.0,26304.0,23559.0,38620.0,81361.0,29440.0,36138.0,50388.0,79593.0,54178.0,51381.5,51381.5,51381.5,42394.0,23626.0,30096.0,47916.0,51813.0,78497.0,50150.0,47823.0,34554.0,85693.0,65846.0,87195.0,24594.0,49096.0,52413.0,38557.0,89058.0,77298.0,68126.0,57288.0,86037.0,43974.0,50785.0,90765.0,36550.0,30753.0,21918.0,56129.0,32557.0,19510.0,30992.0,101970.0,71488.0,79607.0,54348.0,51381.5,77376.0,62998.0,61331.0,73448.0,51381.5,41551.0,62981.0,9548.0,33762.0,35860.0,36921.0,92859.0,65104.0,86111.0,68352.0,41883.0,59809.0,23957.0,38547.0,35688.0,49605.0,59354.0,65747.0,46344.0,34176.0,61010.0,69372.0,49967.0,60199.0,55375.0,80317.0,30523.0,70356.0,23228.0,74165.0,157243.0,43482.0,62551.0,52332.0,66951.0,26091.0,33456.0,28718.0,50447.0,53537.0,52074.0,80427.0,83837.0,38853.0,38285.0,78497.0,51650.0,16248.0,66835.0,30477.0,28249.0,25271.0,32303.0,61286.0,74068.0,45759.0,24882.0,66973.0,36640.0,38872.0,51148.0,31353.0,69661.0,80067.0,86718.0,46854.0,69142.0,75922.0,63693.0,102160.0,40637.0,18890.0,29604.0,48721.0,44794.0,64497.0,46097.0,77972.0,44377.0,46014.0,70951.0,41443.0,52195.0,83790.0,44551.0,69508.0,45204.0,72460.0,77622.0,30732.0,63887.0,42011.0,51369.0,51537.0,79930.0,34320.0,37070.0,81975.0,38590.0,15033.0,62745.0,22212.0,23661.0,79761.0,7500.0,60182.0,73455.0,64961.0,22804.0,73687.0,61074.0,31686.0,80134.0,75027.0,67546.0,65176.0,31160.0,29938.0,102692.0,26490.0,75702.0,30899.0,63342.0,45989.0,18701.0,40737.0,15287.0,69674.0,44159.0,37717.0,43776.0,38179.0,80124.0,38097.0,72940.0,22070.0,69267.0,31788.0,61905.0,29315.0,33378.0,66313.0,60714.0,77882.0,69867.0,63841.0,24480.0,51369.0,37760.0,65640.0,44319.0,30631.0,75278.0,50898.0,79946.0,35416.0,32414.0,38361.0,82497.0,16626.0,29672.0,55951.0,35388.0,42386.0,68627.0,57912.0,35246.0,58821.0,46377.0,39747.0,23976.0,80950.0,27038.0,77457.0,64100.0,42670.0,12571.0,22574.0,51381.5,70893.0,54198.0,28839.0,40321.0,66503.0,30833.0,51381.5,64795.0,34421.0,47025.0,64325.0,40464.0,62187.0,14849.0,27255.0,54432.0,29999.0,24072.0,33996.0,66334.0,35178.0,22010.0,62204.0,75693.0,30675.0,83003.0,83532.0,68655.0,41411.0,55212.0,59292.0,27190.0,82623.0,44300.0,84835.0,30372.0,33181.0,71113.0,71952.0,69759.0,72099.0,60000.0,38643.0,50737.0,68462.0,65073.0,46681.0,78618.0,62187.0,28442.0,37717.0,51479.0,54803.0,79530.0,31615.0,72025.0,52614.0,35684.0,48178.0,29548.0,63810.0,38578.0,46098.0,22585.0,30279.0,66426.0,30822.0,33581.0,19986.0,27421.0,35688.0,36143.0,10245.0,43795.0,63381.0,38823.0,83664.0,90300.0,62499.0,74293.0,51012.0,70777.0,68682.0,43824.0,15345.0,23442.0,14515.0,31395.0,75276.0,42373.0,30507.0,55521.0,48006.0,27213.0,65808.0,30351.0,50437.0,23616.0,53858.0,66465.0,46923.0,75072.0,75865.0,19789.0,80134.0,91065.0,49505.0,37401.0,30096.0,18492.0,82584.0,93027.0,48686.0,92910.0,75433.0,10404.0,61314.0,84865.0,42387.0,67309.0,75236.0,30015.0,50943.0,67272.0,51529.0,32011.0,7500.0,28691.0,56223.0,18100.0,30279.0,20130.0,23295.0,42618.0,81246.0,24027.0,55707.0,57959.0,56796.0,36230.0,70829.0,65991.0,38988.0,89572.0,42207.0,50300.0,66664.0,60597.0,70165.0,50520.0,80124.0,33183.0,66582.0,75261.0,31880.0,53790.0,49269.0,61456.0,37406.0,56937.0,38415.0,20518.0,62503.0,41644.0,55842.0,62010.0,41124.0,38961.0,37760.0,32233.0,43057.0,83151.0,78825.0,65104.0,60093.0,14045.0,28457.0,78952.0,46310.0,76005.0,58308.0,55614.0,59432.0,55563.0,78642.0,67911.0,65275.0,27203.0,48330.0,24279.0,64355.0,50943.0,53653.0,65665.0,81217.0,34935.0,61250.0,39665.0,60152.0,48920.0,89120.0,44124.0,81169.0,36443.0,26095.0,71367.0,80184.0,30630.0,73454.0,42691.0,70503.0,25545.0,32880.0,77863.0,50353.0,61839.0,49154.0,47682.0,72679.0,57954.0,65316.0,28567.0,47352.0,44931.0,76982.0,57247.0,22944.0,25315.0,43638.0,42710.0,84169.0,54058.0,24683.0,85620.0,47850.0,19514.0,27159.0,39548.0,21474.0,60504.0,22419.0,81698.0,43462.0,54880.0,79908.0,15315.0,87771.0,33039.0,81741.0,71499.0,62466.0,48799.0,52157.0,66565.0,29298.0,47691.0,38200.0,44989.0,38443.0,38593.0,64413.0,36959.0,61996.0,51287.0,13260.0,47472.0,54603.0,45207.0,40689.0,47821.0,27450.0,39453.0,26850.0,79800.0,61794.0,53863.0,24221.0,39684.0,92163.0,69882.0,33178.0,59973.0,17459.0,23910.0,42169.0,26224.0,31089.0,30081.0,62807.0,72906.0,61467.0,49618.0,21888.0,42429.0,26150.0,30801.0,81168.0,26877.0,45006.0,18978.0,22574.0,48240.0,45837.0,35791.0,162397.0,54162.0,30522.0,54456.0,31632.0,72298.0,36975.0,72635.0,13624.0,84196.0,70971.0,34487.0,28769.0,69084.0,65488.0,62466.0,32218.0,83917.0,46102.0,84574.0,56181.0,63120.0,73691.0,63381.0,76140.0,62859.0,45906.0,77632.0,46463.0,105471.0,55282.0,78710.0,66886.0,98777.0,29103.0,67445.0,50616.0,49431.0,153924.0,61278.0,26490.0,73059.0,46734.0,56253.0,19986.0,58330.0,25965.0,14661.0,18690.0,45068.0,21063.0,29187.0,54690.0,59304.0,59247.0,66731.0,77353.0,52614.0,26751.0,81300.0,70337.0,36145.0,65295.0,68118.0,68743.0,41039.0,38946.0,65777.0,66476.0,86857.0,160803.0,77845.0,69476.0,50611.0,61209.0,42315.0,13084.0,47570.0,61923.0,34824.0,26518.0,45938.0,78468.0,78901.0,71427.0,71022.0,90247.0,41335.0,71952.0,35682.0,43185.0,66375.0,35178.0,25252.0,55250.0,33249.0,58398.0,50272.0,76618.0,87305.0,25851.0,58710.0,45160.0,74806.0,59111.0,18988.0,72190.0,7500.0,44794.0,80395.0,75012.0,56962.0,89891.0,35946.0,53593.0,66373.0,45072.0,89694.0,72025.0,67432.0,70545.0,17487.0,62882.0,64108.0,34941.0,48767.0,38702.0,82224.0,83844.0,17003.0,71163.0,33697.0,63564.0,83443.0,51518.0,58330.0,80952.0,75507.0,63855.0,62220.0,58512.0,40662.0,38829.0,35523.0,79146.0,78285.0,31626.0,75127.0,48726.0,74985.0,67430.0,46891.0,62058.0,72063.0,78939.0,42720.0,33622.0,6835.0,41452.0,40760.0,74250.0,51124.0,72258.0,71466.0,36283.0,20587.0,30467.0,31590.0,20425.0,17144.0,42564.0,43783.0,40780.0,62847.0,82017.0,16813.0,51267.0,46524.0,45183.0,70421.0,60161.0,73926.0,19329.0,61872.0,46984.0,34838.0,82716.0,48192.0,49681.0,56850.0,55267.0,59666.0,72504.0,26872.0,21359.0,73170.0,52750.0,91820.0,65968.0,30772.0,22507.0,65685.0,25804.0,76412.0,22063.0,57091.0,22419.0,87771.0,78353.0,93404.0,37859.0,80995.0,16529.0,55412.0,48789.0,56575.0,25130.0,35441.0,71391.0,49494.0,81702.0,45889.0,56628.0,34026.0,40049.0,34176.0,19419.0,82504.0,81205.0,61618.0,55284.0,49980.0,15072.0,49166.0,65324.0,82347.0,30843.0,46374.0,60474.0,38576.0,55357.0,37758.0,85710.0,23228.0,44602.0,7500.0,38683.0,49514.0,57906.0,43456.0,19485.0,53172.0,30545.0,70123.0,62450.0,21675.0,42395.0,61346.0,80812.0,42835.0,39922.0,86424.0,17117.0,24762.0,35797.0,36627.0,51111.0,86857.0,82072.0,46231.0,42243.0,51195.0,68092.0,31814.0,51390.0,76630.0,26868.0,48948.0,55260.0,64090.0,78331.0,37087.0,21846.0,81320.0,54137.0,66825.0,57100.0,58917.0,85072.0,86429.0,45684.0,47889.0,45921.0,78420.0,75114.0,52278.0,35641.0,95529.0,62820.0,73113.0,84169.0,42607.0,74637.0,46015.0,72354.0,39858.0,34469.0,83033.0,24401.0,77583.0,74116.0,74293.0,68397.0,79632.0,46107.0,64950.0,25443.0,75127.0,32892.0,71796.0,67536.0,55239.0,60554.0,64831.0,56067.0,82025.0,94384.0,14906.0,51563.0,57937.0,68274.0,39771.0,67893.0,27922.0,52190.0,44051.0,42767.0,46106.0,16927.0,59754.0,53700.0,59041.0,54237.0,70647.0,52597.0,41021.0,40233.0,50183.0,54753.0,92955.0,33471.0,34596.0,44010.0,84219.0,40706.0,15716.0,59052.0,80573.0,83715.0,82576.0,56962.0,35704.0,53103.0,46779.0,4861.0,33462.0,63693.0,80763.0,65352.0,82170.0,75759.0,79689.0,35340.0,85683.0,24884.0,42021.0,64449.0,64587.0,34824.0,75437.0,26091.0,52845.0,46086.0,78028.0,95169.0,56337.0,22434.0,36930.0,36130.0,65569.0,83844.0,19514.0,36736.0,77568.0,49187.0,30168.0,34053.0,38196.0,59412.0,70924.0,54165.0,32300.0,20180.0,34961.0,28440.0,64504.0,33564.0,17345.0,56320.0,28647.0,15038.0,32173.0,68316.0,74538.0,91700.0,68695.0,31056.0,79593.0,28071.0,37334.0,46423.0,37126.0,47703.0,61180.0,38998.0,8028.0,76081.0,34728.0,33168.0,33585.0,77037.0,35196.0,44529.0,70924.0,28764.0,69098.0,25959.0,27100.0,70596.0,42557.0,53312.0,72228.0,67605.0,62845.0,65196.0,42000.0,35860.0,65526.0,16860.0,83528.0,64176.0,22304.0,67023.0,32892.0,70713.0,59925.0,39722.0,46610.0,88347.0,87171.0,26907.0,50014.0,41014.0,66294.0,36715.0,79456.0,40479.0,75345.0,54233.0,24163.0,84460.0,43776.0,71691.0,85844.0,39190.0,71367.0,38578.0,57236.0,61825.0,79803.0,80910.0,27590.0,56775.0,83829.0,54210.0,38508.0,53187.0,30023.0,76045.0,50870.0,15315.0,65463.0,66480.0,76773.0,81698.0,54466.0,98777.0,16269.0,71819.0,33569.0,36262.0,22634.0,47025.0,70566.0,31605.0,52034.0,48526.0,46734.0,39552.0,86358.0,46931.0,16581.0,63998.0,67381.0,25930.0,42693.0,85606.0,72903.0,49669.0,36778.0,85696.0,10979.0,49678.0,56129.0,37155.0,21282.0,33419.0,63285.0,21255.0,42162.0,54450.0,57744.0,26576.0,57513.0,68142.0,7500.0,83145.0,54197.0,23091.0,46049.0,56715.0,79410.0,57304.0,44375.0,54450.0,59594.0,80685.0,40344.0,62710.0,48985.0,35322.0,77142.0,81657.0,14421.0,20130.0,74214.0,66726.0,23724.0,47353.0,33444.0,54386.0,28510.0,90638.0,48070.0,43140.0,54959.0,15056.0,26954.0,22327.0,44393.0,62000.0,31497.0,45894.0,78579.0,67369.0,58401.0,62307.0,43641.0,63841.0,46891.0,70091.0,78075.0,59184.0,54809.0,58113.0,51412.0,15287.0,66636.0,50965.0,84618.0,18351.0,40451.0,36317.0,42213.0,65748.0,77044.0,74918.0,56721.0,42160.0,61559.0,33629.0,68682.0,34377.0,8940.0,26228.0,77297.0,40211.0,33438.0,75032.0,61284.0,22518.0,54730.0,38452.0,44421.0,38197.0,41986.0,28427.0,37395.0,64722.0,55249.0,84906.0,28691.0,44213.0,25707.0,59062.0,76624.0,66000.0,27683.0,1730.0,7500.0,40521.0,20427.0,65106.0,69969.0,67433.0,77766.0,74716.0,68118.0,55158.0,62972.0,74190.0,39356.0,76653.0,35860.0,90687.0,73450.0,31454.0,47139.0,83829.0,53378.0,19656.0,45579.0,85485.0,55956.0,64191.0,38808.0,57183.0,23748.0,66303.0,37368.0,40800.0,71847.0,46149.0,78687.0,49118.0,37633.0,39767.0,26997.0,33986.0,57091.0,46831.0,83151.0,52531.0,15759.0,22804.0,43050.0,42997.0,48918.0,60033.0,34043.0,57811.0,78569.0,7500.0,157733.0,94384.0,23148.0,44267.0,71626.0,60894.0,50200.0,81051.0,65169.0,59868.0,65695.0,64857.0,45143.0,74805.0,59060.0,27238.0,47009.0,46094.0,40321.0,37235.0,81843.0,46692.0,77382.0,37774.0,18393.0,72828.0,24711.0,45503.0,6560.0,71604.0,27244.0,48752.0,71434.0,90842.0,88097.0,51948.0,71853.0,35876.0,40049.0,39660.0,50127.0,43263.0,62845.0,18929.0,24367.0,33249.0,26887.0,50150.0,62061.0,85696.0,76542.0,70515.0,18227.0,69139.0,69109.0,69627.0,38136.0,62159.0,80695.0,33316.0,58554.0,17256.0,53034.0,52203.0,59601.0,75154.0,47025.0,37971.0,41335.0,67267.0,57338.0,50523.0,35791.0,50611.0,56242.0,48904.0,56243.0,21355.0,57420.0,51381.5,46390.0,54342.0,51381.5,51381.5,20895.0,92344.0,51381.5,26907.0,44964.0,75507.0,53761.0,22682.0,38887.0,41658.0,29791.0,63915.0,39996.0,26759.0,63841.0,51039.0,60544.0,65685.0,37716.0,36864.0,44511.0,36947.0,47352.0,67087.0,57045.0,36957.0,69389.0,80134.0,43142.0,80589.0,34412.0,57537.0,22634.0,51315.0,36026.0,24639.0,34578.0,65704.0,63810.0,54132.0,18690.0,28164.0,34596.0,43269.0,38741.0,31907.0,27100.0,31163.0,92533.0,34853.0,70844.0,31086.0,60544.0,20491.0,42523.0,39922.0,33402.0,36408.0,21645.0,78427.0,82657.0,51876.0,78041.0,52852.0,70038.0,69401.0,46053.0,77343.0,73892.0,40304.0,32727.0,68695.0,43300.0,26290.0,93790.0,38410.0,64866.0,57957.0,46015.0,16531.0,28072.0,49476.0,50725.0,83844.0,41145.0,67419.0,23162.0,34380.0,34704.0,94871.0,65148.0,39898.0,64857.0,59892.0,41020.0,57072.0,60474.0,62807.0,19414.0,19107.0,75484.0,70379.0,79419.0,64014.0,76998.0,49854.0,60585.0,42873.0,87679.0,57867.0,35765.0,65492.0,32952.0,53374.0,71706.0,68487.0,53253.0,31163.0,42014.0,54108.0,49667.0,63206.0,57136.0,46772.0,78931.0,53977.0,84219.0,46098.0,73538.0,79529.0,20981.0,51766.0,55759.0,33039.0,37787.0,27242.0,87188.0,69930.0,37697.0,37401.0,3502.0,58597.0,82032.0,28087.0,74004.0,19740.0,57036.0,53083.0,69283.0,46098.0,23331.0,23331.0,9255.0,67786.0,71969.0,59235.0,31928.0,74881.0,65819.0,51411.0,51983.0,42386.0,30390.0,30983.0,66033.0,37284.0,57530.0,76800.0,63943.0,76081.0,67445.0,37054.0,47175.0,31859.0,27215.0,70179.0,39922.0,49681.0,24645.0,79865.0,44322.0,47958.0,63972.0,75315.0,55517.0,75283.0,82800.0,38998.0,90638.0,27161.0,42014.0,38201.0,45203.0,81574.0,34935.0,60482.0,34633.0,78093.0,82460.0,45903.0,81361.0,35860.0,40442.0,61482.0,34968.0,75794.0,31497.0,74268.0,13724.0,45143.0,52569.0,48432.0,17144.0,36108.0,76445.0,36663.0,53843.0,90226.0,70638.0,44512.0,27116.0,54072.0,71855.0,51250.0,60432.0,65526.0,68655.0,12393.0,64509.0,33955.0,31353.0,55434.0,28359.0,57100.0,69139.0,52973.0,51717.0,18793.0,66664.0,50664.0,54414.0,54549.0,47111.0,41003.0,19444.0,36301.0,73059.0,42731.0,52854.0,22775.0,46681.0,59821.0,50002.0,69755.0,44078.0,30560.0,35924.0,64140.0,56386.0,24594.0,75774.0,39228.0,58494.0,58684.0,57136.0,56551.0,22448.0,82014.0,34213.0,157146.0,25358.0,35544.0,36634.0,62670.0,50334.0,72066.0,50729.0,34916.0,64892.0,43602.0,33996.0,41473.0,63246.0,36732.0,69084.0,77766.0,37929.0,86610.0,80141.0,72635.0,69016.0,20193.0,27573.0,15862.0,49544.0,33228.0,70440.0,38232.0,22554.0,23536.0,49413.0,42231.0,78789.0,56534.0,58350.0,81217.0,49090.0,61787.0,18169.0,24336.0,18222.0,62335.0,42033.0,86580.0,41437.0,73705.0,61064.0,38452.0,18358.0,55012.0,9722.0,38175.0,58656.0,52117.0,64813.0,54222.0,83512.0,77520.0,41154.0,80398.0,18746.0,35196.0,60230.0,22108.0,44392.0,55424.0,17688.0,92491.0,90273.0,82571.0,38513.0,16653.0,42586.0,23529.0,74881.0,71107.0,46910.0,18690.0,37244.0,82427.0,75342.0,70044.0,79146.0,77437.0,54984.0,42403.0,55761.0,37292.0,45576.0,70321.0,58086.0,81795.0,28389.0,66835.0,69901.0,80360.0,63342.0,44989.0,31859.0,51569.0,30372.0,16014.0,41120.0,39763.0,38725.0,77981.0,62905.0,13533.0,59481.0,72117.0,21955.0,67131.0,36802.0,71853.0,28249.0,47808.0,25509.0,51012.0,70596.0,85431.0,42664.0,42586.0,29760.0,28973.0,39435.0,65370.0,20194.0,42473.0,64590.0,71232.0,34600.0,46904.0,49094.0,36075.0,60839.0,77298.0,34026.0,48918.0,82122.0,37697.0,34074.0,28520.0,62535.0,36273.0,63404.0,75774.0,78416.0,75702.0,59385.0,37070.0,44689.0,53977.0,7144.0,18701.0,90369.0,63159.0,37758.0,46757.0,79734.0,63207.0,72071.0,21840.0,58582.0,72282.0,50387.0,32583.0,62568.0,44635.0,33316.0,63967.0,52513.0,25293.0,54111.0,78394.0,80739.0,22669.0,29236.0,44911.0,54693.0,48186.0,54809.0,41580.0,80336.0,47743.0,62972.0,57333.0,32313.0,84953.0,27071.0,68148.0,65735.0,86836.0,4023.0,30093.0,57705.0,25008.0,83257.0,22280.0,72159.0,64260.0,82733.0,74290.0,58217.0,21024.0,70116.0,54006.0,69063.0,11448.0,61825.0,70886.0,69109.0,60208.0,32889.0,34738.0,30538.0,82326.0,26642.0,69932.0,44503.0,60200.0,49638.0,23830.0,33051.0,72905.0,69702.0,70300.0,70643.0,30396.0,50616.0,62772.0,30298.0,52413.0,44155.0,86979.0,76532.0,42081.0,67546.0,88420.0,31158.0,61671.0,69719.0,49160.0,24882.0,90933.0,113734.0,59292.0,45759.0,22148.0,73395.0,29819.0,45688.0,62820.0,60491.0,33235.0,35701.0,31535.0,92556.0,67384.0,80573.0,77870.0,52278.0,57107.0,18929.0,36038.0,20180.0,34230.0,31878.0,70932.0,91249.0,77598.0,80982.0,22701.0,55212.0,70617.0,64849.0,62694.0,61917.0,67472.0,21059.0,29543.0,75903.0,34984.0,54998.0,54356.0,34242.0,25410.0,73356.0,28320.0,23763.0,72570.0,34529.0,70792.0,63211.0,83891.0,36065.0,39898.0,51141.0,56939.0,80872.0,72335.0,61798.0,76842.0,29478.0,46998.0,96843.0,56551.0,70053.0,71670.0,44359.0,40887.0,48877.0,74485.0,64474.0,77226.0,72643.0,85738.0,55686.0,39062.0,34600.0,40794.0,54690.0,4428.0,32632.0,38236.0,36781.0,31385.0,24570.0,25509.0,94642.0,58646.0,53201.0,21994.0,57113.0,51373.0,23477.0,58116.0,72968.0,39791.0,91712.0,94472.0,13672.0,96547.0,79205.0,56559.0,32644.0,67506.0,24206.0,28420.0,22979.0,33279.0,46423.0,30368.0,63684.0,41638.0,68805.0,65814.0,71964.0,39146.0,96876.0,34445.0,68281.0,37284.0,36790.0,27943.0,22263.0,30261.0,28587.0,43815.0,48195.0,77027.0,71322.0,32765.0,29672.0,23272.0,49912.0,7500.0,68117.0,67225.0,17649.0,55914.0,40059.0,60905.0,75330.0,60689.0,38680.0,61416.0,49767.0,83273.0,29009.0,45057.0,37150.0,43020.0,53154.0,65308.0,76467.0,81044.0,32871.0,55801.0,76320.0,36927.0,48794.0,23478.0,71128.0,70179.0,59462.0,51381.5,38361.0,51381.5,70038.0,42554.0,67445.0,67046.0,42192.0,77610.0,31761.0,34350.0,54591.0,71866.0,25293.0,42000.0,69520.0,64713.0,27889.0,22123.0,51381.5,51381.5,27803.0,51381.5,51651.0,68487.0,51381.5,56796.0,87000.0,79823.0,30828.0,34109.0,53367.0,22390.0,71322.0,79244.0,49912.0,48699.0,80144.0,54252.0,81929.0,76068.0,53204.0,67911.0,14796.0,78128.0,14188.0,20425.0,58646.0,72967.0,48150.0,82332.0,58275.0,44953.0,34587.0,43018.0,45736.0,66476.0,27733.0,69805.0,72217.0,25818.0,37509.0,25176.0,43586.0,53230.0,50116.0,84906.0,61286.0,82333.0,65220.0,33590.0,30992.0,72309.0,156924.0,16005.0,65487.0,58692.0,40590.0,20587.0,62637.0,29435.0,19346.0,35788.0,36997.0,23539.0,65333.0,78499.0,29732.0,41275.0,63516.0,42769.0,49572.0,69209.0,17148.0,40590.0,30560.0,32146.0,41713.0,34176.0,58482.0,59686.0,60896.0,62994.0,47320.0,74859.0,15253.0,31560.0,72071.0,91172.0,90000.0,41967.0,69263.0,65706.0,60934.0,71965.0,65210.0,79174.0,81380.0,48432.0,52914.0,38946.0,26067.0,44325.0,42523.0,26487.0,53233.0,67716.0,76234.0,84117.0,65487.0,25224.0,89616.0,40851.0,27469.0,82347.0,73803.0,8820.0,43322.0,55593.0,50501.0,37085.0,16185.0,57731.0,48432.0,73807.0,18929.0,35893.0,61014.0,32144.0,14918.0,45146.0,41769.0,88325.0,38054.0,80617.0,5305.0,36807.0,28427.0,82032.0,22775.0,40101.0,58025.0,75777.0,7500.0,33562.0,57642.0,58554.0,63777.0,57967.0,51381.5,24434.0,11012.0,44802.0,26816.0,34421.0,61223.0,64014.0,56981.0,69245.0,52869.0],\"y\":[1617,27,776,53,422,716,590,169,46,49,19,61,1102,310,46,1315,96,317,1782,133,316,1730,972,544,444,75,257,637,131,1672,30,318,120,302,1196,65,913,81,67,902,1395,53,22,186,31,984,122,55,124,1319,507,1693,72,1617,606,1957,1093,29,46,518,1438,612,884,606,1076,34,11,1274,653,1562,1253,109,863,661,65,13,1890,2209,18,692,165,16,79,318,778,56,151,372,1366,194,603,18,985,32,43,45,606,63,978,410,72,55,1169,1120,1097,29,187,910,145,850,969,1820,608,730,551,114,1724,577,81,33,660,80,30,43,1135,559,1923,90,404,661,463,632,725,725,279,1482,29,106,49,38,2077,1053,1385,871,312,877,68,22,211,127,459,460,429,89,1021,1381,306,18,162,1231,13,1706,121,1293,1608,88,421,259,1117,89,36,57,148,93,119,1835,1318,45,10,978,191,57,1033,66,43,50,39,608,1581,68,80,1282,65,91,315,31,834,1600,1270,263,535,1295,1150,1240,38,35,53,293,65,1804,241,1101,264,541,1198,482,17,1615,285,1135,114,1047,714,185,1245,189,576,1103,1753,17,433,1588,22,19,1117,69,23,605,57,22,2088,1009,26,1627,1102,17,1690,1390,2126,1531,64,26,1112,210,1148,33,1101,322,44,17,31,845,275,25,275,90,1495,184,981,67,1635,60,231,48,99,770,957,818,925,908,102,576,317,461,37,70,930,859,1478,390,52,137,1919,68,25,1374,32,100,825,916,62,728,90,273,66,1213,107,1157,546,241,53,37,1611,1508,235,32,102,401,28,1052,680,30,20,1307,630,1283,65,37,38,160,23,71,1161,59,33,946,1442,62,1674,1853,1538,139,1182,507,18,940,42,1190,44,16,835,1443,1029,1188,1277,49,99,1670,900,425,2153,636,57,25,494,693,1348,51,1932,990,30,254,29,1371,73,120,81,37,1377,51,17,22,324,211,19,41,492,1005,114,1173,1738,222,1127,209,787,1598,186,47,27,96,64,1040,163,343,446,41,70,272,46,490,79,915,1485,369,1073,1242,78,1378,1474,751,48,45,10,1435,2119,20,1795,1188,43,1008,1688,684,1082,1068,57,46,733,467,122,36,34,156,14,37,34,20,192,1379,48,428,868,1001,59,431,971,348,2059,265,270,1289,893,926,135,1495,120,1288,1743,15,542,890,1388,17,906,44,25,973,31,518,530,506,70,54,296,266,747,895,1053,735,20,205,2092,309,1722,900,682,663,43,1816,976,746,64,32,263,1445,46,1210,945,1157,137,730,216,943,347,1924,397,2089,138,42,777,1902,52,1651,358,1727,210,42,1291,442,1895,411,521,1168,493,260,46,319,96,1062,232,76,54,201,406,1919,662,41,1600,134,69,21,54,91,526,162,1008,240,795,1772,64,1957,78,1572,795,889,331,265,1065,11,21,17,369,38,177,279,62,1230,182,49,75,227,215,444,47,143,55,63,1867,611,473,55,81,2086,1478,49,382,69,67,30,63,79,42,819,1151,594,129,213,67,28,45,1193,268,266,37,37,882,373,35,107,42,326,404,95,939,33,981,36,1237,1825,103,191,1586,963,889,93,1587,16,1375,393,1477,1179,1005,1348,1307,486,2252,235,1724,235,1092,599,2008,48,1174,67,365,6,165,210,1095,223,597,22,1064,74,26,60,20,59,34,198,1048,574,1029,670,990,11,1241,576,172,664,928,2074,467,257,1146,689,2114,1717,1346,1044,493,957,270,29,121,126,23,57,636,1004,734,614,1453,1621,187,1443,57,637,948,59,18,903,112,596,233,1511,1152,48,1185,21,965,869,16,1947,71,65,1380,1027,411,836,11,480,606,284,1472,1677,1335,334,18,1338,1099,97,63,109,902,1574,38,960,28,1215,1497,449,1064,1757,1440,1006,1226,1171,92,99,66,564,1427,86,833,242,1869,1364,183,450,758,1507,654,81,137,16,93,1158,43,1525,1230,29,25,24,38,57,47,813,629,377,1612,729,50,270,177,315,767,1071,1580,60,573,41,170,1167,1526,458,63,405,1027,1478,72,48,726,860,1497,495,20,570,769,55,1808,55,577,162,1957,1576,1616,36,1482,22,63,680,542,50,39,1043,385,1633,46,761,76,290,89,70,1066,2009,1345,764,195,53,368,544,1853,35,446,1180,41,727,40,1062,40,292,15,341,369,401,393,10,486,69,1727,995,45,182,989,1677,595,156,1226,128,86,68,16,55,2114,2018,263,55,564,1281,83,353,1003,14,902,1139,797,1638,401,84,928,203,858,409,282,1423,1449,28,67,199,1453,1253,1198,178,1990,976,1001,1919,350,1650,46,1228,95,62,1761,467,1149,2052,1127,1416,1113,125,966,32,833,46,960,1829,779,811,1120,725,1187,2302,66,1250,683,305,50,995,41,77,171,131,54,53,475,694,96,361,1079,578,64,149,231,728,1778,93,23,662,1198,81,92,491,1564,926,1910,411,94,1085,23,6,54,1150,1415,405,1908,2486,1315,45,1789,19,573,805,108,23,1493,89,936,343,528,1901,724,58,297,488,859,1574,69,17,2194,116,279,103,44,406,1363,236,39,137,79,63,1314,71,58,702,94,80,22,1211,1461,1968,1091,55,1366,313,62,92,72,655,704,54,178,1033,36,122,122,1123,497,691,1363,12,2440,56,37,968,270,278,1250,938,1178,1155,653,49,506,38,1650,1826,18,906,46,1477,766,47,467,2116,1298,22,396,20,967,357,1401,15,2087,981,17,523,23,1192,1958,133,777,73,121,424,868,756,12,937,1862,367,443,267,61,1323,63,64,562,312,1156,1104,16,2008,44,1574,63,426,96,635,757,125,332,135,330,384,1722,78,24,1168,957,15,57,1956,2013,326,77,1313,30,315,660,74,46,86,1103,61,145,684,411,27,1060,1459,18,1833,237,48,515,1020,1370,1026,301,684,499,1004,218,606,75,106,990,1097,16,34,1711,438,75,225,18,470,91,2525,504,235,1232,88,17,24,60,1020,155,51,1812,1461,96,160,139,908,183,1161,988,1072,174,758,195,31,1084,685,1672,43,49,133,363,545,1065,2047,296,140,530,152,1598,114,101,25,789,87,90,1215,811,61,405,72,189,40,63,52,39,805,130,1631,34,152,21,71,899,711,351,8,119,21,10,973,1536,992,1529,860,928,418,587,641,23,2279,49,1779,1804,48,83,1862,793,84,183,1383,999,825,246,610,76,1286,30,99,1192,362,2130,1229,38,485,434,44,496,78,2346,794,17,26,76,15,62,198,49,802,1736,57,59,2302,37,310,1305,832,401,1501,1189,1194,656,1540,311,820,274,57,448,44,102,61,1643,397,1121,473,50,1678,58,170,373,1196,101,316,1400,1424,844,311,1149,129,32,299,320,441,1178,85,24,112,30,410,800,1313,1483,1258,28,227,1555,861,103,634,1918,131,586,62,447,939,797,1143,415,30,187,251,237,91,35,493,971,371,396,68,322,317,222,177,45,21,45,1899,42,22,41,1440,325,95,42,72,20,789,15,59,908,417,289,769,188,354,727,146,319,794,454,152,797,1690,20,1428,209,545,96,222,61,44,8,817,1371,42,60,78,23,19,61,449,37,38,1131,34,294,48,289,30,125,156,70,22,65,1930,2283,310,1319,879,1244,690,209,1134,1507,57,529,1091,180,77,2349,534,556,637,46,44,47,795,586,1574,13,1471,65,175,40,1078,1115,134,1540,87,217,1034,1180,819,32,46,1159,860,1631,444,1910,380,736,269,2524,612,75,1045,55,1064,1443,1366,436,38,436,747,1396,928,642,1048,943,907,1198,120,1658,1638,73,275,854,78,106,106,1923,1662,84,48,5,733,1234,112,1658,55,1513,271,904,120,103,269,22,1156,1086,1128,72,964,1383,18,793,100,80,167,677,23,92,641,1106,1033,1174,25,240,20,102,1034,156,458,17,792,92,407,1269,841,633,1019,1315,54,2525,52,436,268,147,1798,137,507,15,1105,974,66,778,49,169,299,221,1682,155,892,58,311,95,424,47,339,1410,35,562,2352,1334,32,41,39,1141,710,401,506,1538,57,1722,270,31,882,16,311,227,1152,122,77,1289,561,211,233,1092,601,54,78,1095,244,116,15,425,734,638,894,41,31,34,1750,612,29,823,20,396,813,1179,138,55,1511,117,1730,32,67,335,825,694,1792,496,231,902,68,71,76,772,47,1586,1529,265,1603,2091,981,1533,82,244,36,404,71,1572,122,41,10,304,37,1754,815,1001,1157,688,1319,21,31,67,708,25,746,32,1695,1080,72,57,660,103,153,1220,279,745,264,2157,1526,69,1597,64,497,1067,31,211,877,11,2034,1991,1686,324,69,252,54,964,1327,68,60,55,1456,563,1504,564,1125,358,42,184,460,145,1376,792,1382,28,1033,882,2231,1101,369,48,467,44,38,81,167,45,664,622,48,461,1073,55,976,20,1149,43,224,101,209,968,1165,24,252,165,269,102,461,47,144,1338,917,318,253,502,119,1250,969,76,62,1382,84,255,43,398,76,902,823,1179,1921,185,433,34,907,416,44,1588,1797,40,1143,914,1502,1338,27,763,1331,525,9,953,68,131,882,1149,37,388,1428,1633,173,99,215,929,219,174,92,1052,275,587,1662,159,1024,35,1042,395,557,9,69,486,34,1365,13,1401,1574,1323,1217,103,84,1536,581,928,14,424,960,1555,656,55,20,367,2257,42,1049,48,685,39,43,835,1515,1039,1596,1828,34,149,946,28,450,46,1702,820,382,2126,2069,72,732,801,236,80,1685,277,507,68,49,397,39,306,976,1028,70,46,51,1263,1490,1564,1815,1198,416,85,47,137,21,70,909,1676,1735,1191,24,1182,1280,1336,749,91,414,44,63,901,38,455,775,15,38,1512,43,42,1089,162,1272,1173,816,74,134,157,561,1336,2092,463,1130,20,377,1544,138,1012,1766,45,161,144,1734,823,1138,1429,1371,982,44,318,434,198,359,576,88,63,27,193,101,2211,140,415,22,263,393,147,443,1958,174,2217,1691,25,809,895,484,413,331,25,13,115,16,92,52,1464,441,283,747,1870,165,1941,839,1655,23,66,37,21,22,78,79,265,1175,1305,46,25,46,874,100,930,868,45,1260,414,392,1109,639,79,1665,692,1392,44,50,467,223,158,1211,1575,1208,43,527,932,71,54,129,1615,1034,1088,721,137,47,1244,41,1174,993,100,1680,98,48,519,715,37,653,1455,602,26,102,97,207,176,450,433,1366,1564,1001,961,1518,56,22,400,26,350,1216,874,40,1367,264,2053,1376,45,976,51,1264,75,57,140,497,266,2006,615,1021,22,133,437,1013,57,1038,1573,28,123,13,132,732,66,1631,608,1822,1282,8,43,1931,8,103,1169,395,258,25,185,180,22,44,94,81,798,1334,38,61,300,88,54,1782,68,258,31,66,174,28,731,274,1701,312,414,1565,29,94,1338,1092,1479,54,568,1199,873,1213,731,2043,1893,424,575,257,56,542,125,69,40,1016,907,1566,1169,46,1644,59,17,1853,1528,35,141,546,500,61,106,704,424,849,85,199,1147,54,43,53,521,1623,45,1435,32,16,52,1234,15,415,470,1438,53,51,679,586,653,468,1679,50,84,1049,22,30,1341,444,1241,843,172],\"z\":[4,2,10,4,6,10,7,4,2,0,2,3,8,5,3,12,3,6,9,3,5,0,9,9,5,3,4,0,4,10,3,3,4,6,9,3,12,2,3,5,5,3,3,4,3,9,3,2,4,12,10,13,3,7,10,13,10,4,3,6,11,12,10,8,4,2,2,10,10,5,6,3,13,8,4,2,5,9,3,8,4,2,3,3,13,4,4,6,7,5,8,2,8,3,3,3,6,3,12,7,3,3,11,6,5,3,4,12,3,4,11,5,8,11,6,3,5,5,3,3,10,3,3,3,13,7,6,4,7,10,5,6,9,7,5,13,3,2,2,3,12,7,10,9,3,6,3,2,4,4,7,6,5,4,11,6,5,3,6,10,2,9,4,10,0,4,4,6,7,3,3,3,3,3,2,8,5,3,3,12,4,3,13,3,3,2,4,8,9,3,2,12,2,3,6,2,12,6,5,3,7,9,9,10,3,2,3,5,3,9,6,9,5,8,9,5,2,6,5,11,4,7,11,4,12,4,4,11,8,2,8,4,2,3,11,4,3,11,3,2,10,4,2,9,8,3,6,6,5,6,3,3,13,5,11,3,5,7,4,2,2,10,6,2,4,3,8,2,6,2,5,4,4,4,4,12,10,5,8,9,4,4,6,8,3,2,13,12,5,5,3,3,9,3,3,11,3,3,6,12,3,9,3,4,3,9,3,10,6,4,3,3,12,10,6,3,3,6,3,10,12,2,2,5,8,5,4,3,3,4,2,3,5,2,3,12,6,3,8,4,11,4,11,8,2,4,3,6,3,2,9,8,5,10,5,3,4,8,5,4,10,10,4,2,6,9,11,3,8,8,3,4,2,12,3,2,2,3,10,3,2,3,6,4,2,2,4,13,3,12,8,6,6,4,12,10,4,2,3,3,3,9,5,4,6,3,4,5,2,8,3,6,12,7,8,10,3,11,9,8,3,3,2,8,5,2,13,10,4,12,9,7,9,13,4,3,12,5,4,3,3,5,3,3,3,2,4,7,3,9,11,7,4,8,10,6,9,5,8,6,8,11,3,8,3,9,5,2,8,12,13,2,9,3,2,11,3,8,7,4,2,3,2,5,4,13,7,10,3,4,12,5,13,3,6,11,3,4,11,13,2,3,3,12,3,12,8,11,4,12,3,12,5,7,5,9,3,3,7,10,3,6,6,9,3,3,10,6,4,8,8,5,6,5,3,5,3,4,7,3,3,4,3,6,8,4,4,4,2,3,3,2,8,2,13,5,11,7,4,4,4,7,13,12,7,5,9,2,2,2,5,3,3,5,3,8,3,3,4,4,6,5,3,3,3,4,5,10,7,3,2,5,9,3,7,2,3,3,3,4,3,12,9,10,3,2,3,3,3,7,6,7,3,3,13,5,3,1,3,9,7,2,6,3,6,3,7,5,3,4,13,6,12,3,7,2,11,7,9,8,13,6,6,4,6,6,13,6,12,7,9,3,12,4,5,0,4,5,13,3,9,3,13,3,3,2,2,3,3,5,10,9,6,8,8,2,5,12,3,13,4,13,5,6,6,11,10,1,12,4,7,4,4,3,2,4,2,3,6,10,5,8,11,7,4,8,3,6,5,2,2,10,3,8,5,5,8,3,9,2,5,8,3,4,2,3,12,11,5,8,3,6,10,4,4,13,4,7,2,6,11,3,3,4,5,11,4,12,2,7,5,10,13,11,6,13,5,8,3,2,3,8,10,2,5,4,7,12,4,7,12,6,7,4,1,2,3,4,3,5,10,3,2,2,3,3,4,4,8,5,4,7,3,5,5,7,7,8,12,3,9,3,4,13,12,7,3,6,8,6,2,3,6,9,12,7,2,4,9,3,8,3,7,2,4,11,7,3,4,3,3,7,7,3,3,12,5,12,3,5,3,6,4,3,7,7,8,8,5,3,3,9,10,2,7,12,3,11,3,10,3,4,3,6,4,8,8,2,8,3,4,4,3,4,10,5,4,4,12,3,2,3,3,3,10,13,4,3,5,10,3,5,11,2,5,5,4,7,8,3,10,4,6,6,6,10,7,2,3,6,8,5,10,4,7,6,7,6,7,9,3,6,4,4,10,6,9,10,6,5,9,4,10,3,5,3,4,11,11,9,5,7,6,5,3,10,9,5,3,9,3,3,4,2,2,4,6,8,4,5,13,8,3,5,6,11,9,4,2,6,10,4,4,7,13,13,12,5,4,7,2,0,3,9,6,8,7,9,13,3,10,3,6,12,4,2,10,3,6,8,9,4,4,3,4,4,10,11,2,2,8,5,4,3,4,8,7,7,3,4,3,3,4,3,2,9,2,2,3,10,5,5,7,3,7,5,4,4,2,8,6,3,0,4,2,4,4,12,5,11,7,2,9,2,3,12,4,5,8,6,10,11,11,2,8,3,8,8,2,13,3,8,9,3,6,9,11,3,8,2,5,4,4,3,6,5,3,4,2,5,7,4,7,3,4,8,5,8,2,10,6,7,5,6,3,11,3,4,9,7,11,5,2,9,3,5,2,3,2,6,9,4,5,4,5,5,6,3,3,11,9,2,3,9,8,6,3,9,3,4,10,4,2,4,13,4,3,8,4,2,13,7,2,11,6,3,9,4,5,10,6,8,7,10,5,12,3,4,8,8,2,3,5,4,3,6,2,10,4,10,6,5,4,3,2,3,4,13,4,3,4,10,2,4,4,9,4,10,5,12,5,8,4,2,9,5,10,3,2,4,7,10,11,6,5,4,10,4,10,2,3,2,9,2,4,9,8,2,8,3,4,3,4,3,3,11,4,12,3,5,3,3,7,5,4,0,2,2,2,13,6,13,11,5,4,5,3,11,2,11,2,8,11,3,2,6,6,3,4,6,4,13,4,7,3,11,2,3,9,7,8,10,3,7,5,3,5,2,10,10,2,2,4,2,4,5,2,11,4,3,1,5,3,4,8,8,5,12,13,12,10,10,5,10,7,3,8,3,3,2,12,5,12,3,3,13,3,4,1,5,2,5,7,13,8,4,6,3,3,3,6,6,10,4,2,3,3,7,7,9,10,4,2,5,7,11,2,10,5,4,6,2,7,11,7,6,5,3,4,5,5,4,3,7,11,4,8,2,6,6,3,4,3,2,3,5,3,3,3,6,3,4,3,2,3,12,2,3,9,4,5,9,3,4,8,4,5,8,9,2,12,6,2,5,3,8,2,5,3,4,2,10,12,3,2,4,2,2,3,6,3,3,11,3,5,2,5,2,4,4,3,2,3,10,10,8,9,5,8,5,4,9,8,3,5,7,4,4,12,9,7,8,3,3,3,5,8,11,3,8,3,3,3,4,7,4,10,3,4,13,12,12,3,3,6,13,4,5,8,5,9,4,10,9,4,13,3,9,7,13,5,3,6,9,5,6,10,5,13,12,10,2,9,9,2,4,8,4,3,3,6,12,3,3,0,9,7,2,4,3,13,5,13,2,3,5,2,6,9,12,4,12,10,3,10,3,3,3,7,3,4,7,6,4,12,3,4,2,4,13,4,7,2,5,3,5,10,12,6,5,12,3,10,3,6,5,3,8,4,7,2,5,6,3,13,2,4,6,5,12,4,5,2,5,4,6,4,4,13,3,3,12,10,3,3,2,11,4,5,8,11,3,9,5,2,13,2,7,5,9,4,4,6,6,5,4,10,8,2,3,13,5,4,2,4,7,7,12,3,3,3,6,7,3,8,3,6,12,7,4,3,12,2,0,3,3,5,13,6,6,7,3,12,2,3,3,12,4,13,11,5,6,10,6,13,4,4,3,8,3,7,3,4,3,5,3,5,7,12,11,9,6,2,2,3,13,2,5,3,8,11,3,4,9,3,4,13,4,10,5,10,7,4,12,3,5,6,3,4,9,2,12,7,13,5,3,6,2,12,13,3,2,2,12,10,5,8,13,6,3,3,5,3,13,7,7,2,13,10,5,5,5,3,7,3,4,3,2,4,7,8,3,8,9,3,12,3,6,3,3,3,4,12,7,3,6,4,5,2,13,3,4,10,10,5,4,6,4,12,11,3,4,13,3,3,2,8,3,4,8,10,13,4,8,2,12,1,4,6,8,3,7,6,6,8,3,9,9,8,2,5,3,4,12,9,2,6,5,9,2,3,4,13,4,5,3,13,6,3,9,4,4,3,6,6,6,0,3,6,3,12,2,10,4,7,10,4,4,12,7,5,2,8,4,7,7,3,3,4,6,3,11,3,11,3,3,8,9,10,13,4,2,4,11,3,7,2,5,7,4,5,8,3,6,5,6,2,4,0,8,3,3,6,3,8,6,7,3,3,2,13,5,13,5,10,8,4,3,4,2,4,12,6,13,11,3,11,7,6,7,4,7,3,2,9,3,9,8,3,4,5,3,3,12,3,10,7,10,3,4,4,10,10,8,9,7,3,5,10,4,10,6,4,3,4,12,10,12,7,11,5,3,5,5,5,0,8,4,2,2,4,3,9,4,5,3,5,3,4,8,8,4,11,5,3,8,4,8,6,6,3,2,2,3,4,3,8,3,7,10,5,4,9,8,13,3,2,3,3,3,4,3,5,6,13,4,3,3,7,3,4,11,3,8,3,7,12,10,3,10,8,9,3,3,6,4,4,12,5,10,3,6,4,3,3,3,12,13,12,4,3,3,8,3,12,4,3,4,4,3,8,10,2,11,5,7,2,3,3,4,4,5,5,13,11,7,7,7,4,3,8,2,7,7,7,3,8,5,10,4,3,11,3,6,4,3,4,8,4,12,7,13,3,2,6,10,3,11,8,2,4,2,4,12,4,12,8,10,7,2,3,8,0,2,6,4,3,2,5,2,3,3,4,4,8,4,2,3,7,4,3,6,3,3,3,4,4,3,9,6,4,4,8,11,3,3,8,7,5,3,7,12,11,5,8,7,10,6,3,6,3,7,4,3,3,13,11,6,6,3,12,2,3,10,6,3,4,3,4,3,2,6,6,11,4,5,4,3,3,2,7,9,3,8,0,2,3,7,2,6,10,11,2,4,6,6,6,8,1,2,2,12,3,2,4,5,13,10,4],\"type\":\"scatter3d\"}],                        {\"template\":{\"data\":{\"histogram2dcontour\":[{\"type\":\"histogram2dcontour\",\"colorbar\":{\"outlinewidth\":0,\"ticks\":\"\"},\"colorscale\":[[0.0,\"#0d0887\"],[0.1111111111111111,\"#46039f\"],[0.2222222222222222,\"#7201a8\"],[0.3333333333333333,\"#9c179e\"],[0.4444444444444444,\"#bd3786\"],[0.5555555555555556,\"#d8576b\"],[0.6666666666666666,\"#ed7953\"],[0.7777777777777778,\"#fb9f3a\"],[0.8888888888888888,\"#fdca26\"],[1.0,\"#f0f921\"]]}],\"choropleth\":[{\"type\":\"choropleth\",\"colorbar\":{\"outlinewidth\":0,\"ticks\":\"\"}}],\"histogram2d\":[{\"type\":\"histogram2d\",\"colorbar\":{\"outlinewidth\":0,\"ticks\":\"\"},\"colorscale\":[[0.0,\"#0d0887\"],[0.1111111111111111,\"#46039f\"],[0.2222222222222222,\"#7201a8\"],[0.3333333333333333,\"#9c179e\"],[0.4444444444444444,\"#bd3786\"],[0.5555555555555556,\"#d8576b\"],[0.6666666666666666,\"#ed7953\"],[0.7777777777777778,\"#fb9f3a\"],[0.8888888888888888,\"#fdca26\"],[1.0,\"#f0f921\"]]}],\"heatmap\":[{\"type\":\"heatmap\",\"colorbar\":{\"outlinewidth\":0,\"ticks\":\"\"},\"colorscale\":[[0.0,\"#0d0887\"],[0.1111111111111111,\"#46039f\"],[0.2222222222222222,\"#7201a8\"],[0.3333333333333333,\"#9c179e\"],[0.4444444444444444,\"#bd3786\"],[0.5555555555555556,\"#d8576b\"],[0.6666666666666666,\"#ed7953\"],[0.7777777777777778,\"#fb9f3a\"],[0.8888888888888888,\"#fdca26\"],[1.0,\"#f0f921\"]]}],\"heatmapgl\":[{\"type\":\"heatmapgl\",\"colorbar\":{\"outlinewidth\":0,\"ticks\":\"\"},\"colorscale\":[[0.0,\"#0d0887\"],[0.1111111111111111,\"#46039f\"],[0.2222222222222222,\"#7201a8\"],[0.3333333333333333,\"#9c179e\"],[0.4444444444444444,\"#bd3786\"],[0.5555555555555556,\"#d8576b\"],[0.6666666666666666,\"#ed7953\"],[0.7777777777777778,\"#fb9f3a\"],[0.8888888888888888,\"#fdca26\"],[1.0,\"#f0f921\"]]}],\"contourcarpet\":[{\"type\":\"contourcarpet\",\"colorbar\":{\"outlinewidth\":0,\"ticks\":\"\"}}],\"contour\":[{\"type\":\"contour\",\"colorbar\":{\"outlinewidth\":0,\"ticks\":\"\"},\"colorscale\":[[0.0,\"#0d0887\"],[0.1111111111111111,\"#46039f\"],[0.2222222222222222,\"#7201a8\"],[0.3333333333333333,\"#9c179e\"],[0.4444444444444444,\"#bd3786\"],[0.5555555555555556,\"#d8576b\"],[0.6666666666666666,\"#ed7953\"],[0.7777777777777778,\"#fb9f3a\"],[0.8888888888888888,\"#fdca26\"],[1.0,\"#f0f921\"]]}],\"surface\":[{\"type\":\"surface\",\"colorbar\":{\"outlinewidth\":0,\"ticks\":\"\"},\"colorscale\":[[0.0,\"#0d0887\"],[0.1111111111111111,\"#46039f\"],[0.2222222222222222,\"#7201a8\"],[0.3333333333333333,\"#9c179e\"],[0.4444444444444444,\"#bd3786\"],[0.5555555555555556,\"#d8576b\"],[0.6666666666666666,\"#ed7953\"],[0.7777777777777778,\"#fb9f3a\"],[0.8888888888888888,\"#fdca26\"],[1.0,\"#f0f921\"]]}],\"mesh3d\":[{\"type\":\"mesh3d\",\"colorbar\":{\"outlinewidth\":0,\"ticks\":\"\"}}],\"scatter\":[{\"fillpattern\":{\"fillmode\":\"overlay\",\"size\":10,\"solidity\":0.2},\"type\":\"scatter\"}],\"parcoords\":[{\"type\":\"parcoords\",\"line\":{\"colorbar\":{\"outlinewidth\":0,\"ticks\":\"\"}}}],\"scatterpolargl\":[{\"type\":\"scatterpolargl\",\"marker\":{\"colorbar\":{\"outlinewidth\":0,\"ticks\":\"\"}}}],\"bar\":[{\"error_x\":{\"color\":\"#2a3f5f\"},\"error_y\":{\"color\":\"#2a3f5f\"},\"marker\":{\"line\":{\"color\":\"#E5ECF6\",\"width\":0.5},\"pattern\":{\"fillmode\":\"overlay\",\"size\":10,\"solidity\":0.2}},\"type\":\"bar\"}],\"scattergeo\":[{\"type\":\"scattergeo\",\"marker\":{\"colorbar\":{\"outlinewidth\":0,\"ticks\":\"\"}}}],\"scatterpolar\":[{\"type\":\"scatterpolar\",\"marker\":{\"colorbar\":{\"outlinewidth\":0,\"ticks\":\"\"}}}],\"histogram\":[{\"marker\":{\"pattern\":{\"fillmode\":\"overlay\",\"size\":10,\"solidity\":0.2}},\"type\":\"histogram\"}],\"scattergl\":[{\"type\":\"scattergl\",\"marker\":{\"colorbar\":{\"outlinewidth\":0,\"ticks\":\"\"}}}],\"scatter3d\":[{\"type\":\"scatter3d\",\"line\":{\"colorbar\":{\"outlinewidth\":0,\"ticks\":\"\"}},\"marker\":{\"colorbar\":{\"outlinewidth\":0,\"ticks\":\"\"}}}],\"scattermapbox\":[{\"type\":\"scattermapbox\",\"marker\":{\"colorbar\":{\"outlinewidth\":0,\"ticks\":\"\"}}}],\"scatterternary\":[{\"type\":\"scatterternary\",\"marker\":{\"colorbar\":{\"outlinewidth\":0,\"ticks\":\"\"}}}],\"scattercarpet\":[{\"type\":\"scattercarpet\",\"marker\":{\"colorbar\":{\"outlinewidth\":0,\"ticks\":\"\"}}}],\"carpet\":[{\"aaxis\":{\"endlinecolor\":\"#2a3f5f\",\"gridcolor\":\"white\",\"linecolor\":\"white\",\"minorgridcolor\":\"white\",\"startlinecolor\":\"#2a3f5f\"},\"baxis\":{\"endlinecolor\":\"#2a3f5f\",\"gridcolor\":\"white\",\"linecolor\":\"white\",\"minorgridcolor\":\"white\",\"startlinecolor\":\"#2a3f5f\"},\"type\":\"carpet\"}],\"table\":[{\"cells\":{\"fill\":{\"color\":\"#EBF0F8\"},\"line\":{\"color\":\"white\"}},\"header\":{\"fill\":{\"color\":\"#C8D4E3\"},\"line\":{\"color\":\"white\"}},\"type\":\"table\"}],\"barpolar\":[{\"marker\":{\"line\":{\"color\":\"#E5ECF6\",\"width\":0.5},\"pattern\":{\"fillmode\":\"overlay\",\"size\":10,\"solidity\":0.2}},\"type\":\"barpolar\"}],\"pie\":[{\"automargin\":true,\"type\":\"pie\"}]},\"layout\":{\"autotypenumbers\":\"strict\",\"colorway\":[\"#636efa\",\"#EF553B\",\"#00cc96\",\"#ab63fa\",\"#FFA15A\",\"#19d3f3\",\"#FF6692\",\"#B6E880\",\"#FF97FF\",\"#FECB52\"],\"font\":{\"color\":\"#2a3f5f\"},\"hovermode\":\"closest\",\"hoverlabel\":{\"align\":\"left\"},\"paper_bgcolor\":\"white\",\"plot_bgcolor\":\"#E5ECF6\",\"polar\":{\"bgcolor\":\"#E5ECF6\",\"angularaxis\":{\"gridcolor\":\"white\",\"linecolor\":\"white\",\"ticks\":\"\"},\"radialaxis\":{\"gridcolor\":\"white\",\"linecolor\":\"white\",\"ticks\":\"\"}},\"ternary\":{\"bgcolor\":\"#E5ECF6\",\"aaxis\":{\"gridcolor\":\"white\",\"linecolor\":\"white\",\"ticks\":\"\"},\"baxis\":{\"gridcolor\":\"white\",\"linecolor\":\"white\",\"ticks\":\"\"},\"caxis\":{\"gridcolor\":\"white\",\"linecolor\":\"white\",\"ticks\":\"\"}},\"coloraxis\":{\"colorbar\":{\"outlinewidth\":0,\"ticks\":\"\"}},\"colorscale\":{\"sequential\":[[0.0,\"#0d0887\"],[0.1111111111111111,\"#46039f\"],[0.2222222222222222,\"#7201a8\"],[0.3333333333333333,\"#9c179e\"],[0.4444444444444444,\"#bd3786\"],[0.5555555555555556,\"#d8576b\"],[0.6666666666666666,\"#ed7953\"],[0.7777777777777778,\"#fb9f3a\"],[0.8888888888888888,\"#fdca26\"],[1.0,\"#f0f921\"]],\"sequentialminus\":[[0.0,\"#0d0887\"],[0.1111111111111111,\"#46039f\"],[0.2222222222222222,\"#7201a8\"],[0.3333333333333333,\"#9c179e\"],[0.4444444444444444,\"#bd3786\"],[0.5555555555555556,\"#d8576b\"],[0.6666666666666666,\"#ed7953\"],[0.7777777777777778,\"#fb9f3a\"],[0.8888888888888888,\"#fdca26\"],[1.0,\"#f0f921\"]],\"diverging\":[[0,\"#8e0152\"],[0.1,\"#c51b7d\"],[0.2,\"#de77ae\"],[0.3,\"#f1b6da\"],[0.4,\"#fde0ef\"],[0.5,\"#f7f7f7\"],[0.6,\"#e6f5d0\"],[0.7,\"#b8e186\"],[0.8,\"#7fbc41\"],[0.9,\"#4d9221\"],[1,\"#276419\"]]},\"xaxis\":{\"gridcolor\":\"white\",\"linecolor\":\"white\",\"ticks\":\"\",\"title\":{\"standoff\":15},\"zerolinecolor\":\"white\",\"automargin\":true,\"zerolinewidth\":2},\"yaxis\":{\"gridcolor\":\"white\",\"linecolor\":\"white\",\"ticks\":\"\",\"title\":{\"standoff\":15},\"zerolinecolor\":\"white\",\"automargin\":true,\"zerolinewidth\":2},\"scene\":{\"xaxis\":{\"backgroundcolor\":\"#E5ECF6\",\"gridcolor\":\"white\",\"linecolor\":\"white\",\"showbackground\":true,\"ticks\":\"\",\"zerolinecolor\":\"white\",\"gridwidth\":2},\"yaxis\":{\"backgroundcolor\":\"#E5ECF6\",\"gridcolor\":\"white\",\"linecolor\":\"white\",\"showbackground\":true,\"ticks\":\"\",\"zerolinecolor\":\"white\",\"gridwidth\":2},\"zaxis\":{\"backgroundcolor\":\"#E5ECF6\",\"gridcolor\":\"white\",\"linecolor\":\"white\",\"showbackground\":true,\"ticks\":\"\",\"zerolinecolor\":\"white\",\"gridwidth\":2}},\"shapedefaults\":{\"line\":{\"color\":\"#2a3f5f\"}},\"annotationdefaults\":{\"arrowcolor\":\"#2a3f5f\",\"arrowhead\":0,\"arrowwidth\":1},\"geo\":{\"bgcolor\":\"white\",\"landcolor\":\"#E5ECF6\",\"subunitcolor\":\"white\",\"showland\":true,\"showlakes\":true,\"lakecolor\":\"white\"},\"title\":{\"x\":0.05},\"mapbox\":{\"style\":\"light\"}}},\"scene\":{\"domain\":{\"x\":[0.0,1.0],\"y\":[0.0,1.0]},\"xaxis\":{\"title\":{\"text\":\"Income\"}},\"yaxis\":{\"title\":{\"text\":\"TotalSpent\"}},\"zaxis\":{\"title\":{\"text\":\"NumStorePurchases\"}}},\"coloraxis\":{\"colorbar\":{\"title\":{\"text\":\"ward_2\"}},\"colorscale\":[[0.0,\"#0d0887\"],[0.1111111111111111,\"#46039f\"],[0.2222222222222222,\"#7201a8\"],[0.3333333333333333,\"#9c179e\"],[0.4444444444444444,\"#bd3786\"],[0.5555555555555556,\"#d8576b\"],[0.6666666666666666,\"#ed7953\"],[0.7777777777777778,\"#fb9f3a\"],[0.8888888888888888,\"#fdca26\"],[1.0,\"#f0f921\"]]},\"legend\":{\"tracegroupgap\":0},\"title\":{\"text\":\"Agglomerative Clustering (WARD) - 2 Clusters\"}},                        {\"responsive\": true}                    ).then(function(){\n",
              "                            \n",
              "var gd = document.getElementById('51099cab-7290-4dcf-a5cd-8c71d1cc7f74');\n",
              "var x = new MutationObserver(function (mutations, observer) {{\n",
              "        var display = window.getComputedStyle(gd).display;\n",
              "        if (!display || display === 'none') {{\n",
              "            console.log([gd, 'removed!']);\n",
              "            Plotly.purge(gd);\n",
              "            observer.disconnect();\n",
              "        }}\n",
              "}});\n",
              "\n",
              "// Listen for the removal of the full notebook cells\n",
              "var notebookContainer = gd.closest('#notebook-container');\n",
              "if (notebookContainer) {{\n",
              "    x.observe(notebookContainer, {childList: true});\n",
              "}}\n",
              "\n",
              "// Listen for the clearing of the current output cell\n",
              "var outputEl = gd.closest('.output');\n",
              "if (outputEl) {{\n",
              "    x.observe(outputEl, {childList: true});\n",
              "}}\n",
              "\n",
              "                        })                };                            </script>        </div>\n",
              "</body>\n",
              "</html>"
            ]
          },
          "metadata": {}
        },
        {
          "output_type": "display_data",
          "data": {
            "text/html": [
              "<html>\n",
              "<head><meta charset=\"utf-8\" /></head>\n",
              "<body>\n",
              "    <div>            <script src=\"https://cdnjs.cloudflare.com/ajax/libs/mathjax/2.7.5/MathJax.js?config=TeX-AMS-MML_SVG\"></script><script type=\"text/javascript\">if (window.MathJax && window.MathJax.Hub && window.MathJax.Hub.Config) {window.MathJax.Hub.Config({SVG: {font: \"STIX-Web\"}});}</script>                <script type=\"text/javascript\">window.PlotlyConfig = {MathJaxConfig: 'local'};</script>\n",
              "        <script charset=\"utf-8\" src=\"https://cdn.plot.ly/plotly-2.35.2.min.js\"></script>                <div id=\"a8d1dd36-74d0-4eb4-984a-6224f1b8d3bf\" class=\"plotly-graph-div\" style=\"height:525px; width:100%;\"></div>            <script type=\"text/javascript\">                                    window.PLOTLYENV=window.PLOTLYENV || {};                                    if (document.getElementById(\"a8d1dd36-74d0-4eb4-984a-6224f1b8d3bf\")) {                    Plotly.newPlot(                        \"a8d1dd36-74d0-4eb4-984a-6224f1b8d3bf\",                        [{\"hovertemplate\":\"Income=%{x}\\u003cbr\\u003eTotalSpent=%{y}\\u003cbr\\u003eNumStorePurchases=%{z}\\u003cbr\\u003eward_3=%{marker.color}\\u003cextra\\u003e\\u003c\\u002fextra\\u003e\",\"legendgroup\":\"\",\"marker\":{\"color\":[2,2,1,3,2,1,2,3,3,3,2,3,1,1,3,1,3,3,1,3,3,3,2,1,3,3,2,2,3,1,3,3,3,2,1,2,1,3,3,2,1,3,3,2,3,1,3,3,2,1,1,1,3,1,1,1,1,3,2,2,1,1,1,1,1,3,3,1,1,1,1,2,1,1,3,3,1,1,3,2,3,3,3,3,1,3,3,2,1,2,2,2,2,3,3,3,2,2,1,2,2,3,1,1,1,3,2,2,3,1,1,1,2,1,2,2,1,3,3,3,2,3,3,3,1,1,1,2,2,1,1,1,1,2,3,1,3,3,3,3,1,1,1,1,3,1,3,3,3,2,1,1,2,3,1,1,2,1,2,1,3,1,3,1,1,3,1,2,1,3,3,3,2,2,2,1,1,3,3,1,2,3,1,3,3,3,3,1,1,2,3,1,3,3,2,3,1,1,1,2,1,1,1,1,3,3,3,2,2,1,2,1,2,2,1,3,2,1,2,1,2,1,1,3,1,3,2,2,1,3,3,1,3,3,1,3,3,1,3,1,1,1,3,1,1,3,1,1,1,1,3,3,1,3,1,3,1,2,3,3,3,1,2,3,3,3,1,3,1,3,1,3,1,3,3,1,1,1,1,1,3,2,3,1,2,3,1,2,1,3,3,3,1,3,3,2,3,3,1,2,3,2,2,3,3,1,3,1,1,3,3,3,2,1,2,3,3,1,3,2,1,3,2,1,3,1,3,3,2,3,3,3,1,3,3,1,1,3,1,1,1,3,2,1,3,1,2,1,3,3,1,1,1,1,1,3,2,1,1,2,1,1,3,3,2,2,1,3,1,2,3,2,3,1,3,2,3,3,1,3,3,3,3,3,3,3,3,1,3,1,1,1,1,2,1,1,3,3,3,3,3,1,3,3,2,2,3,1,3,2,3,2,1,2,1,1,3,1,1,2,3,3,3,1,1,2,1,1,3,1,1,3,1,1,3,2,1,2,3,3,3,2,3,3,3,3,3,1,3,2,2,2,3,1,1,3,1,3,2,1,1,1,2,1,3,1,1,3,2,2,1,3,2,3,3,1,3,2,1,3,3,3,3,3,1,1,1,1,3,3,1,2,1,2,2,1,2,1,1,1,3,2,3,1,2,2,1,1,3,1,3,1,2,1,2,1,3,3,1,1,3,1,3,1,3,3,1,2,1,2,2,1,2,1,3,2,2,1,2,3,3,3,3,1,2,3,1,2,3,3,3,3,1,3,1,3,2,1,3,1,3,1,1,1,2,2,1,3,2,3,2,3,3,1,3,1,2,3,2,2,2,3,2,3,3,3,1,1,2,3,3,1,1,3,1,3,3,3,3,3,3,1,1,1,2,3,3,3,3,1,3,2,3,3,2,2,3,1,2,3,2,3,1,3,1,3,1,1,3,3,1,1,1,3,1,2,1,2,1,1,1,1,1,2,1,2,1,2,1,1,1,3,1,2,2,1,1,3,1,2,2,3,2,3,3,3,2,3,3,2,1,1,1,1,2,3,1,1,3,1,1,1,3,3,1,1,1,1,1,1,2,1,3,3,2,1,3,3,2,1,1,1,1,1,3,1,3,3,1,3,3,2,3,2,2,1,1,3,2,2,1,1,3,1,3,2,1,1,2,1,3,2,1,2,1,1,1,1,3,1,1,3,2,3,1,1,3,1,3,1,1,2,2,1,1,1,1,2,3,3,3,1,1,3,1,2,1,1,2,1,1,1,3,3,3,3,3,1,2,1,1,3,3,3,3,3,3,3,3,3,1,1,3,2,2,2,1,1,1,3,1,2,3,1,2,2,2,2,1,1,3,3,1,2,1,1,3,3,1,3,1,3,2,3,1,1,1,3,1,3,2,2,2,3,3,1,2,1,2,2,3,3,3,3,1,1,1,2,2,3,2,1,1,3,2,1,3,2,3,1,3,2,3,3,2,2,3,3,2,3,1,1,3,3,1,1,3,3,1,3,3,3,3,2,1,1,2,3,2,1,3,2,1,3,2,2,1,1,3,3,1,2,1,2,2,1,1,2,2,2,1,1,2,3,1,1,1,1,3,1,2,1,3,3,1,3,1,1,1,1,1,2,1,3,1,3,1,1,2,1,1,2,1,1,3,2,2,1,3,1,3,2,2,3,2,3,1,2,2,2,1,2,3,3,2,2,1,3,3,2,1,3,3,2,1,1,1,2,3,2,2,3,3,1,1,1,1,1,1,3,1,3,3,1,1,3,1,3,2,2,1,1,2,3,3,3,1,1,3,3,1,2,3,3,3,1,1,2,3,3,3,3,1,3,3,2,3,3,3,1,1,1,1,3,1,3,3,2,3,2,1,3,3,1,3,3,3,1,3,2,1,3,1,3,3,1,3,2,1,1,1,1,3,3,1,3,1,1,3,1,3,1,1,3,2,1,1,3,2,3,1,3,1,3,1,2,3,1,3,1,1,3,1,3,2,1,1,1,3,2,1,2,3,2,3,1,2,3,1,1,1,1,2,1,3,1,3,3,3,2,1,3,2,2,2,3,1,2,3,1,1,3,3,1,1,2,3,1,3,2,2,3,3,3,1,3,3,2,2,3,2,1,3,1,2,3,2,2,1,2,2,2,1,1,3,1,2,3,1,1,3,3,1,1,3,2,3,2,3,1,2,3,2,3,3,3,2,1,3,2,1,1,2,1,3,1,2,1,1,1,2,2,2,3,1,2,1,3,3,3,3,1,1,1,2,3,1,3,1,3,3,3,1,3,3,1,1,3,2,3,2,3,3,3,3,1,2,1,3,2,3,2,1,1,3,3,3,3,3,1,1,1,1,1,1,2,1,1,3,1,3,1,1,3,2,1,2,3,2,1,2,1,3,2,3,1,3,3,1,2,1,2,3,3,3,3,2,2,1,2,3,3,3,3,2,1,3,2,1,3,1,1,3,2,1,1,2,1,1,1,1,1,2,1,2,3,2,2,3,3,1,2,1,3,3,1,3,2,3,1,3,2,1,1,1,2,1,3,3,3,2,3,1,3,3,3,3,2,1,1,1,1,3,1,1,1,3,1,1,3,2,3,2,2,1,1,2,3,3,1,2,2,3,2,2,2,2,3,2,2,2,2,2,2,3,1,2,3,2,1,2,3,3,3,3,1,3,3,1,2,1,1,3,3,2,3,2,1,2,3,1,1,3,1,3,2,3,2,3,3,3,1,1,2,3,3,3,3,3,3,3,3,1,3,1,3,1,3,3,3,3,3,3,1,1,2,1,2,1,1,2,1,1,3,3,1,3,3,1,3,1,2,2,3,3,2,2,1,3,1,3,3,3,1,1,3,1,1,3,2,1,1,3,3,1,1,1,1,1,2,1,3,1,2,3,1,3,2,1,1,2,3,3,2,2,1,2,2,1,2,1,2,1,1,3,2,2,3,3,3,1,1,3,3,3,2,1,3,1,3,2,2,1,2,3,3,3,1,1,1,3,1,1,2,2,3,3,3,1,3,2,1,1,1,1,3,2,3,3,1,3,2,3,1,2,2,1,1,2,1,1,3,1,3,3,3,2,1,3,1,3,1,1,2,1,3,3,1,3,1,3,1,3,2,2,2,3,3,1,3,2,1,1,2,3,2,1,2,1,1,1,3,1,3,3,2,3,2,1,2,2,3,1,2,2,2,2,3,3,3,1,3,2,3,2,1,2,1,2,3,3,1,2,3,1,3,2,2,2,2,3,1,3,1,3,3,3,1,2,1,2,3,1,3,3,3,1,3,1,1,3,1,1,1,1,3,3,3,2,3,1,3,3,3,2,3,1,2,2,1,2,1,3,3,3,1,3,1,3,1,1,3,3,2,3,3,2,2,1,2,1,1,3,1,3,3,1,3,2,2,3,1,1,1,3,3,3,3,1,1,2,3,3,1,1,1,1,1,2,3,2,3,2,1,2,1,3,1,1,1,1,2,3,2,3,3,3,3,3,1,1,3,1,1,3,1,3,1,3,2,3,2,1,1,3,3,3,3,3,1,3,3,1,1,3,2,2,3,1,1,3,2,1,3,3,3,1,3,1,1,1,1,1,3,2,2,3,3,1,1,3,2,1,1,1,3,2,1,2,3,1,2,3,1,2,3,2,1,1,3,3,2,2,2,2,3,1,2,1,2,3,1,3,1,1,1,3,3,2,3,1,3,1,1,1,1,2,3,1,2,1,3,1,1,1,1,3,3,3,1,3,1,2,1,2,3,3,1,1,1,1,3,2,1,3,2,2,1,1,3,1,1,3,1,1,2,3,1,1,1,2,3,1,3,2,1,1,3,3,3,1,1,1,1,2,2,3,3,3,3,3,1,1,1,1,3,2,1,1,1,1,1,3,3,1,3,2,2,3,3,1,3,3,1,3,1,1,1,3,3,2,2,1,1,1,1,3,2,1,2,1,1,2,3,2,1,1,1,1,1,2,3,3,3,2,3,3,3,3,3,3,3,1,2,2,3,2,2,3,2,1,3,1,1,3,1,1,2,3,1,3,3,3,3,2,3,1,3,1,1,1,3,1,3,1,3,3,3,3,3,3,3,2,1,1,3,3,3,2,3,1,1,3,2,3,1,1,1,3,1,2,1,3,2,3,3,2,1,1,1,3,2,1,3,2,3,1,1,1,2,3,2,1,3,1,1,3,1,3,3,2,1,3,3,1,1,3,3,2,2,3,2,2,1,2,2,1,1,3,3,2,3,1,1,2,2,1,2,1,1,2,1,3,1,3,3,2,1,2,1,2,2,3,3,2,1,3,1,1,3,3,3,3,2,2,1,1,1,1,3,3,1,1,3,1,2,3,3,1,3,3,3,3,3,1,1,3,3,1,3,2,1,3,3,3,3,3,3,2,1,1,1,2,1,3,3,1,1,1,3,1,1,1,1,1,1,1,2,2,3,3,2,3,3,2,1,1,1,1,3,1,3,3,1,1,3,3,2,2,3,3,2,2,1,3,3,1,3,3,2,3,1,3,1,3,3,3,1,3,3,2,1,3,3,2,2,1,2,2,3,3,2,3,3,1,1,2,1,2],\"coloraxis\":\"coloraxis\",\"symbol\":\"circle\"},\"mode\":\"markers\",\"name\":\"\",\"scene\":\"scene\",\"showlegend\":false,\"x\":[58138.0,46344.0,71613.0,26646.0,58293.0,62513.0,55635.0,33454.0,30351.0,5648.0,51381.5,7500.0,63033.0,59354.0,17323.0,82800.0,41850.0,37760.0,76995.0,33812.0,37040.0,2447.0,58607.0,65324.0,40689.0,18589.0,53359.0,51381.5,38360.0,84618.0,10979.0,38620.0,40548.0,46610.0,68657.0,49389.0,67353.0,23718.0,42429.0,48948.0,80011.0,20559.0,21994.0,51381.5,7500.0,79941.0,7500.0,41728.0,51381.5,72550.0,65486.0,79143.0,35790.0,82582.0,66373.0,82384.0,70287.0,27938.0,51381.5,55954.0,75777.0,66653.0,61823.0,67680.0,70666.0,25721.0,32474.0,88194.0,69096.0,74854.0,66991.0,51381.5,65031.0,60631.0,28332.0,40246.0,75251.0,75825.0,26326.0,56046.0,29760.0,26304.0,23559.0,38620.0,81361.0,29440.0,36138.0,50388.0,79593.0,54178.0,51381.5,51381.5,51381.5,42394.0,23626.0,30096.0,47916.0,51813.0,78497.0,50150.0,47823.0,34554.0,85693.0,65846.0,87195.0,24594.0,49096.0,52413.0,38557.0,89058.0,77298.0,68126.0,57288.0,86037.0,43974.0,50785.0,90765.0,36550.0,30753.0,21918.0,56129.0,32557.0,19510.0,30992.0,101970.0,71488.0,79607.0,54348.0,51381.5,77376.0,62998.0,61331.0,73448.0,51381.5,41551.0,62981.0,9548.0,33762.0,35860.0,36921.0,92859.0,65104.0,86111.0,68352.0,41883.0,59809.0,23957.0,38547.0,35688.0,49605.0,59354.0,65747.0,46344.0,34176.0,61010.0,69372.0,49967.0,60199.0,55375.0,80317.0,30523.0,70356.0,23228.0,74165.0,157243.0,43482.0,62551.0,52332.0,66951.0,26091.0,33456.0,28718.0,50447.0,53537.0,52074.0,80427.0,83837.0,38853.0,38285.0,78497.0,51650.0,16248.0,66835.0,30477.0,28249.0,25271.0,32303.0,61286.0,74068.0,45759.0,24882.0,66973.0,36640.0,38872.0,51148.0,31353.0,69661.0,80067.0,86718.0,46854.0,69142.0,75922.0,63693.0,102160.0,40637.0,18890.0,29604.0,48721.0,44794.0,64497.0,46097.0,77972.0,44377.0,46014.0,70951.0,41443.0,52195.0,83790.0,44551.0,69508.0,45204.0,72460.0,77622.0,30732.0,63887.0,42011.0,51369.0,51537.0,79930.0,34320.0,37070.0,81975.0,38590.0,15033.0,62745.0,22212.0,23661.0,79761.0,7500.0,60182.0,73455.0,64961.0,22804.0,73687.0,61074.0,31686.0,80134.0,75027.0,67546.0,65176.0,31160.0,29938.0,102692.0,26490.0,75702.0,30899.0,63342.0,45989.0,18701.0,40737.0,15287.0,69674.0,44159.0,37717.0,43776.0,38179.0,80124.0,38097.0,72940.0,22070.0,69267.0,31788.0,61905.0,29315.0,33378.0,66313.0,60714.0,77882.0,69867.0,63841.0,24480.0,51369.0,37760.0,65640.0,44319.0,30631.0,75278.0,50898.0,79946.0,35416.0,32414.0,38361.0,82497.0,16626.0,29672.0,55951.0,35388.0,42386.0,68627.0,57912.0,35246.0,58821.0,46377.0,39747.0,23976.0,80950.0,27038.0,77457.0,64100.0,42670.0,12571.0,22574.0,51381.5,70893.0,54198.0,28839.0,40321.0,66503.0,30833.0,51381.5,64795.0,34421.0,47025.0,64325.0,40464.0,62187.0,14849.0,27255.0,54432.0,29999.0,24072.0,33996.0,66334.0,35178.0,22010.0,62204.0,75693.0,30675.0,83003.0,83532.0,68655.0,41411.0,55212.0,59292.0,27190.0,82623.0,44300.0,84835.0,30372.0,33181.0,71113.0,71952.0,69759.0,72099.0,60000.0,38643.0,50737.0,68462.0,65073.0,46681.0,78618.0,62187.0,28442.0,37717.0,51479.0,54803.0,79530.0,31615.0,72025.0,52614.0,35684.0,48178.0,29548.0,63810.0,38578.0,46098.0,22585.0,30279.0,66426.0,30822.0,33581.0,19986.0,27421.0,35688.0,36143.0,10245.0,43795.0,63381.0,38823.0,83664.0,90300.0,62499.0,74293.0,51012.0,70777.0,68682.0,43824.0,15345.0,23442.0,14515.0,31395.0,75276.0,42373.0,30507.0,55521.0,48006.0,27213.0,65808.0,30351.0,50437.0,23616.0,53858.0,66465.0,46923.0,75072.0,75865.0,19789.0,80134.0,91065.0,49505.0,37401.0,30096.0,18492.0,82584.0,93027.0,48686.0,92910.0,75433.0,10404.0,61314.0,84865.0,42387.0,67309.0,75236.0,30015.0,50943.0,67272.0,51529.0,32011.0,7500.0,28691.0,56223.0,18100.0,30279.0,20130.0,23295.0,42618.0,81246.0,24027.0,55707.0,57959.0,56796.0,36230.0,70829.0,65991.0,38988.0,89572.0,42207.0,50300.0,66664.0,60597.0,70165.0,50520.0,80124.0,33183.0,66582.0,75261.0,31880.0,53790.0,49269.0,61456.0,37406.0,56937.0,38415.0,20518.0,62503.0,41644.0,55842.0,62010.0,41124.0,38961.0,37760.0,32233.0,43057.0,83151.0,78825.0,65104.0,60093.0,14045.0,28457.0,78952.0,46310.0,76005.0,58308.0,55614.0,59432.0,55563.0,78642.0,67911.0,65275.0,27203.0,48330.0,24279.0,64355.0,50943.0,53653.0,65665.0,81217.0,34935.0,61250.0,39665.0,60152.0,48920.0,89120.0,44124.0,81169.0,36443.0,26095.0,71367.0,80184.0,30630.0,73454.0,42691.0,70503.0,25545.0,32880.0,77863.0,50353.0,61839.0,49154.0,47682.0,72679.0,57954.0,65316.0,28567.0,47352.0,44931.0,76982.0,57247.0,22944.0,25315.0,43638.0,42710.0,84169.0,54058.0,24683.0,85620.0,47850.0,19514.0,27159.0,39548.0,21474.0,60504.0,22419.0,81698.0,43462.0,54880.0,79908.0,15315.0,87771.0,33039.0,81741.0,71499.0,62466.0,48799.0,52157.0,66565.0,29298.0,47691.0,38200.0,44989.0,38443.0,38593.0,64413.0,36959.0,61996.0,51287.0,13260.0,47472.0,54603.0,45207.0,40689.0,47821.0,27450.0,39453.0,26850.0,79800.0,61794.0,53863.0,24221.0,39684.0,92163.0,69882.0,33178.0,59973.0,17459.0,23910.0,42169.0,26224.0,31089.0,30081.0,62807.0,72906.0,61467.0,49618.0,21888.0,42429.0,26150.0,30801.0,81168.0,26877.0,45006.0,18978.0,22574.0,48240.0,45837.0,35791.0,162397.0,54162.0,30522.0,54456.0,31632.0,72298.0,36975.0,72635.0,13624.0,84196.0,70971.0,34487.0,28769.0,69084.0,65488.0,62466.0,32218.0,83917.0,46102.0,84574.0,56181.0,63120.0,73691.0,63381.0,76140.0,62859.0,45906.0,77632.0,46463.0,105471.0,55282.0,78710.0,66886.0,98777.0,29103.0,67445.0,50616.0,49431.0,153924.0,61278.0,26490.0,73059.0,46734.0,56253.0,19986.0,58330.0,25965.0,14661.0,18690.0,45068.0,21063.0,29187.0,54690.0,59304.0,59247.0,66731.0,77353.0,52614.0,26751.0,81300.0,70337.0,36145.0,65295.0,68118.0,68743.0,41039.0,38946.0,65777.0,66476.0,86857.0,160803.0,77845.0,69476.0,50611.0,61209.0,42315.0,13084.0,47570.0,61923.0,34824.0,26518.0,45938.0,78468.0,78901.0,71427.0,71022.0,90247.0,41335.0,71952.0,35682.0,43185.0,66375.0,35178.0,25252.0,55250.0,33249.0,58398.0,50272.0,76618.0,87305.0,25851.0,58710.0,45160.0,74806.0,59111.0,18988.0,72190.0,7500.0,44794.0,80395.0,75012.0,56962.0,89891.0,35946.0,53593.0,66373.0,45072.0,89694.0,72025.0,67432.0,70545.0,17487.0,62882.0,64108.0,34941.0,48767.0,38702.0,82224.0,83844.0,17003.0,71163.0,33697.0,63564.0,83443.0,51518.0,58330.0,80952.0,75507.0,63855.0,62220.0,58512.0,40662.0,38829.0,35523.0,79146.0,78285.0,31626.0,75127.0,48726.0,74985.0,67430.0,46891.0,62058.0,72063.0,78939.0,42720.0,33622.0,6835.0,41452.0,40760.0,74250.0,51124.0,72258.0,71466.0,36283.0,20587.0,30467.0,31590.0,20425.0,17144.0,42564.0,43783.0,40780.0,62847.0,82017.0,16813.0,51267.0,46524.0,45183.0,70421.0,60161.0,73926.0,19329.0,61872.0,46984.0,34838.0,82716.0,48192.0,49681.0,56850.0,55267.0,59666.0,72504.0,26872.0,21359.0,73170.0,52750.0,91820.0,65968.0,30772.0,22507.0,65685.0,25804.0,76412.0,22063.0,57091.0,22419.0,87771.0,78353.0,93404.0,37859.0,80995.0,16529.0,55412.0,48789.0,56575.0,25130.0,35441.0,71391.0,49494.0,81702.0,45889.0,56628.0,34026.0,40049.0,34176.0,19419.0,82504.0,81205.0,61618.0,55284.0,49980.0,15072.0,49166.0,65324.0,82347.0,30843.0,46374.0,60474.0,38576.0,55357.0,37758.0,85710.0,23228.0,44602.0,7500.0,38683.0,49514.0,57906.0,43456.0,19485.0,53172.0,30545.0,70123.0,62450.0,21675.0,42395.0,61346.0,80812.0,42835.0,39922.0,86424.0,17117.0,24762.0,35797.0,36627.0,51111.0,86857.0,82072.0,46231.0,42243.0,51195.0,68092.0,31814.0,51390.0,76630.0,26868.0,48948.0,55260.0,64090.0,78331.0,37087.0,21846.0,81320.0,54137.0,66825.0,57100.0,58917.0,85072.0,86429.0,45684.0,47889.0,45921.0,78420.0,75114.0,52278.0,35641.0,95529.0,62820.0,73113.0,84169.0,42607.0,74637.0,46015.0,72354.0,39858.0,34469.0,83033.0,24401.0,77583.0,74116.0,74293.0,68397.0,79632.0,46107.0,64950.0,25443.0,75127.0,32892.0,71796.0,67536.0,55239.0,60554.0,64831.0,56067.0,82025.0,94384.0,14906.0,51563.0,57937.0,68274.0,39771.0,67893.0,27922.0,52190.0,44051.0,42767.0,46106.0,16927.0,59754.0,53700.0,59041.0,54237.0,70647.0,52597.0,41021.0,40233.0,50183.0,54753.0,92955.0,33471.0,34596.0,44010.0,84219.0,40706.0,15716.0,59052.0,80573.0,83715.0,82576.0,56962.0,35704.0,53103.0,46779.0,4861.0,33462.0,63693.0,80763.0,65352.0,82170.0,75759.0,79689.0,35340.0,85683.0,24884.0,42021.0,64449.0,64587.0,34824.0,75437.0,26091.0,52845.0,46086.0,78028.0,95169.0,56337.0,22434.0,36930.0,36130.0,65569.0,83844.0,19514.0,36736.0,77568.0,49187.0,30168.0,34053.0,38196.0,59412.0,70924.0,54165.0,32300.0,20180.0,34961.0,28440.0,64504.0,33564.0,17345.0,56320.0,28647.0,15038.0,32173.0,68316.0,74538.0,91700.0,68695.0,31056.0,79593.0,28071.0,37334.0,46423.0,37126.0,47703.0,61180.0,38998.0,8028.0,76081.0,34728.0,33168.0,33585.0,77037.0,35196.0,44529.0,70924.0,28764.0,69098.0,25959.0,27100.0,70596.0,42557.0,53312.0,72228.0,67605.0,62845.0,65196.0,42000.0,35860.0,65526.0,16860.0,83528.0,64176.0,22304.0,67023.0,32892.0,70713.0,59925.0,39722.0,46610.0,88347.0,87171.0,26907.0,50014.0,41014.0,66294.0,36715.0,79456.0,40479.0,75345.0,54233.0,24163.0,84460.0,43776.0,71691.0,85844.0,39190.0,71367.0,38578.0,57236.0,61825.0,79803.0,80910.0,27590.0,56775.0,83829.0,54210.0,38508.0,53187.0,30023.0,76045.0,50870.0,15315.0,65463.0,66480.0,76773.0,81698.0,54466.0,98777.0,16269.0,71819.0,33569.0,36262.0,22634.0,47025.0,70566.0,31605.0,52034.0,48526.0,46734.0,39552.0,86358.0,46931.0,16581.0,63998.0,67381.0,25930.0,42693.0,85606.0,72903.0,49669.0,36778.0,85696.0,10979.0,49678.0,56129.0,37155.0,21282.0,33419.0,63285.0,21255.0,42162.0,54450.0,57744.0,26576.0,57513.0,68142.0,7500.0,83145.0,54197.0,23091.0,46049.0,56715.0,79410.0,57304.0,44375.0,54450.0,59594.0,80685.0,40344.0,62710.0,48985.0,35322.0,77142.0,81657.0,14421.0,20130.0,74214.0,66726.0,23724.0,47353.0,33444.0,54386.0,28510.0,90638.0,48070.0,43140.0,54959.0,15056.0,26954.0,22327.0,44393.0,62000.0,31497.0,45894.0,78579.0,67369.0,58401.0,62307.0,43641.0,63841.0,46891.0,70091.0,78075.0,59184.0,54809.0,58113.0,51412.0,15287.0,66636.0,50965.0,84618.0,18351.0,40451.0,36317.0,42213.0,65748.0,77044.0,74918.0,56721.0,42160.0,61559.0,33629.0,68682.0,34377.0,8940.0,26228.0,77297.0,40211.0,33438.0,75032.0,61284.0,22518.0,54730.0,38452.0,44421.0,38197.0,41986.0,28427.0,37395.0,64722.0,55249.0,84906.0,28691.0,44213.0,25707.0,59062.0,76624.0,66000.0,27683.0,1730.0,7500.0,40521.0,20427.0,65106.0,69969.0,67433.0,77766.0,74716.0,68118.0,55158.0,62972.0,74190.0,39356.0,76653.0,35860.0,90687.0,73450.0,31454.0,47139.0,83829.0,53378.0,19656.0,45579.0,85485.0,55956.0,64191.0,38808.0,57183.0,23748.0,66303.0,37368.0,40800.0,71847.0,46149.0,78687.0,49118.0,37633.0,39767.0,26997.0,33986.0,57091.0,46831.0,83151.0,52531.0,15759.0,22804.0,43050.0,42997.0,48918.0,60033.0,34043.0,57811.0,78569.0,7500.0,157733.0,94384.0,23148.0,44267.0,71626.0,60894.0,50200.0,81051.0,65169.0,59868.0,65695.0,64857.0,45143.0,74805.0,59060.0,27238.0,47009.0,46094.0,40321.0,37235.0,81843.0,46692.0,77382.0,37774.0,18393.0,72828.0,24711.0,45503.0,6560.0,71604.0,27244.0,48752.0,71434.0,90842.0,88097.0,51948.0,71853.0,35876.0,40049.0,39660.0,50127.0,43263.0,62845.0,18929.0,24367.0,33249.0,26887.0,50150.0,62061.0,85696.0,76542.0,70515.0,18227.0,69139.0,69109.0,69627.0,38136.0,62159.0,80695.0,33316.0,58554.0,17256.0,53034.0,52203.0,59601.0,75154.0,47025.0,37971.0,41335.0,67267.0,57338.0,50523.0,35791.0,50611.0,56242.0,48904.0,56243.0,21355.0,57420.0,51381.5,46390.0,54342.0,51381.5,51381.5,20895.0,92344.0,51381.5,26907.0,44964.0,75507.0,53761.0,22682.0,38887.0,41658.0,29791.0,63915.0,39996.0,26759.0,63841.0,51039.0,60544.0,65685.0,37716.0,36864.0,44511.0,36947.0,47352.0,67087.0,57045.0,36957.0,69389.0,80134.0,43142.0,80589.0,34412.0,57537.0,22634.0,51315.0,36026.0,24639.0,34578.0,65704.0,63810.0,54132.0,18690.0,28164.0,34596.0,43269.0,38741.0,31907.0,27100.0,31163.0,92533.0,34853.0,70844.0,31086.0,60544.0,20491.0,42523.0,39922.0,33402.0,36408.0,21645.0,78427.0,82657.0,51876.0,78041.0,52852.0,70038.0,69401.0,46053.0,77343.0,73892.0,40304.0,32727.0,68695.0,43300.0,26290.0,93790.0,38410.0,64866.0,57957.0,46015.0,16531.0,28072.0,49476.0,50725.0,83844.0,41145.0,67419.0,23162.0,34380.0,34704.0,94871.0,65148.0,39898.0,64857.0,59892.0,41020.0,57072.0,60474.0,62807.0,19414.0,19107.0,75484.0,70379.0,79419.0,64014.0,76998.0,49854.0,60585.0,42873.0,87679.0,57867.0,35765.0,65492.0,32952.0,53374.0,71706.0,68487.0,53253.0,31163.0,42014.0,54108.0,49667.0,63206.0,57136.0,46772.0,78931.0,53977.0,84219.0,46098.0,73538.0,79529.0,20981.0,51766.0,55759.0,33039.0,37787.0,27242.0,87188.0,69930.0,37697.0,37401.0,3502.0,58597.0,82032.0,28087.0,74004.0,19740.0,57036.0,53083.0,69283.0,46098.0,23331.0,23331.0,9255.0,67786.0,71969.0,59235.0,31928.0,74881.0,65819.0,51411.0,51983.0,42386.0,30390.0,30983.0,66033.0,37284.0,57530.0,76800.0,63943.0,76081.0,67445.0,37054.0,47175.0,31859.0,27215.0,70179.0,39922.0,49681.0,24645.0,79865.0,44322.0,47958.0,63972.0,75315.0,55517.0,75283.0,82800.0,38998.0,90638.0,27161.0,42014.0,38201.0,45203.0,81574.0,34935.0,60482.0,34633.0,78093.0,82460.0,45903.0,81361.0,35860.0,40442.0,61482.0,34968.0,75794.0,31497.0,74268.0,13724.0,45143.0,52569.0,48432.0,17144.0,36108.0,76445.0,36663.0,53843.0,90226.0,70638.0,44512.0,27116.0,54072.0,71855.0,51250.0,60432.0,65526.0,68655.0,12393.0,64509.0,33955.0,31353.0,55434.0,28359.0,57100.0,69139.0,52973.0,51717.0,18793.0,66664.0,50664.0,54414.0,54549.0,47111.0,41003.0,19444.0,36301.0,73059.0,42731.0,52854.0,22775.0,46681.0,59821.0,50002.0,69755.0,44078.0,30560.0,35924.0,64140.0,56386.0,24594.0,75774.0,39228.0,58494.0,58684.0,57136.0,56551.0,22448.0,82014.0,34213.0,157146.0,25358.0,35544.0,36634.0,62670.0,50334.0,72066.0,50729.0,34916.0,64892.0,43602.0,33996.0,41473.0,63246.0,36732.0,69084.0,77766.0,37929.0,86610.0,80141.0,72635.0,69016.0,20193.0,27573.0,15862.0,49544.0,33228.0,70440.0,38232.0,22554.0,23536.0,49413.0,42231.0,78789.0,56534.0,58350.0,81217.0,49090.0,61787.0,18169.0,24336.0,18222.0,62335.0,42033.0,86580.0,41437.0,73705.0,61064.0,38452.0,18358.0,55012.0,9722.0,38175.0,58656.0,52117.0,64813.0,54222.0,83512.0,77520.0,41154.0,80398.0,18746.0,35196.0,60230.0,22108.0,44392.0,55424.0,17688.0,92491.0,90273.0,82571.0,38513.0,16653.0,42586.0,23529.0,74881.0,71107.0,46910.0,18690.0,37244.0,82427.0,75342.0,70044.0,79146.0,77437.0,54984.0,42403.0,55761.0,37292.0,45576.0,70321.0,58086.0,81795.0,28389.0,66835.0,69901.0,80360.0,63342.0,44989.0,31859.0,51569.0,30372.0,16014.0,41120.0,39763.0,38725.0,77981.0,62905.0,13533.0,59481.0,72117.0,21955.0,67131.0,36802.0,71853.0,28249.0,47808.0,25509.0,51012.0,70596.0,85431.0,42664.0,42586.0,29760.0,28973.0,39435.0,65370.0,20194.0,42473.0,64590.0,71232.0,34600.0,46904.0,49094.0,36075.0,60839.0,77298.0,34026.0,48918.0,82122.0,37697.0,34074.0,28520.0,62535.0,36273.0,63404.0,75774.0,78416.0,75702.0,59385.0,37070.0,44689.0,53977.0,7144.0,18701.0,90369.0,63159.0,37758.0,46757.0,79734.0,63207.0,72071.0,21840.0,58582.0,72282.0,50387.0,32583.0,62568.0,44635.0,33316.0,63967.0,52513.0,25293.0,54111.0,78394.0,80739.0,22669.0,29236.0,44911.0,54693.0,48186.0,54809.0,41580.0,80336.0,47743.0,62972.0,57333.0,32313.0,84953.0,27071.0,68148.0,65735.0,86836.0,4023.0,30093.0,57705.0,25008.0,83257.0,22280.0,72159.0,64260.0,82733.0,74290.0,58217.0,21024.0,70116.0,54006.0,69063.0,11448.0,61825.0,70886.0,69109.0,60208.0,32889.0,34738.0,30538.0,82326.0,26642.0,69932.0,44503.0,60200.0,49638.0,23830.0,33051.0,72905.0,69702.0,70300.0,70643.0,30396.0,50616.0,62772.0,30298.0,52413.0,44155.0,86979.0,76532.0,42081.0,67546.0,88420.0,31158.0,61671.0,69719.0,49160.0,24882.0,90933.0,113734.0,59292.0,45759.0,22148.0,73395.0,29819.0,45688.0,62820.0,60491.0,33235.0,35701.0,31535.0,92556.0,67384.0,80573.0,77870.0,52278.0,57107.0,18929.0,36038.0,20180.0,34230.0,31878.0,70932.0,91249.0,77598.0,80982.0,22701.0,55212.0,70617.0,64849.0,62694.0,61917.0,67472.0,21059.0,29543.0,75903.0,34984.0,54998.0,54356.0,34242.0,25410.0,73356.0,28320.0,23763.0,72570.0,34529.0,70792.0,63211.0,83891.0,36065.0,39898.0,51141.0,56939.0,80872.0,72335.0,61798.0,76842.0,29478.0,46998.0,96843.0,56551.0,70053.0,71670.0,44359.0,40887.0,48877.0,74485.0,64474.0,77226.0,72643.0,85738.0,55686.0,39062.0,34600.0,40794.0,54690.0,4428.0,32632.0,38236.0,36781.0,31385.0,24570.0,25509.0,94642.0,58646.0,53201.0,21994.0,57113.0,51373.0,23477.0,58116.0,72968.0,39791.0,91712.0,94472.0,13672.0,96547.0,79205.0,56559.0,32644.0,67506.0,24206.0,28420.0,22979.0,33279.0,46423.0,30368.0,63684.0,41638.0,68805.0,65814.0,71964.0,39146.0,96876.0,34445.0,68281.0,37284.0,36790.0,27943.0,22263.0,30261.0,28587.0,43815.0,48195.0,77027.0,71322.0,32765.0,29672.0,23272.0,49912.0,7500.0,68117.0,67225.0,17649.0,55914.0,40059.0,60905.0,75330.0,60689.0,38680.0,61416.0,49767.0,83273.0,29009.0,45057.0,37150.0,43020.0,53154.0,65308.0,76467.0,81044.0,32871.0,55801.0,76320.0,36927.0,48794.0,23478.0,71128.0,70179.0,59462.0,51381.5,38361.0,51381.5,70038.0,42554.0,67445.0,67046.0,42192.0,77610.0,31761.0,34350.0,54591.0,71866.0,25293.0,42000.0,69520.0,64713.0,27889.0,22123.0,51381.5,51381.5,27803.0,51381.5,51651.0,68487.0,51381.5,56796.0,87000.0,79823.0,30828.0,34109.0,53367.0,22390.0,71322.0,79244.0,49912.0,48699.0,80144.0,54252.0,81929.0,76068.0,53204.0,67911.0,14796.0,78128.0,14188.0,20425.0,58646.0,72967.0,48150.0,82332.0,58275.0,44953.0,34587.0,43018.0,45736.0,66476.0,27733.0,69805.0,72217.0,25818.0,37509.0,25176.0,43586.0,53230.0,50116.0,84906.0,61286.0,82333.0,65220.0,33590.0,30992.0,72309.0,156924.0,16005.0,65487.0,58692.0,40590.0,20587.0,62637.0,29435.0,19346.0,35788.0,36997.0,23539.0,65333.0,78499.0,29732.0,41275.0,63516.0,42769.0,49572.0,69209.0,17148.0,40590.0,30560.0,32146.0,41713.0,34176.0,58482.0,59686.0,60896.0,62994.0,47320.0,74859.0,15253.0,31560.0,72071.0,91172.0,90000.0,41967.0,69263.0,65706.0,60934.0,71965.0,65210.0,79174.0,81380.0,48432.0,52914.0,38946.0,26067.0,44325.0,42523.0,26487.0,53233.0,67716.0,76234.0,84117.0,65487.0,25224.0,89616.0,40851.0,27469.0,82347.0,73803.0,8820.0,43322.0,55593.0,50501.0,37085.0,16185.0,57731.0,48432.0,73807.0,18929.0,35893.0,61014.0,32144.0,14918.0,45146.0,41769.0,88325.0,38054.0,80617.0,5305.0,36807.0,28427.0,82032.0,22775.0,40101.0,58025.0,75777.0,7500.0,33562.0,57642.0,58554.0,63777.0,57967.0,51381.5,24434.0,11012.0,44802.0,26816.0,34421.0,61223.0,64014.0,56981.0,69245.0,52869.0],\"y\":[1617,27,776,53,422,716,590,169,46,49,19,61,1102,310,46,1315,96,317,1782,133,316,1730,972,544,444,75,257,637,131,1672,30,318,120,302,1196,65,913,81,67,902,1395,53,22,186,31,984,122,55,124,1319,507,1693,72,1617,606,1957,1093,29,46,518,1438,612,884,606,1076,34,11,1274,653,1562,1253,109,863,661,65,13,1890,2209,18,692,165,16,79,318,778,56,151,372,1366,194,603,18,985,32,43,45,606,63,978,410,72,55,1169,1120,1097,29,187,910,145,850,969,1820,608,730,551,114,1724,577,81,33,660,80,30,43,1135,559,1923,90,404,661,463,632,725,725,279,1482,29,106,49,38,2077,1053,1385,871,312,877,68,22,211,127,459,460,429,89,1021,1381,306,18,162,1231,13,1706,121,1293,1608,88,421,259,1117,89,36,57,148,93,119,1835,1318,45,10,978,191,57,1033,66,43,50,39,608,1581,68,80,1282,65,91,315,31,834,1600,1270,263,535,1295,1150,1240,38,35,53,293,65,1804,241,1101,264,541,1198,482,17,1615,285,1135,114,1047,714,185,1245,189,576,1103,1753,17,433,1588,22,19,1117,69,23,605,57,22,2088,1009,26,1627,1102,17,1690,1390,2126,1531,64,26,1112,210,1148,33,1101,322,44,17,31,845,275,25,275,90,1495,184,981,67,1635,60,231,48,99,770,957,818,925,908,102,576,317,461,37,70,930,859,1478,390,52,137,1919,68,25,1374,32,100,825,916,62,728,90,273,66,1213,107,1157,546,241,53,37,1611,1508,235,32,102,401,28,1052,680,30,20,1307,630,1283,65,37,38,160,23,71,1161,59,33,946,1442,62,1674,1853,1538,139,1182,507,18,940,42,1190,44,16,835,1443,1029,1188,1277,49,99,1670,900,425,2153,636,57,25,494,693,1348,51,1932,990,30,254,29,1371,73,120,81,37,1377,51,17,22,324,211,19,41,492,1005,114,1173,1738,222,1127,209,787,1598,186,47,27,96,64,1040,163,343,446,41,70,272,46,490,79,915,1485,369,1073,1242,78,1378,1474,751,48,45,10,1435,2119,20,1795,1188,43,1008,1688,684,1082,1068,57,46,733,467,122,36,34,156,14,37,34,20,192,1379,48,428,868,1001,59,431,971,348,2059,265,270,1289,893,926,135,1495,120,1288,1743,15,542,890,1388,17,906,44,25,973,31,518,530,506,70,54,296,266,747,895,1053,735,20,205,2092,309,1722,900,682,663,43,1816,976,746,64,32,263,1445,46,1210,945,1157,137,730,216,943,347,1924,397,2089,138,42,777,1902,52,1651,358,1727,210,42,1291,442,1895,411,521,1168,493,260,46,319,96,1062,232,76,54,201,406,1919,662,41,1600,134,69,21,54,91,526,162,1008,240,795,1772,64,1957,78,1572,795,889,331,265,1065,11,21,17,369,38,177,279,62,1230,182,49,75,227,215,444,47,143,55,63,1867,611,473,55,81,2086,1478,49,382,69,67,30,63,79,42,819,1151,594,129,213,67,28,45,1193,268,266,37,37,882,373,35,107,42,326,404,95,939,33,981,36,1237,1825,103,191,1586,963,889,93,1587,16,1375,393,1477,1179,1005,1348,1307,486,2252,235,1724,235,1092,599,2008,48,1174,67,365,6,165,210,1095,223,597,22,1064,74,26,60,20,59,34,198,1048,574,1029,670,990,11,1241,576,172,664,928,2074,467,257,1146,689,2114,1717,1346,1044,493,957,270,29,121,126,23,57,636,1004,734,614,1453,1621,187,1443,57,637,948,59,18,903,112,596,233,1511,1152,48,1185,21,965,869,16,1947,71,65,1380,1027,411,836,11,480,606,284,1472,1677,1335,334,18,1338,1099,97,63,109,902,1574,38,960,28,1215,1497,449,1064,1757,1440,1006,1226,1171,92,99,66,564,1427,86,833,242,1869,1364,183,450,758,1507,654,81,137,16,93,1158,43,1525,1230,29,25,24,38,57,47,813,629,377,1612,729,50,270,177,315,767,1071,1580,60,573,41,170,1167,1526,458,63,405,1027,1478,72,48,726,860,1497,495,20,570,769,55,1808,55,577,162,1957,1576,1616,36,1482,22,63,680,542,50,39,1043,385,1633,46,761,76,290,89,70,1066,2009,1345,764,195,53,368,544,1853,35,446,1180,41,727,40,1062,40,292,15,341,369,401,393,10,486,69,1727,995,45,182,989,1677,595,156,1226,128,86,68,16,55,2114,2018,263,55,564,1281,83,353,1003,14,902,1139,797,1638,401,84,928,203,858,409,282,1423,1449,28,67,199,1453,1253,1198,178,1990,976,1001,1919,350,1650,46,1228,95,62,1761,467,1149,2052,1127,1416,1113,125,966,32,833,46,960,1829,779,811,1120,725,1187,2302,66,1250,683,305,50,995,41,77,171,131,54,53,475,694,96,361,1079,578,64,149,231,728,1778,93,23,662,1198,81,92,491,1564,926,1910,411,94,1085,23,6,54,1150,1415,405,1908,2486,1315,45,1789,19,573,805,108,23,1493,89,936,343,528,1901,724,58,297,488,859,1574,69,17,2194,116,279,103,44,406,1363,236,39,137,79,63,1314,71,58,702,94,80,22,1211,1461,1968,1091,55,1366,313,62,92,72,655,704,54,178,1033,36,122,122,1123,497,691,1363,12,2440,56,37,968,270,278,1250,938,1178,1155,653,49,506,38,1650,1826,18,906,46,1477,766,47,467,2116,1298,22,396,20,967,357,1401,15,2087,981,17,523,23,1192,1958,133,777,73,121,424,868,756,12,937,1862,367,443,267,61,1323,63,64,562,312,1156,1104,16,2008,44,1574,63,426,96,635,757,125,332,135,330,384,1722,78,24,1168,957,15,57,1956,2013,326,77,1313,30,315,660,74,46,86,1103,61,145,684,411,27,1060,1459,18,1833,237,48,515,1020,1370,1026,301,684,499,1004,218,606,75,106,990,1097,16,34,1711,438,75,225,18,470,91,2525,504,235,1232,88,17,24,60,1020,155,51,1812,1461,96,160,139,908,183,1161,988,1072,174,758,195,31,1084,685,1672,43,49,133,363,545,1065,2047,296,140,530,152,1598,114,101,25,789,87,90,1215,811,61,405,72,189,40,63,52,39,805,130,1631,34,152,21,71,899,711,351,8,119,21,10,973,1536,992,1529,860,928,418,587,641,23,2279,49,1779,1804,48,83,1862,793,84,183,1383,999,825,246,610,76,1286,30,99,1192,362,2130,1229,38,485,434,44,496,78,2346,794,17,26,76,15,62,198,49,802,1736,57,59,2302,37,310,1305,832,401,1501,1189,1194,656,1540,311,820,274,57,448,44,102,61,1643,397,1121,473,50,1678,58,170,373,1196,101,316,1400,1424,844,311,1149,129,32,299,320,441,1178,85,24,112,30,410,800,1313,1483,1258,28,227,1555,861,103,634,1918,131,586,62,447,939,797,1143,415,30,187,251,237,91,35,493,971,371,396,68,322,317,222,177,45,21,45,1899,42,22,41,1440,325,95,42,72,20,789,15,59,908,417,289,769,188,354,727,146,319,794,454,152,797,1690,20,1428,209,545,96,222,61,44,8,817,1371,42,60,78,23,19,61,449,37,38,1131,34,294,48,289,30,125,156,70,22,65,1930,2283,310,1319,879,1244,690,209,1134,1507,57,529,1091,180,77,2349,534,556,637,46,44,47,795,586,1574,13,1471,65,175,40,1078,1115,134,1540,87,217,1034,1180,819,32,46,1159,860,1631,444,1910,380,736,269,2524,612,75,1045,55,1064,1443,1366,436,38,436,747,1396,928,642,1048,943,907,1198,120,1658,1638,73,275,854,78,106,106,1923,1662,84,48,5,733,1234,112,1658,55,1513,271,904,120,103,269,22,1156,1086,1128,72,964,1383,18,793,100,80,167,677,23,92,641,1106,1033,1174,25,240,20,102,1034,156,458,17,792,92,407,1269,841,633,1019,1315,54,2525,52,436,268,147,1798,137,507,15,1105,974,66,778,49,169,299,221,1682,155,892,58,311,95,424,47,339,1410,35,562,2352,1334,32,41,39,1141,710,401,506,1538,57,1722,270,31,882,16,311,227,1152,122,77,1289,561,211,233,1092,601,54,78,1095,244,116,15,425,734,638,894,41,31,34,1750,612,29,823,20,396,813,1179,138,55,1511,117,1730,32,67,335,825,694,1792,496,231,902,68,71,76,772,47,1586,1529,265,1603,2091,981,1533,82,244,36,404,71,1572,122,41,10,304,37,1754,815,1001,1157,688,1319,21,31,67,708,25,746,32,1695,1080,72,57,660,103,153,1220,279,745,264,2157,1526,69,1597,64,497,1067,31,211,877,11,2034,1991,1686,324,69,252,54,964,1327,68,60,55,1456,563,1504,564,1125,358,42,184,460,145,1376,792,1382,28,1033,882,2231,1101,369,48,467,44,38,81,167,45,664,622,48,461,1073,55,976,20,1149,43,224,101,209,968,1165,24,252,165,269,102,461,47,144,1338,917,318,253,502,119,1250,969,76,62,1382,84,255,43,398,76,902,823,1179,1921,185,433,34,907,416,44,1588,1797,40,1143,914,1502,1338,27,763,1331,525,9,953,68,131,882,1149,37,388,1428,1633,173,99,215,929,219,174,92,1052,275,587,1662,159,1024,35,1042,395,557,9,69,486,34,1365,13,1401,1574,1323,1217,103,84,1536,581,928,14,424,960,1555,656,55,20,367,2257,42,1049,48,685,39,43,835,1515,1039,1596,1828,34,149,946,28,450,46,1702,820,382,2126,2069,72,732,801,236,80,1685,277,507,68,49,397,39,306,976,1028,70,46,51,1263,1490,1564,1815,1198,416,85,47,137,21,70,909,1676,1735,1191,24,1182,1280,1336,749,91,414,44,63,901,38,455,775,15,38,1512,43,42,1089,162,1272,1173,816,74,134,157,561,1336,2092,463,1130,20,377,1544,138,1012,1766,45,161,144,1734,823,1138,1429,1371,982,44,318,434,198,359,576,88,63,27,193,101,2211,140,415,22,263,393,147,443,1958,174,2217,1691,25,809,895,484,413,331,25,13,115,16,92,52,1464,441,283,747,1870,165,1941,839,1655,23,66,37,21,22,78,79,265,1175,1305,46,25,46,874,100,930,868,45,1260,414,392,1109,639,79,1665,692,1392,44,50,467,223,158,1211,1575,1208,43,527,932,71,54,129,1615,1034,1088,721,137,47,1244,41,1174,993,100,1680,98,48,519,715,37,653,1455,602,26,102,97,207,176,450,433,1366,1564,1001,961,1518,56,22,400,26,350,1216,874,40,1367,264,2053,1376,45,976,51,1264,75,57,140,497,266,2006,615,1021,22,133,437,1013,57,1038,1573,28,123,13,132,732,66,1631,608,1822,1282,8,43,1931,8,103,1169,395,258,25,185,180,22,44,94,81,798,1334,38,61,300,88,54,1782,68,258,31,66,174,28,731,274,1701,312,414,1565,29,94,1338,1092,1479,54,568,1199,873,1213,731,2043,1893,424,575,257,56,542,125,69,40,1016,907,1566,1169,46,1644,59,17,1853,1528,35,141,546,500,61,106,704,424,849,85,199,1147,54,43,53,521,1623,45,1435,32,16,52,1234,15,415,470,1438,53,51,679,586,653,468,1679,50,84,1049,22,30,1341,444,1241,843,172],\"z\":[4,2,10,4,6,10,7,4,2,0,2,3,8,5,3,12,3,6,9,3,5,0,9,9,5,3,4,0,4,10,3,3,4,6,9,3,12,2,3,5,5,3,3,4,3,9,3,2,4,12,10,13,3,7,10,13,10,4,3,6,11,12,10,8,4,2,2,10,10,5,6,3,13,8,4,2,5,9,3,8,4,2,3,3,13,4,4,6,7,5,8,2,8,3,3,3,6,3,12,7,3,3,11,6,5,3,4,12,3,4,11,5,8,11,6,3,5,5,3,3,10,3,3,3,13,7,6,4,7,10,5,6,9,7,5,13,3,2,2,3,12,7,10,9,3,6,3,2,4,4,7,6,5,4,11,6,5,3,6,10,2,9,4,10,0,4,4,6,7,3,3,3,3,3,2,8,5,3,3,12,4,3,13,3,3,2,4,8,9,3,2,12,2,3,6,2,12,6,5,3,7,9,9,10,3,2,3,5,3,9,6,9,5,8,9,5,2,6,5,11,4,7,11,4,12,4,4,11,8,2,8,4,2,3,11,4,3,11,3,2,10,4,2,9,8,3,6,6,5,6,3,3,13,5,11,3,5,7,4,2,2,10,6,2,4,3,8,2,6,2,5,4,4,4,4,12,10,5,8,9,4,4,6,8,3,2,13,12,5,5,3,3,9,3,3,11,3,3,6,12,3,9,3,4,3,9,3,10,6,4,3,3,12,10,6,3,3,6,3,10,12,2,2,5,8,5,4,3,3,4,2,3,5,2,3,12,6,3,8,4,11,4,11,8,2,4,3,6,3,2,9,8,5,10,5,3,4,8,5,4,10,10,4,2,6,9,11,3,8,8,3,4,2,12,3,2,2,3,10,3,2,3,6,4,2,2,4,13,3,12,8,6,6,4,12,10,4,2,3,3,3,9,5,4,6,3,4,5,2,8,3,6,12,7,8,10,3,11,9,8,3,3,2,8,5,2,13,10,4,12,9,7,9,13,4,3,12,5,4,3,3,5,3,3,3,2,4,7,3,9,11,7,4,8,10,6,9,5,8,6,8,11,3,8,3,9,5,2,8,12,13,2,9,3,2,11,3,8,7,4,2,3,2,5,4,13,7,10,3,4,12,5,13,3,6,11,3,4,11,13,2,3,3,12,3,12,8,11,4,12,3,12,5,7,5,9,3,3,7,10,3,6,6,9,3,3,10,6,4,8,8,5,6,5,3,5,3,4,7,3,3,4,3,6,8,4,4,4,2,3,3,2,8,2,13,5,11,7,4,4,4,7,13,12,7,5,9,2,2,2,5,3,3,5,3,8,3,3,4,4,6,5,3,3,3,4,5,10,7,3,2,5,9,3,7,2,3,3,3,4,3,12,9,10,3,2,3,3,3,7,6,7,3,3,13,5,3,1,3,9,7,2,6,3,6,3,7,5,3,4,13,6,12,3,7,2,11,7,9,8,13,6,6,4,6,6,13,6,12,7,9,3,12,4,5,0,4,5,13,3,9,3,13,3,3,2,2,3,3,5,10,9,6,8,8,2,5,12,3,13,4,13,5,6,6,11,10,1,12,4,7,4,4,3,2,4,2,3,6,10,5,8,11,7,4,8,3,6,5,2,2,10,3,8,5,5,8,3,9,2,5,8,3,4,2,3,12,11,5,8,3,6,10,4,4,13,4,7,2,6,11,3,3,4,5,11,4,12,2,7,5,10,13,11,6,13,5,8,3,2,3,8,10,2,5,4,7,12,4,7,12,6,7,4,1,2,3,4,3,5,10,3,2,2,3,3,4,4,8,5,4,7,3,5,5,7,7,8,12,3,9,3,4,13,12,7,3,6,8,6,2,3,6,9,12,7,2,4,9,3,8,3,7,2,4,11,7,3,4,3,3,7,7,3,3,12,5,12,3,5,3,6,4,3,7,7,8,8,5,3,3,9,10,2,7,12,3,11,3,10,3,4,3,6,4,8,8,2,8,3,4,4,3,4,10,5,4,4,12,3,2,3,3,3,10,13,4,3,5,10,3,5,11,2,5,5,4,7,8,3,10,4,6,6,6,10,7,2,3,6,8,5,10,4,7,6,7,6,7,9,3,6,4,4,10,6,9,10,6,5,9,4,10,3,5,3,4,11,11,9,5,7,6,5,3,10,9,5,3,9,3,3,4,2,2,4,6,8,4,5,13,8,3,5,6,11,9,4,2,6,10,4,4,7,13,13,12,5,4,7,2,0,3,9,6,8,7,9,13,3,10,3,6,12,4,2,10,3,6,8,9,4,4,3,4,4,10,11,2,2,8,5,4,3,4,8,7,7,3,4,3,3,4,3,2,9,2,2,3,10,5,5,7,3,7,5,4,4,2,8,6,3,0,4,2,4,4,12,5,11,7,2,9,2,3,12,4,5,8,6,10,11,11,2,8,3,8,8,2,13,3,8,9,3,6,9,11,3,8,2,5,4,4,3,6,5,3,4,2,5,7,4,7,3,4,8,5,8,2,10,6,7,5,6,3,11,3,4,9,7,11,5,2,9,3,5,2,3,2,6,9,4,5,4,5,5,6,3,3,11,9,2,3,9,8,6,3,9,3,4,10,4,2,4,13,4,3,8,4,2,13,7,2,11,6,3,9,4,5,10,6,8,7,10,5,12,3,4,8,8,2,3,5,4,3,6,2,10,4,10,6,5,4,3,2,3,4,13,4,3,4,10,2,4,4,9,4,10,5,12,5,8,4,2,9,5,10,3,2,4,7,10,11,6,5,4,10,4,10,2,3,2,9,2,4,9,8,2,8,3,4,3,4,3,3,11,4,12,3,5,3,3,7,5,4,0,2,2,2,13,6,13,11,5,4,5,3,11,2,11,2,8,11,3,2,6,6,3,4,6,4,13,4,7,3,11,2,3,9,7,8,10,3,7,5,3,5,2,10,10,2,2,4,2,4,5,2,11,4,3,1,5,3,4,8,8,5,12,13,12,10,10,5,10,7,3,8,3,3,2,12,5,12,3,3,13,3,4,1,5,2,5,7,13,8,4,6,3,3,3,6,6,10,4,2,3,3,7,7,9,10,4,2,5,7,11,2,10,5,4,6,2,7,11,7,6,5,3,4,5,5,4,3,7,11,4,8,2,6,6,3,4,3,2,3,5,3,3,3,6,3,4,3,2,3,12,2,3,9,4,5,9,3,4,8,4,5,8,9,2,12,6,2,5,3,8,2,5,3,4,2,10,12,3,2,4,2,2,3,6,3,3,11,3,5,2,5,2,4,4,3,2,3,10,10,8,9,5,8,5,4,9,8,3,5,7,4,4,12,9,7,8,3,3,3,5,8,11,3,8,3,3,3,4,7,4,10,3,4,13,12,12,3,3,6,13,4,5,8,5,9,4,10,9,4,13,3,9,7,13,5,3,6,9,5,6,10,5,13,12,10,2,9,9,2,4,8,4,3,3,6,12,3,3,0,9,7,2,4,3,13,5,13,2,3,5,2,6,9,12,4,12,10,3,10,3,3,3,7,3,4,7,6,4,12,3,4,2,4,13,4,7,2,5,3,5,10,12,6,5,12,3,10,3,6,5,3,8,4,7,2,5,6,3,13,2,4,6,5,12,4,5,2,5,4,6,4,4,13,3,3,12,10,3,3,2,11,4,5,8,11,3,9,5,2,13,2,7,5,9,4,4,6,6,5,4,10,8,2,3,13,5,4,2,4,7,7,12,3,3,3,6,7,3,8,3,6,12,7,4,3,12,2,0,3,3,5,13,6,6,7,3,12,2,3,3,12,4,13,11,5,6,10,6,13,4,4,3,8,3,7,3,4,3,5,3,5,7,12,11,9,6,2,2,3,13,2,5,3,8,11,3,4,9,3,4,13,4,10,5,10,7,4,12,3,5,6,3,4,9,2,12,7,13,5,3,6,2,12,13,3,2,2,12,10,5,8,13,6,3,3,5,3,13,7,7,2,13,10,5,5,5,3,7,3,4,3,2,4,7,8,3,8,9,3,12,3,6,3,3,3,4,12,7,3,6,4,5,2,13,3,4,10,10,5,4,6,4,12,11,3,4,13,3,3,2,8,3,4,8,10,13,4,8,2,12,1,4,6,8,3,7,6,6,8,3,9,9,8,2,5,3,4,12,9,2,6,5,9,2,3,4,13,4,5,3,13,6,3,9,4,4,3,6,6,6,0,3,6,3,12,2,10,4,7,10,4,4,12,7,5,2,8,4,7,7,3,3,4,6,3,11,3,11,3,3,8,9,10,13,4,2,4,11,3,7,2,5,7,4,5,8,3,6,5,6,2,4,0,8,3,3,6,3,8,6,7,3,3,2,13,5,13,5,10,8,4,3,4,2,4,12,6,13,11,3,11,7,6,7,4,7,3,2,9,3,9,8,3,4,5,3,3,12,3,10,7,10,3,4,4,10,10,8,9,7,3,5,10,4,10,6,4,3,4,12,10,12,7,11,5,3,5,5,5,0,8,4,2,2,4,3,9,4,5,3,5,3,4,8,8,4,11,5,3,8,4,8,6,6,3,2,2,3,4,3,8,3,7,10,5,4,9,8,13,3,2,3,3,3,4,3,5,6,13,4,3,3,7,3,4,11,3,8,3,7,12,10,3,10,8,9,3,3,6,4,4,12,5,10,3,6,4,3,3,3,12,13,12,4,3,3,8,3,12,4,3,4,4,3,8,10,2,11,5,7,2,3,3,4,4,5,5,13,11,7,7,7,4,3,8,2,7,7,7,3,8,5,10,4,3,11,3,6,4,3,4,8,4,12,7,13,3,2,6,10,3,11,8,2,4,2,4,12,4,12,8,10,7,2,3,8,0,2,6,4,3,2,5,2,3,3,4,4,8,4,2,3,7,4,3,6,3,3,3,4,4,3,9,6,4,4,8,11,3,3,8,7,5,3,7,12,11,5,8,7,10,6,3,6,3,7,4,3,3,13,11,6,6,3,12,2,3,10,6,3,4,3,4,3,2,6,6,11,4,5,4,3,3,2,7,9,3,8,0,2,3,7,2,6,10,11,2,4,6,6,6,8,1,2,2,12,3,2,4,5,13,10,4],\"type\":\"scatter3d\"}],                        {\"template\":{\"data\":{\"histogram2dcontour\":[{\"type\":\"histogram2dcontour\",\"colorbar\":{\"outlinewidth\":0,\"ticks\":\"\"},\"colorscale\":[[0.0,\"#0d0887\"],[0.1111111111111111,\"#46039f\"],[0.2222222222222222,\"#7201a8\"],[0.3333333333333333,\"#9c179e\"],[0.4444444444444444,\"#bd3786\"],[0.5555555555555556,\"#d8576b\"],[0.6666666666666666,\"#ed7953\"],[0.7777777777777778,\"#fb9f3a\"],[0.8888888888888888,\"#fdca26\"],[1.0,\"#f0f921\"]]}],\"choropleth\":[{\"type\":\"choropleth\",\"colorbar\":{\"outlinewidth\":0,\"ticks\":\"\"}}],\"histogram2d\":[{\"type\":\"histogram2d\",\"colorbar\":{\"outlinewidth\":0,\"ticks\":\"\"},\"colorscale\":[[0.0,\"#0d0887\"],[0.1111111111111111,\"#46039f\"],[0.2222222222222222,\"#7201a8\"],[0.3333333333333333,\"#9c179e\"],[0.4444444444444444,\"#bd3786\"],[0.5555555555555556,\"#d8576b\"],[0.6666666666666666,\"#ed7953\"],[0.7777777777777778,\"#fb9f3a\"],[0.8888888888888888,\"#fdca26\"],[1.0,\"#f0f921\"]]}],\"heatmap\":[{\"type\":\"heatmap\",\"colorbar\":{\"outlinewidth\":0,\"ticks\":\"\"},\"colorscale\":[[0.0,\"#0d0887\"],[0.1111111111111111,\"#46039f\"],[0.2222222222222222,\"#7201a8\"],[0.3333333333333333,\"#9c179e\"],[0.4444444444444444,\"#bd3786\"],[0.5555555555555556,\"#d8576b\"],[0.6666666666666666,\"#ed7953\"],[0.7777777777777778,\"#fb9f3a\"],[0.8888888888888888,\"#fdca26\"],[1.0,\"#f0f921\"]]}],\"heatmapgl\":[{\"type\":\"heatmapgl\",\"colorbar\":{\"outlinewidth\":0,\"ticks\":\"\"},\"colorscale\":[[0.0,\"#0d0887\"],[0.1111111111111111,\"#46039f\"],[0.2222222222222222,\"#7201a8\"],[0.3333333333333333,\"#9c179e\"],[0.4444444444444444,\"#bd3786\"],[0.5555555555555556,\"#d8576b\"],[0.6666666666666666,\"#ed7953\"],[0.7777777777777778,\"#fb9f3a\"],[0.8888888888888888,\"#fdca26\"],[1.0,\"#f0f921\"]]}],\"contourcarpet\":[{\"type\":\"contourcarpet\",\"colorbar\":{\"outlinewidth\":0,\"ticks\":\"\"}}],\"contour\":[{\"type\":\"contour\",\"colorbar\":{\"outlinewidth\":0,\"ticks\":\"\"},\"colorscale\":[[0.0,\"#0d0887\"],[0.1111111111111111,\"#46039f\"],[0.2222222222222222,\"#7201a8\"],[0.3333333333333333,\"#9c179e\"],[0.4444444444444444,\"#bd3786\"],[0.5555555555555556,\"#d8576b\"],[0.6666666666666666,\"#ed7953\"],[0.7777777777777778,\"#fb9f3a\"],[0.8888888888888888,\"#fdca26\"],[1.0,\"#f0f921\"]]}],\"surface\":[{\"type\":\"surface\",\"colorbar\":{\"outlinewidth\":0,\"ticks\":\"\"},\"colorscale\":[[0.0,\"#0d0887\"],[0.1111111111111111,\"#46039f\"],[0.2222222222222222,\"#7201a8\"],[0.3333333333333333,\"#9c179e\"],[0.4444444444444444,\"#bd3786\"],[0.5555555555555556,\"#d8576b\"],[0.6666666666666666,\"#ed7953\"],[0.7777777777777778,\"#fb9f3a\"],[0.8888888888888888,\"#fdca26\"],[1.0,\"#f0f921\"]]}],\"mesh3d\":[{\"type\":\"mesh3d\",\"colorbar\":{\"outlinewidth\":0,\"ticks\":\"\"}}],\"scatter\":[{\"fillpattern\":{\"fillmode\":\"overlay\",\"size\":10,\"solidity\":0.2},\"type\":\"scatter\"}],\"parcoords\":[{\"type\":\"parcoords\",\"line\":{\"colorbar\":{\"outlinewidth\":0,\"ticks\":\"\"}}}],\"scatterpolargl\":[{\"type\":\"scatterpolargl\",\"marker\":{\"colorbar\":{\"outlinewidth\":0,\"ticks\":\"\"}}}],\"bar\":[{\"error_x\":{\"color\":\"#2a3f5f\"},\"error_y\":{\"color\":\"#2a3f5f\"},\"marker\":{\"line\":{\"color\":\"#E5ECF6\",\"width\":0.5},\"pattern\":{\"fillmode\":\"overlay\",\"size\":10,\"solidity\":0.2}},\"type\":\"bar\"}],\"scattergeo\":[{\"type\":\"scattergeo\",\"marker\":{\"colorbar\":{\"outlinewidth\":0,\"ticks\":\"\"}}}],\"scatterpolar\":[{\"type\":\"scatterpolar\",\"marker\":{\"colorbar\":{\"outlinewidth\":0,\"ticks\":\"\"}}}],\"histogram\":[{\"marker\":{\"pattern\":{\"fillmode\":\"overlay\",\"size\":10,\"solidity\":0.2}},\"type\":\"histogram\"}],\"scattergl\":[{\"type\":\"scattergl\",\"marker\":{\"colorbar\":{\"outlinewidth\":0,\"ticks\":\"\"}}}],\"scatter3d\":[{\"type\":\"scatter3d\",\"line\":{\"colorbar\":{\"outlinewidth\":0,\"ticks\":\"\"}},\"marker\":{\"colorbar\":{\"outlinewidth\":0,\"ticks\":\"\"}}}],\"scattermapbox\":[{\"type\":\"scattermapbox\",\"marker\":{\"colorbar\":{\"outlinewidth\":0,\"ticks\":\"\"}}}],\"scatterternary\":[{\"type\":\"scatterternary\",\"marker\":{\"colorbar\":{\"outlinewidth\":0,\"ticks\":\"\"}}}],\"scattercarpet\":[{\"type\":\"scattercarpet\",\"marker\":{\"colorbar\":{\"outlinewidth\":0,\"ticks\":\"\"}}}],\"carpet\":[{\"aaxis\":{\"endlinecolor\":\"#2a3f5f\",\"gridcolor\":\"white\",\"linecolor\":\"white\",\"minorgridcolor\":\"white\",\"startlinecolor\":\"#2a3f5f\"},\"baxis\":{\"endlinecolor\":\"#2a3f5f\",\"gridcolor\":\"white\",\"linecolor\":\"white\",\"minorgridcolor\":\"white\",\"startlinecolor\":\"#2a3f5f\"},\"type\":\"carpet\"}],\"table\":[{\"cells\":{\"fill\":{\"color\":\"#EBF0F8\"},\"line\":{\"color\":\"white\"}},\"header\":{\"fill\":{\"color\":\"#C8D4E3\"},\"line\":{\"color\":\"white\"}},\"type\":\"table\"}],\"barpolar\":[{\"marker\":{\"line\":{\"color\":\"#E5ECF6\",\"width\":0.5},\"pattern\":{\"fillmode\":\"overlay\",\"size\":10,\"solidity\":0.2}},\"type\":\"barpolar\"}],\"pie\":[{\"automargin\":true,\"type\":\"pie\"}]},\"layout\":{\"autotypenumbers\":\"strict\",\"colorway\":[\"#636efa\",\"#EF553B\",\"#00cc96\",\"#ab63fa\",\"#FFA15A\",\"#19d3f3\",\"#FF6692\",\"#B6E880\",\"#FF97FF\",\"#FECB52\"],\"font\":{\"color\":\"#2a3f5f\"},\"hovermode\":\"closest\",\"hoverlabel\":{\"align\":\"left\"},\"paper_bgcolor\":\"white\",\"plot_bgcolor\":\"#E5ECF6\",\"polar\":{\"bgcolor\":\"#E5ECF6\",\"angularaxis\":{\"gridcolor\":\"white\",\"linecolor\":\"white\",\"ticks\":\"\"},\"radialaxis\":{\"gridcolor\":\"white\",\"linecolor\":\"white\",\"ticks\":\"\"}},\"ternary\":{\"bgcolor\":\"#E5ECF6\",\"aaxis\":{\"gridcolor\":\"white\",\"linecolor\":\"white\",\"ticks\":\"\"},\"baxis\":{\"gridcolor\":\"white\",\"linecolor\":\"white\",\"ticks\":\"\"},\"caxis\":{\"gridcolor\":\"white\",\"linecolor\":\"white\",\"ticks\":\"\"}},\"coloraxis\":{\"colorbar\":{\"outlinewidth\":0,\"ticks\":\"\"}},\"colorscale\":{\"sequential\":[[0.0,\"#0d0887\"],[0.1111111111111111,\"#46039f\"],[0.2222222222222222,\"#7201a8\"],[0.3333333333333333,\"#9c179e\"],[0.4444444444444444,\"#bd3786\"],[0.5555555555555556,\"#d8576b\"],[0.6666666666666666,\"#ed7953\"],[0.7777777777777778,\"#fb9f3a\"],[0.8888888888888888,\"#fdca26\"],[1.0,\"#f0f921\"]],\"sequentialminus\":[[0.0,\"#0d0887\"],[0.1111111111111111,\"#46039f\"],[0.2222222222222222,\"#7201a8\"],[0.3333333333333333,\"#9c179e\"],[0.4444444444444444,\"#bd3786\"],[0.5555555555555556,\"#d8576b\"],[0.6666666666666666,\"#ed7953\"],[0.7777777777777778,\"#fb9f3a\"],[0.8888888888888888,\"#fdca26\"],[1.0,\"#f0f921\"]],\"diverging\":[[0,\"#8e0152\"],[0.1,\"#c51b7d\"],[0.2,\"#de77ae\"],[0.3,\"#f1b6da\"],[0.4,\"#fde0ef\"],[0.5,\"#f7f7f7\"],[0.6,\"#e6f5d0\"],[0.7,\"#b8e186\"],[0.8,\"#7fbc41\"],[0.9,\"#4d9221\"],[1,\"#276419\"]]},\"xaxis\":{\"gridcolor\":\"white\",\"linecolor\":\"white\",\"ticks\":\"\",\"title\":{\"standoff\":15},\"zerolinecolor\":\"white\",\"automargin\":true,\"zerolinewidth\":2},\"yaxis\":{\"gridcolor\":\"white\",\"linecolor\":\"white\",\"ticks\":\"\",\"title\":{\"standoff\":15},\"zerolinecolor\":\"white\",\"automargin\":true,\"zerolinewidth\":2},\"scene\":{\"xaxis\":{\"backgroundcolor\":\"#E5ECF6\",\"gridcolor\":\"white\",\"linecolor\":\"white\",\"showbackground\":true,\"ticks\":\"\",\"zerolinecolor\":\"white\",\"gridwidth\":2},\"yaxis\":{\"backgroundcolor\":\"#E5ECF6\",\"gridcolor\":\"white\",\"linecolor\":\"white\",\"showbackground\":true,\"ticks\":\"\",\"zerolinecolor\":\"white\",\"gridwidth\":2},\"zaxis\":{\"backgroundcolor\":\"#E5ECF6\",\"gridcolor\":\"white\",\"linecolor\":\"white\",\"showbackground\":true,\"ticks\":\"\",\"zerolinecolor\":\"white\",\"gridwidth\":2}},\"shapedefaults\":{\"line\":{\"color\":\"#2a3f5f\"}},\"annotationdefaults\":{\"arrowcolor\":\"#2a3f5f\",\"arrowhead\":0,\"arrowwidth\":1},\"geo\":{\"bgcolor\":\"white\",\"landcolor\":\"#E5ECF6\",\"subunitcolor\":\"white\",\"showland\":true,\"showlakes\":true,\"lakecolor\":\"white\"},\"title\":{\"x\":0.05},\"mapbox\":{\"style\":\"light\"}}},\"scene\":{\"domain\":{\"x\":[0.0,1.0],\"y\":[0.0,1.0]},\"xaxis\":{\"title\":{\"text\":\"Income\"}},\"yaxis\":{\"title\":{\"text\":\"TotalSpent\"}},\"zaxis\":{\"title\":{\"text\":\"NumStorePurchases\"}}},\"coloraxis\":{\"colorbar\":{\"title\":{\"text\":\"ward_3\"}},\"colorscale\":[[0.0,\"#0d0887\"],[0.1111111111111111,\"#46039f\"],[0.2222222222222222,\"#7201a8\"],[0.3333333333333333,\"#9c179e\"],[0.4444444444444444,\"#bd3786\"],[0.5555555555555556,\"#d8576b\"],[0.6666666666666666,\"#ed7953\"],[0.7777777777777778,\"#fb9f3a\"],[0.8888888888888888,\"#fdca26\"],[1.0,\"#f0f921\"]]},\"legend\":{\"tracegroupgap\":0},\"title\":{\"text\":\"Agglomerative Clustering (WARD) - 3 Clusters\"}},                        {\"responsive\": true}                    ).then(function(){\n",
              "                            \n",
              "var gd = document.getElementById('a8d1dd36-74d0-4eb4-984a-6224f1b8d3bf');\n",
              "var x = new MutationObserver(function (mutations, observer) {{\n",
              "        var display = window.getComputedStyle(gd).display;\n",
              "        if (!display || display === 'none') {{\n",
              "            console.log([gd, 'removed!']);\n",
              "            Plotly.purge(gd);\n",
              "            observer.disconnect();\n",
              "        }}\n",
              "}});\n",
              "\n",
              "// Listen for the removal of the full notebook cells\n",
              "var notebookContainer = gd.closest('#notebook-container');\n",
              "if (notebookContainer) {{\n",
              "    x.observe(notebookContainer, {childList: true});\n",
              "}}\n",
              "\n",
              "// Listen for the clearing of the current output cell\n",
              "var outputEl = gd.closest('.output');\n",
              "if (outputEl) {{\n",
              "    x.observe(outputEl, {childList: true});\n",
              "}}\n",
              "\n",
              "                        })                };                            </script>        </div>\n",
              "</body>\n",
              "</html>"
            ]
          },
          "metadata": {}
        }
      ]
    },
    {
      "cell_type": "code",
      "source": [
        "import plotly.express as px\n",
        "\n",
        "data['com_2'] = clusters_com_2\n",
        "\n",
        "fig = px.scatter_3d(\n",
        "    data,\n",
        "    x='Income',\n",
        "    y='TotalSpent',\n",
        "    z='NumStorePurchases',\n",
        "    color='com_2',\n",
        "    title=\"Agglomerative Clustering (complete) - 2 Clusters\"\n",
        ")\n",
        "fig.show()\n",
        "\n",
        "data['com_3'] = clusters_com_3\n",
        "\n",
        "fig = px.scatter_3d(\n",
        "    data,\n",
        "    x='Income',\n",
        "    y='TotalSpent',\n",
        "    z='NumStorePurchases',\n",
        "    color='com_3',\n",
        "    title=\"Agglomerative Clustering (complete) - 3 Clusters\"\n",
        ")\n",
        "fig.show()"
      ],
      "metadata": {
        "colab": {
          "base_uri": "https://localhost:8080/",
          "height": 1000
        },
        "id": "5cNVPZ-mvLqx",
        "outputId": "a647d389-28a0-4295-bb3f-0a70f4f4ffb6"
      },
      "execution_count": 105,
      "outputs": [
        {
          "output_type": "display_data",
          "data": {
            "text/html": [
              "<html>\n",
              "<head><meta charset=\"utf-8\" /></head>\n",
              "<body>\n",
              "    <div>            <script src=\"https://cdnjs.cloudflare.com/ajax/libs/mathjax/2.7.5/MathJax.js?config=TeX-AMS-MML_SVG\"></script><script type=\"text/javascript\">if (window.MathJax && window.MathJax.Hub && window.MathJax.Hub.Config) {window.MathJax.Hub.Config({SVG: {font: \"STIX-Web\"}});}</script>                <script type=\"text/javascript\">window.PlotlyConfig = {MathJaxConfig: 'local'};</script>\n",
              "        <script charset=\"utf-8\" src=\"https://cdn.plot.ly/plotly-2.35.2.min.js\"></script>                <div id=\"5786505d-cdf0-4da6-b93a-702547133655\" class=\"plotly-graph-div\" style=\"height:525px; width:100%;\"></div>            <script type=\"text/javascript\">                                    window.PLOTLYENV=window.PLOTLYENV || {};                                    if (document.getElementById(\"5786505d-cdf0-4da6-b93a-702547133655\")) {                    Plotly.newPlot(                        \"5786505d-cdf0-4da6-b93a-702547133655\",                        [{\"hovertemplate\":\"Income=%{x}\\u003cbr\\u003eTotalSpent=%{y}\\u003cbr\\u003eNumStorePurchases=%{z}\\u003cbr\\u003ecom_2=%{marker.color}\\u003cextra\\u003e\\u003c\\u002fextra\\u003e\",\"legendgroup\":\"\",\"marker\":{\"color\":[2,1,2,1,2,2,2,1,1,1,1,1,2,2,1,2,1,1,2,1,1,1,2,2,1,1,2,1,1,2,1,1,1,1,2,1,2,1,1,1,2,1,1,1,1,2,1,1,1,2,2,2,1,2,2,2,2,1,1,2,2,2,2,2,2,1,1,2,2,2,2,1,2,2,1,1,2,2,1,2,1,1,1,1,2,1,1,1,2,2,1,1,1,1,1,1,1,1,2,1,1,1,2,2,2,1,1,2,1,2,2,2,2,2,1,1,2,1,1,1,2,1,1,1,2,2,2,2,1,2,2,2,2,1,1,2,1,1,1,1,2,2,2,2,1,2,1,1,1,1,2,2,1,1,2,2,1,2,2,2,1,2,1,2,2,1,2,1,2,1,1,1,1,2,1,2,2,1,1,2,1,1,2,1,1,1,1,2,2,1,1,2,1,1,1,1,2,2,2,1,2,2,2,2,1,1,1,1,1,2,1,2,1,1,2,1,1,2,1,2,1,2,2,1,2,1,1,1,2,1,1,2,1,1,2,1,1,2,1,2,2,2,1,2,2,1,2,2,2,2,1,1,2,1,2,1,2,1,1,1,1,2,1,1,1,1,2,1,2,1,2,1,2,1,1,2,2,2,2,2,1,1,1,2,1,1,2,1,2,1,1,1,2,1,1,2,1,1,2,2,1,2,1,1,1,2,1,2,2,1,1,1,1,2,2,1,1,2,1,1,2,1,1,2,1,2,1,1,2,1,1,1,2,1,1,2,2,1,2,2,2,1,2,2,1,2,1,2,1,1,2,2,2,2,2,1,1,2,2,1,2,2,1,1,1,2,2,1,2,2,1,1,1,2,1,1,1,1,2,1,1,1,1,1,1,1,1,2,1,2,2,2,2,1,2,2,1,1,1,1,1,2,1,1,2,1,1,2,1,1,1,2,2,1,2,2,1,2,2,1,1,1,1,2,2,1,2,2,1,2,2,1,2,2,1,1,2,1,1,1,1,2,1,1,1,1,1,2,1,2,2,2,1,2,2,1,2,1,1,2,2,2,1,2,1,2,2,1,2,1,2,1,2,1,1,2,1,2,2,1,1,1,1,1,2,2,2,2,1,1,2,1,2,2,2,2,2,2,2,2,1,1,1,2,1,2,2,2,1,2,1,2,1,2,1,2,1,1,2,2,1,2,1,2,1,1,2,1,2,1,1,2,2,2,1,1,1,2,2,1,1,1,1,2,2,1,2,1,1,1,1,1,2,1,2,1,2,2,1,2,1,2,2,2,1,1,2,1,1,1,1,1,1,2,1,2,1,1,1,2,1,1,1,1,1,1,2,2,2,1,1,2,2,1,2,1,1,1,1,1,1,2,2,2,1,1,1,1,1,2,1,1,1,1,1,1,1,2,2,1,2,1,2,1,2,1,2,2,1,1,2,2,2,1,2,1,2,2,2,2,2,2,2,1,2,1,2,2,2,2,2,1,2,1,1,2,2,1,2,1,2,1,2,1,1,1,1,1,1,2,2,2,2,2,2,1,2,2,1,2,2,2,1,1,2,2,2,2,2,2,1,2,1,1,1,2,1,1,1,2,2,2,2,2,1,2,1,1,2,1,1,2,1,2,1,2,2,1,2,1,2,2,1,2,1,1,2,2,2,2,1,2,2,1,2,2,2,2,1,2,2,1,1,1,2,2,1,2,1,2,2,1,2,2,2,2,2,2,1,1,1,2,2,1,2,1,2,2,1,2,2,2,1,1,1,1,1,2,1,2,2,1,1,1,1,1,1,1,1,1,2,2,1,1,1,1,2,2,2,1,2,1,1,2,1,1,2,2,2,2,1,1,2,2,2,2,1,1,2,1,2,1,2,1,2,2,2,1,2,1,2,1,2,1,1,2,1,2,1,2,1,1,1,1,2,2,2,2,1,1,1,2,2,1,1,2,1,2,1,2,1,1,1,1,1,2,1,1,2,1,2,2,1,1,2,2,1,1,2,1,1,1,1,1,2,2,1,1,1,2,1,1,2,1,1,2,2,2,1,1,2,2,2,2,2,2,2,1,1,1,2,2,1,1,2,2,2,2,1,2,1,2,1,1,2,1,2,2,2,2,2,1,2,1,2,1,2,2,2,2,2,2,2,2,1,1,2,2,1,2,1,1,1,1,1,1,2,2,2,2,2,2,1,1,1,2,2,1,1,1,2,1,1,2,2,2,2,2,1,2,1,1,1,2,2,2,2,2,2,1,2,1,1,2,2,1,2,1,2,1,2,2,2,1,1,1,2,2,1,1,2,1,1,1,1,2,2,2,1,1,1,1,2,1,1,2,1,1,1,2,2,2,2,1,2,1,1,1,1,1,2,1,1,2,1,1,1,2,1,1,2,1,2,1,1,2,1,2,2,2,2,2,1,1,2,1,2,2,1,2,1,2,2,1,1,2,2,1,1,1,2,1,2,1,2,2,1,2,1,2,2,1,2,1,2,2,2,2,1,2,2,2,1,2,1,2,1,1,2,2,2,2,2,2,1,2,1,1,1,1,2,1,1,1,1,1,2,1,1,2,2,1,1,2,2,1,1,2,1,1,2,1,1,1,2,1,1,2,2,1,2,2,1,2,2,1,1,2,2,2,1,2,2,2,1,2,1,1,2,2,1,1,2,2,1,1,1,2,1,2,1,1,2,1,1,1,1,2,1,1,2,2,2,2,1,2,1,2,2,2,2,2,1,1,2,1,2,1,1,1,1,2,2,2,2,1,2,1,2,1,1,1,2,1,1,2,2,1,2,1,1,1,1,1,1,2,2,2,1,1,1,2,2,2,1,1,1,1,1,2,2,2,2,2,2,2,2,2,1,2,1,2,2,1,1,2,2,1,1,2,2,2,1,2,1,2,1,1,2,1,2,1,1,1,1,1,2,1,2,2,1,1,1,1,1,2,1,2,2,1,2,2,1,1,2,2,1,2,2,2,2,2,1,2,2,1,1,1,1,1,2,1,2,1,1,2,1,1,1,2,1,1,2,2,2,1,2,1,1,1,1,1,2,1,1,1,1,1,2,2,2,2,1,2,2,2,1,2,2,1,2,1,2,1,2,2,1,1,1,2,2,1,1,1,2,1,2,1,2,1,1,2,1,1,1,2,1,1,1,2,2,1,1,1,1,2,1,1,2,1,2,2,1,1,1,1,1,2,2,1,2,2,1,2,1,2,1,1,1,1,1,2,2,2,1,1,1,1,1,1,1,1,2,1,2,1,2,1,1,1,1,1,1,2,2,1,2,2,2,2,1,2,2,1,1,2,1,1,2,1,2,2,1,1,1,1,1,2,1,2,1,1,1,2,2,1,2,2,1,2,2,2,1,1,2,2,2,2,2,1,2,1,2,2,1,2,1,2,2,2,2,1,1,2,1,2,2,1,2,2,2,1,2,2,1,1,2,1,1,1,2,2,1,1,1,2,2,1,2,1,2,2,2,1,1,1,1,2,2,2,1,2,2,1,1,1,1,1,2,1,2,2,2,2,2,1,1,1,1,2,1,1,1,2,1,1,2,2,2,2,2,1,2,1,1,1,1,2,1,2,1,2,2,1,2,1,1,2,1,2,1,2,1,1,2,1,1,1,2,1,2,2,2,1,1,2,2,1,2,2,2,1,2,1,1,2,1,2,2,2,1,1,2,1,2,2,1,1,1,1,2,1,2,1,1,2,1,2,1,1,1,2,2,1,2,1,2,2,2,2,1,2,1,2,1,1,1,2,1,2,1,1,2,1,1,1,2,1,2,2,1,2,2,2,2,1,1,1,1,1,2,1,1,1,1,1,2,2,2,2,1,2,1,1,1,2,1,2,1,2,2,1,1,2,1,1,2,1,2,2,2,2,1,2,1,1,2,1,1,2,1,2,2,2,1,1,1,1,2,2,1,1,1,2,2,2,2,2,2,1,2,1,1,2,2,2,1,2,2,2,2,1,1,1,1,1,1,1,1,2,2,1,2,2,1,2,1,2,1,1,1,1,2,2,1,1,1,1,1,2,1,1,2,2,1,1,1,1,2,2,1,1,2,1,1,1,2,1,2,2,2,2,2,1,1,2,1,1,2,2,1,1,2,2,2,1,2,2,1,1,2,1,1,2,2,1,2,2,2,1,1,1,2,1,2,1,2,1,2,2,1,2,1,2,2,2,1,1,2,1,2,1,2,2,2,2,2,1,2,2,2,1,2,2,2,2,1,1,1,2,1,2,1,2,1,1,1,2,2,2,2,1,1,2,1,2,1,2,2,1,2,2,1,2,2,1,1,2,2,2,1,1,2,1,1,2,2,1,1,1,2,2,2,2,1,2,1,1,1,1,1,2,2,2,2,1,2,2,2,2,2,2,1,1,2,1,2,2,1,1,2,1,1,2,1,2,2,2,1,1,1,2,2,2,2,2,1,1,2,2,2,2,1,1,1,2,2,2,2,2,2,1,1,1,2,1,1,1,1,1,1,1,2,2,2,1,2,1,1,2,2,1,2,2,1,2,2,2,1,2,1,1,1,1,1,1,2,1,2,2,2,1,2,1,2,1,1,1,1,1,1,1,1,2,2,1,1,1,1,1,2,2,1,2,1,2,2,2,1,2,1,2,1,1,1,1,2,2,2,2,1,2,2,1,1,1,2,2,2,1,1,1,2,1,2,2,1,2,1,1,2,2,1,1,2,2,1,1,1,1,1,1,1,2,1,2,2,2,1,1,2,1,2,2,1,1,2,2,2,2,2,2,1,2,1,1,2,2,1,2,2,1,1,1,1,2,1,2,2,1,1,1,1,2,1,2,2,2,2,1,1,2,2,1,2,2,1,1,2,1,1,1,1,1,2,2,1,1,2,1,1,2,1,1,1,1,1,1,2,2,2,2,1,2,1,1,2,2,2,1,2,2,2,2,2,2,2,1,2,1,1,1,1,1,2,2,2,2,2,1,2,1,1,2,2,1,1,2,1,1,1,2,1,2,1,1,2,1,1,1,1,2,1,2,1,1,1,2,1,1,2,2,1,1,2,2,2,2,1,1,1,1,1,1,2,2,2,2,2],\"coloraxis\":\"coloraxis\",\"symbol\":\"circle\"},\"mode\":\"markers\",\"name\":\"\",\"scene\":\"scene\",\"showlegend\":false,\"x\":[58138.0,46344.0,71613.0,26646.0,58293.0,62513.0,55635.0,33454.0,30351.0,5648.0,51381.5,7500.0,63033.0,59354.0,17323.0,82800.0,41850.0,37760.0,76995.0,33812.0,37040.0,2447.0,58607.0,65324.0,40689.0,18589.0,53359.0,51381.5,38360.0,84618.0,10979.0,38620.0,40548.0,46610.0,68657.0,49389.0,67353.0,23718.0,42429.0,48948.0,80011.0,20559.0,21994.0,51381.5,7500.0,79941.0,7500.0,41728.0,51381.5,72550.0,65486.0,79143.0,35790.0,82582.0,66373.0,82384.0,70287.0,27938.0,51381.5,55954.0,75777.0,66653.0,61823.0,67680.0,70666.0,25721.0,32474.0,88194.0,69096.0,74854.0,66991.0,51381.5,65031.0,60631.0,28332.0,40246.0,75251.0,75825.0,26326.0,56046.0,29760.0,26304.0,23559.0,38620.0,81361.0,29440.0,36138.0,50388.0,79593.0,54178.0,51381.5,51381.5,51381.5,42394.0,23626.0,30096.0,47916.0,51813.0,78497.0,50150.0,47823.0,34554.0,85693.0,65846.0,87195.0,24594.0,49096.0,52413.0,38557.0,89058.0,77298.0,68126.0,57288.0,86037.0,43974.0,50785.0,90765.0,36550.0,30753.0,21918.0,56129.0,32557.0,19510.0,30992.0,101970.0,71488.0,79607.0,54348.0,51381.5,77376.0,62998.0,61331.0,73448.0,51381.5,41551.0,62981.0,9548.0,33762.0,35860.0,36921.0,92859.0,65104.0,86111.0,68352.0,41883.0,59809.0,23957.0,38547.0,35688.0,49605.0,59354.0,65747.0,46344.0,34176.0,61010.0,69372.0,49967.0,60199.0,55375.0,80317.0,30523.0,70356.0,23228.0,74165.0,157243.0,43482.0,62551.0,52332.0,66951.0,26091.0,33456.0,28718.0,50447.0,53537.0,52074.0,80427.0,83837.0,38853.0,38285.0,78497.0,51650.0,16248.0,66835.0,30477.0,28249.0,25271.0,32303.0,61286.0,74068.0,45759.0,24882.0,66973.0,36640.0,38872.0,51148.0,31353.0,69661.0,80067.0,86718.0,46854.0,69142.0,75922.0,63693.0,102160.0,40637.0,18890.0,29604.0,48721.0,44794.0,64497.0,46097.0,77972.0,44377.0,46014.0,70951.0,41443.0,52195.0,83790.0,44551.0,69508.0,45204.0,72460.0,77622.0,30732.0,63887.0,42011.0,51369.0,51537.0,79930.0,34320.0,37070.0,81975.0,38590.0,15033.0,62745.0,22212.0,23661.0,79761.0,7500.0,60182.0,73455.0,64961.0,22804.0,73687.0,61074.0,31686.0,80134.0,75027.0,67546.0,65176.0,31160.0,29938.0,102692.0,26490.0,75702.0,30899.0,63342.0,45989.0,18701.0,40737.0,15287.0,69674.0,44159.0,37717.0,43776.0,38179.0,80124.0,38097.0,72940.0,22070.0,69267.0,31788.0,61905.0,29315.0,33378.0,66313.0,60714.0,77882.0,69867.0,63841.0,24480.0,51369.0,37760.0,65640.0,44319.0,30631.0,75278.0,50898.0,79946.0,35416.0,32414.0,38361.0,82497.0,16626.0,29672.0,55951.0,35388.0,42386.0,68627.0,57912.0,35246.0,58821.0,46377.0,39747.0,23976.0,80950.0,27038.0,77457.0,64100.0,42670.0,12571.0,22574.0,51381.5,70893.0,54198.0,28839.0,40321.0,66503.0,30833.0,51381.5,64795.0,34421.0,47025.0,64325.0,40464.0,62187.0,14849.0,27255.0,54432.0,29999.0,24072.0,33996.0,66334.0,35178.0,22010.0,62204.0,75693.0,30675.0,83003.0,83532.0,68655.0,41411.0,55212.0,59292.0,27190.0,82623.0,44300.0,84835.0,30372.0,33181.0,71113.0,71952.0,69759.0,72099.0,60000.0,38643.0,50737.0,68462.0,65073.0,46681.0,78618.0,62187.0,28442.0,37717.0,51479.0,54803.0,79530.0,31615.0,72025.0,52614.0,35684.0,48178.0,29548.0,63810.0,38578.0,46098.0,22585.0,30279.0,66426.0,30822.0,33581.0,19986.0,27421.0,35688.0,36143.0,10245.0,43795.0,63381.0,38823.0,83664.0,90300.0,62499.0,74293.0,51012.0,70777.0,68682.0,43824.0,15345.0,23442.0,14515.0,31395.0,75276.0,42373.0,30507.0,55521.0,48006.0,27213.0,65808.0,30351.0,50437.0,23616.0,53858.0,66465.0,46923.0,75072.0,75865.0,19789.0,80134.0,91065.0,49505.0,37401.0,30096.0,18492.0,82584.0,93027.0,48686.0,92910.0,75433.0,10404.0,61314.0,84865.0,42387.0,67309.0,75236.0,30015.0,50943.0,67272.0,51529.0,32011.0,7500.0,28691.0,56223.0,18100.0,30279.0,20130.0,23295.0,42618.0,81246.0,24027.0,55707.0,57959.0,56796.0,36230.0,70829.0,65991.0,38988.0,89572.0,42207.0,50300.0,66664.0,60597.0,70165.0,50520.0,80124.0,33183.0,66582.0,75261.0,31880.0,53790.0,49269.0,61456.0,37406.0,56937.0,38415.0,20518.0,62503.0,41644.0,55842.0,62010.0,41124.0,38961.0,37760.0,32233.0,43057.0,83151.0,78825.0,65104.0,60093.0,14045.0,28457.0,78952.0,46310.0,76005.0,58308.0,55614.0,59432.0,55563.0,78642.0,67911.0,65275.0,27203.0,48330.0,24279.0,64355.0,50943.0,53653.0,65665.0,81217.0,34935.0,61250.0,39665.0,60152.0,48920.0,89120.0,44124.0,81169.0,36443.0,26095.0,71367.0,80184.0,30630.0,73454.0,42691.0,70503.0,25545.0,32880.0,77863.0,50353.0,61839.0,49154.0,47682.0,72679.0,57954.0,65316.0,28567.0,47352.0,44931.0,76982.0,57247.0,22944.0,25315.0,43638.0,42710.0,84169.0,54058.0,24683.0,85620.0,47850.0,19514.0,27159.0,39548.0,21474.0,60504.0,22419.0,81698.0,43462.0,54880.0,79908.0,15315.0,87771.0,33039.0,81741.0,71499.0,62466.0,48799.0,52157.0,66565.0,29298.0,47691.0,38200.0,44989.0,38443.0,38593.0,64413.0,36959.0,61996.0,51287.0,13260.0,47472.0,54603.0,45207.0,40689.0,47821.0,27450.0,39453.0,26850.0,79800.0,61794.0,53863.0,24221.0,39684.0,92163.0,69882.0,33178.0,59973.0,17459.0,23910.0,42169.0,26224.0,31089.0,30081.0,62807.0,72906.0,61467.0,49618.0,21888.0,42429.0,26150.0,30801.0,81168.0,26877.0,45006.0,18978.0,22574.0,48240.0,45837.0,35791.0,162397.0,54162.0,30522.0,54456.0,31632.0,72298.0,36975.0,72635.0,13624.0,84196.0,70971.0,34487.0,28769.0,69084.0,65488.0,62466.0,32218.0,83917.0,46102.0,84574.0,56181.0,63120.0,73691.0,63381.0,76140.0,62859.0,45906.0,77632.0,46463.0,105471.0,55282.0,78710.0,66886.0,98777.0,29103.0,67445.0,50616.0,49431.0,153924.0,61278.0,26490.0,73059.0,46734.0,56253.0,19986.0,58330.0,25965.0,14661.0,18690.0,45068.0,21063.0,29187.0,54690.0,59304.0,59247.0,66731.0,77353.0,52614.0,26751.0,81300.0,70337.0,36145.0,65295.0,68118.0,68743.0,41039.0,38946.0,65777.0,66476.0,86857.0,160803.0,77845.0,69476.0,50611.0,61209.0,42315.0,13084.0,47570.0,61923.0,34824.0,26518.0,45938.0,78468.0,78901.0,71427.0,71022.0,90247.0,41335.0,71952.0,35682.0,43185.0,66375.0,35178.0,25252.0,55250.0,33249.0,58398.0,50272.0,76618.0,87305.0,25851.0,58710.0,45160.0,74806.0,59111.0,18988.0,72190.0,7500.0,44794.0,80395.0,75012.0,56962.0,89891.0,35946.0,53593.0,66373.0,45072.0,89694.0,72025.0,67432.0,70545.0,17487.0,62882.0,64108.0,34941.0,48767.0,38702.0,82224.0,83844.0,17003.0,71163.0,33697.0,63564.0,83443.0,51518.0,58330.0,80952.0,75507.0,63855.0,62220.0,58512.0,40662.0,38829.0,35523.0,79146.0,78285.0,31626.0,75127.0,48726.0,74985.0,67430.0,46891.0,62058.0,72063.0,78939.0,42720.0,33622.0,6835.0,41452.0,40760.0,74250.0,51124.0,72258.0,71466.0,36283.0,20587.0,30467.0,31590.0,20425.0,17144.0,42564.0,43783.0,40780.0,62847.0,82017.0,16813.0,51267.0,46524.0,45183.0,70421.0,60161.0,73926.0,19329.0,61872.0,46984.0,34838.0,82716.0,48192.0,49681.0,56850.0,55267.0,59666.0,72504.0,26872.0,21359.0,73170.0,52750.0,91820.0,65968.0,30772.0,22507.0,65685.0,25804.0,76412.0,22063.0,57091.0,22419.0,87771.0,78353.0,93404.0,37859.0,80995.0,16529.0,55412.0,48789.0,56575.0,25130.0,35441.0,71391.0,49494.0,81702.0,45889.0,56628.0,34026.0,40049.0,34176.0,19419.0,82504.0,81205.0,61618.0,55284.0,49980.0,15072.0,49166.0,65324.0,82347.0,30843.0,46374.0,60474.0,38576.0,55357.0,37758.0,85710.0,23228.0,44602.0,7500.0,38683.0,49514.0,57906.0,43456.0,19485.0,53172.0,30545.0,70123.0,62450.0,21675.0,42395.0,61346.0,80812.0,42835.0,39922.0,86424.0,17117.0,24762.0,35797.0,36627.0,51111.0,86857.0,82072.0,46231.0,42243.0,51195.0,68092.0,31814.0,51390.0,76630.0,26868.0,48948.0,55260.0,64090.0,78331.0,37087.0,21846.0,81320.0,54137.0,66825.0,57100.0,58917.0,85072.0,86429.0,45684.0,47889.0,45921.0,78420.0,75114.0,52278.0,35641.0,95529.0,62820.0,73113.0,84169.0,42607.0,74637.0,46015.0,72354.0,39858.0,34469.0,83033.0,24401.0,77583.0,74116.0,74293.0,68397.0,79632.0,46107.0,64950.0,25443.0,75127.0,32892.0,71796.0,67536.0,55239.0,60554.0,64831.0,56067.0,82025.0,94384.0,14906.0,51563.0,57937.0,68274.0,39771.0,67893.0,27922.0,52190.0,44051.0,42767.0,46106.0,16927.0,59754.0,53700.0,59041.0,54237.0,70647.0,52597.0,41021.0,40233.0,50183.0,54753.0,92955.0,33471.0,34596.0,44010.0,84219.0,40706.0,15716.0,59052.0,80573.0,83715.0,82576.0,56962.0,35704.0,53103.0,46779.0,4861.0,33462.0,63693.0,80763.0,65352.0,82170.0,75759.0,79689.0,35340.0,85683.0,24884.0,42021.0,64449.0,64587.0,34824.0,75437.0,26091.0,52845.0,46086.0,78028.0,95169.0,56337.0,22434.0,36930.0,36130.0,65569.0,83844.0,19514.0,36736.0,77568.0,49187.0,30168.0,34053.0,38196.0,59412.0,70924.0,54165.0,32300.0,20180.0,34961.0,28440.0,64504.0,33564.0,17345.0,56320.0,28647.0,15038.0,32173.0,68316.0,74538.0,91700.0,68695.0,31056.0,79593.0,28071.0,37334.0,46423.0,37126.0,47703.0,61180.0,38998.0,8028.0,76081.0,34728.0,33168.0,33585.0,77037.0,35196.0,44529.0,70924.0,28764.0,69098.0,25959.0,27100.0,70596.0,42557.0,53312.0,72228.0,67605.0,62845.0,65196.0,42000.0,35860.0,65526.0,16860.0,83528.0,64176.0,22304.0,67023.0,32892.0,70713.0,59925.0,39722.0,46610.0,88347.0,87171.0,26907.0,50014.0,41014.0,66294.0,36715.0,79456.0,40479.0,75345.0,54233.0,24163.0,84460.0,43776.0,71691.0,85844.0,39190.0,71367.0,38578.0,57236.0,61825.0,79803.0,80910.0,27590.0,56775.0,83829.0,54210.0,38508.0,53187.0,30023.0,76045.0,50870.0,15315.0,65463.0,66480.0,76773.0,81698.0,54466.0,98777.0,16269.0,71819.0,33569.0,36262.0,22634.0,47025.0,70566.0,31605.0,52034.0,48526.0,46734.0,39552.0,86358.0,46931.0,16581.0,63998.0,67381.0,25930.0,42693.0,85606.0,72903.0,49669.0,36778.0,85696.0,10979.0,49678.0,56129.0,37155.0,21282.0,33419.0,63285.0,21255.0,42162.0,54450.0,57744.0,26576.0,57513.0,68142.0,7500.0,83145.0,54197.0,23091.0,46049.0,56715.0,79410.0,57304.0,44375.0,54450.0,59594.0,80685.0,40344.0,62710.0,48985.0,35322.0,77142.0,81657.0,14421.0,20130.0,74214.0,66726.0,23724.0,47353.0,33444.0,54386.0,28510.0,90638.0,48070.0,43140.0,54959.0,15056.0,26954.0,22327.0,44393.0,62000.0,31497.0,45894.0,78579.0,67369.0,58401.0,62307.0,43641.0,63841.0,46891.0,70091.0,78075.0,59184.0,54809.0,58113.0,51412.0,15287.0,66636.0,50965.0,84618.0,18351.0,40451.0,36317.0,42213.0,65748.0,77044.0,74918.0,56721.0,42160.0,61559.0,33629.0,68682.0,34377.0,8940.0,26228.0,77297.0,40211.0,33438.0,75032.0,61284.0,22518.0,54730.0,38452.0,44421.0,38197.0,41986.0,28427.0,37395.0,64722.0,55249.0,84906.0,28691.0,44213.0,25707.0,59062.0,76624.0,66000.0,27683.0,1730.0,7500.0,40521.0,20427.0,65106.0,69969.0,67433.0,77766.0,74716.0,68118.0,55158.0,62972.0,74190.0,39356.0,76653.0,35860.0,90687.0,73450.0,31454.0,47139.0,83829.0,53378.0,19656.0,45579.0,85485.0,55956.0,64191.0,38808.0,57183.0,23748.0,66303.0,37368.0,40800.0,71847.0,46149.0,78687.0,49118.0,37633.0,39767.0,26997.0,33986.0,57091.0,46831.0,83151.0,52531.0,15759.0,22804.0,43050.0,42997.0,48918.0,60033.0,34043.0,57811.0,78569.0,7500.0,157733.0,94384.0,23148.0,44267.0,71626.0,60894.0,50200.0,81051.0,65169.0,59868.0,65695.0,64857.0,45143.0,74805.0,59060.0,27238.0,47009.0,46094.0,40321.0,37235.0,81843.0,46692.0,77382.0,37774.0,18393.0,72828.0,24711.0,45503.0,6560.0,71604.0,27244.0,48752.0,71434.0,90842.0,88097.0,51948.0,71853.0,35876.0,40049.0,39660.0,50127.0,43263.0,62845.0,18929.0,24367.0,33249.0,26887.0,50150.0,62061.0,85696.0,76542.0,70515.0,18227.0,69139.0,69109.0,69627.0,38136.0,62159.0,80695.0,33316.0,58554.0,17256.0,53034.0,52203.0,59601.0,75154.0,47025.0,37971.0,41335.0,67267.0,57338.0,50523.0,35791.0,50611.0,56242.0,48904.0,56243.0,21355.0,57420.0,51381.5,46390.0,54342.0,51381.5,51381.5,20895.0,92344.0,51381.5,26907.0,44964.0,75507.0,53761.0,22682.0,38887.0,41658.0,29791.0,63915.0,39996.0,26759.0,63841.0,51039.0,60544.0,65685.0,37716.0,36864.0,44511.0,36947.0,47352.0,67087.0,57045.0,36957.0,69389.0,80134.0,43142.0,80589.0,34412.0,57537.0,22634.0,51315.0,36026.0,24639.0,34578.0,65704.0,63810.0,54132.0,18690.0,28164.0,34596.0,43269.0,38741.0,31907.0,27100.0,31163.0,92533.0,34853.0,70844.0,31086.0,60544.0,20491.0,42523.0,39922.0,33402.0,36408.0,21645.0,78427.0,82657.0,51876.0,78041.0,52852.0,70038.0,69401.0,46053.0,77343.0,73892.0,40304.0,32727.0,68695.0,43300.0,26290.0,93790.0,38410.0,64866.0,57957.0,46015.0,16531.0,28072.0,49476.0,50725.0,83844.0,41145.0,67419.0,23162.0,34380.0,34704.0,94871.0,65148.0,39898.0,64857.0,59892.0,41020.0,57072.0,60474.0,62807.0,19414.0,19107.0,75484.0,70379.0,79419.0,64014.0,76998.0,49854.0,60585.0,42873.0,87679.0,57867.0,35765.0,65492.0,32952.0,53374.0,71706.0,68487.0,53253.0,31163.0,42014.0,54108.0,49667.0,63206.0,57136.0,46772.0,78931.0,53977.0,84219.0,46098.0,73538.0,79529.0,20981.0,51766.0,55759.0,33039.0,37787.0,27242.0,87188.0,69930.0,37697.0,37401.0,3502.0,58597.0,82032.0,28087.0,74004.0,19740.0,57036.0,53083.0,69283.0,46098.0,23331.0,23331.0,9255.0,67786.0,71969.0,59235.0,31928.0,74881.0,65819.0,51411.0,51983.0,42386.0,30390.0,30983.0,66033.0,37284.0,57530.0,76800.0,63943.0,76081.0,67445.0,37054.0,47175.0,31859.0,27215.0,70179.0,39922.0,49681.0,24645.0,79865.0,44322.0,47958.0,63972.0,75315.0,55517.0,75283.0,82800.0,38998.0,90638.0,27161.0,42014.0,38201.0,45203.0,81574.0,34935.0,60482.0,34633.0,78093.0,82460.0,45903.0,81361.0,35860.0,40442.0,61482.0,34968.0,75794.0,31497.0,74268.0,13724.0,45143.0,52569.0,48432.0,17144.0,36108.0,76445.0,36663.0,53843.0,90226.0,70638.0,44512.0,27116.0,54072.0,71855.0,51250.0,60432.0,65526.0,68655.0,12393.0,64509.0,33955.0,31353.0,55434.0,28359.0,57100.0,69139.0,52973.0,51717.0,18793.0,66664.0,50664.0,54414.0,54549.0,47111.0,41003.0,19444.0,36301.0,73059.0,42731.0,52854.0,22775.0,46681.0,59821.0,50002.0,69755.0,44078.0,30560.0,35924.0,64140.0,56386.0,24594.0,75774.0,39228.0,58494.0,58684.0,57136.0,56551.0,22448.0,82014.0,34213.0,157146.0,25358.0,35544.0,36634.0,62670.0,50334.0,72066.0,50729.0,34916.0,64892.0,43602.0,33996.0,41473.0,63246.0,36732.0,69084.0,77766.0,37929.0,86610.0,80141.0,72635.0,69016.0,20193.0,27573.0,15862.0,49544.0,33228.0,70440.0,38232.0,22554.0,23536.0,49413.0,42231.0,78789.0,56534.0,58350.0,81217.0,49090.0,61787.0,18169.0,24336.0,18222.0,62335.0,42033.0,86580.0,41437.0,73705.0,61064.0,38452.0,18358.0,55012.0,9722.0,38175.0,58656.0,52117.0,64813.0,54222.0,83512.0,77520.0,41154.0,80398.0,18746.0,35196.0,60230.0,22108.0,44392.0,55424.0,17688.0,92491.0,90273.0,82571.0,38513.0,16653.0,42586.0,23529.0,74881.0,71107.0,46910.0,18690.0,37244.0,82427.0,75342.0,70044.0,79146.0,77437.0,54984.0,42403.0,55761.0,37292.0,45576.0,70321.0,58086.0,81795.0,28389.0,66835.0,69901.0,80360.0,63342.0,44989.0,31859.0,51569.0,30372.0,16014.0,41120.0,39763.0,38725.0,77981.0,62905.0,13533.0,59481.0,72117.0,21955.0,67131.0,36802.0,71853.0,28249.0,47808.0,25509.0,51012.0,70596.0,85431.0,42664.0,42586.0,29760.0,28973.0,39435.0,65370.0,20194.0,42473.0,64590.0,71232.0,34600.0,46904.0,49094.0,36075.0,60839.0,77298.0,34026.0,48918.0,82122.0,37697.0,34074.0,28520.0,62535.0,36273.0,63404.0,75774.0,78416.0,75702.0,59385.0,37070.0,44689.0,53977.0,7144.0,18701.0,90369.0,63159.0,37758.0,46757.0,79734.0,63207.0,72071.0,21840.0,58582.0,72282.0,50387.0,32583.0,62568.0,44635.0,33316.0,63967.0,52513.0,25293.0,54111.0,78394.0,80739.0,22669.0,29236.0,44911.0,54693.0,48186.0,54809.0,41580.0,80336.0,47743.0,62972.0,57333.0,32313.0,84953.0,27071.0,68148.0,65735.0,86836.0,4023.0,30093.0,57705.0,25008.0,83257.0,22280.0,72159.0,64260.0,82733.0,74290.0,58217.0,21024.0,70116.0,54006.0,69063.0,11448.0,61825.0,70886.0,69109.0,60208.0,32889.0,34738.0,30538.0,82326.0,26642.0,69932.0,44503.0,60200.0,49638.0,23830.0,33051.0,72905.0,69702.0,70300.0,70643.0,30396.0,50616.0,62772.0,30298.0,52413.0,44155.0,86979.0,76532.0,42081.0,67546.0,88420.0,31158.0,61671.0,69719.0,49160.0,24882.0,90933.0,113734.0,59292.0,45759.0,22148.0,73395.0,29819.0,45688.0,62820.0,60491.0,33235.0,35701.0,31535.0,92556.0,67384.0,80573.0,77870.0,52278.0,57107.0,18929.0,36038.0,20180.0,34230.0,31878.0,70932.0,91249.0,77598.0,80982.0,22701.0,55212.0,70617.0,64849.0,62694.0,61917.0,67472.0,21059.0,29543.0,75903.0,34984.0,54998.0,54356.0,34242.0,25410.0,73356.0,28320.0,23763.0,72570.0,34529.0,70792.0,63211.0,83891.0,36065.0,39898.0,51141.0,56939.0,80872.0,72335.0,61798.0,76842.0,29478.0,46998.0,96843.0,56551.0,70053.0,71670.0,44359.0,40887.0,48877.0,74485.0,64474.0,77226.0,72643.0,85738.0,55686.0,39062.0,34600.0,40794.0,54690.0,4428.0,32632.0,38236.0,36781.0,31385.0,24570.0,25509.0,94642.0,58646.0,53201.0,21994.0,57113.0,51373.0,23477.0,58116.0,72968.0,39791.0,91712.0,94472.0,13672.0,96547.0,79205.0,56559.0,32644.0,67506.0,24206.0,28420.0,22979.0,33279.0,46423.0,30368.0,63684.0,41638.0,68805.0,65814.0,71964.0,39146.0,96876.0,34445.0,68281.0,37284.0,36790.0,27943.0,22263.0,30261.0,28587.0,43815.0,48195.0,77027.0,71322.0,32765.0,29672.0,23272.0,49912.0,7500.0,68117.0,67225.0,17649.0,55914.0,40059.0,60905.0,75330.0,60689.0,38680.0,61416.0,49767.0,83273.0,29009.0,45057.0,37150.0,43020.0,53154.0,65308.0,76467.0,81044.0,32871.0,55801.0,76320.0,36927.0,48794.0,23478.0,71128.0,70179.0,59462.0,51381.5,38361.0,51381.5,70038.0,42554.0,67445.0,67046.0,42192.0,77610.0,31761.0,34350.0,54591.0,71866.0,25293.0,42000.0,69520.0,64713.0,27889.0,22123.0,51381.5,51381.5,27803.0,51381.5,51651.0,68487.0,51381.5,56796.0,87000.0,79823.0,30828.0,34109.0,53367.0,22390.0,71322.0,79244.0,49912.0,48699.0,80144.0,54252.0,81929.0,76068.0,53204.0,67911.0,14796.0,78128.0,14188.0,20425.0,58646.0,72967.0,48150.0,82332.0,58275.0,44953.0,34587.0,43018.0,45736.0,66476.0,27733.0,69805.0,72217.0,25818.0,37509.0,25176.0,43586.0,53230.0,50116.0,84906.0,61286.0,82333.0,65220.0,33590.0,30992.0,72309.0,156924.0,16005.0,65487.0,58692.0,40590.0,20587.0,62637.0,29435.0,19346.0,35788.0,36997.0,23539.0,65333.0,78499.0,29732.0,41275.0,63516.0,42769.0,49572.0,69209.0,17148.0,40590.0,30560.0,32146.0,41713.0,34176.0,58482.0,59686.0,60896.0,62994.0,47320.0,74859.0,15253.0,31560.0,72071.0,91172.0,90000.0,41967.0,69263.0,65706.0,60934.0,71965.0,65210.0,79174.0,81380.0,48432.0,52914.0,38946.0,26067.0,44325.0,42523.0,26487.0,53233.0,67716.0,76234.0,84117.0,65487.0,25224.0,89616.0,40851.0,27469.0,82347.0,73803.0,8820.0,43322.0,55593.0,50501.0,37085.0,16185.0,57731.0,48432.0,73807.0,18929.0,35893.0,61014.0,32144.0,14918.0,45146.0,41769.0,88325.0,38054.0,80617.0,5305.0,36807.0,28427.0,82032.0,22775.0,40101.0,58025.0,75777.0,7500.0,33562.0,57642.0,58554.0,63777.0,57967.0,51381.5,24434.0,11012.0,44802.0,26816.0,34421.0,61223.0,64014.0,56981.0,69245.0,52869.0],\"y\":[1617,27,776,53,422,716,590,169,46,49,19,61,1102,310,46,1315,96,317,1782,133,316,1730,972,544,444,75,257,637,131,1672,30,318,120,302,1196,65,913,81,67,902,1395,53,22,186,31,984,122,55,124,1319,507,1693,72,1617,606,1957,1093,29,46,518,1438,612,884,606,1076,34,11,1274,653,1562,1253,109,863,661,65,13,1890,2209,18,692,165,16,79,318,778,56,151,372,1366,194,603,18,985,32,43,45,606,63,978,410,72,55,1169,1120,1097,29,187,910,145,850,969,1820,608,730,551,114,1724,577,81,33,660,80,30,43,1135,559,1923,90,404,661,463,632,725,725,279,1482,29,106,49,38,2077,1053,1385,871,312,877,68,22,211,127,459,460,429,89,1021,1381,306,18,162,1231,13,1706,121,1293,1608,88,421,259,1117,89,36,57,148,93,119,1835,1318,45,10,978,191,57,1033,66,43,50,39,608,1581,68,80,1282,65,91,315,31,834,1600,1270,263,535,1295,1150,1240,38,35,53,293,65,1804,241,1101,264,541,1198,482,17,1615,285,1135,114,1047,714,185,1245,189,576,1103,1753,17,433,1588,22,19,1117,69,23,605,57,22,2088,1009,26,1627,1102,17,1690,1390,2126,1531,64,26,1112,210,1148,33,1101,322,44,17,31,845,275,25,275,90,1495,184,981,67,1635,60,231,48,99,770,957,818,925,908,102,576,317,461,37,70,930,859,1478,390,52,137,1919,68,25,1374,32,100,825,916,62,728,90,273,66,1213,107,1157,546,241,53,37,1611,1508,235,32,102,401,28,1052,680,30,20,1307,630,1283,65,37,38,160,23,71,1161,59,33,946,1442,62,1674,1853,1538,139,1182,507,18,940,42,1190,44,16,835,1443,1029,1188,1277,49,99,1670,900,425,2153,636,57,25,494,693,1348,51,1932,990,30,254,29,1371,73,120,81,37,1377,51,17,22,324,211,19,41,492,1005,114,1173,1738,222,1127,209,787,1598,186,47,27,96,64,1040,163,343,446,41,70,272,46,490,79,915,1485,369,1073,1242,78,1378,1474,751,48,45,10,1435,2119,20,1795,1188,43,1008,1688,684,1082,1068,57,46,733,467,122,36,34,156,14,37,34,20,192,1379,48,428,868,1001,59,431,971,348,2059,265,270,1289,893,926,135,1495,120,1288,1743,15,542,890,1388,17,906,44,25,973,31,518,530,506,70,54,296,266,747,895,1053,735,20,205,2092,309,1722,900,682,663,43,1816,976,746,64,32,263,1445,46,1210,945,1157,137,730,216,943,347,1924,397,2089,138,42,777,1902,52,1651,358,1727,210,42,1291,442,1895,411,521,1168,493,260,46,319,96,1062,232,76,54,201,406,1919,662,41,1600,134,69,21,54,91,526,162,1008,240,795,1772,64,1957,78,1572,795,889,331,265,1065,11,21,17,369,38,177,279,62,1230,182,49,75,227,215,444,47,143,55,63,1867,611,473,55,81,2086,1478,49,382,69,67,30,63,79,42,819,1151,594,129,213,67,28,45,1193,268,266,37,37,882,373,35,107,42,326,404,95,939,33,981,36,1237,1825,103,191,1586,963,889,93,1587,16,1375,393,1477,1179,1005,1348,1307,486,2252,235,1724,235,1092,599,2008,48,1174,67,365,6,165,210,1095,223,597,22,1064,74,26,60,20,59,34,198,1048,574,1029,670,990,11,1241,576,172,664,928,2074,467,257,1146,689,2114,1717,1346,1044,493,957,270,29,121,126,23,57,636,1004,734,614,1453,1621,187,1443,57,637,948,59,18,903,112,596,233,1511,1152,48,1185,21,965,869,16,1947,71,65,1380,1027,411,836,11,480,606,284,1472,1677,1335,334,18,1338,1099,97,63,109,902,1574,38,960,28,1215,1497,449,1064,1757,1440,1006,1226,1171,92,99,66,564,1427,86,833,242,1869,1364,183,450,758,1507,654,81,137,16,93,1158,43,1525,1230,29,25,24,38,57,47,813,629,377,1612,729,50,270,177,315,767,1071,1580,60,573,41,170,1167,1526,458,63,405,1027,1478,72,48,726,860,1497,495,20,570,769,55,1808,55,577,162,1957,1576,1616,36,1482,22,63,680,542,50,39,1043,385,1633,46,761,76,290,89,70,1066,2009,1345,764,195,53,368,544,1853,35,446,1180,41,727,40,1062,40,292,15,341,369,401,393,10,486,69,1727,995,45,182,989,1677,595,156,1226,128,86,68,16,55,2114,2018,263,55,564,1281,83,353,1003,14,902,1139,797,1638,401,84,928,203,858,409,282,1423,1449,28,67,199,1453,1253,1198,178,1990,976,1001,1919,350,1650,46,1228,95,62,1761,467,1149,2052,1127,1416,1113,125,966,32,833,46,960,1829,779,811,1120,725,1187,2302,66,1250,683,305,50,995,41,77,171,131,54,53,475,694,96,361,1079,578,64,149,231,728,1778,93,23,662,1198,81,92,491,1564,926,1910,411,94,1085,23,6,54,1150,1415,405,1908,2486,1315,45,1789,19,573,805,108,23,1493,89,936,343,528,1901,724,58,297,488,859,1574,69,17,2194,116,279,103,44,406,1363,236,39,137,79,63,1314,71,58,702,94,80,22,1211,1461,1968,1091,55,1366,313,62,92,72,655,704,54,178,1033,36,122,122,1123,497,691,1363,12,2440,56,37,968,270,278,1250,938,1178,1155,653,49,506,38,1650,1826,18,906,46,1477,766,47,467,2116,1298,22,396,20,967,357,1401,15,2087,981,17,523,23,1192,1958,133,777,73,121,424,868,756,12,937,1862,367,443,267,61,1323,63,64,562,312,1156,1104,16,2008,44,1574,63,426,96,635,757,125,332,135,330,384,1722,78,24,1168,957,15,57,1956,2013,326,77,1313,30,315,660,74,46,86,1103,61,145,684,411,27,1060,1459,18,1833,237,48,515,1020,1370,1026,301,684,499,1004,218,606,75,106,990,1097,16,34,1711,438,75,225,18,470,91,2525,504,235,1232,88,17,24,60,1020,155,51,1812,1461,96,160,139,908,183,1161,988,1072,174,758,195,31,1084,685,1672,43,49,133,363,545,1065,2047,296,140,530,152,1598,114,101,25,789,87,90,1215,811,61,405,72,189,40,63,52,39,805,130,1631,34,152,21,71,899,711,351,8,119,21,10,973,1536,992,1529,860,928,418,587,641,23,2279,49,1779,1804,48,83,1862,793,84,183,1383,999,825,246,610,76,1286,30,99,1192,362,2130,1229,38,485,434,44,496,78,2346,794,17,26,76,15,62,198,49,802,1736,57,59,2302,37,310,1305,832,401,1501,1189,1194,656,1540,311,820,274,57,448,44,102,61,1643,397,1121,473,50,1678,58,170,373,1196,101,316,1400,1424,844,311,1149,129,32,299,320,441,1178,85,24,112,30,410,800,1313,1483,1258,28,227,1555,861,103,634,1918,131,586,62,447,939,797,1143,415,30,187,251,237,91,35,493,971,371,396,68,322,317,222,177,45,21,45,1899,42,22,41,1440,325,95,42,72,20,789,15,59,908,417,289,769,188,354,727,146,319,794,454,152,797,1690,20,1428,209,545,96,222,61,44,8,817,1371,42,60,78,23,19,61,449,37,38,1131,34,294,48,289,30,125,156,70,22,65,1930,2283,310,1319,879,1244,690,209,1134,1507,57,529,1091,180,77,2349,534,556,637,46,44,47,795,586,1574,13,1471,65,175,40,1078,1115,134,1540,87,217,1034,1180,819,32,46,1159,860,1631,444,1910,380,736,269,2524,612,75,1045,55,1064,1443,1366,436,38,436,747,1396,928,642,1048,943,907,1198,120,1658,1638,73,275,854,78,106,106,1923,1662,84,48,5,733,1234,112,1658,55,1513,271,904,120,103,269,22,1156,1086,1128,72,964,1383,18,793,100,80,167,677,23,92,641,1106,1033,1174,25,240,20,102,1034,156,458,17,792,92,407,1269,841,633,1019,1315,54,2525,52,436,268,147,1798,137,507,15,1105,974,66,778,49,169,299,221,1682,155,892,58,311,95,424,47,339,1410,35,562,2352,1334,32,41,39,1141,710,401,506,1538,57,1722,270,31,882,16,311,227,1152,122,77,1289,561,211,233,1092,601,54,78,1095,244,116,15,425,734,638,894,41,31,34,1750,612,29,823,20,396,813,1179,138,55,1511,117,1730,32,67,335,825,694,1792,496,231,902,68,71,76,772,47,1586,1529,265,1603,2091,981,1533,82,244,36,404,71,1572,122,41,10,304,37,1754,815,1001,1157,688,1319,21,31,67,708,25,746,32,1695,1080,72,57,660,103,153,1220,279,745,264,2157,1526,69,1597,64,497,1067,31,211,877,11,2034,1991,1686,324,69,252,54,964,1327,68,60,55,1456,563,1504,564,1125,358,42,184,460,145,1376,792,1382,28,1033,882,2231,1101,369,48,467,44,38,81,167,45,664,622,48,461,1073,55,976,20,1149,43,224,101,209,968,1165,24,252,165,269,102,461,47,144,1338,917,318,253,502,119,1250,969,76,62,1382,84,255,43,398,76,902,823,1179,1921,185,433,34,907,416,44,1588,1797,40,1143,914,1502,1338,27,763,1331,525,9,953,68,131,882,1149,37,388,1428,1633,173,99,215,929,219,174,92,1052,275,587,1662,159,1024,35,1042,395,557,9,69,486,34,1365,13,1401,1574,1323,1217,103,84,1536,581,928,14,424,960,1555,656,55,20,367,2257,42,1049,48,685,39,43,835,1515,1039,1596,1828,34,149,946,28,450,46,1702,820,382,2126,2069,72,732,801,236,80,1685,277,507,68,49,397,39,306,976,1028,70,46,51,1263,1490,1564,1815,1198,416,85,47,137,21,70,909,1676,1735,1191,24,1182,1280,1336,749,91,414,44,63,901,38,455,775,15,38,1512,43,42,1089,162,1272,1173,816,74,134,157,561,1336,2092,463,1130,20,377,1544,138,1012,1766,45,161,144,1734,823,1138,1429,1371,982,44,318,434,198,359,576,88,63,27,193,101,2211,140,415,22,263,393,147,443,1958,174,2217,1691,25,809,895,484,413,331,25,13,115,16,92,52,1464,441,283,747,1870,165,1941,839,1655,23,66,37,21,22,78,79,265,1175,1305,46,25,46,874,100,930,868,45,1260,414,392,1109,639,79,1665,692,1392,44,50,467,223,158,1211,1575,1208,43,527,932,71,54,129,1615,1034,1088,721,137,47,1244,41,1174,993,100,1680,98,48,519,715,37,653,1455,602,26,102,97,207,176,450,433,1366,1564,1001,961,1518,56,22,400,26,350,1216,874,40,1367,264,2053,1376,45,976,51,1264,75,57,140,497,266,2006,615,1021,22,133,437,1013,57,1038,1573,28,123,13,132,732,66,1631,608,1822,1282,8,43,1931,8,103,1169,395,258,25,185,180,22,44,94,81,798,1334,38,61,300,88,54,1782,68,258,31,66,174,28,731,274,1701,312,414,1565,29,94,1338,1092,1479,54,568,1199,873,1213,731,2043,1893,424,575,257,56,542,125,69,40,1016,907,1566,1169,46,1644,59,17,1853,1528,35,141,546,500,61,106,704,424,849,85,199,1147,54,43,53,521,1623,45,1435,32,16,52,1234,15,415,470,1438,53,51,679,586,653,468,1679,50,84,1049,22,30,1341,444,1241,843,172],\"z\":[4,2,10,4,6,10,7,4,2,0,2,3,8,5,3,12,3,6,9,3,5,0,9,9,5,3,4,0,4,10,3,3,4,6,9,3,12,2,3,5,5,3,3,4,3,9,3,2,4,12,10,13,3,7,10,13,10,4,3,6,11,12,10,8,4,2,2,10,10,5,6,3,13,8,4,2,5,9,3,8,4,2,3,3,13,4,4,6,7,5,8,2,8,3,3,3,6,3,12,7,3,3,11,6,5,3,4,12,3,4,11,5,8,11,6,3,5,5,3,3,10,3,3,3,13,7,6,4,7,10,5,6,9,7,5,13,3,2,2,3,12,7,10,9,3,6,3,2,4,4,7,6,5,4,11,6,5,3,6,10,2,9,4,10,0,4,4,6,7,3,3,3,3,3,2,8,5,3,3,12,4,3,13,3,3,2,4,8,9,3,2,12,2,3,6,2,12,6,5,3,7,9,9,10,3,2,3,5,3,9,6,9,5,8,9,5,2,6,5,11,4,7,11,4,12,4,4,11,8,2,8,4,2,3,11,4,3,11,3,2,10,4,2,9,8,3,6,6,5,6,3,3,13,5,11,3,5,7,4,2,2,10,6,2,4,3,8,2,6,2,5,4,4,4,4,12,10,5,8,9,4,4,6,8,3,2,13,12,5,5,3,3,9,3,3,11,3,3,6,12,3,9,3,4,3,9,3,10,6,4,3,3,12,10,6,3,3,6,3,10,12,2,2,5,8,5,4,3,3,4,2,3,5,2,3,12,6,3,8,4,11,4,11,8,2,4,3,6,3,2,9,8,5,10,5,3,4,8,5,4,10,10,4,2,6,9,11,3,8,8,3,4,2,12,3,2,2,3,10,3,2,3,6,4,2,2,4,13,3,12,8,6,6,4,12,10,4,2,3,3,3,9,5,4,6,3,4,5,2,8,3,6,12,7,8,10,3,11,9,8,3,3,2,8,5,2,13,10,4,12,9,7,9,13,4,3,12,5,4,3,3,5,3,3,3,2,4,7,3,9,11,7,4,8,10,6,9,5,8,6,8,11,3,8,3,9,5,2,8,12,13,2,9,3,2,11,3,8,7,4,2,3,2,5,4,13,7,10,3,4,12,5,13,3,6,11,3,4,11,13,2,3,3,12,3,12,8,11,4,12,3,12,5,7,5,9,3,3,7,10,3,6,6,9,3,3,10,6,4,8,8,5,6,5,3,5,3,4,7,3,3,4,3,6,8,4,4,4,2,3,3,2,8,2,13,5,11,7,4,4,4,7,13,12,7,5,9,2,2,2,5,3,3,5,3,8,3,3,4,4,6,5,3,3,3,4,5,10,7,3,2,5,9,3,7,2,3,3,3,4,3,12,9,10,3,2,3,3,3,7,6,7,3,3,13,5,3,1,3,9,7,2,6,3,6,3,7,5,3,4,13,6,12,3,7,2,11,7,9,8,13,6,6,4,6,6,13,6,12,7,9,3,12,4,5,0,4,5,13,3,9,3,13,3,3,2,2,3,3,5,10,9,6,8,8,2,5,12,3,13,4,13,5,6,6,11,10,1,12,4,7,4,4,3,2,4,2,3,6,10,5,8,11,7,4,8,3,6,5,2,2,10,3,8,5,5,8,3,9,2,5,8,3,4,2,3,12,11,5,8,3,6,10,4,4,13,4,7,2,6,11,3,3,4,5,11,4,12,2,7,5,10,13,11,6,13,5,8,3,2,3,8,10,2,5,4,7,12,4,7,12,6,7,4,1,2,3,4,3,5,10,3,2,2,3,3,4,4,8,5,4,7,3,5,5,7,7,8,12,3,9,3,4,13,12,7,3,6,8,6,2,3,6,9,12,7,2,4,9,3,8,3,7,2,4,11,7,3,4,3,3,7,7,3,3,12,5,12,3,5,3,6,4,3,7,7,8,8,5,3,3,9,10,2,7,12,3,11,3,10,3,4,3,6,4,8,8,2,8,3,4,4,3,4,10,5,4,4,12,3,2,3,3,3,10,13,4,3,5,10,3,5,11,2,5,5,4,7,8,3,10,4,6,6,6,10,7,2,3,6,8,5,10,4,7,6,7,6,7,9,3,6,4,4,10,6,9,10,6,5,9,4,10,3,5,3,4,11,11,9,5,7,6,5,3,10,9,5,3,9,3,3,4,2,2,4,6,8,4,5,13,8,3,5,6,11,9,4,2,6,10,4,4,7,13,13,12,5,4,7,2,0,3,9,6,8,7,9,13,3,10,3,6,12,4,2,10,3,6,8,9,4,4,3,4,4,10,11,2,2,8,5,4,3,4,8,7,7,3,4,3,3,4,3,2,9,2,2,3,10,5,5,7,3,7,5,4,4,2,8,6,3,0,4,2,4,4,12,5,11,7,2,9,2,3,12,4,5,8,6,10,11,11,2,8,3,8,8,2,13,3,8,9,3,6,9,11,3,8,2,5,4,4,3,6,5,3,4,2,5,7,4,7,3,4,8,5,8,2,10,6,7,5,6,3,11,3,4,9,7,11,5,2,9,3,5,2,3,2,6,9,4,5,4,5,5,6,3,3,11,9,2,3,9,8,6,3,9,3,4,10,4,2,4,13,4,3,8,4,2,13,7,2,11,6,3,9,4,5,10,6,8,7,10,5,12,3,4,8,8,2,3,5,4,3,6,2,10,4,10,6,5,4,3,2,3,4,13,4,3,4,10,2,4,4,9,4,10,5,12,5,8,4,2,9,5,10,3,2,4,7,10,11,6,5,4,10,4,10,2,3,2,9,2,4,9,8,2,8,3,4,3,4,3,3,11,4,12,3,5,3,3,7,5,4,0,2,2,2,13,6,13,11,5,4,5,3,11,2,11,2,8,11,3,2,6,6,3,4,6,4,13,4,7,3,11,2,3,9,7,8,10,3,7,5,3,5,2,10,10,2,2,4,2,4,5,2,11,4,3,1,5,3,4,8,8,5,12,13,12,10,10,5,10,7,3,8,3,3,2,12,5,12,3,3,13,3,4,1,5,2,5,7,13,8,4,6,3,3,3,6,6,10,4,2,3,3,7,7,9,10,4,2,5,7,11,2,10,5,4,6,2,7,11,7,6,5,3,4,5,5,4,3,7,11,4,8,2,6,6,3,4,3,2,3,5,3,3,3,6,3,4,3,2,3,12,2,3,9,4,5,9,3,4,8,4,5,8,9,2,12,6,2,5,3,8,2,5,3,4,2,10,12,3,2,4,2,2,3,6,3,3,11,3,5,2,5,2,4,4,3,2,3,10,10,8,9,5,8,5,4,9,8,3,5,7,4,4,12,9,7,8,3,3,3,5,8,11,3,8,3,3,3,4,7,4,10,3,4,13,12,12,3,3,6,13,4,5,8,5,9,4,10,9,4,13,3,9,7,13,5,3,6,9,5,6,10,5,13,12,10,2,9,9,2,4,8,4,3,3,6,12,3,3,0,9,7,2,4,3,13,5,13,2,3,5,2,6,9,12,4,12,10,3,10,3,3,3,7,3,4,7,6,4,12,3,4,2,4,13,4,7,2,5,3,5,10,12,6,5,12,3,10,3,6,5,3,8,4,7,2,5,6,3,13,2,4,6,5,12,4,5,2,5,4,6,4,4,13,3,3,12,10,3,3,2,11,4,5,8,11,3,9,5,2,13,2,7,5,9,4,4,6,6,5,4,10,8,2,3,13,5,4,2,4,7,7,12,3,3,3,6,7,3,8,3,6,12,7,4,3,12,2,0,3,3,5,13,6,6,7,3,12,2,3,3,12,4,13,11,5,6,10,6,13,4,4,3,8,3,7,3,4,3,5,3,5,7,12,11,9,6,2,2,3,13,2,5,3,8,11,3,4,9,3,4,13,4,10,5,10,7,4,12,3,5,6,3,4,9,2,12,7,13,5,3,6,2,12,13,3,2,2,12,10,5,8,13,6,3,3,5,3,13,7,7,2,13,10,5,5,5,3,7,3,4,3,2,4,7,8,3,8,9,3,12,3,6,3,3,3,4,12,7,3,6,4,5,2,13,3,4,10,10,5,4,6,4,12,11,3,4,13,3,3,2,8,3,4,8,10,13,4,8,2,12,1,4,6,8,3,7,6,6,8,3,9,9,8,2,5,3,4,12,9,2,6,5,9,2,3,4,13,4,5,3,13,6,3,9,4,4,3,6,6,6,0,3,6,3,12,2,10,4,7,10,4,4,12,7,5,2,8,4,7,7,3,3,4,6,3,11,3,11,3,3,8,9,10,13,4,2,4,11,3,7,2,5,7,4,5,8,3,6,5,6,2,4,0,8,3,3,6,3,8,6,7,3,3,2,13,5,13,5,10,8,4,3,4,2,4,12,6,13,11,3,11,7,6,7,4,7,3,2,9,3,9,8,3,4,5,3,3,12,3,10,7,10,3,4,4,10,10,8,9,7,3,5,10,4,10,6,4,3,4,12,10,12,7,11,5,3,5,5,5,0,8,4,2,2,4,3,9,4,5,3,5,3,4,8,8,4,11,5,3,8,4,8,6,6,3,2,2,3,4,3,8,3,7,10,5,4,9,8,13,3,2,3,3,3,4,3,5,6,13,4,3,3,7,3,4,11,3,8,3,7,12,10,3,10,8,9,3,3,6,4,4,12,5,10,3,6,4,3,3,3,12,13,12,4,3,3,8,3,12,4,3,4,4,3,8,10,2,11,5,7,2,3,3,4,4,5,5,13,11,7,7,7,4,3,8,2,7,7,7,3,8,5,10,4,3,11,3,6,4,3,4,8,4,12,7,13,3,2,6,10,3,11,8,2,4,2,4,12,4,12,8,10,7,2,3,8,0,2,6,4,3,2,5,2,3,3,4,4,8,4,2,3,7,4,3,6,3,3,3,4,4,3,9,6,4,4,8,11,3,3,8,7,5,3,7,12,11,5,8,7,10,6,3,6,3,7,4,3,3,13,11,6,6,3,12,2,3,10,6,3,4,3,4,3,2,6,6,11,4,5,4,3,3,2,7,9,3,8,0,2,3,7,2,6,10,11,2,4,6,6,6,8,1,2,2,12,3,2,4,5,13,10,4],\"type\":\"scatter3d\"}],                        {\"template\":{\"data\":{\"histogram2dcontour\":[{\"type\":\"histogram2dcontour\",\"colorbar\":{\"outlinewidth\":0,\"ticks\":\"\"},\"colorscale\":[[0.0,\"#0d0887\"],[0.1111111111111111,\"#46039f\"],[0.2222222222222222,\"#7201a8\"],[0.3333333333333333,\"#9c179e\"],[0.4444444444444444,\"#bd3786\"],[0.5555555555555556,\"#d8576b\"],[0.6666666666666666,\"#ed7953\"],[0.7777777777777778,\"#fb9f3a\"],[0.8888888888888888,\"#fdca26\"],[1.0,\"#f0f921\"]]}],\"choropleth\":[{\"type\":\"choropleth\",\"colorbar\":{\"outlinewidth\":0,\"ticks\":\"\"}}],\"histogram2d\":[{\"type\":\"histogram2d\",\"colorbar\":{\"outlinewidth\":0,\"ticks\":\"\"},\"colorscale\":[[0.0,\"#0d0887\"],[0.1111111111111111,\"#46039f\"],[0.2222222222222222,\"#7201a8\"],[0.3333333333333333,\"#9c179e\"],[0.4444444444444444,\"#bd3786\"],[0.5555555555555556,\"#d8576b\"],[0.6666666666666666,\"#ed7953\"],[0.7777777777777778,\"#fb9f3a\"],[0.8888888888888888,\"#fdca26\"],[1.0,\"#f0f921\"]]}],\"heatmap\":[{\"type\":\"heatmap\",\"colorbar\":{\"outlinewidth\":0,\"ticks\":\"\"},\"colorscale\":[[0.0,\"#0d0887\"],[0.1111111111111111,\"#46039f\"],[0.2222222222222222,\"#7201a8\"],[0.3333333333333333,\"#9c179e\"],[0.4444444444444444,\"#bd3786\"],[0.5555555555555556,\"#d8576b\"],[0.6666666666666666,\"#ed7953\"],[0.7777777777777778,\"#fb9f3a\"],[0.8888888888888888,\"#fdca26\"],[1.0,\"#f0f921\"]]}],\"heatmapgl\":[{\"type\":\"heatmapgl\",\"colorbar\":{\"outlinewidth\":0,\"ticks\":\"\"},\"colorscale\":[[0.0,\"#0d0887\"],[0.1111111111111111,\"#46039f\"],[0.2222222222222222,\"#7201a8\"],[0.3333333333333333,\"#9c179e\"],[0.4444444444444444,\"#bd3786\"],[0.5555555555555556,\"#d8576b\"],[0.6666666666666666,\"#ed7953\"],[0.7777777777777778,\"#fb9f3a\"],[0.8888888888888888,\"#fdca26\"],[1.0,\"#f0f921\"]]}],\"contourcarpet\":[{\"type\":\"contourcarpet\",\"colorbar\":{\"outlinewidth\":0,\"ticks\":\"\"}}],\"contour\":[{\"type\":\"contour\",\"colorbar\":{\"outlinewidth\":0,\"ticks\":\"\"},\"colorscale\":[[0.0,\"#0d0887\"],[0.1111111111111111,\"#46039f\"],[0.2222222222222222,\"#7201a8\"],[0.3333333333333333,\"#9c179e\"],[0.4444444444444444,\"#bd3786\"],[0.5555555555555556,\"#d8576b\"],[0.6666666666666666,\"#ed7953\"],[0.7777777777777778,\"#fb9f3a\"],[0.8888888888888888,\"#fdca26\"],[1.0,\"#f0f921\"]]}],\"surface\":[{\"type\":\"surface\",\"colorbar\":{\"outlinewidth\":0,\"ticks\":\"\"},\"colorscale\":[[0.0,\"#0d0887\"],[0.1111111111111111,\"#46039f\"],[0.2222222222222222,\"#7201a8\"],[0.3333333333333333,\"#9c179e\"],[0.4444444444444444,\"#bd3786\"],[0.5555555555555556,\"#d8576b\"],[0.6666666666666666,\"#ed7953\"],[0.7777777777777778,\"#fb9f3a\"],[0.8888888888888888,\"#fdca26\"],[1.0,\"#f0f921\"]]}],\"mesh3d\":[{\"type\":\"mesh3d\",\"colorbar\":{\"outlinewidth\":0,\"ticks\":\"\"}}],\"scatter\":[{\"fillpattern\":{\"fillmode\":\"overlay\",\"size\":10,\"solidity\":0.2},\"type\":\"scatter\"}],\"parcoords\":[{\"type\":\"parcoords\",\"line\":{\"colorbar\":{\"outlinewidth\":0,\"ticks\":\"\"}}}],\"scatterpolargl\":[{\"type\":\"scatterpolargl\",\"marker\":{\"colorbar\":{\"outlinewidth\":0,\"ticks\":\"\"}}}],\"bar\":[{\"error_x\":{\"color\":\"#2a3f5f\"},\"error_y\":{\"color\":\"#2a3f5f\"},\"marker\":{\"line\":{\"color\":\"#E5ECF6\",\"width\":0.5},\"pattern\":{\"fillmode\":\"overlay\",\"size\":10,\"solidity\":0.2}},\"type\":\"bar\"}],\"scattergeo\":[{\"type\":\"scattergeo\",\"marker\":{\"colorbar\":{\"outlinewidth\":0,\"ticks\":\"\"}}}],\"scatterpolar\":[{\"type\":\"scatterpolar\",\"marker\":{\"colorbar\":{\"outlinewidth\":0,\"ticks\":\"\"}}}],\"histogram\":[{\"marker\":{\"pattern\":{\"fillmode\":\"overlay\",\"size\":10,\"solidity\":0.2}},\"type\":\"histogram\"}],\"scattergl\":[{\"type\":\"scattergl\",\"marker\":{\"colorbar\":{\"outlinewidth\":0,\"ticks\":\"\"}}}],\"scatter3d\":[{\"type\":\"scatter3d\",\"line\":{\"colorbar\":{\"outlinewidth\":0,\"ticks\":\"\"}},\"marker\":{\"colorbar\":{\"outlinewidth\":0,\"ticks\":\"\"}}}],\"scattermapbox\":[{\"type\":\"scattermapbox\",\"marker\":{\"colorbar\":{\"outlinewidth\":0,\"ticks\":\"\"}}}],\"scatterternary\":[{\"type\":\"scatterternary\",\"marker\":{\"colorbar\":{\"outlinewidth\":0,\"ticks\":\"\"}}}],\"scattercarpet\":[{\"type\":\"scattercarpet\",\"marker\":{\"colorbar\":{\"outlinewidth\":0,\"ticks\":\"\"}}}],\"carpet\":[{\"aaxis\":{\"endlinecolor\":\"#2a3f5f\",\"gridcolor\":\"white\",\"linecolor\":\"white\",\"minorgridcolor\":\"white\",\"startlinecolor\":\"#2a3f5f\"},\"baxis\":{\"endlinecolor\":\"#2a3f5f\",\"gridcolor\":\"white\",\"linecolor\":\"white\",\"minorgridcolor\":\"white\",\"startlinecolor\":\"#2a3f5f\"},\"type\":\"carpet\"}],\"table\":[{\"cells\":{\"fill\":{\"color\":\"#EBF0F8\"},\"line\":{\"color\":\"white\"}},\"header\":{\"fill\":{\"color\":\"#C8D4E3\"},\"line\":{\"color\":\"white\"}},\"type\":\"table\"}],\"barpolar\":[{\"marker\":{\"line\":{\"color\":\"#E5ECF6\",\"width\":0.5},\"pattern\":{\"fillmode\":\"overlay\",\"size\":10,\"solidity\":0.2}},\"type\":\"barpolar\"}],\"pie\":[{\"automargin\":true,\"type\":\"pie\"}]},\"layout\":{\"autotypenumbers\":\"strict\",\"colorway\":[\"#636efa\",\"#EF553B\",\"#00cc96\",\"#ab63fa\",\"#FFA15A\",\"#19d3f3\",\"#FF6692\",\"#B6E880\",\"#FF97FF\",\"#FECB52\"],\"font\":{\"color\":\"#2a3f5f\"},\"hovermode\":\"closest\",\"hoverlabel\":{\"align\":\"left\"},\"paper_bgcolor\":\"white\",\"plot_bgcolor\":\"#E5ECF6\",\"polar\":{\"bgcolor\":\"#E5ECF6\",\"angularaxis\":{\"gridcolor\":\"white\",\"linecolor\":\"white\",\"ticks\":\"\"},\"radialaxis\":{\"gridcolor\":\"white\",\"linecolor\":\"white\",\"ticks\":\"\"}},\"ternary\":{\"bgcolor\":\"#E5ECF6\",\"aaxis\":{\"gridcolor\":\"white\",\"linecolor\":\"white\",\"ticks\":\"\"},\"baxis\":{\"gridcolor\":\"white\",\"linecolor\":\"white\",\"ticks\":\"\"},\"caxis\":{\"gridcolor\":\"white\",\"linecolor\":\"white\",\"ticks\":\"\"}},\"coloraxis\":{\"colorbar\":{\"outlinewidth\":0,\"ticks\":\"\"}},\"colorscale\":{\"sequential\":[[0.0,\"#0d0887\"],[0.1111111111111111,\"#46039f\"],[0.2222222222222222,\"#7201a8\"],[0.3333333333333333,\"#9c179e\"],[0.4444444444444444,\"#bd3786\"],[0.5555555555555556,\"#d8576b\"],[0.6666666666666666,\"#ed7953\"],[0.7777777777777778,\"#fb9f3a\"],[0.8888888888888888,\"#fdca26\"],[1.0,\"#f0f921\"]],\"sequentialminus\":[[0.0,\"#0d0887\"],[0.1111111111111111,\"#46039f\"],[0.2222222222222222,\"#7201a8\"],[0.3333333333333333,\"#9c179e\"],[0.4444444444444444,\"#bd3786\"],[0.5555555555555556,\"#d8576b\"],[0.6666666666666666,\"#ed7953\"],[0.7777777777777778,\"#fb9f3a\"],[0.8888888888888888,\"#fdca26\"],[1.0,\"#f0f921\"]],\"diverging\":[[0,\"#8e0152\"],[0.1,\"#c51b7d\"],[0.2,\"#de77ae\"],[0.3,\"#f1b6da\"],[0.4,\"#fde0ef\"],[0.5,\"#f7f7f7\"],[0.6,\"#e6f5d0\"],[0.7,\"#b8e186\"],[0.8,\"#7fbc41\"],[0.9,\"#4d9221\"],[1,\"#276419\"]]},\"xaxis\":{\"gridcolor\":\"white\",\"linecolor\":\"white\",\"ticks\":\"\",\"title\":{\"standoff\":15},\"zerolinecolor\":\"white\",\"automargin\":true,\"zerolinewidth\":2},\"yaxis\":{\"gridcolor\":\"white\",\"linecolor\":\"white\",\"ticks\":\"\",\"title\":{\"standoff\":15},\"zerolinecolor\":\"white\",\"automargin\":true,\"zerolinewidth\":2},\"scene\":{\"xaxis\":{\"backgroundcolor\":\"#E5ECF6\",\"gridcolor\":\"white\",\"linecolor\":\"white\",\"showbackground\":true,\"ticks\":\"\",\"zerolinecolor\":\"white\",\"gridwidth\":2},\"yaxis\":{\"backgroundcolor\":\"#E5ECF6\",\"gridcolor\":\"white\",\"linecolor\":\"white\",\"showbackground\":true,\"ticks\":\"\",\"zerolinecolor\":\"white\",\"gridwidth\":2},\"zaxis\":{\"backgroundcolor\":\"#E5ECF6\",\"gridcolor\":\"white\",\"linecolor\":\"white\",\"showbackground\":true,\"ticks\":\"\",\"zerolinecolor\":\"white\",\"gridwidth\":2}},\"shapedefaults\":{\"line\":{\"color\":\"#2a3f5f\"}},\"annotationdefaults\":{\"arrowcolor\":\"#2a3f5f\",\"arrowhead\":0,\"arrowwidth\":1},\"geo\":{\"bgcolor\":\"white\",\"landcolor\":\"#E5ECF6\",\"subunitcolor\":\"white\",\"showland\":true,\"showlakes\":true,\"lakecolor\":\"white\"},\"title\":{\"x\":0.05},\"mapbox\":{\"style\":\"light\"}}},\"scene\":{\"domain\":{\"x\":[0.0,1.0],\"y\":[0.0,1.0]},\"xaxis\":{\"title\":{\"text\":\"Income\"}},\"yaxis\":{\"title\":{\"text\":\"TotalSpent\"}},\"zaxis\":{\"title\":{\"text\":\"NumStorePurchases\"}}},\"coloraxis\":{\"colorbar\":{\"title\":{\"text\":\"com_2\"}},\"colorscale\":[[0.0,\"#0d0887\"],[0.1111111111111111,\"#46039f\"],[0.2222222222222222,\"#7201a8\"],[0.3333333333333333,\"#9c179e\"],[0.4444444444444444,\"#bd3786\"],[0.5555555555555556,\"#d8576b\"],[0.6666666666666666,\"#ed7953\"],[0.7777777777777778,\"#fb9f3a\"],[0.8888888888888888,\"#fdca26\"],[1.0,\"#f0f921\"]]},\"legend\":{\"tracegroupgap\":0},\"title\":{\"text\":\"Agglomerative Clustering (complete) - 2 Clusters\"}},                        {\"responsive\": true}                    ).then(function(){\n",
              "                            \n",
              "var gd = document.getElementById('5786505d-cdf0-4da6-b93a-702547133655');\n",
              "var x = new MutationObserver(function (mutations, observer) {{\n",
              "        var display = window.getComputedStyle(gd).display;\n",
              "        if (!display || display === 'none') {{\n",
              "            console.log([gd, 'removed!']);\n",
              "            Plotly.purge(gd);\n",
              "            observer.disconnect();\n",
              "        }}\n",
              "}});\n",
              "\n",
              "// Listen for the removal of the full notebook cells\n",
              "var notebookContainer = gd.closest('#notebook-container');\n",
              "if (notebookContainer) {{\n",
              "    x.observe(notebookContainer, {childList: true});\n",
              "}}\n",
              "\n",
              "// Listen for the clearing of the current output cell\n",
              "var outputEl = gd.closest('.output');\n",
              "if (outputEl) {{\n",
              "    x.observe(outputEl, {childList: true});\n",
              "}}\n",
              "\n",
              "                        })                };                            </script>        </div>\n",
              "</body>\n",
              "</html>"
            ]
          },
          "metadata": {}
        },
        {
          "output_type": "display_data",
          "data": {
            "text/html": [
              "<html>\n",
              "<head><meta charset=\"utf-8\" /></head>\n",
              "<body>\n",
              "    <div>            <script src=\"https://cdnjs.cloudflare.com/ajax/libs/mathjax/2.7.5/MathJax.js?config=TeX-AMS-MML_SVG\"></script><script type=\"text/javascript\">if (window.MathJax && window.MathJax.Hub && window.MathJax.Hub.Config) {window.MathJax.Hub.Config({SVG: {font: \"STIX-Web\"}});}</script>                <script type=\"text/javascript\">window.PlotlyConfig = {MathJaxConfig: 'local'};</script>\n",
              "        <script charset=\"utf-8\" src=\"https://cdn.plot.ly/plotly-2.35.2.min.js\"></script>                <div id=\"b6d2be59-d163-49c1-97b7-cbeff1a7e46a\" class=\"plotly-graph-div\" style=\"height:525px; width:100%;\"></div>            <script type=\"text/javascript\">                                    window.PLOTLYENV=window.PLOTLYENV || {};                                    if (document.getElementById(\"b6d2be59-d163-49c1-97b7-cbeff1a7e46a\")) {                    Plotly.newPlot(                        \"b6d2be59-d163-49c1-97b7-cbeff1a7e46a\",                        [{\"hovertemplate\":\"Income=%{x}\\u003cbr\\u003eTotalSpent=%{y}\\u003cbr\\u003eNumStorePurchases=%{z}\\u003cbr\\u003ecom_3=%{marker.color}\\u003cextra\\u003e\\u003c\\u002fextra\\u003e\",\"legendgroup\":\"\",\"marker\":{\"color\":[3,1,3,1,3,3,3,1,1,1,1,1,3,3,1,3,1,1,3,1,1,1,3,3,1,1,3,1,1,3,1,1,1,1,3,1,3,1,1,1,3,1,1,1,1,3,1,1,1,3,3,3,1,3,3,3,3,1,1,3,3,3,3,3,3,1,1,3,3,3,3,1,3,3,1,1,3,3,1,3,1,1,1,1,3,1,1,1,3,3,1,1,1,1,1,1,1,1,3,1,1,1,3,3,3,1,1,3,1,3,3,3,3,3,1,1,3,1,1,1,3,1,1,1,3,3,3,3,1,3,3,3,3,1,1,3,1,1,1,1,3,3,3,3,1,3,1,1,1,1,3,3,1,1,3,3,1,3,3,3,1,3,1,3,2,1,3,1,3,1,1,1,1,3,1,3,3,1,1,3,1,1,3,1,1,1,1,3,3,1,1,3,1,1,1,1,3,3,3,1,3,3,3,3,1,1,1,1,1,3,1,3,1,1,3,1,1,3,1,3,1,3,3,1,3,1,1,1,3,1,1,3,1,1,3,1,1,3,1,3,3,3,1,3,3,1,3,3,3,3,1,1,3,1,3,1,3,1,1,1,1,3,1,1,1,1,3,1,3,1,3,1,3,1,1,3,3,3,3,3,1,1,1,3,1,1,3,1,3,1,1,1,3,1,1,3,1,1,3,3,1,3,1,1,1,3,1,3,3,1,1,1,1,3,3,1,1,3,1,1,3,1,1,3,1,3,1,1,3,1,1,1,3,1,1,3,3,1,3,3,3,1,3,3,1,3,1,3,1,1,3,3,3,3,3,1,1,3,3,1,3,3,1,1,1,3,3,1,3,3,1,1,1,3,1,1,1,1,3,1,1,1,1,1,1,1,1,3,1,3,3,3,3,1,3,3,1,1,1,1,1,3,1,1,3,1,1,3,1,1,1,3,3,1,3,3,1,3,3,1,1,1,1,3,3,1,3,3,1,3,3,1,3,3,1,1,3,1,1,1,1,3,1,1,1,1,1,3,1,3,3,3,1,3,3,1,3,1,1,3,3,3,1,3,1,3,3,1,3,1,3,1,3,1,1,3,1,3,3,1,1,1,1,1,3,3,3,3,1,1,3,1,3,3,3,3,3,3,3,3,1,1,1,3,1,3,3,3,1,3,1,3,1,3,1,3,1,1,3,3,1,3,1,3,1,1,3,1,3,1,1,3,3,3,1,1,1,3,3,1,1,1,1,3,3,1,3,1,1,1,1,1,3,1,3,1,3,3,1,3,1,3,3,3,1,1,3,1,1,1,1,1,1,3,1,3,1,1,1,3,1,1,1,1,1,1,3,3,3,1,1,3,3,1,3,1,1,1,1,1,1,3,3,3,1,1,1,1,1,3,1,1,1,1,1,1,1,2,3,1,3,1,3,1,3,1,3,3,1,1,3,3,3,1,3,1,3,3,3,3,3,3,3,1,3,1,3,3,3,3,3,1,3,1,1,2,3,1,3,1,3,1,3,1,1,1,1,1,1,3,3,3,3,3,3,1,3,3,1,3,3,3,1,1,3,3,3,2,3,3,1,3,1,1,1,3,1,1,1,3,3,3,3,3,1,3,1,1,3,1,1,3,1,3,1,3,3,1,3,1,3,3,1,3,1,1,3,3,3,3,1,3,3,1,3,3,3,3,1,3,3,1,1,1,3,3,1,3,1,3,3,1,3,3,3,3,3,3,1,1,1,3,3,1,3,1,3,3,1,3,3,3,1,1,1,1,1,3,1,3,3,1,1,1,1,1,1,1,1,1,3,3,1,1,1,1,3,3,3,1,3,1,1,3,1,1,3,3,3,3,1,1,3,3,3,3,1,1,3,1,3,1,3,1,3,3,3,1,3,1,3,1,3,1,1,3,1,3,1,3,1,1,1,1,3,3,3,3,1,1,1,3,3,1,1,3,1,3,1,3,1,1,1,1,1,3,1,1,3,1,3,3,1,1,3,3,1,1,3,1,1,1,1,1,3,3,1,1,1,3,1,1,3,1,1,3,3,3,1,1,3,3,3,3,3,3,3,1,1,1,3,3,1,1,3,3,3,3,1,3,1,3,1,1,3,1,3,3,3,3,3,1,3,1,3,1,3,3,3,3,3,3,3,3,1,1,3,3,1,3,1,1,1,1,1,1,3,3,3,3,3,3,1,1,1,3,3,1,1,1,3,1,1,3,3,3,3,3,1,3,1,1,1,3,3,3,3,3,3,1,3,1,1,3,3,1,3,1,3,1,3,3,3,1,1,1,3,3,1,1,3,1,1,1,1,3,3,3,1,1,1,1,3,1,1,3,1,1,1,3,3,3,3,1,3,1,1,1,1,1,3,1,1,3,1,1,1,3,1,1,3,1,3,1,1,3,1,3,3,3,3,3,1,1,3,1,3,3,1,3,1,3,3,1,1,3,3,1,1,1,3,1,3,1,3,3,1,3,1,3,3,1,3,1,3,3,3,3,1,3,3,3,1,3,1,3,1,1,3,3,3,3,3,3,1,3,1,1,1,1,3,1,1,1,1,1,3,1,1,3,3,1,1,3,3,1,1,3,1,1,3,1,1,1,3,1,1,3,3,1,3,3,1,3,3,1,1,3,3,3,1,3,3,3,1,3,1,1,3,3,1,1,3,3,1,1,1,3,1,3,1,1,3,1,1,1,1,3,1,1,3,3,3,3,1,3,1,3,3,3,3,3,1,1,3,1,3,1,1,1,1,3,3,3,3,1,3,1,3,1,1,1,3,1,1,3,3,1,3,1,1,1,1,1,1,3,3,3,1,1,1,3,3,3,1,1,1,1,1,3,3,3,3,3,3,3,3,3,1,3,1,3,3,1,1,3,3,1,1,3,3,3,1,3,1,3,1,1,3,1,3,1,1,1,1,1,3,1,3,3,1,1,1,1,1,3,1,3,3,1,2,3,1,1,3,3,1,3,3,3,3,3,1,3,3,1,1,1,1,1,3,1,3,1,1,3,1,1,1,3,1,1,3,3,3,1,3,1,1,1,1,1,3,1,1,1,1,1,3,3,3,3,1,3,3,3,1,3,3,1,3,1,3,1,3,3,1,1,1,3,3,1,1,1,3,1,3,1,3,1,1,3,1,1,1,3,1,1,1,3,3,1,1,1,1,3,1,1,3,1,3,3,1,1,1,1,1,3,3,1,3,3,1,3,1,3,1,1,1,1,1,3,3,3,1,1,1,1,1,1,1,1,3,1,3,1,3,1,1,1,1,1,1,3,3,1,3,3,3,3,1,3,3,1,1,3,1,1,3,1,3,3,1,1,1,1,1,3,1,3,1,1,1,3,3,1,3,3,1,3,3,3,1,1,3,3,3,3,3,1,3,1,3,3,1,3,1,3,3,3,3,1,1,3,1,3,3,1,3,3,3,1,3,3,1,1,3,1,1,1,3,3,1,1,1,3,3,1,3,1,3,3,3,1,1,1,1,3,3,3,1,3,3,1,1,1,1,1,3,1,3,3,3,3,3,1,1,1,1,3,1,1,1,3,1,1,3,3,3,3,3,1,3,1,1,1,1,3,1,3,1,3,3,1,3,1,1,3,1,3,1,3,1,1,3,1,1,1,3,1,3,3,3,1,1,3,3,1,3,3,3,1,3,1,1,3,1,3,3,3,1,1,3,1,3,3,1,1,1,1,3,1,3,1,1,3,1,3,1,1,1,3,3,1,3,1,3,3,3,3,1,3,1,2,1,1,1,3,1,3,1,1,3,1,1,1,3,1,3,3,1,3,3,3,3,1,1,1,1,1,3,1,1,1,1,1,3,3,3,3,1,3,1,1,1,3,1,3,1,3,3,1,1,3,1,1,3,1,3,3,3,3,1,3,1,1,3,1,1,3,1,3,3,3,1,1,1,1,3,3,1,1,1,3,3,3,3,3,3,1,3,1,1,3,3,3,1,3,3,3,3,1,1,1,1,1,1,1,1,3,3,1,3,3,1,3,1,3,1,1,1,1,3,3,1,1,1,1,1,3,1,1,3,3,1,1,1,1,3,3,1,1,3,1,1,1,3,1,3,3,3,3,3,1,1,3,1,1,3,3,1,1,3,3,3,1,3,3,1,1,3,1,1,3,3,1,3,3,3,1,1,1,3,1,3,1,3,1,3,3,1,3,1,3,3,3,1,1,3,1,3,1,3,3,3,3,3,1,3,3,3,1,3,3,3,3,1,1,1,3,1,3,1,3,1,1,1,3,3,3,3,1,1,3,1,3,1,3,3,1,3,3,1,3,3,1,1,3,3,3,1,1,3,1,1,3,3,1,1,1,3,3,3,3,1,3,1,1,1,1,1,3,3,3,3,1,3,3,3,3,3,3,1,1,3,1,3,3,1,1,3,1,1,3,1,3,3,3,1,1,1,3,3,3,3,3,1,1,3,3,3,3,1,1,1,3,3,3,3,3,3,1,1,1,3,1,1,1,1,1,1,1,3,3,3,1,3,1,1,3,3,1,3,3,1,3,3,3,1,3,1,1,1,1,1,1,3,1,3,3,3,1,3,1,3,1,1,1,1,1,1,1,1,3,3,1,1,1,1,1,3,3,1,3,1,3,3,3,1,3,1,3,1,1,1,1,3,3,3,3,1,3,3,1,1,1,3,3,3,1,1,1,3,1,3,3,1,3,1,1,3,3,1,1,3,3,1,1,1,1,1,1,1,3,1,3,3,3,1,1,3,1,3,3,1,1,3,3,3,3,3,3,1,3,1,1,3,3,1,3,3,1,1,1,1,3,1,3,3,1,1,1,1,3,1,3,3,3,3,1,1,3,2,1,3,3,1,1,3,1,1,1,1,1,3,3,1,1,3,1,1,3,1,1,1,1,1,1,3,3,3,3,1,3,1,1,3,3,3,1,3,3,3,3,3,3,3,1,3,1,1,1,1,1,3,3,3,3,3,1,3,1,1,3,3,1,1,3,1,1,1,3,1,3,1,1,3,1,1,1,1,3,1,3,1,1,1,3,1,1,3,3,1,1,3,3,3,3,1,1,1,1,1,1,3,3,3,3,3],\"coloraxis\":\"coloraxis\",\"symbol\":\"circle\"},\"mode\":\"markers\",\"name\":\"\",\"scene\":\"scene\",\"showlegend\":false,\"x\":[58138.0,46344.0,71613.0,26646.0,58293.0,62513.0,55635.0,33454.0,30351.0,5648.0,51381.5,7500.0,63033.0,59354.0,17323.0,82800.0,41850.0,37760.0,76995.0,33812.0,37040.0,2447.0,58607.0,65324.0,40689.0,18589.0,53359.0,51381.5,38360.0,84618.0,10979.0,38620.0,40548.0,46610.0,68657.0,49389.0,67353.0,23718.0,42429.0,48948.0,80011.0,20559.0,21994.0,51381.5,7500.0,79941.0,7500.0,41728.0,51381.5,72550.0,65486.0,79143.0,35790.0,82582.0,66373.0,82384.0,70287.0,27938.0,51381.5,55954.0,75777.0,66653.0,61823.0,67680.0,70666.0,25721.0,32474.0,88194.0,69096.0,74854.0,66991.0,51381.5,65031.0,60631.0,28332.0,40246.0,75251.0,75825.0,26326.0,56046.0,29760.0,26304.0,23559.0,38620.0,81361.0,29440.0,36138.0,50388.0,79593.0,54178.0,51381.5,51381.5,51381.5,42394.0,23626.0,30096.0,47916.0,51813.0,78497.0,50150.0,47823.0,34554.0,85693.0,65846.0,87195.0,24594.0,49096.0,52413.0,38557.0,89058.0,77298.0,68126.0,57288.0,86037.0,43974.0,50785.0,90765.0,36550.0,30753.0,21918.0,56129.0,32557.0,19510.0,30992.0,101970.0,71488.0,79607.0,54348.0,51381.5,77376.0,62998.0,61331.0,73448.0,51381.5,41551.0,62981.0,9548.0,33762.0,35860.0,36921.0,92859.0,65104.0,86111.0,68352.0,41883.0,59809.0,23957.0,38547.0,35688.0,49605.0,59354.0,65747.0,46344.0,34176.0,61010.0,69372.0,49967.0,60199.0,55375.0,80317.0,30523.0,70356.0,23228.0,74165.0,157243.0,43482.0,62551.0,52332.0,66951.0,26091.0,33456.0,28718.0,50447.0,53537.0,52074.0,80427.0,83837.0,38853.0,38285.0,78497.0,51650.0,16248.0,66835.0,30477.0,28249.0,25271.0,32303.0,61286.0,74068.0,45759.0,24882.0,66973.0,36640.0,38872.0,51148.0,31353.0,69661.0,80067.0,86718.0,46854.0,69142.0,75922.0,63693.0,102160.0,40637.0,18890.0,29604.0,48721.0,44794.0,64497.0,46097.0,77972.0,44377.0,46014.0,70951.0,41443.0,52195.0,83790.0,44551.0,69508.0,45204.0,72460.0,77622.0,30732.0,63887.0,42011.0,51369.0,51537.0,79930.0,34320.0,37070.0,81975.0,38590.0,15033.0,62745.0,22212.0,23661.0,79761.0,7500.0,60182.0,73455.0,64961.0,22804.0,73687.0,61074.0,31686.0,80134.0,75027.0,67546.0,65176.0,31160.0,29938.0,102692.0,26490.0,75702.0,30899.0,63342.0,45989.0,18701.0,40737.0,15287.0,69674.0,44159.0,37717.0,43776.0,38179.0,80124.0,38097.0,72940.0,22070.0,69267.0,31788.0,61905.0,29315.0,33378.0,66313.0,60714.0,77882.0,69867.0,63841.0,24480.0,51369.0,37760.0,65640.0,44319.0,30631.0,75278.0,50898.0,79946.0,35416.0,32414.0,38361.0,82497.0,16626.0,29672.0,55951.0,35388.0,42386.0,68627.0,57912.0,35246.0,58821.0,46377.0,39747.0,23976.0,80950.0,27038.0,77457.0,64100.0,42670.0,12571.0,22574.0,51381.5,70893.0,54198.0,28839.0,40321.0,66503.0,30833.0,51381.5,64795.0,34421.0,47025.0,64325.0,40464.0,62187.0,14849.0,27255.0,54432.0,29999.0,24072.0,33996.0,66334.0,35178.0,22010.0,62204.0,75693.0,30675.0,83003.0,83532.0,68655.0,41411.0,55212.0,59292.0,27190.0,82623.0,44300.0,84835.0,30372.0,33181.0,71113.0,71952.0,69759.0,72099.0,60000.0,38643.0,50737.0,68462.0,65073.0,46681.0,78618.0,62187.0,28442.0,37717.0,51479.0,54803.0,79530.0,31615.0,72025.0,52614.0,35684.0,48178.0,29548.0,63810.0,38578.0,46098.0,22585.0,30279.0,66426.0,30822.0,33581.0,19986.0,27421.0,35688.0,36143.0,10245.0,43795.0,63381.0,38823.0,83664.0,90300.0,62499.0,74293.0,51012.0,70777.0,68682.0,43824.0,15345.0,23442.0,14515.0,31395.0,75276.0,42373.0,30507.0,55521.0,48006.0,27213.0,65808.0,30351.0,50437.0,23616.0,53858.0,66465.0,46923.0,75072.0,75865.0,19789.0,80134.0,91065.0,49505.0,37401.0,30096.0,18492.0,82584.0,93027.0,48686.0,92910.0,75433.0,10404.0,61314.0,84865.0,42387.0,67309.0,75236.0,30015.0,50943.0,67272.0,51529.0,32011.0,7500.0,28691.0,56223.0,18100.0,30279.0,20130.0,23295.0,42618.0,81246.0,24027.0,55707.0,57959.0,56796.0,36230.0,70829.0,65991.0,38988.0,89572.0,42207.0,50300.0,66664.0,60597.0,70165.0,50520.0,80124.0,33183.0,66582.0,75261.0,31880.0,53790.0,49269.0,61456.0,37406.0,56937.0,38415.0,20518.0,62503.0,41644.0,55842.0,62010.0,41124.0,38961.0,37760.0,32233.0,43057.0,83151.0,78825.0,65104.0,60093.0,14045.0,28457.0,78952.0,46310.0,76005.0,58308.0,55614.0,59432.0,55563.0,78642.0,67911.0,65275.0,27203.0,48330.0,24279.0,64355.0,50943.0,53653.0,65665.0,81217.0,34935.0,61250.0,39665.0,60152.0,48920.0,89120.0,44124.0,81169.0,36443.0,26095.0,71367.0,80184.0,30630.0,73454.0,42691.0,70503.0,25545.0,32880.0,77863.0,50353.0,61839.0,49154.0,47682.0,72679.0,57954.0,65316.0,28567.0,47352.0,44931.0,76982.0,57247.0,22944.0,25315.0,43638.0,42710.0,84169.0,54058.0,24683.0,85620.0,47850.0,19514.0,27159.0,39548.0,21474.0,60504.0,22419.0,81698.0,43462.0,54880.0,79908.0,15315.0,87771.0,33039.0,81741.0,71499.0,62466.0,48799.0,52157.0,66565.0,29298.0,47691.0,38200.0,44989.0,38443.0,38593.0,64413.0,36959.0,61996.0,51287.0,13260.0,47472.0,54603.0,45207.0,40689.0,47821.0,27450.0,39453.0,26850.0,79800.0,61794.0,53863.0,24221.0,39684.0,92163.0,69882.0,33178.0,59973.0,17459.0,23910.0,42169.0,26224.0,31089.0,30081.0,62807.0,72906.0,61467.0,49618.0,21888.0,42429.0,26150.0,30801.0,81168.0,26877.0,45006.0,18978.0,22574.0,48240.0,45837.0,35791.0,162397.0,54162.0,30522.0,54456.0,31632.0,72298.0,36975.0,72635.0,13624.0,84196.0,70971.0,34487.0,28769.0,69084.0,65488.0,62466.0,32218.0,83917.0,46102.0,84574.0,56181.0,63120.0,73691.0,63381.0,76140.0,62859.0,45906.0,77632.0,46463.0,105471.0,55282.0,78710.0,66886.0,98777.0,29103.0,67445.0,50616.0,49431.0,153924.0,61278.0,26490.0,73059.0,46734.0,56253.0,19986.0,58330.0,25965.0,14661.0,18690.0,45068.0,21063.0,29187.0,54690.0,59304.0,59247.0,66731.0,77353.0,52614.0,26751.0,81300.0,70337.0,36145.0,65295.0,68118.0,68743.0,41039.0,38946.0,65777.0,66476.0,86857.0,160803.0,77845.0,69476.0,50611.0,61209.0,42315.0,13084.0,47570.0,61923.0,34824.0,26518.0,45938.0,78468.0,78901.0,71427.0,71022.0,90247.0,41335.0,71952.0,35682.0,43185.0,66375.0,35178.0,25252.0,55250.0,33249.0,58398.0,50272.0,76618.0,87305.0,25851.0,58710.0,45160.0,74806.0,59111.0,18988.0,72190.0,7500.0,44794.0,80395.0,75012.0,56962.0,89891.0,35946.0,53593.0,66373.0,45072.0,89694.0,72025.0,67432.0,70545.0,17487.0,62882.0,64108.0,34941.0,48767.0,38702.0,82224.0,83844.0,17003.0,71163.0,33697.0,63564.0,83443.0,51518.0,58330.0,80952.0,75507.0,63855.0,62220.0,58512.0,40662.0,38829.0,35523.0,79146.0,78285.0,31626.0,75127.0,48726.0,74985.0,67430.0,46891.0,62058.0,72063.0,78939.0,42720.0,33622.0,6835.0,41452.0,40760.0,74250.0,51124.0,72258.0,71466.0,36283.0,20587.0,30467.0,31590.0,20425.0,17144.0,42564.0,43783.0,40780.0,62847.0,82017.0,16813.0,51267.0,46524.0,45183.0,70421.0,60161.0,73926.0,19329.0,61872.0,46984.0,34838.0,82716.0,48192.0,49681.0,56850.0,55267.0,59666.0,72504.0,26872.0,21359.0,73170.0,52750.0,91820.0,65968.0,30772.0,22507.0,65685.0,25804.0,76412.0,22063.0,57091.0,22419.0,87771.0,78353.0,93404.0,37859.0,80995.0,16529.0,55412.0,48789.0,56575.0,25130.0,35441.0,71391.0,49494.0,81702.0,45889.0,56628.0,34026.0,40049.0,34176.0,19419.0,82504.0,81205.0,61618.0,55284.0,49980.0,15072.0,49166.0,65324.0,82347.0,30843.0,46374.0,60474.0,38576.0,55357.0,37758.0,85710.0,23228.0,44602.0,7500.0,38683.0,49514.0,57906.0,43456.0,19485.0,53172.0,30545.0,70123.0,62450.0,21675.0,42395.0,61346.0,80812.0,42835.0,39922.0,86424.0,17117.0,24762.0,35797.0,36627.0,51111.0,86857.0,82072.0,46231.0,42243.0,51195.0,68092.0,31814.0,51390.0,76630.0,26868.0,48948.0,55260.0,64090.0,78331.0,37087.0,21846.0,81320.0,54137.0,66825.0,57100.0,58917.0,85072.0,86429.0,45684.0,47889.0,45921.0,78420.0,75114.0,52278.0,35641.0,95529.0,62820.0,73113.0,84169.0,42607.0,74637.0,46015.0,72354.0,39858.0,34469.0,83033.0,24401.0,77583.0,74116.0,74293.0,68397.0,79632.0,46107.0,64950.0,25443.0,75127.0,32892.0,71796.0,67536.0,55239.0,60554.0,64831.0,56067.0,82025.0,94384.0,14906.0,51563.0,57937.0,68274.0,39771.0,67893.0,27922.0,52190.0,44051.0,42767.0,46106.0,16927.0,59754.0,53700.0,59041.0,54237.0,70647.0,52597.0,41021.0,40233.0,50183.0,54753.0,92955.0,33471.0,34596.0,44010.0,84219.0,40706.0,15716.0,59052.0,80573.0,83715.0,82576.0,56962.0,35704.0,53103.0,46779.0,4861.0,33462.0,63693.0,80763.0,65352.0,82170.0,75759.0,79689.0,35340.0,85683.0,24884.0,42021.0,64449.0,64587.0,34824.0,75437.0,26091.0,52845.0,46086.0,78028.0,95169.0,56337.0,22434.0,36930.0,36130.0,65569.0,83844.0,19514.0,36736.0,77568.0,49187.0,30168.0,34053.0,38196.0,59412.0,70924.0,54165.0,32300.0,20180.0,34961.0,28440.0,64504.0,33564.0,17345.0,56320.0,28647.0,15038.0,32173.0,68316.0,74538.0,91700.0,68695.0,31056.0,79593.0,28071.0,37334.0,46423.0,37126.0,47703.0,61180.0,38998.0,8028.0,76081.0,34728.0,33168.0,33585.0,77037.0,35196.0,44529.0,70924.0,28764.0,69098.0,25959.0,27100.0,70596.0,42557.0,53312.0,72228.0,67605.0,62845.0,65196.0,42000.0,35860.0,65526.0,16860.0,83528.0,64176.0,22304.0,67023.0,32892.0,70713.0,59925.0,39722.0,46610.0,88347.0,87171.0,26907.0,50014.0,41014.0,66294.0,36715.0,79456.0,40479.0,75345.0,54233.0,24163.0,84460.0,43776.0,71691.0,85844.0,39190.0,71367.0,38578.0,57236.0,61825.0,79803.0,80910.0,27590.0,56775.0,83829.0,54210.0,38508.0,53187.0,30023.0,76045.0,50870.0,15315.0,65463.0,66480.0,76773.0,81698.0,54466.0,98777.0,16269.0,71819.0,33569.0,36262.0,22634.0,47025.0,70566.0,31605.0,52034.0,48526.0,46734.0,39552.0,86358.0,46931.0,16581.0,63998.0,67381.0,25930.0,42693.0,85606.0,72903.0,49669.0,36778.0,85696.0,10979.0,49678.0,56129.0,37155.0,21282.0,33419.0,63285.0,21255.0,42162.0,54450.0,57744.0,26576.0,57513.0,68142.0,7500.0,83145.0,54197.0,23091.0,46049.0,56715.0,79410.0,57304.0,44375.0,54450.0,59594.0,80685.0,40344.0,62710.0,48985.0,35322.0,77142.0,81657.0,14421.0,20130.0,74214.0,66726.0,23724.0,47353.0,33444.0,54386.0,28510.0,90638.0,48070.0,43140.0,54959.0,15056.0,26954.0,22327.0,44393.0,62000.0,31497.0,45894.0,78579.0,67369.0,58401.0,62307.0,43641.0,63841.0,46891.0,70091.0,78075.0,59184.0,54809.0,58113.0,51412.0,15287.0,66636.0,50965.0,84618.0,18351.0,40451.0,36317.0,42213.0,65748.0,77044.0,74918.0,56721.0,42160.0,61559.0,33629.0,68682.0,34377.0,8940.0,26228.0,77297.0,40211.0,33438.0,75032.0,61284.0,22518.0,54730.0,38452.0,44421.0,38197.0,41986.0,28427.0,37395.0,64722.0,55249.0,84906.0,28691.0,44213.0,25707.0,59062.0,76624.0,66000.0,27683.0,1730.0,7500.0,40521.0,20427.0,65106.0,69969.0,67433.0,77766.0,74716.0,68118.0,55158.0,62972.0,74190.0,39356.0,76653.0,35860.0,90687.0,73450.0,31454.0,47139.0,83829.0,53378.0,19656.0,45579.0,85485.0,55956.0,64191.0,38808.0,57183.0,23748.0,66303.0,37368.0,40800.0,71847.0,46149.0,78687.0,49118.0,37633.0,39767.0,26997.0,33986.0,57091.0,46831.0,83151.0,52531.0,15759.0,22804.0,43050.0,42997.0,48918.0,60033.0,34043.0,57811.0,78569.0,7500.0,157733.0,94384.0,23148.0,44267.0,71626.0,60894.0,50200.0,81051.0,65169.0,59868.0,65695.0,64857.0,45143.0,74805.0,59060.0,27238.0,47009.0,46094.0,40321.0,37235.0,81843.0,46692.0,77382.0,37774.0,18393.0,72828.0,24711.0,45503.0,6560.0,71604.0,27244.0,48752.0,71434.0,90842.0,88097.0,51948.0,71853.0,35876.0,40049.0,39660.0,50127.0,43263.0,62845.0,18929.0,24367.0,33249.0,26887.0,50150.0,62061.0,85696.0,76542.0,70515.0,18227.0,69139.0,69109.0,69627.0,38136.0,62159.0,80695.0,33316.0,58554.0,17256.0,53034.0,52203.0,59601.0,75154.0,47025.0,37971.0,41335.0,67267.0,57338.0,50523.0,35791.0,50611.0,56242.0,48904.0,56243.0,21355.0,57420.0,51381.5,46390.0,54342.0,51381.5,51381.5,20895.0,92344.0,51381.5,26907.0,44964.0,75507.0,53761.0,22682.0,38887.0,41658.0,29791.0,63915.0,39996.0,26759.0,63841.0,51039.0,60544.0,65685.0,37716.0,36864.0,44511.0,36947.0,47352.0,67087.0,57045.0,36957.0,69389.0,80134.0,43142.0,80589.0,34412.0,57537.0,22634.0,51315.0,36026.0,24639.0,34578.0,65704.0,63810.0,54132.0,18690.0,28164.0,34596.0,43269.0,38741.0,31907.0,27100.0,31163.0,92533.0,34853.0,70844.0,31086.0,60544.0,20491.0,42523.0,39922.0,33402.0,36408.0,21645.0,78427.0,82657.0,51876.0,78041.0,52852.0,70038.0,69401.0,46053.0,77343.0,73892.0,40304.0,32727.0,68695.0,43300.0,26290.0,93790.0,38410.0,64866.0,57957.0,46015.0,16531.0,28072.0,49476.0,50725.0,83844.0,41145.0,67419.0,23162.0,34380.0,34704.0,94871.0,65148.0,39898.0,64857.0,59892.0,41020.0,57072.0,60474.0,62807.0,19414.0,19107.0,75484.0,70379.0,79419.0,64014.0,76998.0,49854.0,60585.0,42873.0,87679.0,57867.0,35765.0,65492.0,32952.0,53374.0,71706.0,68487.0,53253.0,31163.0,42014.0,54108.0,49667.0,63206.0,57136.0,46772.0,78931.0,53977.0,84219.0,46098.0,73538.0,79529.0,20981.0,51766.0,55759.0,33039.0,37787.0,27242.0,87188.0,69930.0,37697.0,37401.0,3502.0,58597.0,82032.0,28087.0,74004.0,19740.0,57036.0,53083.0,69283.0,46098.0,23331.0,23331.0,9255.0,67786.0,71969.0,59235.0,31928.0,74881.0,65819.0,51411.0,51983.0,42386.0,30390.0,30983.0,66033.0,37284.0,57530.0,76800.0,63943.0,76081.0,67445.0,37054.0,47175.0,31859.0,27215.0,70179.0,39922.0,49681.0,24645.0,79865.0,44322.0,47958.0,63972.0,75315.0,55517.0,75283.0,82800.0,38998.0,90638.0,27161.0,42014.0,38201.0,45203.0,81574.0,34935.0,60482.0,34633.0,78093.0,82460.0,45903.0,81361.0,35860.0,40442.0,61482.0,34968.0,75794.0,31497.0,74268.0,13724.0,45143.0,52569.0,48432.0,17144.0,36108.0,76445.0,36663.0,53843.0,90226.0,70638.0,44512.0,27116.0,54072.0,71855.0,51250.0,60432.0,65526.0,68655.0,12393.0,64509.0,33955.0,31353.0,55434.0,28359.0,57100.0,69139.0,52973.0,51717.0,18793.0,66664.0,50664.0,54414.0,54549.0,47111.0,41003.0,19444.0,36301.0,73059.0,42731.0,52854.0,22775.0,46681.0,59821.0,50002.0,69755.0,44078.0,30560.0,35924.0,64140.0,56386.0,24594.0,75774.0,39228.0,58494.0,58684.0,57136.0,56551.0,22448.0,82014.0,34213.0,157146.0,25358.0,35544.0,36634.0,62670.0,50334.0,72066.0,50729.0,34916.0,64892.0,43602.0,33996.0,41473.0,63246.0,36732.0,69084.0,77766.0,37929.0,86610.0,80141.0,72635.0,69016.0,20193.0,27573.0,15862.0,49544.0,33228.0,70440.0,38232.0,22554.0,23536.0,49413.0,42231.0,78789.0,56534.0,58350.0,81217.0,49090.0,61787.0,18169.0,24336.0,18222.0,62335.0,42033.0,86580.0,41437.0,73705.0,61064.0,38452.0,18358.0,55012.0,9722.0,38175.0,58656.0,52117.0,64813.0,54222.0,83512.0,77520.0,41154.0,80398.0,18746.0,35196.0,60230.0,22108.0,44392.0,55424.0,17688.0,92491.0,90273.0,82571.0,38513.0,16653.0,42586.0,23529.0,74881.0,71107.0,46910.0,18690.0,37244.0,82427.0,75342.0,70044.0,79146.0,77437.0,54984.0,42403.0,55761.0,37292.0,45576.0,70321.0,58086.0,81795.0,28389.0,66835.0,69901.0,80360.0,63342.0,44989.0,31859.0,51569.0,30372.0,16014.0,41120.0,39763.0,38725.0,77981.0,62905.0,13533.0,59481.0,72117.0,21955.0,67131.0,36802.0,71853.0,28249.0,47808.0,25509.0,51012.0,70596.0,85431.0,42664.0,42586.0,29760.0,28973.0,39435.0,65370.0,20194.0,42473.0,64590.0,71232.0,34600.0,46904.0,49094.0,36075.0,60839.0,77298.0,34026.0,48918.0,82122.0,37697.0,34074.0,28520.0,62535.0,36273.0,63404.0,75774.0,78416.0,75702.0,59385.0,37070.0,44689.0,53977.0,7144.0,18701.0,90369.0,63159.0,37758.0,46757.0,79734.0,63207.0,72071.0,21840.0,58582.0,72282.0,50387.0,32583.0,62568.0,44635.0,33316.0,63967.0,52513.0,25293.0,54111.0,78394.0,80739.0,22669.0,29236.0,44911.0,54693.0,48186.0,54809.0,41580.0,80336.0,47743.0,62972.0,57333.0,32313.0,84953.0,27071.0,68148.0,65735.0,86836.0,4023.0,30093.0,57705.0,25008.0,83257.0,22280.0,72159.0,64260.0,82733.0,74290.0,58217.0,21024.0,70116.0,54006.0,69063.0,11448.0,61825.0,70886.0,69109.0,60208.0,32889.0,34738.0,30538.0,82326.0,26642.0,69932.0,44503.0,60200.0,49638.0,23830.0,33051.0,72905.0,69702.0,70300.0,70643.0,30396.0,50616.0,62772.0,30298.0,52413.0,44155.0,86979.0,76532.0,42081.0,67546.0,88420.0,31158.0,61671.0,69719.0,49160.0,24882.0,90933.0,113734.0,59292.0,45759.0,22148.0,73395.0,29819.0,45688.0,62820.0,60491.0,33235.0,35701.0,31535.0,92556.0,67384.0,80573.0,77870.0,52278.0,57107.0,18929.0,36038.0,20180.0,34230.0,31878.0,70932.0,91249.0,77598.0,80982.0,22701.0,55212.0,70617.0,64849.0,62694.0,61917.0,67472.0,21059.0,29543.0,75903.0,34984.0,54998.0,54356.0,34242.0,25410.0,73356.0,28320.0,23763.0,72570.0,34529.0,70792.0,63211.0,83891.0,36065.0,39898.0,51141.0,56939.0,80872.0,72335.0,61798.0,76842.0,29478.0,46998.0,96843.0,56551.0,70053.0,71670.0,44359.0,40887.0,48877.0,74485.0,64474.0,77226.0,72643.0,85738.0,55686.0,39062.0,34600.0,40794.0,54690.0,4428.0,32632.0,38236.0,36781.0,31385.0,24570.0,25509.0,94642.0,58646.0,53201.0,21994.0,57113.0,51373.0,23477.0,58116.0,72968.0,39791.0,91712.0,94472.0,13672.0,96547.0,79205.0,56559.0,32644.0,67506.0,24206.0,28420.0,22979.0,33279.0,46423.0,30368.0,63684.0,41638.0,68805.0,65814.0,71964.0,39146.0,96876.0,34445.0,68281.0,37284.0,36790.0,27943.0,22263.0,30261.0,28587.0,43815.0,48195.0,77027.0,71322.0,32765.0,29672.0,23272.0,49912.0,7500.0,68117.0,67225.0,17649.0,55914.0,40059.0,60905.0,75330.0,60689.0,38680.0,61416.0,49767.0,83273.0,29009.0,45057.0,37150.0,43020.0,53154.0,65308.0,76467.0,81044.0,32871.0,55801.0,76320.0,36927.0,48794.0,23478.0,71128.0,70179.0,59462.0,51381.5,38361.0,51381.5,70038.0,42554.0,67445.0,67046.0,42192.0,77610.0,31761.0,34350.0,54591.0,71866.0,25293.0,42000.0,69520.0,64713.0,27889.0,22123.0,51381.5,51381.5,27803.0,51381.5,51651.0,68487.0,51381.5,56796.0,87000.0,79823.0,30828.0,34109.0,53367.0,22390.0,71322.0,79244.0,49912.0,48699.0,80144.0,54252.0,81929.0,76068.0,53204.0,67911.0,14796.0,78128.0,14188.0,20425.0,58646.0,72967.0,48150.0,82332.0,58275.0,44953.0,34587.0,43018.0,45736.0,66476.0,27733.0,69805.0,72217.0,25818.0,37509.0,25176.0,43586.0,53230.0,50116.0,84906.0,61286.0,82333.0,65220.0,33590.0,30992.0,72309.0,156924.0,16005.0,65487.0,58692.0,40590.0,20587.0,62637.0,29435.0,19346.0,35788.0,36997.0,23539.0,65333.0,78499.0,29732.0,41275.0,63516.0,42769.0,49572.0,69209.0,17148.0,40590.0,30560.0,32146.0,41713.0,34176.0,58482.0,59686.0,60896.0,62994.0,47320.0,74859.0,15253.0,31560.0,72071.0,91172.0,90000.0,41967.0,69263.0,65706.0,60934.0,71965.0,65210.0,79174.0,81380.0,48432.0,52914.0,38946.0,26067.0,44325.0,42523.0,26487.0,53233.0,67716.0,76234.0,84117.0,65487.0,25224.0,89616.0,40851.0,27469.0,82347.0,73803.0,8820.0,43322.0,55593.0,50501.0,37085.0,16185.0,57731.0,48432.0,73807.0,18929.0,35893.0,61014.0,32144.0,14918.0,45146.0,41769.0,88325.0,38054.0,80617.0,5305.0,36807.0,28427.0,82032.0,22775.0,40101.0,58025.0,75777.0,7500.0,33562.0,57642.0,58554.0,63777.0,57967.0,51381.5,24434.0,11012.0,44802.0,26816.0,34421.0,61223.0,64014.0,56981.0,69245.0,52869.0],\"y\":[1617,27,776,53,422,716,590,169,46,49,19,61,1102,310,46,1315,96,317,1782,133,316,1730,972,544,444,75,257,637,131,1672,30,318,120,302,1196,65,913,81,67,902,1395,53,22,186,31,984,122,55,124,1319,507,1693,72,1617,606,1957,1093,29,46,518,1438,612,884,606,1076,34,11,1274,653,1562,1253,109,863,661,65,13,1890,2209,18,692,165,16,79,318,778,56,151,372,1366,194,603,18,985,32,43,45,606,63,978,410,72,55,1169,1120,1097,29,187,910,145,850,969,1820,608,730,551,114,1724,577,81,33,660,80,30,43,1135,559,1923,90,404,661,463,632,725,725,279,1482,29,106,49,38,2077,1053,1385,871,312,877,68,22,211,127,459,460,429,89,1021,1381,306,18,162,1231,13,1706,121,1293,1608,88,421,259,1117,89,36,57,148,93,119,1835,1318,45,10,978,191,57,1033,66,43,50,39,608,1581,68,80,1282,65,91,315,31,834,1600,1270,263,535,1295,1150,1240,38,35,53,293,65,1804,241,1101,264,541,1198,482,17,1615,285,1135,114,1047,714,185,1245,189,576,1103,1753,17,433,1588,22,19,1117,69,23,605,57,22,2088,1009,26,1627,1102,17,1690,1390,2126,1531,64,26,1112,210,1148,33,1101,322,44,17,31,845,275,25,275,90,1495,184,981,67,1635,60,231,48,99,770,957,818,925,908,102,576,317,461,37,70,930,859,1478,390,52,137,1919,68,25,1374,32,100,825,916,62,728,90,273,66,1213,107,1157,546,241,53,37,1611,1508,235,32,102,401,28,1052,680,30,20,1307,630,1283,65,37,38,160,23,71,1161,59,33,946,1442,62,1674,1853,1538,139,1182,507,18,940,42,1190,44,16,835,1443,1029,1188,1277,49,99,1670,900,425,2153,636,57,25,494,693,1348,51,1932,990,30,254,29,1371,73,120,81,37,1377,51,17,22,324,211,19,41,492,1005,114,1173,1738,222,1127,209,787,1598,186,47,27,96,64,1040,163,343,446,41,70,272,46,490,79,915,1485,369,1073,1242,78,1378,1474,751,48,45,10,1435,2119,20,1795,1188,43,1008,1688,684,1082,1068,57,46,733,467,122,36,34,156,14,37,34,20,192,1379,48,428,868,1001,59,431,971,348,2059,265,270,1289,893,926,135,1495,120,1288,1743,15,542,890,1388,17,906,44,25,973,31,518,530,506,70,54,296,266,747,895,1053,735,20,205,2092,309,1722,900,682,663,43,1816,976,746,64,32,263,1445,46,1210,945,1157,137,730,216,943,347,1924,397,2089,138,42,777,1902,52,1651,358,1727,210,42,1291,442,1895,411,521,1168,493,260,46,319,96,1062,232,76,54,201,406,1919,662,41,1600,134,69,21,54,91,526,162,1008,240,795,1772,64,1957,78,1572,795,889,331,265,1065,11,21,17,369,38,177,279,62,1230,182,49,75,227,215,444,47,143,55,63,1867,611,473,55,81,2086,1478,49,382,69,67,30,63,79,42,819,1151,594,129,213,67,28,45,1193,268,266,37,37,882,373,35,107,42,326,404,95,939,33,981,36,1237,1825,103,191,1586,963,889,93,1587,16,1375,393,1477,1179,1005,1348,1307,486,2252,235,1724,235,1092,599,2008,48,1174,67,365,6,165,210,1095,223,597,22,1064,74,26,60,20,59,34,198,1048,574,1029,670,990,11,1241,576,172,664,928,2074,467,257,1146,689,2114,1717,1346,1044,493,957,270,29,121,126,23,57,636,1004,734,614,1453,1621,187,1443,57,637,948,59,18,903,112,596,233,1511,1152,48,1185,21,965,869,16,1947,71,65,1380,1027,411,836,11,480,606,284,1472,1677,1335,334,18,1338,1099,97,63,109,902,1574,38,960,28,1215,1497,449,1064,1757,1440,1006,1226,1171,92,99,66,564,1427,86,833,242,1869,1364,183,450,758,1507,654,81,137,16,93,1158,43,1525,1230,29,25,24,38,57,47,813,629,377,1612,729,50,270,177,315,767,1071,1580,60,573,41,170,1167,1526,458,63,405,1027,1478,72,48,726,860,1497,495,20,570,769,55,1808,55,577,162,1957,1576,1616,36,1482,22,63,680,542,50,39,1043,385,1633,46,761,76,290,89,70,1066,2009,1345,764,195,53,368,544,1853,35,446,1180,41,727,40,1062,40,292,15,341,369,401,393,10,486,69,1727,995,45,182,989,1677,595,156,1226,128,86,68,16,55,2114,2018,263,55,564,1281,83,353,1003,14,902,1139,797,1638,401,84,928,203,858,409,282,1423,1449,28,67,199,1453,1253,1198,178,1990,976,1001,1919,350,1650,46,1228,95,62,1761,467,1149,2052,1127,1416,1113,125,966,32,833,46,960,1829,779,811,1120,725,1187,2302,66,1250,683,305,50,995,41,77,171,131,54,53,475,694,96,361,1079,578,64,149,231,728,1778,93,23,662,1198,81,92,491,1564,926,1910,411,94,1085,23,6,54,1150,1415,405,1908,2486,1315,45,1789,19,573,805,108,23,1493,89,936,343,528,1901,724,58,297,488,859,1574,69,17,2194,116,279,103,44,406,1363,236,39,137,79,63,1314,71,58,702,94,80,22,1211,1461,1968,1091,55,1366,313,62,92,72,655,704,54,178,1033,36,122,122,1123,497,691,1363,12,2440,56,37,968,270,278,1250,938,1178,1155,653,49,506,38,1650,1826,18,906,46,1477,766,47,467,2116,1298,22,396,20,967,357,1401,15,2087,981,17,523,23,1192,1958,133,777,73,121,424,868,756,12,937,1862,367,443,267,61,1323,63,64,562,312,1156,1104,16,2008,44,1574,63,426,96,635,757,125,332,135,330,384,1722,78,24,1168,957,15,57,1956,2013,326,77,1313,30,315,660,74,46,86,1103,61,145,684,411,27,1060,1459,18,1833,237,48,515,1020,1370,1026,301,684,499,1004,218,606,75,106,990,1097,16,34,1711,438,75,225,18,470,91,2525,504,235,1232,88,17,24,60,1020,155,51,1812,1461,96,160,139,908,183,1161,988,1072,174,758,195,31,1084,685,1672,43,49,133,363,545,1065,2047,296,140,530,152,1598,114,101,25,789,87,90,1215,811,61,405,72,189,40,63,52,39,805,130,1631,34,152,21,71,899,711,351,8,119,21,10,973,1536,992,1529,860,928,418,587,641,23,2279,49,1779,1804,48,83,1862,793,84,183,1383,999,825,246,610,76,1286,30,99,1192,362,2130,1229,38,485,434,44,496,78,2346,794,17,26,76,15,62,198,49,802,1736,57,59,2302,37,310,1305,832,401,1501,1189,1194,656,1540,311,820,274,57,448,44,102,61,1643,397,1121,473,50,1678,58,170,373,1196,101,316,1400,1424,844,311,1149,129,32,299,320,441,1178,85,24,112,30,410,800,1313,1483,1258,28,227,1555,861,103,634,1918,131,586,62,447,939,797,1143,415,30,187,251,237,91,35,493,971,371,396,68,322,317,222,177,45,21,45,1899,42,22,41,1440,325,95,42,72,20,789,15,59,908,417,289,769,188,354,727,146,319,794,454,152,797,1690,20,1428,209,545,96,222,61,44,8,817,1371,42,60,78,23,19,61,449,37,38,1131,34,294,48,289,30,125,156,70,22,65,1930,2283,310,1319,879,1244,690,209,1134,1507,57,529,1091,180,77,2349,534,556,637,46,44,47,795,586,1574,13,1471,65,175,40,1078,1115,134,1540,87,217,1034,1180,819,32,46,1159,860,1631,444,1910,380,736,269,2524,612,75,1045,55,1064,1443,1366,436,38,436,747,1396,928,642,1048,943,907,1198,120,1658,1638,73,275,854,78,106,106,1923,1662,84,48,5,733,1234,112,1658,55,1513,271,904,120,103,269,22,1156,1086,1128,72,964,1383,18,793,100,80,167,677,23,92,641,1106,1033,1174,25,240,20,102,1034,156,458,17,792,92,407,1269,841,633,1019,1315,54,2525,52,436,268,147,1798,137,507,15,1105,974,66,778,49,169,299,221,1682,155,892,58,311,95,424,47,339,1410,35,562,2352,1334,32,41,39,1141,710,401,506,1538,57,1722,270,31,882,16,311,227,1152,122,77,1289,561,211,233,1092,601,54,78,1095,244,116,15,425,734,638,894,41,31,34,1750,612,29,823,20,396,813,1179,138,55,1511,117,1730,32,67,335,825,694,1792,496,231,902,68,71,76,772,47,1586,1529,265,1603,2091,981,1533,82,244,36,404,71,1572,122,41,10,304,37,1754,815,1001,1157,688,1319,21,31,67,708,25,746,32,1695,1080,72,57,660,103,153,1220,279,745,264,2157,1526,69,1597,64,497,1067,31,211,877,11,2034,1991,1686,324,69,252,54,964,1327,68,60,55,1456,563,1504,564,1125,358,42,184,460,145,1376,792,1382,28,1033,882,2231,1101,369,48,467,44,38,81,167,45,664,622,48,461,1073,55,976,20,1149,43,224,101,209,968,1165,24,252,165,269,102,461,47,144,1338,917,318,253,502,119,1250,969,76,62,1382,84,255,43,398,76,902,823,1179,1921,185,433,34,907,416,44,1588,1797,40,1143,914,1502,1338,27,763,1331,525,9,953,68,131,882,1149,37,388,1428,1633,173,99,215,929,219,174,92,1052,275,587,1662,159,1024,35,1042,395,557,9,69,486,34,1365,13,1401,1574,1323,1217,103,84,1536,581,928,14,424,960,1555,656,55,20,367,2257,42,1049,48,685,39,43,835,1515,1039,1596,1828,34,149,946,28,450,46,1702,820,382,2126,2069,72,732,801,236,80,1685,277,507,68,49,397,39,306,976,1028,70,46,51,1263,1490,1564,1815,1198,416,85,47,137,21,70,909,1676,1735,1191,24,1182,1280,1336,749,91,414,44,63,901,38,455,775,15,38,1512,43,42,1089,162,1272,1173,816,74,134,157,561,1336,2092,463,1130,20,377,1544,138,1012,1766,45,161,144,1734,823,1138,1429,1371,982,44,318,434,198,359,576,88,63,27,193,101,2211,140,415,22,263,393,147,443,1958,174,2217,1691,25,809,895,484,413,331,25,13,115,16,92,52,1464,441,283,747,1870,165,1941,839,1655,23,66,37,21,22,78,79,265,1175,1305,46,25,46,874,100,930,868,45,1260,414,392,1109,639,79,1665,692,1392,44,50,467,223,158,1211,1575,1208,43,527,932,71,54,129,1615,1034,1088,721,137,47,1244,41,1174,993,100,1680,98,48,519,715,37,653,1455,602,26,102,97,207,176,450,433,1366,1564,1001,961,1518,56,22,400,26,350,1216,874,40,1367,264,2053,1376,45,976,51,1264,75,57,140,497,266,2006,615,1021,22,133,437,1013,57,1038,1573,28,123,13,132,732,66,1631,608,1822,1282,8,43,1931,8,103,1169,395,258,25,185,180,22,44,94,81,798,1334,38,61,300,88,54,1782,68,258,31,66,174,28,731,274,1701,312,414,1565,29,94,1338,1092,1479,54,568,1199,873,1213,731,2043,1893,424,575,257,56,542,125,69,40,1016,907,1566,1169,46,1644,59,17,1853,1528,35,141,546,500,61,106,704,424,849,85,199,1147,54,43,53,521,1623,45,1435,32,16,52,1234,15,415,470,1438,53,51,679,586,653,468,1679,50,84,1049,22,30,1341,444,1241,843,172],\"z\":[4,2,10,4,6,10,7,4,2,0,2,3,8,5,3,12,3,6,9,3,5,0,9,9,5,3,4,0,4,10,3,3,4,6,9,3,12,2,3,5,5,3,3,4,3,9,3,2,4,12,10,13,3,7,10,13,10,4,3,6,11,12,10,8,4,2,2,10,10,5,6,3,13,8,4,2,5,9,3,8,4,2,3,3,13,4,4,6,7,5,8,2,8,3,3,3,6,3,12,7,3,3,11,6,5,3,4,12,3,4,11,5,8,11,6,3,5,5,3,3,10,3,3,3,13,7,6,4,7,10,5,6,9,7,5,13,3,2,2,3,12,7,10,9,3,6,3,2,4,4,7,6,5,4,11,6,5,3,6,10,2,9,4,10,0,4,4,6,7,3,3,3,3,3,2,8,5,3,3,12,4,3,13,3,3,2,4,8,9,3,2,12,2,3,6,2,12,6,5,3,7,9,9,10,3,2,3,5,3,9,6,9,5,8,9,5,2,6,5,11,4,7,11,4,12,4,4,11,8,2,8,4,2,3,11,4,3,11,3,2,10,4,2,9,8,3,6,6,5,6,3,3,13,5,11,3,5,7,4,2,2,10,6,2,4,3,8,2,6,2,5,4,4,4,4,12,10,5,8,9,4,4,6,8,3,2,13,12,5,5,3,3,9,3,3,11,3,3,6,12,3,9,3,4,3,9,3,10,6,4,3,3,12,10,6,3,3,6,3,10,12,2,2,5,8,5,4,3,3,4,2,3,5,2,3,12,6,3,8,4,11,4,11,8,2,4,3,6,3,2,9,8,5,10,5,3,4,8,5,4,10,10,4,2,6,9,11,3,8,8,3,4,2,12,3,2,2,3,10,3,2,3,6,4,2,2,4,13,3,12,8,6,6,4,12,10,4,2,3,3,3,9,5,4,6,3,4,5,2,8,3,6,12,7,8,10,3,11,9,8,3,3,2,8,5,2,13,10,4,12,9,7,9,13,4,3,12,5,4,3,3,5,3,3,3,2,4,7,3,9,11,7,4,8,10,6,9,5,8,6,8,11,3,8,3,9,5,2,8,12,13,2,9,3,2,11,3,8,7,4,2,3,2,5,4,13,7,10,3,4,12,5,13,3,6,11,3,4,11,13,2,3,3,12,3,12,8,11,4,12,3,12,5,7,5,9,3,3,7,10,3,6,6,9,3,3,10,6,4,8,8,5,6,5,3,5,3,4,7,3,3,4,3,6,8,4,4,4,2,3,3,2,8,2,13,5,11,7,4,4,4,7,13,12,7,5,9,2,2,2,5,3,3,5,3,8,3,3,4,4,6,5,3,3,3,4,5,10,7,3,2,5,9,3,7,2,3,3,3,4,3,12,9,10,3,2,3,3,3,7,6,7,3,3,13,5,3,1,3,9,7,2,6,3,6,3,7,5,3,4,13,6,12,3,7,2,11,7,9,8,13,6,6,4,6,6,13,6,12,7,9,3,12,4,5,0,4,5,13,3,9,3,13,3,3,2,2,3,3,5,10,9,6,8,8,2,5,12,3,13,4,13,5,6,6,11,10,1,12,4,7,4,4,3,2,4,2,3,6,10,5,8,11,7,4,8,3,6,5,2,2,10,3,8,5,5,8,3,9,2,5,8,3,4,2,3,12,11,5,8,3,6,10,4,4,13,4,7,2,6,11,3,3,4,5,11,4,12,2,7,5,10,13,11,6,13,5,8,3,2,3,8,10,2,5,4,7,12,4,7,12,6,7,4,1,2,3,4,3,5,10,3,2,2,3,3,4,4,8,5,4,7,3,5,5,7,7,8,12,3,9,3,4,13,12,7,3,6,8,6,2,3,6,9,12,7,2,4,9,3,8,3,7,2,4,11,7,3,4,3,3,7,7,3,3,12,5,12,3,5,3,6,4,3,7,7,8,8,5,3,3,9,10,2,7,12,3,11,3,10,3,4,3,6,4,8,8,2,8,3,4,4,3,4,10,5,4,4,12,3,2,3,3,3,10,13,4,3,5,10,3,5,11,2,5,5,4,7,8,3,10,4,6,6,6,10,7,2,3,6,8,5,10,4,7,6,7,6,7,9,3,6,4,4,10,6,9,10,6,5,9,4,10,3,5,3,4,11,11,9,5,7,6,5,3,10,9,5,3,9,3,3,4,2,2,4,6,8,4,5,13,8,3,5,6,11,9,4,2,6,10,4,4,7,13,13,12,5,4,7,2,0,3,9,6,8,7,9,13,3,10,3,6,12,4,2,10,3,6,8,9,4,4,3,4,4,10,11,2,2,8,5,4,3,4,8,7,7,3,4,3,3,4,3,2,9,2,2,3,10,5,5,7,3,7,5,4,4,2,8,6,3,0,4,2,4,4,12,5,11,7,2,9,2,3,12,4,5,8,6,10,11,11,2,8,3,8,8,2,13,3,8,9,3,6,9,11,3,8,2,5,4,4,3,6,5,3,4,2,5,7,4,7,3,4,8,5,8,2,10,6,7,5,6,3,11,3,4,9,7,11,5,2,9,3,5,2,3,2,6,9,4,5,4,5,5,6,3,3,11,9,2,3,9,8,6,3,9,3,4,10,4,2,4,13,4,3,8,4,2,13,7,2,11,6,3,9,4,5,10,6,8,7,10,5,12,3,4,8,8,2,3,5,4,3,6,2,10,4,10,6,5,4,3,2,3,4,13,4,3,4,10,2,4,4,9,4,10,5,12,5,8,4,2,9,5,10,3,2,4,7,10,11,6,5,4,10,4,10,2,3,2,9,2,4,9,8,2,8,3,4,3,4,3,3,11,4,12,3,5,3,3,7,5,4,0,2,2,2,13,6,13,11,5,4,5,3,11,2,11,2,8,11,3,2,6,6,3,4,6,4,13,4,7,3,11,2,3,9,7,8,10,3,7,5,3,5,2,10,10,2,2,4,2,4,5,2,11,4,3,1,5,3,4,8,8,5,12,13,12,10,10,5,10,7,3,8,3,3,2,12,5,12,3,3,13,3,4,1,5,2,5,7,13,8,4,6,3,3,3,6,6,10,4,2,3,3,7,7,9,10,4,2,5,7,11,2,10,5,4,6,2,7,11,7,6,5,3,4,5,5,4,3,7,11,4,8,2,6,6,3,4,3,2,3,5,3,3,3,6,3,4,3,2,3,12,2,3,9,4,5,9,3,4,8,4,5,8,9,2,12,6,2,5,3,8,2,5,3,4,2,10,12,3,2,4,2,2,3,6,3,3,11,3,5,2,5,2,4,4,3,2,3,10,10,8,9,5,8,5,4,9,8,3,5,7,4,4,12,9,7,8,3,3,3,5,8,11,3,8,3,3,3,4,7,4,10,3,4,13,12,12,3,3,6,13,4,5,8,5,9,4,10,9,4,13,3,9,7,13,5,3,6,9,5,6,10,5,13,12,10,2,9,9,2,4,8,4,3,3,6,12,3,3,0,9,7,2,4,3,13,5,13,2,3,5,2,6,9,12,4,12,10,3,10,3,3,3,7,3,4,7,6,4,12,3,4,2,4,13,4,7,2,5,3,5,10,12,6,5,12,3,10,3,6,5,3,8,4,7,2,5,6,3,13,2,4,6,5,12,4,5,2,5,4,6,4,4,13,3,3,12,10,3,3,2,11,4,5,8,11,3,9,5,2,13,2,7,5,9,4,4,6,6,5,4,10,8,2,3,13,5,4,2,4,7,7,12,3,3,3,6,7,3,8,3,6,12,7,4,3,12,2,0,3,3,5,13,6,6,7,3,12,2,3,3,12,4,13,11,5,6,10,6,13,4,4,3,8,3,7,3,4,3,5,3,5,7,12,11,9,6,2,2,3,13,2,5,3,8,11,3,4,9,3,4,13,4,10,5,10,7,4,12,3,5,6,3,4,9,2,12,7,13,5,3,6,2,12,13,3,2,2,12,10,5,8,13,6,3,3,5,3,13,7,7,2,13,10,5,5,5,3,7,3,4,3,2,4,7,8,3,8,9,3,12,3,6,3,3,3,4,12,7,3,6,4,5,2,13,3,4,10,10,5,4,6,4,12,11,3,4,13,3,3,2,8,3,4,8,10,13,4,8,2,12,1,4,6,8,3,7,6,6,8,3,9,9,8,2,5,3,4,12,9,2,6,5,9,2,3,4,13,4,5,3,13,6,3,9,4,4,3,6,6,6,0,3,6,3,12,2,10,4,7,10,4,4,12,7,5,2,8,4,7,7,3,3,4,6,3,11,3,11,3,3,8,9,10,13,4,2,4,11,3,7,2,5,7,4,5,8,3,6,5,6,2,4,0,8,3,3,6,3,8,6,7,3,3,2,13,5,13,5,10,8,4,3,4,2,4,12,6,13,11,3,11,7,6,7,4,7,3,2,9,3,9,8,3,4,5,3,3,12,3,10,7,10,3,4,4,10,10,8,9,7,3,5,10,4,10,6,4,3,4,12,10,12,7,11,5,3,5,5,5,0,8,4,2,2,4,3,9,4,5,3,5,3,4,8,8,4,11,5,3,8,4,8,6,6,3,2,2,3,4,3,8,3,7,10,5,4,9,8,13,3,2,3,3,3,4,3,5,6,13,4,3,3,7,3,4,11,3,8,3,7,12,10,3,10,8,9,3,3,6,4,4,12,5,10,3,6,4,3,3,3,12,13,12,4,3,3,8,3,12,4,3,4,4,3,8,10,2,11,5,7,2,3,3,4,4,5,5,13,11,7,7,7,4,3,8,2,7,7,7,3,8,5,10,4,3,11,3,6,4,3,4,8,4,12,7,13,3,2,6,10,3,11,8,2,4,2,4,12,4,12,8,10,7,2,3,8,0,2,6,4,3,2,5,2,3,3,4,4,8,4,2,3,7,4,3,6,3,3,3,4,4,3,9,6,4,4,8,11,3,3,8,7,5,3,7,12,11,5,8,7,10,6,3,6,3,7,4,3,3,13,11,6,6,3,12,2,3,10,6,3,4,3,4,3,2,6,6,11,4,5,4,3,3,2,7,9,3,8,0,2,3,7,2,6,10,11,2,4,6,6,6,8,1,2,2,12,3,2,4,5,13,10,4],\"type\":\"scatter3d\"}],                        {\"template\":{\"data\":{\"histogram2dcontour\":[{\"type\":\"histogram2dcontour\",\"colorbar\":{\"outlinewidth\":0,\"ticks\":\"\"},\"colorscale\":[[0.0,\"#0d0887\"],[0.1111111111111111,\"#46039f\"],[0.2222222222222222,\"#7201a8\"],[0.3333333333333333,\"#9c179e\"],[0.4444444444444444,\"#bd3786\"],[0.5555555555555556,\"#d8576b\"],[0.6666666666666666,\"#ed7953\"],[0.7777777777777778,\"#fb9f3a\"],[0.8888888888888888,\"#fdca26\"],[1.0,\"#f0f921\"]]}],\"choropleth\":[{\"type\":\"choropleth\",\"colorbar\":{\"outlinewidth\":0,\"ticks\":\"\"}}],\"histogram2d\":[{\"type\":\"histogram2d\",\"colorbar\":{\"outlinewidth\":0,\"ticks\":\"\"},\"colorscale\":[[0.0,\"#0d0887\"],[0.1111111111111111,\"#46039f\"],[0.2222222222222222,\"#7201a8\"],[0.3333333333333333,\"#9c179e\"],[0.4444444444444444,\"#bd3786\"],[0.5555555555555556,\"#d8576b\"],[0.6666666666666666,\"#ed7953\"],[0.7777777777777778,\"#fb9f3a\"],[0.8888888888888888,\"#fdca26\"],[1.0,\"#f0f921\"]]}],\"heatmap\":[{\"type\":\"heatmap\",\"colorbar\":{\"outlinewidth\":0,\"ticks\":\"\"},\"colorscale\":[[0.0,\"#0d0887\"],[0.1111111111111111,\"#46039f\"],[0.2222222222222222,\"#7201a8\"],[0.3333333333333333,\"#9c179e\"],[0.4444444444444444,\"#bd3786\"],[0.5555555555555556,\"#d8576b\"],[0.6666666666666666,\"#ed7953\"],[0.7777777777777778,\"#fb9f3a\"],[0.8888888888888888,\"#fdca26\"],[1.0,\"#f0f921\"]]}],\"heatmapgl\":[{\"type\":\"heatmapgl\",\"colorbar\":{\"outlinewidth\":0,\"ticks\":\"\"},\"colorscale\":[[0.0,\"#0d0887\"],[0.1111111111111111,\"#46039f\"],[0.2222222222222222,\"#7201a8\"],[0.3333333333333333,\"#9c179e\"],[0.4444444444444444,\"#bd3786\"],[0.5555555555555556,\"#d8576b\"],[0.6666666666666666,\"#ed7953\"],[0.7777777777777778,\"#fb9f3a\"],[0.8888888888888888,\"#fdca26\"],[1.0,\"#f0f921\"]]}],\"contourcarpet\":[{\"type\":\"contourcarpet\",\"colorbar\":{\"outlinewidth\":0,\"ticks\":\"\"}}],\"contour\":[{\"type\":\"contour\",\"colorbar\":{\"outlinewidth\":0,\"ticks\":\"\"},\"colorscale\":[[0.0,\"#0d0887\"],[0.1111111111111111,\"#46039f\"],[0.2222222222222222,\"#7201a8\"],[0.3333333333333333,\"#9c179e\"],[0.4444444444444444,\"#bd3786\"],[0.5555555555555556,\"#d8576b\"],[0.6666666666666666,\"#ed7953\"],[0.7777777777777778,\"#fb9f3a\"],[0.8888888888888888,\"#fdca26\"],[1.0,\"#f0f921\"]]}],\"surface\":[{\"type\":\"surface\",\"colorbar\":{\"outlinewidth\":0,\"ticks\":\"\"},\"colorscale\":[[0.0,\"#0d0887\"],[0.1111111111111111,\"#46039f\"],[0.2222222222222222,\"#7201a8\"],[0.3333333333333333,\"#9c179e\"],[0.4444444444444444,\"#bd3786\"],[0.5555555555555556,\"#d8576b\"],[0.6666666666666666,\"#ed7953\"],[0.7777777777777778,\"#fb9f3a\"],[0.8888888888888888,\"#fdca26\"],[1.0,\"#f0f921\"]]}],\"mesh3d\":[{\"type\":\"mesh3d\",\"colorbar\":{\"outlinewidth\":0,\"ticks\":\"\"}}],\"scatter\":[{\"fillpattern\":{\"fillmode\":\"overlay\",\"size\":10,\"solidity\":0.2},\"type\":\"scatter\"}],\"parcoords\":[{\"type\":\"parcoords\",\"line\":{\"colorbar\":{\"outlinewidth\":0,\"ticks\":\"\"}}}],\"scatterpolargl\":[{\"type\":\"scatterpolargl\",\"marker\":{\"colorbar\":{\"outlinewidth\":0,\"ticks\":\"\"}}}],\"bar\":[{\"error_x\":{\"color\":\"#2a3f5f\"},\"error_y\":{\"color\":\"#2a3f5f\"},\"marker\":{\"line\":{\"color\":\"#E5ECF6\",\"width\":0.5},\"pattern\":{\"fillmode\":\"overlay\",\"size\":10,\"solidity\":0.2}},\"type\":\"bar\"}],\"scattergeo\":[{\"type\":\"scattergeo\",\"marker\":{\"colorbar\":{\"outlinewidth\":0,\"ticks\":\"\"}}}],\"scatterpolar\":[{\"type\":\"scatterpolar\",\"marker\":{\"colorbar\":{\"outlinewidth\":0,\"ticks\":\"\"}}}],\"histogram\":[{\"marker\":{\"pattern\":{\"fillmode\":\"overlay\",\"size\":10,\"solidity\":0.2}},\"type\":\"histogram\"}],\"scattergl\":[{\"type\":\"scattergl\",\"marker\":{\"colorbar\":{\"outlinewidth\":0,\"ticks\":\"\"}}}],\"scatter3d\":[{\"type\":\"scatter3d\",\"line\":{\"colorbar\":{\"outlinewidth\":0,\"ticks\":\"\"}},\"marker\":{\"colorbar\":{\"outlinewidth\":0,\"ticks\":\"\"}}}],\"scattermapbox\":[{\"type\":\"scattermapbox\",\"marker\":{\"colorbar\":{\"outlinewidth\":0,\"ticks\":\"\"}}}],\"scatterternary\":[{\"type\":\"scatterternary\",\"marker\":{\"colorbar\":{\"outlinewidth\":0,\"ticks\":\"\"}}}],\"scattercarpet\":[{\"type\":\"scattercarpet\",\"marker\":{\"colorbar\":{\"outlinewidth\":0,\"ticks\":\"\"}}}],\"carpet\":[{\"aaxis\":{\"endlinecolor\":\"#2a3f5f\",\"gridcolor\":\"white\",\"linecolor\":\"white\",\"minorgridcolor\":\"white\",\"startlinecolor\":\"#2a3f5f\"},\"baxis\":{\"endlinecolor\":\"#2a3f5f\",\"gridcolor\":\"white\",\"linecolor\":\"white\",\"minorgridcolor\":\"white\",\"startlinecolor\":\"#2a3f5f\"},\"type\":\"carpet\"}],\"table\":[{\"cells\":{\"fill\":{\"color\":\"#EBF0F8\"},\"line\":{\"color\":\"white\"}},\"header\":{\"fill\":{\"color\":\"#C8D4E3\"},\"line\":{\"color\":\"white\"}},\"type\":\"table\"}],\"barpolar\":[{\"marker\":{\"line\":{\"color\":\"#E5ECF6\",\"width\":0.5},\"pattern\":{\"fillmode\":\"overlay\",\"size\":10,\"solidity\":0.2}},\"type\":\"barpolar\"}],\"pie\":[{\"automargin\":true,\"type\":\"pie\"}]},\"layout\":{\"autotypenumbers\":\"strict\",\"colorway\":[\"#636efa\",\"#EF553B\",\"#00cc96\",\"#ab63fa\",\"#FFA15A\",\"#19d3f3\",\"#FF6692\",\"#B6E880\",\"#FF97FF\",\"#FECB52\"],\"font\":{\"color\":\"#2a3f5f\"},\"hovermode\":\"closest\",\"hoverlabel\":{\"align\":\"left\"},\"paper_bgcolor\":\"white\",\"plot_bgcolor\":\"#E5ECF6\",\"polar\":{\"bgcolor\":\"#E5ECF6\",\"angularaxis\":{\"gridcolor\":\"white\",\"linecolor\":\"white\",\"ticks\":\"\"},\"radialaxis\":{\"gridcolor\":\"white\",\"linecolor\":\"white\",\"ticks\":\"\"}},\"ternary\":{\"bgcolor\":\"#E5ECF6\",\"aaxis\":{\"gridcolor\":\"white\",\"linecolor\":\"white\",\"ticks\":\"\"},\"baxis\":{\"gridcolor\":\"white\",\"linecolor\":\"white\",\"ticks\":\"\"},\"caxis\":{\"gridcolor\":\"white\",\"linecolor\":\"white\",\"ticks\":\"\"}},\"coloraxis\":{\"colorbar\":{\"outlinewidth\":0,\"ticks\":\"\"}},\"colorscale\":{\"sequential\":[[0.0,\"#0d0887\"],[0.1111111111111111,\"#46039f\"],[0.2222222222222222,\"#7201a8\"],[0.3333333333333333,\"#9c179e\"],[0.4444444444444444,\"#bd3786\"],[0.5555555555555556,\"#d8576b\"],[0.6666666666666666,\"#ed7953\"],[0.7777777777777778,\"#fb9f3a\"],[0.8888888888888888,\"#fdca26\"],[1.0,\"#f0f921\"]],\"sequentialminus\":[[0.0,\"#0d0887\"],[0.1111111111111111,\"#46039f\"],[0.2222222222222222,\"#7201a8\"],[0.3333333333333333,\"#9c179e\"],[0.4444444444444444,\"#bd3786\"],[0.5555555555555556,\"#d8576b\"],[0.6666666666666666,\"#ed7953\"],[0.7777777777777778,\"#fb9f3a\"],[0.8888888888888888,\"#fdca26\"],[1.0,\"#f0f921\"]],\"diverging\":[[0,\"#8e0152\"],[0.1,\"#c51b7d\"],[0.2,\"#de77ae\"],[0.3,\"#f1b6da\"],[0.4,\"#fde0ef\"],[0.5,\"#f7f7f7\"],[0.6,\"#e6f5d0\"],[0.7,\"#b8e186\"],[0.8,\"#7fbc41\"],[0.9,\"#4d9221\"],[1,\"#276419\"]]},\"xaxis\":{\"gridcolor\":\"white\",\"linecolor\":\"white\",\"ticks\":\"\",\"title\":{\"standoff\":15},\"zerolinecolor\":\"white\",\"automargin\":true,\"zerolinewidth\":2},\"yaxis\":{\"gridcolor\":\"white\",\"linecolor\":\"white\",\"ticks\":\"\",\"title\":{\"standoff\":15},\"zerolinecolor\":\"white\",\"automargin\":true,\"zerolinewidth\":2},\"scene\":{\"xaxis\":{\"backgroundcolor\":\"#E5ECF6\",\"gridcolor\":\"white\",\"linecolor\":\"white\",\"showbackground\":true,\"ticks\":\"\",\"zerolinecolor\":\"white\",\"gridwidth\":2},\"yaxis\":{\"backgroundcolor\":\"#E5ECF6\",\"gridcolor\":\"white\",\"linecolor\":\"white\",\"showbackground\":true,\"ticks\":\"\",\"zerolinecolor\":\"white\",\"gridwidth\":2},\"zaxis\":{\"backgroundcolor\":\"#E5ECF6\",\"gridcolor\":\"white\",\"linecolor\":\"white\",\"showbackground\":true,\"ticks\":\"\",\"zerolinecolor\":\"white\",\"gridwidth\":2}},\"shapedefaults\":{\"line\":{\"color\":\"#2a3f5f\"}},\"annotationdefaults\":{\"arrowcolor\":\"#2a3f5f\",\"arrowhead\":0,\"arrowwidth\":1},\"geo\":{\"bgcolor\":\"white\",\"landcolor\":\"#E5ECF6\",\"subunitcolor\":\"white\",\"showland\":true,\"showlakes\":true,\"lakecolor\":\"white\"},\"title\":{\"x\":0.05},\"mapbox\":{\"style\":\"light\"}}},\"scene\":{\"domain\":{\"x\":[0.0,1.0],\"y\":[0.0,1.0]},\"xaxis\":{\"title\":{\"text\":\"Income\"}},\"yaxis\":{\"title\":{\"text\":\"TotalSpent\"}},\"zaxis\":{\"title\":{\"text\":\"NumStorePurchases\"}}},\"coloraxis\":{\"colorbar\":{\"title\":{\"text\":\"com_3\"}},\"colorscale\":[[0.0,\"#0d0887\"],[0.1111111111111111,\"#46039f\"],[0.2222222222222222,\"#7201a8\"],[0.3333333333333333,\"#9c179e\"],[0.4444444444444444,\"#bd3786\"],[0.5555555555555556,\"#d8576b\"],[0.6666666666666666,\"#ed7953\"],[0.7777777777777778,\"#fb9f3a\"],[0.8888888888888888,\"#fdca26\"],[1.0,\"#f0f921\"]]},\"legend\":{\"tracegroupgap\":0},\"title\":{\"text\":\"Agglomerative Clustering (complete) - 3 Clusters\"}},                        {\"responsive\": true}                    ).then(function(){\n",
              "                            \n",
              "var gd = document.getElementById('b6d2be59-d163-49c1-97b7-cbeff1a7e46a');\n",
              "var x = new MutationObserver(function (mutations, observer) {{\n",
              "        var display = window.getComputedStyle(gd).display;\n",
              "        if (!display || display === 'none') {{\n",
              "            console.log([gd, 'removed!']);\n",
              "            Plotly.purge(gd);\n",
              "            observer.disconnect();\n",
              "        }}\n",
              "}});\n",
              "\n",
              "// Listen for the removal of the full notebook cells\n",
              "var notebookContainer = gd.closest('#notebook-container');\n",
              "if (notebookContainer) {{\n",
              "    x.observe(notebookContainer, {childList: true});\n",
              "}}\n",
              "\n",
              "// Listen for the clearing of the current output cell\n",
              "var outputEl = gd.closest('.output');\n",
              "if (outputEl) {{\n",
              "    x.observe(outputEl, {childList: true});\n",
              "}}\n",
              "\n",
              "                        })                };                            </script>        </div>\n",
              "</body>\n",
              "</html>"
            ]
          },
          "metadata": {}
        }
      ]
    },
    {
      "cell_type": "markdown",
      "source": [
        "WARD linkage — 2 кластери\n",
        "Один кластер — активні клієнти з більшими витратами (TotalSpent)\n",
        "\n",
        "Другий — менш витратні, з меншою кількістю покупок\n",
        "\n",
        "Корисно: можна по-різному таргетувати маркетинг — преміум пропозиції vs. знижки/акції.\n",
        "\n",
        "WARD linkage — 3 кластери\n",
        "Схожа ситуація, але додано третю групу: можливо, клієнти з низькою активністю, але середніми витратами.\n",
        "\n",
        "Корисно: окрема стратегія для середньої групи — наприклад, спроба «перетягнути» їх до VIP через лояльність.\n",
        "\n",
        "COMPLETE linkage — 2 кластери\n",
        "Можливо, більш чіткий поділ між \"високі витрати\" vs. \"низькі витрати\".\n",
        "\n",
        "Корисно: визначити стратегічну межу між \"активними\" та \"пасивними\" клієнтами.\n",
        "\n",
        "COMPLETE linkage — 3 кластери\n",
        "Один із кластерів виглядає як викиди або аномалії (низькі витрати, низькі покупки).\n",
        "\n",
        " Корисно: їх можна виключити з рекламних кампаній або надати їм просту автоматизовану підтримку.\n",
        "\n"
      ],
      "metadata": {
        "id": "WDlYBoyGplM7"
      }
    },
    {
      "cell_type": "markdown",
      "source": [
        "**ward і complete** дали логічно розподілені групи\n",
        "\n",
        "**single linkage** не рекомендується — виявляв лише викиди"
      ],
      "metadata": {
        "id": "lgV1gVVqqIfS"
      }
    }
  ]
}